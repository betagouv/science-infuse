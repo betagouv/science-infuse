{
 "cells": [
  {
   "cell_type": "code",
   "execution_count": 1,
   "metadata": {},
   "outputs": [],
   "source": [
    "from transformers import AutoTokenizer, AutoModel\n",
    "import torch\n",
    "tokenizer = AutoTokenizer.from_pretrained(\"OrdalieTech/Solon-embeddings-base-0.1\")\n",
    "model = AutoModel.from_pretrained(\"OrdalieTech/Solon-embeddings-base-0.1\") \n",
    "device = torch.device(\"cuda\" if torch.cuda.is_available() else \"cpu\")\n",
    "model = model.to(device)"
   ]
  },
  {
   "cell_type": "code",
   "execution_count": 2,
   "metadata": {},
   "outputs": [],
   "source": [
    "num = 100\n",
    "texts = [\"Le haras national de Lamballe est l'un des cinq pôles équestres de la région française Bretagne. À l'origine, c'est un dépôt d'étalons royaux, créé à l'automne 1783 dans l'unique écurie d'une caserne de la ville de Lamballe. Supprimé en 1790, brièvement recréé en 1825, ce haras national trouve sa forme définitive à partir de 1842, ayant alors la charge de mettre des étalons reproducteurs à la disposition des propriétaires des 70 000 juments poulinières de sa circonscription. De nombreux travaux d'agrandissement permettent la construction de onze nouvelles écuries jusqu'au début du xxe siècle, hébergeant alors jusqu'à 350 étalons de toutes races. Le haras national joue un rôle majeur dans le développement de la race du Norfolk-Breton, futur Postier breton, en important des étalons Trotteur Norfolk depuis l'Angleterre. Il est également à l'origine du succès de l'étalon demi-Ardennais Naous, l'un des étalons fondateur de la race du Trait breton.\"] * num\n",
    "\n",
    "for text in texts:\n",
    "    inputs = tokenizer(\n",
    "        text,\n",
    "        padding=True,\n",
    "        truncation=False,\n",
    "        return_tensors=\"pt\",\n",
    "    ).to(device)\n",
    "\n",
    "    result = model(**inputs)\n",
    "    embeddings = result.last_hidden_state[:, 0, :].cpu().detach().numpy()\n",
    "    lst = embeddings.flatten().tolist()"
   ]
  }
 ],
 "metadata": {
  "kernelspec": {
   "display_name": "scienceinfuse",
   "language": "python",
   "name": "python3"
  },
  "language_info": {
   "codemirror_mode": {
    "name": "ipython",
    "version": 3
   },
   "file_extension": ".py",
   "mimetype": "text/x-python",
   "name": "python",
   "nbconvert_exporter": "python",
   "pygments_lexer": "ipython3",
   "version": "3.9.19"
  }
 },
 "nbformat": 4,
 "nbformat_minor": 2
}

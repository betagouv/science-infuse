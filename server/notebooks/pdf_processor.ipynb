{
 "cells": [
  {
   "cell_type": "code",
   "execution_count": null,
   "metadata": {},
   "outputs": [],
   "source": [
    "\n",
    "from dotenv import load_dotenv\n",
    "\n",
    "load_dotenv('../../.env')\n",
    "import sys\n",
    "sys.path.insert(0, '../app')\n",
    "from SIWeaviateClient import SIWeaviateClient\n",
    "from processing.image.SIImageDescription import SIImageDescription\n",
    "from processing.text.SIITranslator import SITranslator\n",
    "from processing.text.SISurya import SISurya\n",
    "from S3Storage import S3Storage\n",
    "\n",
    "s3 = S3Storage()\n",
    "image_descriptor = SIImageDescription()\n",
    "translator = SITranslator()\n",
    "surya = SISurya()\n",
    "\n"
   ]
  },
  {
   "cell_type": "markdown",
   "metadata": {},
   "source": [
    "## process single pdf"
   ]
  },
  {
   "cell_type": "code",
   "execution_count": null,
   "metadata": {},
   "outputs": [],
   "source": [
    "from processing.PDFProcessor import PDFProcessor\n",
    "import os\n",
    "import glob\n",
    "\n",
    "\n",
    "with SIWeaviateClient() as client:\n",
    "    pdf_path = \"./data/UniversScience/dossiers-pédagogiques/astro/2015/2015 - Dinosaures.pdf\"\n",
    "    pdf = PDFProcessor(client, image_descriptor, translator, surya, s3, pdf_path)\n",
    "\n"
   ]
  },
  {
   "cell_type": "markdown",
   "metadata": {},
   "source": [
    "## process all pdfs"
   ]
  },
  {
   "cell_type": "code",
   "execution_count": null,
   "metadata": {},
   "outputs": [],
   "source": [
    "from processing.PDFProcessor import PDFProcessor\n",
    "import os\n",
    "import glob\n",
    "\n",
    "def get_all_pdfs():\n",
    "    pdf_files = []\n",
    "    for root, dirs, files in os.walk(\"./data\"):\n",
    "        for file in files:\n",
    "            if file.endswith(\".pdf\"):\n",
    "                pdf_files.append(os.path.join(root, file))\n",
    "    return pdf_files\n",
    "\n",
    "\n",
    "with SIWeaviateClient() as client:\n",
    "    print(\"CLIENT\", client)\n",
    "    pdf_paths = get_all_pdfs()\n",
    "    for pdf_path in pdf_paths[:1]:\n",
    "        print(\"==========================================\")\n",
    "        print(pdf_path)\n",
    "        pdf = PDFProcessor(client, image_descriptor, translator, pdf_path)\n",
    "\n"
   ]
  },
  {
   "cell_type": "markdown",
   "metadata": {},
   "source": [
    "# test bugs"
   ]
  },
  {
   "cell_type": "code",
   "execution_count": null,
   "metadata": {},
   "outputs": [],
   "source": [
    "import sys\n",
    "sys.path.insert(0, '../app')\n",
    "from processing.image.SIImageDescription import SIImageDescription\n",
    "image_descriptor = SIImageDescription()"
   ]
  },
  {
   "cell_type": "code",
   "execution_count": null,
   "metadata": {},
   "outputs": [],
   "source": [
    "from IPython.display import Image \n",
    "from dotenv import load_dotenv\n",
    "load_dotenv('../../.env')\n",
    "import sys\n",
    "sys.path.insert(0, '../app')\n",
    "\n",
    "import io\n",
    "import fitz\n",
    "from PIL import Image\n",
    "from pymupdf import Document as PdfDocument\n",
    "\n",
    "def get_pdf_images(doc: type[PdfDocument]):\n",
    "    temp_images = []\n",
    "\n",
    "    for page_num in range(len(doc)):\n",
    "        page = doc[page_num]\n",
    "\n",
    "        for item in doc.get_page_images(page_num):\n",
    "            pix = fitz.Pixmap(doc, item[0])  # pixmap from the image xref\n",
    "            pix0 = fitz.Pixmap(fitz.csRGB, pix)  # force into RGB\n",
    "            pil_image = Image.frombytes(\"RGB\", [pix0.width, pix0.height], pix0.samples)\n",
    "            x0, y0, x1, y1 = page.get_image_bbox(item[7])\n",
    "            width = x1 - x0\n",
    "            height = y1 - y0\n",
    "            # print(f\"Width: {width}, Height: {height}\")\n",
    "            # print(f\"Image bounding box: x0={x0}, y0={y0}, x1={x1}, y1={y1}\")\n",
    "            # display(pil_image)\n",
    "            temp_images.append({\"image\": pil_image, \"page_number\": page_num+1, 'bbox': {\"x0\": x0, \"y0\": y0, \"x1\": x1, \"y1\": y1, }})\n",
    "\n",
    "    return temp_images\n",
    "\n",
    "# image_descriptor = SIImageDescription()\n",
    "pdf_path = \"/home/erwan/Desktop/clients/ScienceInfuse/server/notebooks/data/UniversScience/revue-decouverte/decouverte_436.pdf\"\n",
    "# pdf_path = \"/home/erwan/Desktop/clients/ScienceInfuse/server/notebooks/data/UniversScience/dossiers-pédagogiques/astro/2015/2015 - Dinosaures.pdf\"\n",
    "with fitz.open(pdf_path) as fitz_doc:\n",
    "    images = get_pdf_images(fitz_doc)\n",
    "    print(images[0])\n",
    "    images_chunks = [{**image, \"description_en\": image_descriptor.get_description(image['image'])} for image in images]\n",
    "\n",
    "    # for image in images:\n",
    "    #     display(image)\n",
    "    # images_chunks = [{**image, \"description_en\": image_descriptor.get_description(image['image'])} for image in images]\n"
   ]
  },
  {
   "cell_type": "code",
   "execution_count": null,
   "metadata": {},
   "outputs": [],
   "source": [
    "images_chunks"
   ]
  },
  {
   "cell_type": "code",
   "execution_count": null,
   "metadata": {},
   "outputs": [],
   "source": []
  }
 ],
 "metadata": {
  "kernelspec": {
   "display_name": "scienceinfuse",
   "language": "python",
   "name": "python3"
  },
  "language_info": {
   "codemirror_mode": {
    "name": "ipython",
    "version": 3
   },
   "file_extension": ".py",
   "mimetype": "text/x-python",
   "name": "python",
   "nbconvert_exporter": "python",
   "pygments_lexer": "ipython3",
   "version": "3.9.19"
  }
 },
 "nbformat": 4,
 "nbformat_minor": 2
}

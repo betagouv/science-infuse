{
 "cells": [
  {
   "cell_type": "code",
   "execution_count": 1,
   "metadata": {},
   "outputs": [
    {
     "name": "stderr",
     "output_type": "stream",
     "text": [
      "/home/erwan/Desktop/clients/ScienceInfuse/server/notebooks/../app/schemas.py:80: GenericBeforeBaseModelWarning: Classes should inherit from `BaseModel` before generic classes (e.g. `typing.Generic[T]`) for pydantic generics to work properly.\n",
      "  class ChunkWithScore(Generic[ChunkType], BaseDocumentChunk):\n",
      "[nltk_data] Downloading package omw-1.4 to /home/erwan/nltk_data...\n",
      "[nltk_data]   Package omw-1.4 is already up-to-date!\n",
      "[nltk_data] Downloading package omw-1.4 to /home/erwan/nltk_data...\n",
      "[nltk_data]   Package omw-1.4 is already up-to-date!\n"
     ]
    }
   ],
   "source": [
    "import sys\n",
    "\n",
    "sys.path.insert(0, '..')\n",
    "\n",
    "from app.processing.audio.SIWhisperModel import SIWhisperModel\n",
    "from app.SIWeaviateClient import SIWeaviateClient\n",
    "from app.processing.YoutubeProcessor import YoutubeProcessor\n",
    "\n",
    "whisper = SIWhisperModel('medium', 'whisper-medium')\n",
    "\n"
   ]
  },
  {
   "cell_type": "code",
   "execution_count": 2,
   "metadata": {},
   "outputs": [
    {
     "name": "stdout",
     "output_type": "stream",
     "text": [
      "AUDIO CODEC aac\n"
     ]
    },
    {
     "name": "stderr",
     "output_type": "stream",
     "text": [
      "whisper-medium: 100%|██████████| 161.263/161.263 [00:08<00:00, 18.18s/s]           \n"
     ]
    },
    {
     "name": "stdout",
     "output_type": "stream",
     "text": [
      "time_taken 9.296969890594482\n"
     ]
    }
   ],
   "source": [
    "urls = [\n",
    "    \"https://www.youtube.com/watch?v=re__12nH2ro\",\n",
    "    \"https://www.youtube.com/watch?v=FSbEorqTtMU\",\n",
    "    \"https://www.youtube.com/watch?v=lds6ExALbjk\",\n",
    "    \"https://www.youtube.com/watch?v=0oB2oBj5Ex4\",\n",
    "    \"https://www.youtube.com/watch?v=p5JR8fsEzR4\",\n",
    "]\n",
    "with SIWeaviateClient() as client:\n",
    "    for url in urls:\n",
    "        YoutubeProcessor(client=client, whisper=whisper, youtube_url=url)"
   ]
  }
 ],
 "metadata": {
  "kernelspec": {
   "display_name": "Python (scienceinfuse)",
   "language": "python",
   "name": "scienceinfuse"
  },
  "language_info": {
   "codemirror_mode": {
    "name": "ipython",
    "version": 3
   },
   "file_extension": ".py",
   "mimetype": "text/x-python",
   "name": "python",
   "nbconvert_exporter": "python",
   "pygments_lexer": "ipython3",
   "version": "3.9.19"
  }
 },
 "nbformat": 4,
 "nbformat_minor": 2
}

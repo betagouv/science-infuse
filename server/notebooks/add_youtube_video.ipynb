{
 "cells": [
  {
   "cell_type": "code",
   "execution_count": 1,
   "metadata": {},
   "outputs": [
    {
     "name": "stderr",
     "output_type": "stream",
     "text": [
      "/home/erwan/Desktop/clients/ScienceInfuse/server/notebooks/../app/schemas.py:121: GenericBeforeBaseModelWarning: Classes should inherit from `BaseModel` before generic classes (e.g. `typing.Generic[T]`) for pydantic generics to work properly.\n",
      "  class ChunkWithScore(Generic[ChunkType], BaseDocumentChunk):\n",
      "[nltk_data] Downloading package omw-1.4 to /home/erwan/nltk_data...\n",
      "[nltk_data]   Package omw-1.4 is already up-to-date!\n",
      "[nltk_data] Downloading package omw-1.4 to /home/erwan/nltk_data...\n",
      "[nltk_data]   Package omw-1.4 is already up-to-date!\n"
     ]
    }
   ],
   "source": [
    "import sys\n",
    "import dotenv\n",
    "dotenv.load_dotenv('../../.env')\n",
    "\n",
    "sys.path.insert(0, '../')\n",
    "sys.path.insert(0, '../app')\n",
    "\n",
    "from app.processing.audio.SIWhisperModel import SIWhisperModel\n",
    "from app.SIWeaviateClient import SIWeaviateClient\n",
    "from app.processing.YoutubeProcessor import YoutubeProcessor\n",
    "\n",
    "whisper = SIWhisperModel('medium', 'whisper-medium')\n",
    "\n"
   ]
  },
  {
   "cell_type": "code",
   "execution_count": 2,
   "metadata": {},
   "outputs": [
    {
     "name": "stdout",
     "output_type": "stream",
     "text": [
      "EXTRACT DOCUMNET YOUTUBE video_s3_object_name 1 youtube/3186fed9-7800-4e0d-8b26-132bbedc01e5.mp4\n",
      "AUDIO CODEC aac\n"
     ]
    },
    {
     "name": "stderr",
     "output_type": "stream",
     "text": [
      "whisper-medium: 100%|██████████| 189.846/189.846 [00:13<00:00, 14.51s/s]           \n"
     ]
    },
    {
     "name": "stdout",
     "output_type": "stream",
     "text": [
      "time_taken 13.60537338256836\n",
      "File /home/erwan/Desktop/clients/ScienceInfuse/server/notebooks/documents/youtube/0b64f65b-101e-4567-9169-c2ea0dc53900.mp4 uploaded successfully to bucket science-infuse-content-dev as youtube/3186fed9-7800-4e0d-8b26-132bbedc01e5.mp4.\n",
      "Public URL: https://s3.gra.io.cloud.ovh.net//science-infuse-content-dev/youtube/3186fed9-7800-4e0d-8b26-132bbedc01e5.mp4\n",
      "EXTRACT DOCUMNET YOUTUBE video_s3_object_name 2 youtube/3186fed9-7800-4e0d-8b26-132bbedc01e5.mp4\n"
     ]
    }
   ],
   "source": [
    "from app.S3Storage import S3Storage\n",
    "\n",
    "\n",
    "urls = [\n",
    "    # \"https://www.youtube.com/watch?v=re__12nH2ro\",\n",
    "    # \"https://www.youtube.com/watch?v=FSbEorqTtMU\",\n",
    "    \"https://www.youtube.com/watch?v=lds6ExALbjk\",\n",
    "    # \"https://www.youtube.com/watch?v=0oB2oBj5Ex4\",\n",
    "    # \"https://www.youtube.com/watch?v=p5JR8fsEzR4\",\n",
    "]\n",
    "\n",
    "s3 = S3Storage()\n",
    "with SIWeaviateClient() as client:\n",
    "    for url in urls:\n",
    "        YoutubeProcessor(s3=s3,client=client, whisper=whisper, youtube_url=url)"
   ]
  },
  {
   "cell_type": "markdown",
   "metadata": {},
   "source": [
    "# tests"
   ]
  },
  {
   "cell_type": "code",
   "execution_count": 5,
   "metadata": {},
   "outputs": [
    {
     "ename": "NameError",
     "evalue": "name 'output_path' is not defined",
     "output_type": "error",
     "traceback": [
      "\u001b[0;31m---------------------------------------------------------------------------\u001b[0m",
      "\u001b[0;31mNameError\u001b[0m                                 Traceback (most recent call last)",
      "Cell \u001b[0;32mIn[5], line 4\u001b[0m\n\u001b[1;32m      2\u001b[0m yt \u001b[38;5;241m=\u001b[39m YouTube(\u001b[38;5;124m\"\u001b[39m\u001b[38;5;124mhttps://www.youtube.com/watch?v=MP7tdlNM3pw\u001b[39m\u001b[38;5;124m\"\u001b[39m)\n\u001b[1;32m      3\u001b[0m video_name \u001b[38;5;241m=\u001b[39m yt\u001b[38;5;241m.\u001b[39mvid_info\u001b[38;5;241m.\u001b[39mget(\u001b[38;5;124m\"\u001b[39m\u001b[38;5;124mvideoDetails\u001b[39m\u001b[38;5;124m\"\u001b[39m, {})\u001b[38;5;241m.\u001b[39mget(\u001b[38;5;124m\"\u001b[39m\u001b[38;5;124mtitle\u001b[39m\u001b[38;5;124m\"\u001b[39m, \u001b[38;5;124m\"\u001b[39m\u001b[38;5;124mUntitled Video\u001b[39m\u001b[38;5;124m\"\u001b[39m)\n\u001b[0;32m----> 4\u001b[0m yt\u001b[38;5;241m.\u001b[39mstreams\u001b[38;5;241m.\u001b[39mfilter(progressive\u001b[38;5;241m=\u001b[39m\u001b[38;5;28;01mTrue\u001b[39;00m, file_extension\u001b[38;5;241m=\u001b[39m\u001b[38;5;124m'\u001b[39m\u001b[38;5;124mmp4\u001b[39m\u001b[38;5;124m'\u001b[39m)\u001b[38;5;241m.\u001b[39morder_by(\u001b[38;5;124m'\u001b[39m\u001b[38;5;124mresolution\u001b[39m\u001b[38;5;124m'\u001b[39m)\u001b[38;5;241m.\u001b[39mdesc()\u001b[38;5;241m.\u001b[39mfirst()\u001b[38;5;241m.\u001b[39mdownload(output_path\u001b[38;5;241m=\u001b[39m\u001b[43moutput_path\u001b[49m, filename\u001b[38;5;241m=\u001b[39mfilename)\n",
      "\u001b[0;31mNameError\u001b[0m: name 'output_path' is not defined"
     ]
    }
   ],
   "source": [
    "from pytube import YouTube\n",
    "yt = YouTube(\"https://www.youtube.com/watch?v=MP7tdlNM3pw\")\n",
    "video_name = yt.vid_info.get(\"videoDetails\", {}).get(\"title\", \"Untitled Video\")\n",
    "yt.streams.filter(progressive=True, file_extension='mp4').order_by('resolution').desc().first().download(output_path=output_path, filename=filename)"
   ]
  },
  {
   "cell_type": "code",
   "execution_count": 35,
   "metadata": {},
   "outputs": [
    {
     "name": "stdout",
     "output_type": "stream",
     "text": [
      "442\n"
     ]
    }
   ],
   "source": [
    "from googleapiclient.discovery import build\n",
    "\n",
    "# Set up YouTube API client\n",
    "api_key = ''\n",
    "youtube = build('youtube', 'v3', developerKey=api_key)\n",
    "\n",
    "def get_channel_videos(channel_id):\n",
    "    playlist_id = f\"{channel_id[0]}U{channel_id[2:]}\"\n",
    "    videos = []\n",
    "    next_page_token = None\n",
    "    \n",
    "    while True:\n",
    "        res = youtube.playlistItems().list(\n",
    "            part='snippet',\n",
    "            playlistId=playlist_id,\n",
    "            maxResults=50,\n",
    "            pageToken=next_page_token\n",
    "        ).execute()\n",
    "        \n",
    "        for item in res[\"items\"]:\n",
    "            videos.append({\n",
    "                \"title\": item[\"snippet\"][\"title\"],\n",
    "                \"video_id\": item[\"snippet\"][\"resourceId\"][\"videoId\"],\n",
    "                \"publish_time\": item[\"snippet\"][\"publishedAt\"]\n",
    "            })\n",
    "        \n",
    "        next_page_token = res.get('nextPageToken')\n",
    "        \n",
    "        if next_page_token is None:\n",
    "            break\n",
    "            \n",
    "    return videos\n",
    "\n",
    "videos = get_channel_videos(\"UC1udnO-W6gpR9qzleJ5SDKw\")\n",
    "print(len(videos))"
   ]
  },
  {
   "cell_type": "code",
   "execution_count": 25,
   "metadata": {},
   "outputs": [],
   "source": [
    "videos"
   ]
  }
 ],
 "metadata": {
  "kernelspec": {
   "display_name": "scienceinfuse",
   "language": "python",
   "name": "python3"
  },
  "language_info": {
   "codemirror_mode": {
    "name": "ipython",
    "version": 3
   },
   "file_extension": ".py",
   "mimetype": "text/x-python",
   "name": "python",
   "nbconvert_exporter": "python",
   "pygments_lexer": "ipython3",
   "version": "3.9.19"
  }
 },
 "nbformat": 4,
 "nbformat_minor": 2
}

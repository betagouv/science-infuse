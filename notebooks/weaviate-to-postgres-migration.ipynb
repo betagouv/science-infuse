{
 "cells": [
  {
   "cell_type": "code",
   "execution_count": 1,
   "metadata": {},
   "outputs": [],
   "source": [
    "import sys\n",
    "import os\n",
    "import dotenv\n",
    "from weaviate.classes.query import Filter, QueryReference\n",
    "\n",
    "dotenv.load_dotenv('../.env')\n",
    "\n",
    "# Add parent directory to Python path\n",
    "sys.path.append(os.path.abspath(os.path.join(os.getcwd(), '..', 'server')))\n",
    "\n",
    "from app.SIWeaviateClient import SIWeaviateClient\n",
    "\n",
    "import weaviate\n",
    "import psycopg2\n",
    "from psycopg2.extras import execute_batch\n",
    "from pgvector.psycopg2 import register_vector\n",
    "from tqdm import tqdm\n",
    "import json\n",
    "import os\n",
    "import uuid\n",
    "\n"
   ]
  },
  {
   "cell_type": "code",
   "execution_count": 4,
   "metadata": {},
   "outputs": [],
   "source": [
    "\n",
    "# PostgreSQL connection\n",
    "conn = psycopg2.connect(\n",
    "    host=\"localhost\",\n",
    "    database=\"scienceinfuse\", \n",
    "    user=\"postgres\", \n",
    "    password=f\"{os.environ['POSTGRES_PASSWORD']}\"\n",
    ")\n",
    "\n",
    "cur = conn.cursor()\n",
    "cur.execute(\"CREATE EXTENSION IF NOT EXISTS vector\")\n",
    "register_vector(cur)\n",
    "\n",
    "# Helper function to insert document\n",
    "def insert_document(document_uuid, doc):\n",
    "    cur.execute(\"\"\"\n",
    "        INSERT INTO \"Document\" (id, \"s3ObjectName\", \"originalPath\", \"publicPath\", \"mediaName\")\n",
    "        VALUES (%s, %s, %s, %s, %s)\n",
    "        RETURNING id\n",
    "    \"\"\", (\n",
    "        document_uuid, doc['s3_object_name'], doc['original_path'], doc.get('public_path'), doc['media_name']\n",
    "    ))\n",
    "    return cur.fetchone()[0]\n",
    "\n",
    "\n",
    "# Helper function to insert document chunk\n",
    "def insert_chunk(chunk_uuid, chunk, text_embedding, document_uuid):\n",
    "    for field in ['text', 'title', 'media_type']:\n",
    "        if field in chunk and '\\x00' in chunk[field]:\n",
    "            chunk[field] = chunk[field].replace('\\x00', '')\n",
    "\n",
    "    cur.execute(\"\"\"\n",
    "        INSERT INTO \"DocumentChunk\" (id, \"text\", \"textEmbedding\", \"title\", \"mediaType\", \"documentId\")\n",
    "        VALUES (%s, %s, %s, %s, %s, %s)\n",
    "        RETURNING id\n",
    "    \"\"\", (\n",
    "        chunk_uuid, chunk['text'], text_embedding, chunk['title'], chunk['media_type'], document_uuid\n",
    "    ))\n",
    "    chunk_id = cur.fetchone()[0]\n",
    "    meta_uuid = str(uuid.uuid4())\n",
    "\n",
    "    # Insert metadata\n",
    "    cur.execute(\"\"\"\n",
    "        INSERT INTO \"DocumentChunkMeta\" (id, \"documentChunkId\", \"s3ObjectName\", \"pageNumber\", \"bbox\", \"type\", \"start\", \"end\", \"question\", \"answer\", \"url\")\n",
    "        VALUES (%s, %s, %s, %s, %s, %s, %s, %s, %s, %s, %s)\n",
    "    \"\"\", (\n",
    "        meta_uuid, chunk_id, chunk['meta_s3_object_name'], chunk.get('meta_page_number'),\n",
    "        json.dumps(chunk.get('meta_bbox')), chunk.get('meta_type'),\n",
    "        chunk.get('meta_start'), chunk.get('meta_end'),\n",
    "        chunk.get('meta_question'), chunk.get('meta_answer'), chunk.get('meta_url')\n",
    "    ))"
   ]
  },
  {
   "cell_type": "code",
   "execution_count": 5,
   "metadata": {},
   "outputs": [
    {
     "name": "stderr",
     "output_type": "stream",
     "text": [
      "Migrating Documents: 11404it [00:01, 9091.76it/s]\n",
      "Migrating DocumentChunk: 59983it [05:47, 157.09it/s]"
     ]
    },
    {
     "name": "stdout",
     "output_type": "stream",
     "text": [
      "-----------\n",
      "{'meta_end': 3521.42, 'text': \"Evidemment encore, la scène du serment à laquelle je faisais allusion nous invite à penser le lien entre religion et amour dans le parcours même de Fabrice. et a interrogé quand même un petit peu son degré de croyance. Alors bon, là je ne vais pas développer, mais enfin, vous connaissez le roman maintenant mieux que moi, et vous savez bien que la carrière ecclésiastique de Fabrice ne sera jamais présentée comme une affaire de vocation. Pas du tout. Encore moins de conviction sincère. C'est un moyen pour Fabrice de tenir son rang, ce que dit d'ailleurs très bien Mosca Adjina, lorsqu'il lui dit qu'il faut que Fabrice renonce à la voie militaire pour penser à la prélature, il lui dit bien qu'il ne s'agit pas du tout de faire de Fabrice une nouvelle abeblanesse, qu'il ne s'agit pas du tout de faire de lui un prêtre exemplaire et vertueux, il s'agit de faire en sorte qu'il puisse être ce que depuis sa naissance il doit être, c'est-à-dire un grand seigneur. Là, l'idéologie aristocratique fonctionne à plein. L'affaire semble entendue, mais n'oublions pas quand même que Fabrice est aussi un jeune homme qui choisit à la fin de finir sa vie dans une chartreuse, et auparavant, à plusieurs reprises, il a déjà fait ce choix de se retirer. Cette chartreuse qui donne son titre longtemps énigmatique au roman, donc comment comprendre ce geste ? Qui, pour le coup, ne fait plus partie d'un plan de carrière. Ce n'est pas Gina ou Mosca qui lui suggèrent d'aller se retirer dans une chartreuse. Donc vous voyez, on a des personnages, on a des vies qui me semble-t-il quand même invites à interroger ce lien entre amour et religion. Quel lien ? L'amour tient-il entièrement lieu de religion ? Est-il un nouveau culte appelé à remplacer une croyance qui serait seulement feinte ? ou bien accompagne-t-il une authentique élévation spirituelle qui se nourrit de lui, mais qui donne infiné accès au divin ? Voilà un peu les questions que l'on peut se poser et auxquelles je vais essayer de répondre, mais évidemment très brièvement.\", 'user_disapproved': False, 'title': \"L'amour\", 'meta_question': None, 'meta_start': 3380.86, 'meta_description': None, 'meta_url': None, 'uuid': '', 'user_approved': False, 'meta_type': None, 'meta_bbox': None, 'document': {'uuid': '', 's3_object_name': 'youtube/349c7e61-0099-4c51-9f93-fd4454df15e8.mp4', 'media_name': \"L'amour\", 'public_path': 'https://www.youtube.com/watch?v=UWjnwtHSyj0', 'user_approved': False, 'document_id': UUID('ddd484b2-3380-4a86-be0a-d8116c0883d6'), 'user_disapproved': False, 'original_path': 'https://www.youtube.com/watch?v=UWjnwtHSyj0'}, 'meta_s3_object_name': None, 'meta_title': None, 'media_type': 'video_transcript', 'meta_page_number': None, 'meta_answer': None}\n"
     ]
    },
    {
     "name": "stderr",
     "output_type": "stream",
     "text": [
      "Migrating DocumentChunk: 264084it [29:51, 147.41it/s]"
     ]
    },
    {
     "name": "stdout",
     "output_type": "stream",
     "text": [
      "Migration completed!\n"
     ]
    },
    {
     "name": "stderr",
     "output_type": "stream",
     "text": [
      "\n"
     ]
    }
   ],
   "source": [
    "\n",
    "import numpy as np\n",
    "\n",
    "from app.schemas import DocumentChunkRegistry, MetadataRegistry \n",
    "\n",
    "count = {}\n",
    "with SIWeaviateClient() as client:\n",
    "    # Migrate Documents\n",
    "    document = client.collections.get(\"Document\")\n",
    "    documentChunk = client.collections.get(\"DocumentChunk\")\n",
    "    all_properties = DocumentChunkRegistry.get_properties() + [f\"meta_{prop}\" for prop in MetadataRegistry.get_properties()]\n",
    "\n",
    "    # INSERT DOCUMENT\n",
    "    for doc in tqdm(document.iterator(), desc=\"Migrating Documents\"):\n",
    "        document_uuid = str(doc.uuid)\n",
    "        insert_document(document_uuid, doc.properties)\n",
    "\n",
    "    for chunk in tqdm(documentChunk.iterator(include_vector=True,return_references=[QueryReference(\n",
    "            link_on=\"belongsToDocument\",\n",
    "            include_vector=True, \n",
    "        )]), desc=\"Migrating DocumentChunk\"):\n",
    "        chunk_uuid = str(chunk.uuid)\n",
    "        chunk_properties = chunk.properties\n",
    "        media_type = chunk_properties.get('media_type')\n",
    "        chunk_vector = chunk.vector.get(\"default\")\n",
    "        if (\"belongsToDocument\" in chunk.references):\n",
    "            parent_document_uuid = str(chunk.references[\"belongsToDocument\"].objects[0].uuid)\n",
    "            insert_chunk(chunk_uuid, chunk_properties, chunk_vector, parent_document_uuid)        \n",
    "        else:\n",
    "            print('-----------')\n",
    "            print(chunk_properties)\n",
    "            # break\n",
    "    conn.commit()  # Commit after each document and its chunks\n",
    "\n",
    "    # conn.close()\n",
    "    print(\"Migration completed!\")"
   ]
  }
 ],
 "metadata": {
  "kernelspec": {
   "display_name": "scienceinfuse",
   "language": "python",
   "name": "python3"
  },
  "language_info": {
   "codemirror_mode": {
    "name": "ipython",
    "version": 3
   },
   "file_extension": ".py",
   "mimetype": "text/x-python",
   "name": "python",
   "nbconvert_exporter": "python",
   "pygments_lexer": "ipython3",
   "version": "3.9.19"
  }
 },
 "nbformat": 4,
 "nbformat_minor": 2
}

{
 "cells": [
  {
   "cell_type": "code",
   "execution_count": 9,
   "metadata": {},
   "outputs": [
    {
     "name": "stdout",
     "output_type": "stream",
     "text": [
      "Document: La théorie astronomique des paléoclimats est un modèle utilisé en sciences de la Terre pour explique...\n",
      "Predicted categories: {'Enregistrements des paléoclimats et des phénomènes tectoniques': 0.3226195174845981, 'La cellule, unité structurale et fonctionnelle du vivant': 0.20847179802961843, 'L’organisme, une société de cellules': 0.14542173562578958, 'Plans d’organisation du vivant et phylogénie': 0.32348694885999385}\n"
     ]
    }
   ],
   "source": [
    "from transformers import pipeline\n",
    "\n",
    "# Utiliser un pipeline de classification zéro-shot\n",
    "classifier = pipeline(\"zero-shot-classification\", model=\"mtheo/camembert-base-xnli\")\n",
    "# classifier = pipeline(\"zero-shot-classification\", model=\"cmarkea/distilcamembert-base-nli\")\n",
    "\n",
    "# Fonction pour diviser le document en segments\n",
    "def split_into_segments(text, max_length=512):\n",
    "    words = text.split()\n",
    "    segments = []\n",
    "    current_segment = []\n",
    "    current_length = 0\n",
    "\n",
    "    for word in words:\n",
    "        current_length += len(word) + 1\n",
    "        if current_length > max_length:\n",
    "            segments.append(\" \".join(current_segment))\n",
    "            current_segment = []\n",
    "            current_length = len(word) + 1\n",
    "        current_segment.append(word)\n",
    "\n",
    "    if current_segment:\n",
    "        segments.append(\" \".join(current_segment))\n",
    "\n",
    "    return segments\n",
    "\n",
    "# Documents à classifier\n",
    "documents = [\n",
    "    \"\"\"La glace s’accumule des que les pr ` ecipitations neigeuses d ´ epassent la fonte estivale et l’ ´ ecoulement. ´ La position des calottes depend donc de la proximit ´ e des zones oc ´ eaniques relativement chaudes ´ (evaporation importante et transport direct de la vapeur vers les zones froides : refroidissement ´ local important) Pour etudier les enregistrements : besoin de carottes de glace ´ Exemple de la calotte antarctique (forages EPICA, Vostok, Dome C et F,...) Important de pouvoir dater la glace des carottes : – Reconnaissance des couches annuelles – Identification des annees de r ´ ef´ erences (ex. : volcanisme) ´ – Modelisation des variations d’accumulation, de l’ ´ ecoulement de la glace ´ – Correlations entre les diff ´ erents forages (CO ´ 2, CH4) et les sediments marins ( ´ δ 18O de O2 atmospherique).\"\"\",\n",
    "]\n",
    "\n",
    "# Catégories à prédire\n",
    "categories = [\n",
    "    \"Enregistrements des paléoclimats et des phénomènes tectoniques\",\n",
    "    \"La cellule, unité structurale et fonctionnelle du vivant\",\n",
    "    \"L’organisme, une société de cellules\",\n",
    "    \"Plans d’organisation du vivant et phylogénie\"\n",
    "]\n",
    "\n",
    "# Classification des documents\n",
    "for doc in documents:\n",
    "    segments = split_into_segments(doc, max_length=512)\n",
    "    aggregated_results = {category: 0 for category in categories}\n",
    "\n",
    "    for segment in segments:\n",
    "        results = classifier(segment, candidate_labels=categories)\n",
    "        for label, score in zip(results['labels'], results['scores']):\n",
    "            aggregated_results[label] += score\n",
    "\n",
    "    # Normaliser les scores\n",
    "    total_score = sum(aggregated_results.values())\n",
    "    normalized_results = {label: score / total_score for label, score in aggregated_results.items()}\n",
    "\n",
    "    print(f\"Document: {doc[:100]}...\")  # Affiche une partie du document pour un aperçu\n",
    "    print(f\"Predicted categories: {normalized_results}\")\n"
   ]
  },
  {
   "cell_type": "code",
   "execution_count": null,
   "metadata": {},
   "outputs": [],
   "source": []
  }
 ],
 "metadata": {
  "kernelspec": {
   "display_name": "ai_perso",
   "language": "python",
   "name": "python3"
  },
  "language_info": {
   "codemirror_mode": {
    "name": "ipython",
    "version": 3
   },
   "file_extension": ".py",
   "mimetype": "text/x-python",
   "name": "python",
   "nbconvert_exporter": "python",
   "pygments_lexer": "ipython3",
   "version": "3.9.18"
  }
 },
 "nbformat": 4,
 "nbformat_minor": 2
}

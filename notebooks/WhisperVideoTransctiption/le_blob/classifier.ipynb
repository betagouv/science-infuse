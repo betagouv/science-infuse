{
 "cells": [
  {
   "cell_type": "code",
   "execution_count": 7,
   "metadata": {},
   "outputs": [
    {
     "name": "stdout",
     "output_type": "stream",
     "text": [
      "total video time : 20 days, 17:36:10\n",
      "whisper estimated time : 11:34:19\n"
     ]
    }
   ],
   "source": [
    "from pydantic import BaseModel\n",
    "import json\n",
    "import datetime\n",
    "from typing import Optional\n",
    "\n",
    "class Video(BaseModel):\n",
    "    url: str\n",
    "    title: str\n",
    "    duration: int\n",
    "    date: str\n",
    "    description: Optional[str] = None\n",
    "\n",
    "whisper_model_speedup = 43 # 43x faster than real time\n",
    "\n",
    "with open('./le_blob_videos.json') as f:\n",
    "    data = [Video(**item) for item in json.load(f)]\n",
    "    total_videos_duration_seconds = sum(video.duration for video in data)\n",
    "    whisper_time = total_videos_duration_seconds/whisper_model_speedup\n",
    "    total_videos_duration_formatted = str(datetime.timedelta(seconds=int(total_videos_duration_seconds)))\n",
    "    whisper_time_formatted = str(datetime.timedelta(seconds=int(whisper_time)))\n",
    "    print(f\"total video time : {total_videos_duration_formatted}\\nwhisper estimated time : {whisper_time_formatted}\" )\n"
   ]
  },
  {
   "cell_type": "code",
   "execution_count": 20,
   "metadata": {},
   "outputs": [
    {
     "name": "stdout",
     "output_type": "stream",
     "text": [
      "MAXLABEL phylogenie 0.7460696462501042\n",
      "Document: Plongée étrange et fascinante au coeur de la pourriture avec une série documentaire de 21 épisodes de 3 minutes, racontée par Denis Lavant,  à partir de données scientifiques les plus récentes. \n",
      "Montage : Olivier Esmein\n",
      " \n",
      "Série \"La Nuit du Vivant : voyage au coeur de la pourriture\"....\n",
      "Predicted categories: {'paleoclimats': 0.016409524579807443, 'cellule': 0.1769946601276494, 'organisme': 0.060526169042439, 'phylogenie': 0.7460696462501042}\n",
      "\n",
      "\n",
      "==========================\n",
      "\n",
      "\n",
      "MAXLABEL phylogenie 0.7155675172058723\n",
      "Document: La lumière naturelle a un impact direct sur notre horloge biologique et sur notre bien être. Explications.\n",
      "\n",
      "Une infographie de l’émission « Futuremag » diffusée sur Arte....\n",
      "Predicted categories: {'paleoclimats': 0.026068159873386027, 'cellule': 0.1806187301397909, 'organisme': 0.07774559278095079, 'phylogenie': 0.7155675172058723}\n",
      "\n",
      "\n",
      "==========================\n",
      "\n",
      "\n"
     ]
    }
   ],
   "source": [
    "from transformers import pipeline\n",
    "\n",
    "# Utiliser un pipeline de classification zéro-shot\n",
    "classifier = pipeline(\"zero-shot-classification\", model=\"mtheo/camembert-base-xnli\")\n",
    "# classifier = pipeline(\"zero-shot-classification\", model=\"cmarkea/distilcamembert-base-nli\")\n",
    "\n",
    "# Fonction pour diviser le document en segments\n",
    "def split_into_segments(text, max_length=512):\n",
    "    words = text.split()\n",
    "    segments = []\n",
    "    current_segment = []\n",
    "    current_length = 0\n",
    "\n",
    "    for word in words:\n",
    "        current_length += len(word) + 1\n",
    "        if current_length > max_length:\n",
    "            segments.append(\" \".join(current_segment))\n",
    "            current_segment = []\n",
    "            current_length = len(word) + 1\n",
    "        current_segment.append(word)\n",
    "\n",
    "    if current_segment:\n",
    "        segments.append(\" \".join(current_segment))\n",
    "\n",
    "    return segments\n",
    "\n",
    "# Documents à classifier\n",
    "documents = [video.description for video in data[:100]]\n",
    "\n",
    "# Catégories à prédire avec descriptions\n",
    "# descriptions done using gpt : ```fait moi un paragraphe concis sur le theme {chapter title} qui traite tous les mots cles du sujet.```\n",
    "categories = [\n",
    "    {\"label\": \"paleoclimats\", \"description\": \"La paléoclimatologie est la science qui étudie les climats passés et leurs variations. Elle tente d'établir les conditions environnementales caractéristiques de chaque période géoclimatique, notamment en termes de paléotempératures de l'atmosphère, des océans et des continents. Ces reconstitutions des variations climatiques passées, et éventuellement de leurs causes, apportent des données (en partie empiriques) sur l'évolution du climat actuel et futur.\"},\n",
    "    {\"label\": \"cellule\", \"description\": \"'La cellule, unité structurale et fonctionnelle du vivant,' souligne l'importance fondamentale des cellules dans la constitution et le fonctionnement des organismes. Chaque cellule est une entité autonome capable de réaliser des processus vitaux tels que la respiration, la reproduction, et la réponse aux stimuli. Les cellules possèdent des organites spécialisés, comme le noyau qui abrite l'ADN, les mitochondries pour la production d'énergie, et le réticulum endoplasmique pour la synthèse des protéines. En tant qu'unités de base, les cellules assurent la croissance, le développement et la maintenance des tissus et des organes, illustrant ainsi leur rôle central dans la vie et la complexité biologique.\"},\n",
    "    {\"label\": \"organisme\", \"description\": \"'L’organisme, une société de cellules' met en lumière la complexité et l'organisation des êtres vivants, où chaque cellule joue un rôle crucial. Les cellules, unités de base du vivant, se spécialisent pour former différents tissus et organes, collaborant de manière harmonieuse pour maintenir les fonctions vitales. Cette organisation cellulaire repose sur des mécanismes de communication sophistiqués, tels que les signaux chimiques et électriques, assurant la coordination des activités biologiques. Les cellules souches illustrent cette flexibilité en ayant la capacité de se différencier en divers types cellulaires, soulignant l'interconnexion et la coopération essentielles à la vie.\"},\n",
    "    {\"label\": \"phylogenie\", \"description\": \"'Plans d’organisation du vivant et phylogénie' explore la diversité et l'évolution des organismes en retraçant leurs relations ancestrales. Les plans d'organisation, ou plans d'organisation corporelle, définissent les structures et les systèmes fondamentaux des organismes, comme la symétrie corporelle, les cavités corporelles, et les segments. La phylogénie, quant à elle, étudie les liens évolutifs entre les espèces, révélant leur histoire commune et les processus d'évolution qui ont conduit à la biodiversité actuelle. Grâce à des méthodes comme l'analyse de l'ADN et les fossiles, les scientifiques peuvent reconstruire l'arbre de la vie, montrant comment les différentes formes de vie sont interconnectées et ont évolué au fil du temps.\"}\n",
    "]\n",
    "\n",
    "# Conversion des catégories en listes de labels et descriptions\n",
    "labels = [category[\"label\"] for category in categories]\n",
    "descriptions = [category[\"description\"] for category in categories]\n",
    "\n",
    "# Classification des documents\n",
    "for doc in documents:\n",
    "    segments = split_into_segments(doc, max_length=512)\n",
    "    aggregated_results = {label: 0 for label in labels}\n",
    "\n",
    "    for segment in segments:\n",
    "        results = classifier(segment, candidate_labels=descriptions)\n",
    "        for description, score in zip(results['labels'], results['scores']):\n",
    "            label = [category[\"label\"] for category in categories if category[\"description\"] == description][0]\n",
    "            aggregated_results[label] += score\n",
    "\n",
    "    # Normaliser les scores\n",
    "    total_score = sum(aggregated_results.values())\n",
    "    if total_score == 0:\n",
    "        continue\n",
    "    normalized_results = {label: score / total_score for label, score in aggregated_results.items()}\n",
    "\n",
    "    max_label = max(normalized_results, key=normalized_results.get)\n",
    "    if (normalized_results[max_label] > 0.7):\n",
    "        print(\"MAXLABEL\", max_label, normalized_results[max_label])\n",
    "        print(f\"Document: {doc}...\")  # Affiche une partie du document pour un aperçu\n",
    "        print(f\"Predicted categories: {normalized_results}\")\n",
    "        print(\"\\n\\n==========================\\n\\n\")\n"
   ]
  }
 ],
 "metadata": {
  "kernelspec": {
   "display_name": "Python (scienceinfuse)",
   "language": "python",
   "name": "scienceinfuse"
  },
  "language_info": {
   "codemirror_mode": {
    "name": "ipython",
    "version": 3
   },
   "file_extension": ".py",
   "mimetype": "text/x-python",
   "name": "python",
   "nbconvert_exporter": "python",
   "pygments_lexer": "ipython3",
   "version": "3.9.19"
  }
 },
 "nbformat": 4,
 "nbformat_minor": 2
}

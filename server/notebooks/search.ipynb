{
 "cells": [
  {
   "cell_type": "markdown",
   "metadata": {},
   "source": [
    "# Multi Document Search"
   ]
  },
  {
   "cell_type": "code",
   "execution_count": 3,
   "metadata": {},
   "outputs": [
    {
     "data": {
      "text/plain": [
       "QueryReturn(objects=[Object(uuid=_WeaviateUUIDInt('4a0d74fa-3ebf-4cb6-b150-e6c973cdbcdb'), metadata=MetadataReturn(creation_time=None, last_update_time=None, distance=None, certainty=None, score=0.8472616076469421, explain_score=None, is_consistent=None, rerank_score=None), properties={'text': \"Une capture d'écran d'un écran d'ordinateur montrant une simulation. Il y a quatre graphes sur l'écran. Le premier montre une île verte avec un arbre de Palmier au-dessus de celle -ci et une personne debout sur l'île. À côté de l'île verte se trouve une image d'un globe avec une ligne rouge représentant la température et la température de la Terre.\", 'metadata': {'height': 945, 'public_path': '/pdf/images/3b525860-775f-4dc2-b083-69fe8f6459b3.png', 'width': 1912, 'page_number': 16}, 'media_type': 'image'}, references={'belongsToDocument': <weaviate.collections.classes.internal._CrossReference object at 0x78698edfdaf0>}, vector={}, collection='DocumentChunk'), Object(uuid=_WeaviateUUIDInt('a2ca9dc3-fce3-445e-90fb-5b70b08f0297'), metadata=MetadataReturn(creation_time=None, last_update_time=None, distance=None, certainty=None, score=0.699999988079071, explain_score=None, is_consistent=None, rerank_score=None), properties={'text': \"Ceci est une maison de poupée. La maison de poupée est en forme d'arbre. Le tronc d'arbre est brun et a des fleurs blanches dessus. Il y a des rideaux bleus accrochés au plafond. Il y a un lit au milieu de la maison de poupée avec un voile blanc au-dessus.\", 'media_type': 'image', 'metadata': {'page_number': 13, 'height': 1085, 'width': 607, 'public_path': '/pdf/images/aa35f111-d59d-47a0-b4bf-4b9d7188e52e.png'}}, references={'belongsToDocument': <weaviate.collections.classes.internal._CrossReference object at 0x78698edfdc10>}, vector={}, collection='DocumentChunk'), Object(uuid=_WeaviateUUIDInt('0e94b174-5065-40ff-a194-aaf0e166d749'), metadata=MetadataReturn(creation_time=None, last_update_time=None, distance=None, certainty=None, score=0.5450234413146973, explain_score=None, is_consistent=None, rerank_score=None), properties={'metadata': {'height': 838, 'page_number': 35, 'public_path': '/pdf/images/12ff5053-e4d9-48ee-805a-c81aaec7fa37.png', 'width': 1258}, 'media_type': 'image', 'text': \"Une table en bois a des pieds violets dessus. Il y a une image sur le mur derrière la table. Il y a des pommes rouges sur la table à côté d'un cercle noir.\"}, references={'belongsToDocument': <weaviate.collections.classes.internal._CrossReference object at 0x78698edfd820>}, vector={}, collection='DocumentChunk'), Object(uuid=_WeaviateUUIDInt('3e97624d-eece-4830-ac8e-2164fb2d06a2'), metadata=MetadataReturn(creation_time=None, last_update_time=None, distance=None, certainty=None, score=0.46197980642318726, explain_score=None, is_consistent=None, rerank_score=None), properties={'metadata': {'height': 634, 'width': 779, 'page_number': 14, 'public_path': '/pdf/images/1877bc2f-eb3f-40af-a31a-0fbbee3ba854.png'}, 'media_type': 'image', 'text': \"Il y a un cupcake sur le dessus d'une table. Il y a un chiffon de table à carreaux rouge et blanc sur la table. À côté du cupcake se trouve une spatule et une paire de pinces.\"}, references={'belongsToDocument': <weaviate.collections.classes.internal._CrossReference object at 0x78698edfda30>}, vector={}, collection='DocumentChunk'), Object(uuid=_WeaviateUUIDInt('af3aef92-77c0-47b8-aa2e-be4f15b13a00'), metadata=MetadataReturn(creation_time=None, last_update_time=None, distance=None, certainty=None, score=0.46197980642318726, explain_score=None, is_consistent=None, rerank_score=None), properties={'media_type': 'image', 'text': \"Il y a un cupcake sur le dessus d'une table. Il y a un chiffon de table à carreaux rouge et blanc sur la table. À côté du cupcake se trouve une spatule et une paire de pinces.\", 'metadata': {'height': 635, 'page_number': 17, 'public_path': '/pdf/images/dba3eca2-4bc0-491b-bce8-55a097c77d35.png', 'width': 779}}, references={'belongsToDocument': <weaviate.collections.classes.internal._CrossReference object at 0x78698edfe2b0>}, vector={}, collection='DocumentChunk'), Object(uuid=_WeaviateUUIDInt('437a7e2c-97ca-41ae-be5d-db2f3b543595'), metadata=MetadataReturn(creation_time=None, last_update_time=None, distance=None, certainty=None, score=0.3840073347091675, explain_score=None, is_consistent=None, rerank_score=None), properties={'media_type': 'image', 'metadata': {'width': 319, 'public_path': '/pdf/images/21fd8c73-500f-4f49-ba4b-3d945530044f.png', 'height': 473, 'page_number': 30}, 'text': 'Un croissant de Lune est accroché aux cordes. Il y a un papillon jaune au-dessus du croissant. Il y a de petites étoiles blanches sur le fond bleu.'}, references={'belongsToDocument': <weaviate.collections.classes.internal._CrossReference object at 0x78698edfe7c0>}, vector={}, collection='DocumentChunk'), Object(uuid=_WeaviateUUIDInt('1e62831e-214c-43ab-a0f4-ad08358e6211'), metadata=MetadataReturn(creation_time=None, last_update_time=None, distance=None, certainty=None, score=0.38397231698036194, explain_score=None, is_consistent=None, rerank_score=None), properties={'text': \"Un groupe de personnes se tient autour d'une table. Elles portent toutes des masques. Il y a des bols et des bacs sur le dessus de la table. Il y a un signe accroché au plafond.\", 'media_type': 'image', 'metadata': {'page_number': 8, 'width': 1200, 'public_path': '/pdf/images/365cf68f-05a9-49c9-ab41-533436283fc6.png', 'height': 801}}, references={'belongsToDocument': <weaviate.collections.classes.internal._CrossReference object at 0x78698edfe490>}, vector={}, collection='DocumentChunk'), Object(uuid=_WeaviateUUIDInt('90d6eff4-66fc-4687-b55f-41403f0513e5'), metadata=MetadataReturn(creation_time=None, last_update_time=None, distance=None, certainty=None, score=0.31283101439476013, explain_score=None, is_consistent=None, rerank_score=None), properties={'metadata': {'width': 600, 'public_path': '/pdf/images/5c7dfec9-aaa8-4b42-ad1b-97b3ef783974.png', 'page_number': 18, 'height': 400}, 'media_type': 'image', 'text': \"Il y a deux petits galettes sur le dessus d'une table blanche. Il y a des rideaux blancs derrière les galettes. Il y a un papier blanc sur la table devant le galette.\"}, references={'belongsToDocument': <weaviate.collections.classes.internal._CrossReference object at 0x78698edfcb20>}, vector={}, collection='DocumentChunk'), Object(uuid=_WeaviateUUIDInt('e2ba998b-c38f-44b9-8735-8da8be919d86'), metadata=MetadataReturn(creation_time=None, last_update_time=None, distance=None, certainty=None, score=0.3031715154647827, explain_score=None, is_consistent=None, rerank_score=None), properties={'media_type': 'image', 'metadata': {'height': 622, 'width': 901, 'page_number': 36, 'public_path': '/pdf/images/da142731-40fa-4e79-865a-826439318bca.png'}, 'text': \"Un tableau d'un groupe de personnes couchées dans une pile de terre. Il y a des étoiles jaunes au-dessus d'elles. Il y a un fond noir derrière elles.\"}, references={'belongsToDocument': <weaviate.collections.classes.internal._CrossReference object at 0x78698edfcdf0>}, vector={}, collection='DocumentChunk'), Object(uuid=_WeaviateUUIDInt('7572df57-a5b8-4da4-b07a-ca27eccd0ad1'), metadata=MetadataReturn(creation_time=None, last_update_time=None, distance=None, certainty=None, score=0.2992461621761322, explain_score=None, is_consistent=None, rerank_score=None), properties={'metadata': {'text_end_offset': 1, 'text_start_offset': 0}, 'media_type': 'text', 'text': 'i\\nt\\ns\\ns son le pon\\nt\\nd des œuf\\ns\\nc\\ns le m\\ni\\nl\\nt\\né\\nr\\n.\\né\\nroge pas\\nègle. Chez cet\\np\\nè\\n'}, references={'belongsToDocument': <weaviate.collections.classes.internal._CrossReference object at 0x78698462cf40>}, vector={}, collection='DocumentChunk'), Object(uuid=_WeaviateUUIDInt('359c81fa-7a41-4689-8366-b2eb595f086b'), metadata=MetadataReturn(creation_time=None, last_update_time=None, distance=None, certainty=None, score=0.2954295575618744, explain_score=None, is_consistent=None, rerank_score=None), properties={'metadata': {'width': 1888, 'page_number': 24, 'height': 1063, 'public_path': '/pdf/images/4a5aac12-f181-4dff-b579-267d6afdda44.png'}, 'media_type': 'image', 'text': 'Une pièce avec un tas de rideaux accrochés au plafond. Il y a une table devant les rideaux avec un objet rouge au-dessus.'}, references={'belongsToDocument': <weaviate.collections.classes.internal._CrossReference object at 0x78698eded310>}, vector={}, collection='DocumentChunk'), Object(uuid=_WeaviateUUIDInt('5b4ce474-4368-45a4-9452-de2052d5c2d8'), metadata=MetadataReturn(creation_time=None, last_update_time=None, distance=None, certainty=None, score=0.2936997711658478, explain_score=None, is_consistent=None, rerank_score=None), properties={'metadata': {'page_number': 29, 'height': 658, 'public_path': '/pdf/images/a0313a3b-50e7-49ff-abd4-16684b0504b3.png', 'width': 509}, 'media_type': 'image', 'text': \"C'est une image caricaturale d'un cupcake. Le cupcake est brun et a un jaune givrant sur le dessus. Il y a six cerises sur le dessus du cupcake et quatre gaufres sur les côtés. Il y a une porte au milieu du cake et quatre fenêtres sur le devant du bâtiment. Le bâtiment est sur une plaque violette avec de petits cailloux dessus.\"}, references={'belongsToDocument': <weaviate.collections.classes.internal._CrossReference object at 0x7869845a7c10>}, vector={}, collection='DocumentChunk'), Object(uuid=_WeaviateUUIDInt('4fa80f43-2a79-40f7-9e5d-0ca7539de035'), metadata=MetadataReturn(creation_time=None, last_update_time=None, distance=None, certainty=None, score=0.2928476333618164, explain_score=None, is_consistent=None, rerank_score=None), properties={'text': 'Un diagramme de la Terre est affiché dans un cercle. Autour du cercle sont étiquetés les noms des différentes parties de la Terre.', 'media_type': 'image', 'metadata': {'height': 722, 'width': 902, 'public_path': '/pdf/images/0650eb46-576b-4735-8f29-2cf4bdd28ea5.png', 'page_number': 11}}, references={'belongsToDocument': <weaviate.collections.classes.internal._CrossReference object at 0x78698f7a0190>}, vector={}, collection='DocumentChunk'), Object(uuid=_WeaviateUUIDInt('fea846f2-a963-44c1-9003-21a19d2b8818'), metadata=MetadataReturn(creation_time=None, last_update_time=None, distance=None, certainty=None, score=0.2928476333618164, explain_score=None, is_consistent=None, rerank_score=None), properties={'metadata': {'height': 722, 'width': 902, 'public_path': '/pdf/images/966bb09e-36e8-41d2-afec-dcfc389a6640.png', 'page_number': 27}, 'text': 'Un diagramme de la Terre est affiché dans un cercle. Autour du cercle sont étiquetés les noms des différentes parties de la Terre.', 'media_type': 'image'}, references={'belongsToDocument': <weaviate.collections.classes.internal._CrossReference object at 0x7869845a9100>}, vector={}, collection='DocumentChunk'), Object(uuid=_WeaviateUUIDInt('ea6fdea5-2005-43fa-a0a5-ec2a3c04267d'), metadata=MetadataReturn(creation_time=None, last_update_time=None, distance=None, certainty=None, score=0.2721705436706543, explain_score=None, is_consistent=None, rerank_score=None), properties={'metadata': {'width': 908, 'public_path': '/pdf/images/aecd2aa7-d809-46fd-96ce-73611be5bfac.png', 'height': 446, 'page_number': 11}, 'text': \"Une main tient une figure de jouet qui se tient au-dessus d'un globe. Le globe a une poignée marron et une base marron. Il y a un mur de briques derrière le globe.\", 'media_type': 'image'}, references={'belongsToDocument': <weaviate.collections.classes.internal._CrossReference object at 0x7869845a9250>}, vector={}, collection='DocumentChunk'), Object(uuid=_WeaviateUUIDInt('6d1888da-5602-40e4-8aff-469d609448d4'), metadata=MetadataReturn(creation_time=None, last_update_time=None, distance=None, certainty=None, score=0.2642427384853363, explain_score=None, is_consistent=None, rerank_score=None), properties={'text': 'i\\nque oc\\ncup\\né\\n,\\nt vous pour\\nt-\\nt dan s cet aquar t sur la mer » es s aux for nes s humai\\nê\\ni\\n', 'metadata': {'text_end_offset': 1, 'text_start_offset': 0}, 'media_type': 'text'}, references={'belongsToDocument': <weaviate.collections.classes.internal._CrossReference object at 0x7869845a90d0>}, vector={}, collection='DocumentChunk'), Object(uuid=_WeaviateUUIDInt('051718d5-2bd5-4a8b-9b07-fae657dfd56f'), metadata=MetadataReturn(creation_time=None, last_update_time=None, distance=None, certainty=None, score=0.25970593094825745, explain_score=None, is_consistent=None, rerank_score=None), properties={'media_type': 'text', 'metadata': {'text_end_offset': 1, 'text_start_offset': 0}, 'text': 'les pôles\\nLes océans et les pôles\\n(https://eduscol.education.fr/2252/ocean-et-poles)\\nLa biodiversité\\n'}, references={'belongsToDocument': <weaviate.collections.classes.internal._CrossReference object at 0x7869845a9f70>}, vector={}, collection='DocumentChunk'), Object(uuid=_WeaviateUUIDInt('fc63c0b1-cef8-45de-8af2-eba24932c7ee'), metadata=MetadataReturn(creation_time=None, last_update_time=None, distance=None, certainty=None, score=0.24191293120384216, explain_score=None, is_consistent=None, rerank_score=None), properties={'text': 'Une table est intitulée «  Objet  » et «  Population locale  » en français et en anglais. Chaque table est divisée en deux colonnes. La première colonne est intitulée «  Mercure, Venus la Terre et Mars  » et la seconde colonne est intitulée «  Cérées  ». Au-dessous de la première colonne, il y a une liste des noms des planètes en français.', 'media_type': 'image', 'metadata': {'width': 1164, 'height': 618, 'public_path': '/pdf/images/93d107c8-642e-4aac-ac66-abd2390e9d07.png', 'page_number': 22}}, references={'belongsToDocument': <weaviate.collections.classes.internal._CrossReference object at 0x7869845a9610>}, vector={}, collection='DocumentChunk'), Object(uuid=_WeaviateUUIDInt('9c8f5e35-f504-411f-be3c-0348b8634ccc'), metadata=MetadataReturn(creation_time=None, last_update_time=None, distance=None, certainty=None, score=0.23184439539909363, explain_score=None, is_consistent=None, rerank_score=None), properties={'text': \"Il y a un grand papillon bleu sur le dessus d'une table blanche. Il y a une brochure blanche à côté du papillon. Il y a de petits cercles noirs sur la table sous le papillon bleu.\", 'metadata': {'height': 498, 'public_path': '/pdf/images/803f7b3c-c039-40b8-a3d3-5289ac5e1f04.png', 'page_number': 15, 'width': 883}, 'media_type': 'image'}, references={'belongsToDocument': <weaviate.collections.classes.internal._CrossReference object at 0x7869845a99d0>}, vector={}, collection='DocumentChunk'), Object(uuid=_WeaviateUUIDInt('7d880ed1-d624-4f1a-a0df-d27ab12cd69b'), metadata=MetadataReturn(creation_time=None, last_update_time=None, distance=None, certainty=None, score=0.22698131203651428, explain_score=None, is_consistent=None, rerank_score=None), properties={'media_type': 'text', 'metadata': {'text_end_offset': 1, 'text_start_offset': 0}, 'text': 'ier\\ns\\ni\\nques\\n. Voler © A\\ny / Palai\\ns de la por\\nte Dor\\née.\\nPour en savoir plus\\nhttps://www.aquarium-tropical.fr/\\n'}, references={'belongsToDocument': <weaviate.collections.classes.internal._CrossReference object at 0x78698453f370>}, vector={}, collection='DocumentChunk')])"
      ]
     },
     "execution_count": 3,
     "metadata": {},
     "output_type": "execute_result"
    }
   ],
   "source": [
    "import sys\n",
    "\n",
    "sys.path.insert(0, '..')\n",
    "\n",
    "import weaviate.classes as wvc\n",
    "import weaviate\n",
    "from collections import defaultdict\n",
    "from schemas import ChunkWithScore, DocumentSearchResult\n",
    "from weaviate.classes.query import Filter, GeoCoordinate, MetadataQuery, QueryReference, GroupBy\n",
    "\n",
    "\n",
    "query = \"l'île de Pâques\"\n",
    "client = weaviate.connect_to_local()\n",
    "# print(\"SEARCH_MULTI_DOCUMENTS 0 \", query)\n",
    "document_chunk = client.collections.get(\"DocumentChunk\")\n",
    "response = document_chunk.query.hybrid(\n",
    "    query=query,\n",
    "    return_metadata=wvc.query.MetadataQuery(score=True),\n",
    "    query_properties=[\"text\"],\n",
    "    return_references=[QueryReference(link_on=\"belongsToDocument\", return_properties=[\"document_id\", \"public_path\", \"original_public_path\", \"media_name\", \"max_score\", \"min_score\"])]\n",
    ")\n",
    "# print(\"SEARCH_MULTI_DOCUMENTS 1 \", response)\n",
    "client.close()\n",
    "\n",
    "# Assume response is the result from the above query\n",
    "grouped_results = defaultdict(list)\n",
    "for chunk in response.objects:\n",
    "    doc_ref = chunk.references['belongsToDocument'].objects[0].properties\n",
    "    grouped_results[doc_ref['document_id']].append(chunk)\n",
    "\n",
    "# Now `grouped_results` contains your data grouped by 'document_id'\n",
    "# for document_id, chunks in grouped_results.items():\n",
    "#     print(f\"Media id: {document_id}, || Chunks: {chunks}\")\n",
    "\n",
    "documentsSearchResponse = []\n",
    "\n",
    "for document_id, group in grouped_results.items():  # View by group\n",
    "    # max_score = min(chunk for chunk in group)#group.max_score\n",
    "    # min_score = min(chunk for chunk in group)#group.min_score\n",
    "    currentDocumentChunksWithDistance = []\n",
    "    for _documentChunk in group:\n",
    "        score = _documentChunk.metadata.score\n",
    "        cuurrentChunkWithScore = ChunkWithScore.model_validate({**_documentChunk.properties, \"score\": score})\n",
    "        currentDocumentChunksWithDistance.append(cuurrentChunkWithScore)\n",
    "    \n",
    "    documentProperties = _documentChunk.references['belongsToDocument'].objects[0].properties\n",
    "    \n",
    "    documentSearchResult = DocumentSearchResult(\n",
    "        document_id=documentProperties['document_id'],\n",
    "        public_path=documentProperties['public_path'],\n",
    "        original_public_path=documentProperties['original_public_path'],\n",
    "        media_name=documentProperties['media_name'],\n",
    "        min_score=min(chunk.score for chunk in currentDocumentChunksWithDistance),\n",
    "        max_score=max(chunk.score for chunk in currentDocumentChunksWithDistance),\n",
    "        chunks=currentDocumentChunksWithDistance\n",
    "    )\n",
    "    documentsSearchResponse.append(documentSearchResult)\n",
    "for doc in documentsSearchResponse:\n",
    "    print(doc.media_name)\n",
    "    for chunk in doc.chunks:\n",
    "        print(f\"    -->  {chunk.score} | {chunk.text}\")\n"
   ]
  },
  {
   "cell_type": "markdown",
   "metadata": {},
   "source": [
    "# Single Document Search"
   ]
  },
  {
   "cell_type": "code",
   "execution_count": 1,
   "metadata": {},
   "outputs": [
    {
     "name": "stderr",
     "output_type": "stream",
     "text": [
      "/home/erwan/Desktop/clients/ScienceInfuse/server/notebooks/../app/schemas.py:45: GenericBeforeBaseModelWarning: Classes should inherit from `BaseModel` before generic classes (e.g. `typing.Generic[T]`) for pydantic generics to work properly.\n",
      "  class ChunkWithScore(Generic[ChunkType], BaseDocumentChunk):\n"
     ]
    }
   ],
   "source": [
    "import sys\n",
    "\n",
    "sys.path.insert(0, '..')\n",
    "\n",
    "from weaviate.util import get_valid_uuid\n",
    "import weaviate.classes as wvc\n",
    "import weaviate\n",
    "from collections import defaultdict\n",
    "from schemas import ChunkWithScore, DocumentSearchResult\n",
    "from weaviate.classes.query import Filter, GeoCoordinate, MetadataQuery, QueryReference, GroupBy\n",
    "\n",
    "\n",
    "query = \"l'île de Paques\"\n",
    "client = weaviate.connect_to_local()\n",
    "# print(\"SEARCH_MULTI_DOCUMENTS 0 \", query)\n",
    "document_chunk = client.collections.get(\"DocumentChunk\")\n",
    "response = document_chunk.query.hybrid(\n",
    "    query=query,\n",
    "    return_metadata=wvc.query.MetadataQuery(score=True),\n",
    "    query_properties=[\"text\"],\n",
    "    filters=Filter.by_ref(link_on=\"belongsToDocument\").by_property(\"document_id\").equal(get_valid_uuid(uuid=\"9e80a4c3-7139-4f66-b450-e94cbbf06e2b\")),\n",
    "    return_references=[QueryReference(link_on=\"belongsToDocument\", return_properties=[\"document_id\", \"public_path\", \"original_public_path\", \"media_name\", \"max_score\", \"min_score\"])]\n",
    ")\n",
    "# print(\"SEARCH_MULTI_DOCUMENTS 1 \", response)\n",
    "client.close()\n",
    "\n",
    "\n",
    "# Assume response is the result from the above query\n",
    "grouped_results = defaultdict(list)\n",
    "for chunk in response.objects:\n",
    "    doc_ref = chunk.references['belongsToDocument'].objects[0].properties\n",
    "    grouped_results[doc_ref['document_id']].append(chunk)\n",
    "\n",
    "# Now `grouped_results` contains your data grouped by 'document_id'\n",
    "# for document_id, chunks in grouped_results.items():\n",
    "#     print(f\"Media id: {document_id}, || Chunks: {chunks}\")\n",
    "\n",
    "documentsSearchResponse = []\n",
    "\n",
    "for document_id, group in grouped_results.items():  # View by group\n",
    "    # max_score = min(chunk for chunk in group)#group.max_score\n",
    "    # min_score = min(chunk for chunk in group)#group.min_score\n",
    "    currentDocumentChunksWithDistance = []\n",
    "    for _documentChunk in group:\n",
    "        score = _documentChunk.metadata.score\n",
    "        cuurrentChunkWithScore = ChunkWithScore.model_validate({**_documentChunk.properties, \"score\": score})\n",
    "        currentDocumentChunksWithDistance.append(cuurrentChunkWithScore)\n",
    "    \n",
    "    documentProperties = _documentChunk.references['belongsToDocument'].objects[0].properties\n",
    "    \n",
    "    documentSearchResult = DocumentSearchResult(\n",
    "        document_id=documentProperties['document_id'],\n",
    "        public_path=documentProperties['public_path'],\n",
    "        original_public_path=documentProperties['original_public_path'],\n",
    "        media_name=documentProperties['media_name'],\n",
    "        min_score=min(chunk.score for chunk in currentDocumentChunksWithDistance),\n",
    "        max_score=max(chunk.score for chunk in currentDocumentChunksWithDistance),\n",
    "        chunks=currentDocumentChunksWithDistance\n",
    "    )\n",
    "    documentsSearchResponse.append(documentSearchResult)\n",
    "for doc in documentsSearchResponse:\n",
    "    print(doc.media_name)\n",
    "    for chunk in doc.chunks:\n",
    "        print(f\"    -->  {chunk.score} | {chunk.text}\")\n"
   ]
  },
  {
   "cell_type": "markdown",
   "metadata": {},
   "source": [
    "# Search Chunks"
   ]
  },
  {
   "cell_type": "code",
   "execution_count": 1,
   "metadata": {},
   "outputs": [
    {
     "name": "stderr",
     "output_type": "stream",
     "text": [
      "/home/erwan/Desktop/clients/ScienceInfuse/server/notebooks/../app/schemas.py:69: GenericBeforeBaseModelWarning: Classes should inherit from `BaseModel` before generic classes (e.g. `typing.Generic[T]`) for pydantic generics to work properly.\n",
      "  class ChunkWithScore(Generic[ChunkType], BaseDocumentChunk):\n"
     ]
    },
    {
     "data": {
      "text/plain": [
       "{'public_path': '/pdf/1e688420-0a21-4dd7-94de-2320a99c31f8.pdf',\n",
       " 'original_public_path': '/home/erwan/Desktop/clients/ScienceInfuse/server/notebooks/../documents/pdf/1e688420-0a21-4dd7-94de-2320a99c31f8.pdf',\n",
       " 'media_name': 'cadran_solaire',\n",
       " 'max_score': None,\n",
       " 'min_score': None,\n",
       " 'document_id': '1e688420-0a21-4dd7-94de-2320a99c31f8'}"
      ]
     },
     "execution_count": 1,
     "metadata": {},
     "output_type": "execute_result"
    }
   ],
   "source": [
    "import sys\n",
    "\n",
    "sys.path.insert(0, '..')\n",
    "\n",
    "import weaviate.classes as wvc\n",
    "import weaviate\n",
    "from collections import defaultdict\n",
    "from schemas import ChunkWithScore, DocumentSearchResult\n",
    "from weaviate.classes.query import Filter, GeoCoordinate, MetadataQuery, QueryReference, GroupBy\n",
    "\n",
    "\n",
    "query = \"l'île de Pâques\"\n",
    "client = weaviate.connect_to_local()\n",
    "# print(\"SEARCH_MULTI_DOCUMENTS 0 \", query)\n",
    "document_chunk = client.collections.get(\"DocumentChunk\")\n",
    "response = document_chunk.query.hybrid(\n",
    "    query=query,\n",
    "    return_metadata=wvc.query.MetadataQuery(score=True),\n",
    "    query_properties=[\"text\"],\n",
    "    return_references=[QueryReference(link_on=\"belongsToDocument\", return_properties=[\"document_id\", \"public_path\", \"original_public_path\", \"media_name\", \"max_score\", \"min_score\"])]\n",
    ")\n",
    "# print(\"SEARCH_MULTI_DOCUMENTS 1 \", response)\n",
    "client.close()\n",
    "\n",
    "for obj in response.objects:\n",
    "    if (obj.properties.get('media_type') == \"text\"):\n",
    "        print(obj.properties)\n",
    "        break\n",
    "response.objects[0].references[\"belongsToDocument\"].objects[0].properties"
   ]
  },
  {
   "cell_type": "markdown",
   "metadata": {},
   "source": [
    "# Slack answer"
   ]
  },
  {
   "cell_type": "code",
   "execution_count": null,
   "metadata": {},
   "outputs": [],
   "source": []
  },
  {
   "cell_type": "code",
   "execution_count": 10,
   "metadata": {},
   "outputs": [
    {
     "name": "stdout",
     "output_type": "stream",
     "text": [
      "4\n",
      "DEBUGGGG --------------  Group(name='Ile de Paques : la théorie de l’effondrement précolonial à nouveau démentie | Actu de science', min_distance=-4.76837158203125e-07, max_distance=-4.76837158203125e-07, number_of_objects=1, objects=[GroupByObject(uuid=_WeaviateUUIDInt('1e1c4482-a564-4fc1-aa4c-52e51af53a87'), metadata=GroupByMetadataReturn(distance=-4.76837158203125e-07), properties={'public_path': '/home/erwan/Desktop/clients/ScienceInfuse/server/notebooks/../documents/youtube/9e80a4c3-7139-4f66-b450-e94cbbf06e2b.mp4', 'chunks': [{'end_offset': 18.0, 'media_type': 'youtube', 'start_offset': 2.0, 'text': \"Une croyance encore bien ancrée dans les esprits laisse penser que jadis, les habitants de l'île de Pâques, de son nom autochtone Rapanoui, auraient surexploité leur environnement naturel, provoquant ainsi eux-mêmes leur disparition. Mais cette hypothèse a été maintes fois démentie et une nouvelle étude enfonce le clou.\"}, {'start_offset': 25.0, 'end_offset': 158.0, 'text': \"En effet, l'île n'a jamais accueilli assez d'humains pour que cela ait entraîné leur Lorsque Rapa Nui est accosté par les colons européens, en 1722, il découvre d'imposantes statues de pierres érigées par milliers. Pourtant, il n'y a que 3 000 habitants sur place. Une question se pose alors, comment un si petit nombre d'individus a-t-il pu édifier de si nombreuses et si monumentales constructions ? Selon une idée popularisée par le géographe américain Jared Diamond il y a une vingtaine d'années, Rapa Nui était habité par de nombreux autochtones à même de dresser ces gigantesques statues. Mais en pliant les ressources naturelles dès avant l'arrivée des colons, ils auraient causé leur propre effondrement démographique. Or, les données scientifiques actuelles racontent une toute autre histoire. Une étude publiée en 2013 estimait que 4 à 21 km² de Rapa Nui étaient couverts de jardins de pierre utilisés pour cultiver des aliments comme des patates douces. L'île serait alors capable de nourrir jusqu'à 16 000 habitants. Mais ce chiffre est mis à mal par la dernière étude en date, publié le 21 juin dans Science Advances. En alliant imagerie satellite infrarouge à onde courte et intelligence artificielle, elle a pu identifier minutieusement les jardins de pierre en les distinguant des autres paysages rocheux de l'île, chose que l'étude de 2013 ne faisait pas de manière précise. Conclusion, les estimations de la quantité de jardins de pierre, ici en bleu, varient considérablement. À gauche, les estimations de l'étude de 2013, et à droite, celles de la récente étude. D'après cette dernière, les jardins de pierre ne couvraient en fait que 0,76 km² de l'île. Or, qui dit moins de jardins de pierre, dit moins d'aliments terrestres et donc moins d'habitants. L'île n'aurait en fait été capable d'accueillir que près de 4 000 habitants et non pas des dizaines de milliers. Pour l'archéologue Karl Lipo, qui a mené ses travaux, le récit d'un effondrement pré-européen n'a tout simplement aucun fondement. ni dans les archives archéologiques, ni dans la nature géologique du paysage, ni dans les ressources disponibles, ni dans les récits historiques. Si effondrement démographique il y a eu, c'est bien avec l'arrivée des colons européens qu'il s'est produit. Ce qu'on peut retenir de l'histoire des Rapanouis, en revanche, c'est l'ingéniosité avec laquelle ils ont exploité les maigres ressources disponibles sur leur île.\", 'media_type': 'youtube'}], 'media_name': 'Ile de Paques : la théorie de l’effondrement précolonial à nouveau démentie | Actu de science', 'original_public_path': 'https://www.youtube.com/watch?v=QMJmmJqDL1w', 'document_id': '9e80a4c3-7139-4f66-b450-e94cbbf06e2b'}, references={'hasChunks': <weaviate.collections.classes.internal._CrossReference object at 0x774c381aaf70>}, vector={}, collection='Document', belongs_to_group='Ile de Paques : la théorie de l’effondrement précolonial à nouveau démentie | Actu de science')], rerank_score=0.0)\n"
     ]
    },
    {
     "ename": "ValidationError",
     "evalue": "2 validation errors for DocumentSearchResult\nchunks.0.score\n  Field required [type=missing, input_value={'media_type': 'youtube',....\", 'start_offset': 9.0}, input_type=dict]\n    For further information visit https://errors.pydantic.dev/2.7/v/missing\nchunks.1.score\n  Field required [type=missing, input_value={'text': \"Les IRM du cerv...e', 'end_offset': 146.0}, input_type=dict]\n    For further information visit https://errors.pydantic.dev/2.7/v/missing",
     "output_type": "error",
     "traceback": [
      "\u001b[0;31m---------------------------------------------------------------------------\u001b[0m",
      "\u001b[0;31mValidationError\u001b[0m                           Traceback (most recent call last)",
      "Cell \u001b[0;32mIn[10], line 42\u001b[0m\n\u001b[1;32m     37\u001b[0m \u001b[38;5;66;03m# print(\"DEBUGGGG -------------- \", max_distance)\u001b[39;00m\n\u001b[1;32m     38\u001b[0m \u001b[38;5;66;03m# print(\"DEBUGGGG -------------- \", min_distance)\u001b[39;00m\n\u001b[1;32m     39\u001b[0m \u001b[38;5;66;03m# print(\"DEBUGGGG -------------- \", group)\u001b[39;00m\n\u001b[1;32m     41\u001b[0m properties \u001b[38;5;241m=\u001b[39m group\u001b[38;5;241m.\u001b[39mobjects[\u001b[38;5;241m0\u001b[39m]\u001b[38;5;241m.\u001b[39mproperties\n\u001b[0;32m---> 42\u001b[0m \u001b[43mDocumentSearchResult\u001b[49m\u001b[38;5;241;43m.\u001b[39;49m\u001b[43mmodel_validate\u001b[49m\u001b[43m(\u001b[49m\u001b[43m{\u001b[49m\n\u001b[1;32m     43\u001b[0m \u001b[43m    \u001b[49m\u001b[38;5;241;43m*\u001b[39;49m\u001b[38;5;241;43m*\u001b[39;49m\u001b[38;5;28;43mobject\u001b[39;49m\u001b[38;5;241;43m.\u001b[39;49m\u001b[43mproperties\u001b[49m\u001b[43m,\u001b[49m\n\u001b[1;32m     44\u001b[0m \u001b[43m    \u001b[49m\u001b[38;5;66;43;03m# \"chunks\": ChunkWithScore\u001b[39;49;00m\n\u001b[1;32m     45\u001b[0m \u001b[43m    \u001b[49m\u001b[38;5;124;43m\"\u001b[39;49m\u001b[38;5;124;43mmax_score\u001b[39;49m\u001b[38;5;124;43m\"\u001b[39;49m\u001b[43m:\u001b[49m\u001b[43m \u001b[49m\u001b[43mmax_distance\u001b[49m\u001b[43m,\u001b[49m\n\u001b[1;32m     46\u001b[0m \u001b[43m    \u001b[49m\u001b[38;5;124;43m\"\u001b[39;49m\u001b[38;5;124;43mmin_score\u001b[39;49m\u001b[38;5;124;43m\"\u001b[39;49m\u001b[43m:\u001b[49m\u001b[43m \u001b[49m\u001b[43mmin_distance\u001b[49m\u001b[43m,\u001b[49m\n\u001b[1;32m     47\u001b[0m \u001b[43m\u001b[49m\u001b[43m}\u001b[49m\u001b[43m)\u001b[49m\n",
      "File \u001b[0;32m~/anaconda3/envs/scienceinfuse/lib/python3.9/site-packages/pydantic/main.py:551\u001b[0m, in \u001b[0;36mBaseModel.model_validate\u001b[0;34m(cls, obj, strict, from_attributes, context)\u001b[0m\n\u001b[1;32m    549\u001b[0m \u001b[38;5;66;03m# `__tracebackhide__` tells pytest and some other tools to omit this function from tracebacks\u001b[39;00m\n\u001b[1;32m    550\u001b[0m __tracebackhide__ \u001b[38;5;241m=\u001b[39m \u001b[38;5;28;01mTrue\u001b[39;00m\n\u001b[0;32m--> 551\u001b[0m \u001b[38;5;28;01mreturn\u001b[39;00m \u001b[38;5;28;43mcls\u001b[39;49m\u001b[38;5;241;43m.\u001b[39;49m\u001b[43m__pydantic_validator__\u001b[49m\u001b[38;5;241;43m.\u001b[39;49m\u001b[43mvalidate_python\u001b[49m\u001b[43m(\u001b[49m\n\u001b[1;32m    552\u001b[0m \u001b[43m    \u001b[49m\u001b[43mobj\u001b[49m\u001b[43m,\u001b[49m\u001b[43m \u001b[49m\u001b[43mstrict\u001b[49m\u001b[38;5;241;43m=\u001b[39;49m\u001b[43mstrict\u001b[49m\u001b[43m,\u001b[49m\u001b[43m \u001b[49m\u001b[43mfrom_attributes\u001b[49m\u001b[38;5;241;43m=\u001b[39;49m\u001b[43mfrom_attributes\u001b[49m\u001b[43m,\u001b[49m\u001b[43m \u001b[49m\u001b[43mcontext\u001b[49m\u001b[38;5;241;43m=\u001b[39;49m\u001b[43mcontext\u001b[49m\n\u001b[1;32m    553\u001b[0m \u001b[43m\u001b[49m\u001b[43m)\u001b[49m\n",
      "\u001b[0;31mValidationError\u001b[0m: 2 validation errors for DocumentSearchResult\nchunks.0.score\n  Field required [type=missing, input_value={'media_type': 'youtube',....\", 'start_offset': 9.0}, input_type=dict]\n    For further information visit https://errors.pydantic.dev/2.7/v/missing\nchunks.1.score\n  Field required [type=missing, input_value={'text': \"Les IRM du cerv...e', 'end_offset': 146.0}, input_type=dict]\n    For further information visit https://errors.pydantic.dev/2.7/v/missing"
     ]
    }
   ],
   "source": [
    "import json\n",
    "import sys\n",
    "\n",
    "sys.path.insert(0, '..')\n",
    "\n",
    "import weaviate.classes as wvc\n",
    "import weaviate\n",
    "from collections import defaultdict\n",
    "from schemas import ChunkWithScore, DocumentSearchResult\n",
    "from weaviate.classes.query import Filter, GeoCoordinate, MetadataQuery, QueryReference, GroupBy\n",
    "from weaviate.classes.query import QueryReference, Filter, GroupBy\n",
    "\n",
    "query = \"l'île de Pâques\"\n",
    "client = weaviate.connect_to_local()\n",
    "document_collection = client.collections.get(\"Document\")\n",
    "response = document_collection.query.hybrid(\n",
    "    query=\"document\",\n",
    "    group_by=GroupBy(prop=\"media_name\", objects_per_group=100, number_of_groups=100),\n",
    "    #filters=Filter.by_property(\"document_id\").equal(\"Document1\"),\n",
    "    return_metadata=wvc.query.MetadataQuery(score=True, distance=True, certainty=True),\n",
    "    return_references=QueryReference(\n",
    "        link_on=\"hasChunks\",\n",
    "        return_properties=[\"text\"],\n",
    "        return_metadata=wvc.query.MetadataQuery(score=True, distance=True, certainty=True),\n",
    "    ),\n",
    ")\n",
    "client.close()\n",
    "\n",
    "print(len(response.groups))\n",
    "\n",
    "for document_id, group in response.groups.items():  # View by group\n",
    "    max_distance = group.max_distance\n",
    "    min_distance = group.min_distance\n",
    "    currentDocumentChunksWithDistance = []\n",
    "    # print(f\"Group {document_id} has {len(group.objects)} objects\")\n",
    "    print(\"DEBUGGGG -------------- \", group)\n",
    "    # print(\"DEBUGGGG -------------- \", max_distance)\n",
    "    # print(\"DEBUGGGG -------------- \", min_distance)\n",
    "    # print(\"DEBUGGGG -------------- \", group)\n",
    "    \n",
    "    properties = group.objects[0].properties\n",
    "    DocumentSearchResult.model_validate({\n",
    "        **object.properties,\n",
    "        # \"chunks\": ChunkWithScore\n",
    "        \"max_score\": max_distance,\n",
    "        \"min_score\": min_distance,\n",
    "    })\n",
    "    "
   ]
  },
  {
   "cell_type": "code",
   "execution_count": 16,
   "metadata": {},
   "outputs": [
    {
     "data": {
      "text/plain": [
       "GroupByObject(uuid=_WeaviateUUIDInt('1e1c4482-a564-4fc1-aa4c-52e51af53a87'), metadata=GroupByMetadataReturn(distance=-4.76837158203125e-07), properties={'public_path': '/home/erwan/Desktop/clients/ScienceInfuse/server/notebooks/../documents/youtube/9e80a4c3-7139-4f66-b450-e94cbbf06e2b.mp4', 'chunks': [{'end_offset': 18.0, 'media_type': 'youtube', 'start_offset': 2.0, 'text': \"Une croyance encore bien ancrée dans les esprits laisse penser que jadis, les habitants de l'île de Pâques, de son nom autochtone Rapanoui, auraient surexploité leur environnement naturel, provoquant ainsi eux-mêmes leur disparition. Mais cette hypothèse a été maintes fois démentie et une nouvelle étude enfonce le clou.\"}, {'start_offset': 25.0, 'end_offset': 158.0, 'text': \"En effet, l'île n'a jamais accueilli assez d'humains pour que cela ait entraîné leur Lorsque Rapa Nui est accosté par les colons européens, en 1722, il découvre d'imposantes statues de pierres érigées par milliers. Pourtant, il n'y a que 3 000 habitants sur place. Une question se pose alors, comment un si petit nombre d'individus a-t-il pu édifier de si nombreuses et si monumentales constructions ? Selon une idée popularisée par le géographe américain Jared Diamond il y a une vingtaine d'années, Rapa Nui était habité par de nombreux autochtones à même de dresser ces gigantesques statues. Mais en pliant les ressources naturelles dès avant l'arrivée des colons, ils auraient causé leur propre effondrement démographique. Or, les données scientifiques actuelles racontent une toute autre histoire. Une étude publiée en 2013 estimait que 4 à 21 km² de Rapa Nui étaient couverts de jardins de pierre utilisés pour cultiver des aliments comme des patates douces. L'île serait alors capable de nourrir jusqu'à 16 000 habitants. Mais ce chiffre est mis à mal par la dernière étude en date, publié le 21 juin dans Science Advances. En alliant imagerie satellite infrarouge à onde courte et intelligence artificielle, elle a pu identifier minutieusement les jardins de pierre en les distinguant des autres paysages rocheux de l'île, chose que l'étude de 2013 ne faisait pas de manière précise. Conclusion, les estimations de la quantité de jardins de pierre, ici en bleu, varient considérablement. À gauche, les estimations de l'étude de 2013, et à droite, celles de la récente étude. D'après cette dernière, les jardins de pierre ne couvraient en fait que 0,76 km² de l'île. Or, qui dit moins de jardins de pierre, dit moins d'aliments terrestres et donc moins d'habitants. L'île n'aurait en fait été capable d'accueillir que près de 4 000 habitants et non pas des dizaines de milliers. Pour l'archéologue Karl Lipo, qui a mené ses travaux, le récit d'un effondrement pré-européen n'a tout simplement aucun fondement. ni dans les archives archéologiques, ni dans la nature géologique du paysage, ni dans les ressources disponibles, ni dans les récits historiques. Si effondrement démographique il y a eu, c'est bien avec l'arrivée des colons européens qu'il s'est produit. Ce qu'on peut retenir de l'histoire des Rapanouis, en revanche, c'est l'ingéniosité avec laquelle ils ont exploité les maigres ressources disponibles sur leur île.\", 'media_type': 'youtube'}], 'media_name': 'Ile de Paques : la théorie de l’effondrement précolonial à nouveau démentie | Actu de science', 'original_public_path': 'https://www.youtube.com/watch?v=QMJmmJqDL1w', 'document_id': '9e80a4c3-7139-4f66-b450-e94cbbf06e2b'}, references={'hasChunks': <weaviate.collections.classes.internal._CrossReference object at 0x774c381aaf70>}, vector={}, collection='Document', belongs_to_group='Ile de Paques : la théorie de l’effondrement précolonial à nouveau démentie | Actu de science')"
      ]
     },
     "execution_count": 16,
     "metadata": {},
     "output_type": "execute_result"
    }
   ],
   "source": [
    "group.objects[0]"
   ]
  }
 ],
 "metadata": {
  "kernelspec": {
   "display_name": "Python (scienceinfuse)",
   "language": "python",
   "name": "scienceinfuse"
  },
  "language_info": {
   "codemirror_mode": {
    "name": "ipython",
    "version": 3
   },
   "file_extension": ".py",
   "mimetype": "text/x-python",
   "name": "python",
   "nbconvert_exporter": "python",
   "pygments_lexer": "ipython3",
   "version": "3.9.19"
  }
 },
 "nbformat": 4,
 "nbformat_minor": 2
}

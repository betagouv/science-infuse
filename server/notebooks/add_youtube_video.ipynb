{
 "cells": [
  {
   "cell_type": "code",
   "execution_count": 1,
   "metadata": {},
   "outputs": [
    {
     "name": "stderr",
     "output_type": "stream",
     "text": [
      "[nltk_data] Downloading package omw-1.4 to /home/erwan/nltk_data...\n",
      "[nltk_data]   Package omw-1.4 is already up-to-date!\n",
      "[nltk_data] Downloading package omw-1.4 to /home/erwan/nltk_data...\n",
      "[nltk_data]   Package omw-1.4 is already up-to-date!\n"
     ]
    }
   ],
   "source": [
    "import sys\n",
    "import dotenv\n",
    "dotenv.load_dotenv('../../.env')\n",
    "\n",
    "sys.path.insert(0, '../')\n",
    "sys.path.insert(0, '../app')\n",
    "\n",
    "from app.processing.audio.SIWhisperModel import SIWhisperModel\n",
    "from app.processing.YoutubeProcessor import YoutubeProcessor\n",
    "\n",
    "whisper = SIWhisperModel('medium', 'whisper-medium')\n",
    "\n"
   ]
  },
  {
   "cell_type": "code",
   "execution_count": 3,
   "metadata": {},
   "outputs": [
    {
     "name": "stdout",
     "output_type": "stream",
     "text": [
      "AUDIO CODEC aac\n"
     ]
    },
    {
     "name": "stderr",
     "output_type": "stream",
     "text": [
      "whisper-medium: 100%|██████████| 122.926/122.926 [00:09<00:00, 12.44s/s]\n"
     ]
    },
    {
     "name": "stdout",
     "output_type": "stream",
     "text": [
      "time_taken 10.383424043655396\n",
      "File /home/erwan/Desktop/clients/ScienceInfuse/server/notebooks/documents/youtube/1aa5d83e-dd5c-4525-93d3-d7ab55d056f0.mp4 uploaded successfully to bucket science-infuse-content as youtube/8b37ad65-73b1-43ff-82e5-33f09ef06f28.mp4.\n",
      "INSERT DOCUMENT 4ef66422-8472-408e-9793-2985c8373102 id='1aa5d83e-dd5c-4525-93d3-d7ab55d056f0' publicPath='https://www.youtube.com/watch?v=abQFa-Nu5V4' originalPath='https://www.youtube.com/watch?v=abQFa-Nu5V4' s3ObjectName='youtube/8b37ad65-73b1-43ff-82e5-33f09ef06f28.mp4' mediaName=\"L'incroyable pouvoir de guérison de l'axolotl\"\n",
      "INSERT CHUNKS [VideoTranscriptChunk(document=Document(id='1aa5d83e-dd5c-4525-93d3-d7ab55d056f0', publicPath='https://www.youtube.com/watch?v=abQFa-Nu5V4', originalPath='https://www.youtube.com/watch?v=abQFa-Nu5V4', s3ObjectName='youtube/8b37ad65-73b1-43ff-82e5-33f09ef06f28.mp4', mediaName=\"L'incroyable pouvoir de guérison de l'axolotl\"), text='Nous autres, humains, réagissons très différemment lorsque nous sommes blessés. Des pèses cicatrices se forment rapidement pour éviter les hémorragies, mais cela empêche le processus de la régénération.', title=\"L'incroyable pouvoir de guérison de l'axolotl\", mediaType=<MediaType.VIDEO_TRANSCRIPT: 'video_transcript'>, metadata=VideoTranscriptMetadata(start=0.0, end=13.92)), VideoTranscriptChunk(document=Document(id='1aa5d83e-dd5c-4525-93d3-d7ab55d056f0', publicPath='https://www.youtube.com/watch?v=abQFa-Nu5V4', originalPath='https://www.youtube.com/watch?v=abQFa-Nu5V4', s3ObjectName='youtube/8b37ad65-73b1-43ff-82e5-33f09ef06f28.mp4', mediaName=\"L'incroyable pouvoir de guérison de l'axolotl\"), text='Pour comprendre comment cet animal fonctionne, il faut le regarder de plus près.', title=\"L'incroyable pouvoir de guérison de l'axolotl\", mediaType=<MediaType.VIDEO_TRANSCRIPT: 'video_transcript'>, metadata=VideoTranscriptMetadata(start=14.94, end=19.5)), VideoTranscriptChunk(document=Document(id='1aa5d83e-dd5c-4525-93d3-d7ab55d056f0', publicPath='https://www.youtube.com/watch?v=abQFa-Nu5V4', originalPath='https://www.youtube.com/watch?v=abQFa-Nu5V4', s3ObjectName='youtube/8b37ad65-73b1-43ff-82e5-33f09ef06f28.mp4', mediaName=\"L'incroyable pouvoir de guérison de l'axolotl\"), text=\"La pression sanguine de la salamandre est très basse. Alors, lorsqu'elle perd un membre, les cellules de sa peau peuvent parcourir la plaie et celles-ci se referment quelques heures. Pas besoin d'une grosse cicatrice. La fine couche de cellules dermiques bat alors le rappel des cellules musculaires, qui commencent immédiatement à reformer le membre perdu.\", title=\"L'incroyable pouvoir de guérison de l'axolotl\", mediaType=<MediaType.VIDEO_TRANSCRIPT: 'video_transcript'>, metadata=VideoTranscriptMetadata(start=23.38, end=47.2)), VideoTranscriptChunk(document=Document(id='1aa5d83e-dd5c-4525-93d3-d7ab55d056f0', publicPath='https://www.youtube.com/watch?v=abQFa-Nu5V4', originalPath='https://www.youtube.com/watch?v=abQFa-Nu5V4', s3ObjectName='youtube/8b37ad65-73b1-43ff-82e5-33f09ef06f28.mp4', mediaName=\"L'incroyable pouvoir de guérison de l'axolotl\"), text=\"Pour observer la régénération de l'axolotl, David a mis au point un dispositif qui va lui permettre de photographier l'animal pendant les deux prochains mois.\", title=\"L'incroyable pouvoir de guérison de l'axolotl\", mediaType=<MediaType.VIDEO_TRANSCRIPT: 'video_transcript'>, metadata=VideoTranscriptMetadata(start=51.400000000000006, end=60.3)), VideoTranscriptChunk(document=Document(id='1aa5d83e-dd5c-4525-93d3-d7ab55d056f0', publicPath='https://www.youtube.com/watch?v=abQFa-Nu5V4', originalPath='https://www.youtube.com/watch?v=abQFa-Nu5V4', s3ObjectName='youtube/8b37ad65-73b1-43ff-82e5-33f09ef06f28.mp4', mediaName=\"L'incroyable pouvoir de guérison de l'axolotl\"), text='Je vais commencer à prendre des photos et je constituerai toute la série comme ça.', title=\"L'incroyable pouvoir de guérison de l'axolotl\", mediaType=<MediaType.VIDEO_TRANSCRIPT: 'video_transcript'>, metadata=VideoTranscriptMetadata(start=61.9, end=65.86)), VideoTranscriptChunk(document=Document(id='1aa5d83e-dd5c-4525-93d3-d7ab55d056f0', publicPath='https://www.youtube.com/watch?v=abQFa-Nu5V4', originalPath='https://www.youtube.com/watch?v=abQFa-Nu5V4', s3ObjectName='youtube/8b37ad65-73b1-43ff-82e5-33f09ef06f28.mp4', mediaName=\"L'incroyable pouvoir de guérison de l'axolotl\"), text=\"Vous allez trouver ça incroyable, il faut le voir pour le croire. C'est très représentatif. Si ces animaux n'existaient pas, et que je vous disais, je pense qu'on peut reconstruire des gens, vous me prendriez pour un fou, vous me diriez, comment ça, faire repousser un bras.\", title=\"L'incroyable pouvoir de guérison de l'axolotl\", mediaType=<MediaType.VIDEO_TRANSCRIPT: 'video_transcript'>, metadata=VideoTranscriptMetadata(start=68.76000000000002, end=85.5)), VideoTranscriptChunk(document=Document(id='1aa5d83e-dd5c-4525-93d3-d7ab55d056f0', publicPath='https://www.youtube.com/watch?v=abQFa-Nu5V4', originalPath='https://www.youtube.com/watch?v=abQFa-Nu5V4', s3ObjectName='youtube/8b37ad65-73b1-43ff-82e5-33f09ef06f28.mp4', mediaName=\"L'incroyable pouvoir de guérison de l'axolotl\"), text=\"Mais heureusement, on a là une espèce qui en est capable. C'est une réalité, un véritable processus biologique.\", title=\"L'incroyable pouvoir de guérison de l'axolotl\", mediaType=<MediaType.VIDEO_TRANSCRIPT: 'video_transcript'>, metadata=VideoTranscriptMetadata(start=86.96, end=94.78)), VideoTranscriptChunk(document=Document(id='1aa5d83e-dd5c-4525-93d3-d7ab55d056f0', publicPath='https://www.youtube.com/watch?v=abQFa-Nu5V4', originalPath='https://www.youtube.com/watch?v=abQFa-Nu5V4', s3ObjectName='youtube/8b37ad65-73b1-43ff-82e5-33f09ef06f28.mp4', mediaName=\"L'incroyable pouvoir de guérison de l'axolotl\"), text=\"Certains animaux y arrivent très bien, nous non, mais on pourrait s'en inspirer pour s'améliorer.\", title=\"L'incroyable pouvoir de guérison de l'axolotl\", mediaType=<MediaType.VIDEO_TRANSCRIPT: 'video_transcript'>, metadata=VideoTranscriptMetadata(start=95.96, end=100.68)), VideoTranscriptChunk(document=Document(id='1aa5d83e-dd5c-4525-93d3-d7ab55d056f0', publicPath='https://www.youtube.com/watch?v=abQFa-Nu5V4', originalPath='https://www.youtube.com/watch?v=abQFa-Nu5V4', s3ObjectName='youtube/8b37ad65-73b1-43ff-82e5-33f09ef06f28.mp4', mediaName=\"L'incroyable pouvoir de guérison de l'axolotl\"), text='Voici les photographies du membre en train de repousser.', title=\"L'incroyable pouvoir de guérison de l'axolotl\", mediaType=<MediaType.VIDEO_TRANSCRIPT: 'video_transcript'>, metadata=VideoTranscriptMetadata(start=106.12, end=109.5)), VideoTranscriptChunk(document=Document(id='1aa5d83e-dd5c-4525-93d3-d7ab55d056f0', publicPath='https://www.youtube.com/watch?v=abQFa-Nu5V4', originalPath='https://www.youtube.com/watch?v=abQFa-Nu5V4', s3ObjectName='youtube/8b37ad65-73b1-43ff-82e5-33f09ef06f28.mp4', mediaName=\"L'incroyable pouvoir de guérison de l'axolotl\"), text=\"En à peine huit semaines, la salamandre est capable de refabriquer l'antérieure qui lui manquait.\", title=\"L'incroyable pouvoir de guérison de l'axolotl\", mediaType=<MediaType.VIDEO_TRANSCRIPT: 'video_transcript'>, metadata=VideoTranscriptMetadata(start=112.16, end=117.94))]\n",
      "INSERT CHUNK -  document=Document(id='1aa5d83e-dd5c-4525-93d3-d7ab55d056f0', publicPath='https://www.youtube.com/watch?v=abQFa-Nu5V4', originalPath='https://www.youtube.com/watch?v=abQFa-Nu5V4', s3ObjectName='youtube/8b37ad65-73b1-43ff-82e5-33f09ef06f28.mp4', mediaName=\"L'incroyable pouvoir de guérison de l'axolotl\") text='Nous autres, humains, réagissons très différemment lorsque nous sommes blessés. Des pèses cicatrices se forment rapidement pour éviter les hémorragies, mais cela empêche le processus de la régénération.' title=\"L'incroyable pouvoir de guérison de l'axolotl\" mediaType=<MediaType.VIDEO_TRANSCRIPT: 'video_transcript'> metadata=VideoTranscriptMetadata(start=0.0, end=13.92)\n",
      "INSERT CHUNK -  document=Document(id='1aa5d83e-dd5c-4525-93d3-d7ab55d056f0', publicPath='https://www.youtube.com/watch?v=abQFa-Nu5V4', originalPath='https://www.youtube.com/watch?v=abQFa-Nu5V4', s3ObjectName='youtube/8b37ad65-73b1-43ff-82e5-33f09ef06f28.mp4', mediaName=\"L'incroyable pouvoir de guérison de l'axolotl\") text='Pour comprendre comment cet animal fonctionne, il faut le regarder de plus près.' title=\"L'incroyable pouvoir de guérison de l'axolotl\" mediaType=<MediaType.VIDEO_TRANSCRIPT: 'video_transcript'> metadata=VideoTranscriptMetadata(start=14.94, end=19.5)\n",
      "INSERT CHUNK -  document=Document(id='1aa5d83e-dd5c-4525-93d3-d7ab55d056f0', publicPath='https://www.youtube.com/watch?v=abQFa-Nu5V4', originalPath='https://www.youtube.com/watch?v=abQFa-Nu5V4', s3ObjectName='youtube/8b37ad65-73b1-43ff-82e5-33f09ef06f28.mp4', mediaName=\"L'incroyable pouvoir de guérison de l'axolotl\") text=\"La pression sanguine de la salamandre est très basse. Alors, lorsqu'elle perd un membre, les cellules de sa peau peuvent parcourir la plaie et celles-ci se referment quelques heures. Pas besoin d'une grosse cicatrice. La fine couche de cellules dermiques bat alors le rappel des cellules musculaires, qui commencent immédiatement à reformer le membre perdu.\" title=\"L'incroyable pouvoir de guérison de l'axolotl\" mediaType=<MediaType.VIDEO_TRANSCRIPT: 'video_transcript'> metadata=VideoTranscriptMetadata(start=23.38, end=47.2)\n",
      "INSERT CHUNK -  document=Document(id='1aa5d83e-dd5c-4525-93d3-d7ab55d056f0', publicPath='https://www.youtube.com/watch?v=abQFa-Nu5V4', originalPath='https://www.youtube.com/watch?v=abQFa-Nu5V4', s3ObjectName='youtube/8b37ad65-73b1-43ff-82e5-33f09ef06f28.mp4', mediaName=\"L'incroyable pouvoir de guérison de l'axolotl\") text=\"Pour observer la régénération de l'axolotl, David a mis au point un dispositif qui va lui permettre de photographier l'animal pendant les deux prochains mois.\" title=\"L'incroyable pouvoir de guérison de l'axolotl\" mediaType=<MediaType.VIDEO_TRANSCRIPT: 'video_transcript'> metadata=VideoTranscriptMetadata(start=51.400000000000006, end=60.3)\n",
      "INSERT CHUNK -  document=Document(id='1aa5d83e-dd5c-4525-93d3-d7ab55d056f0', publicPath='https://www.youtube.com/watch?v=abQFa-Nu5V4', originalPath='https://www.youtube.com/watch?v=abQFa-Nu5V4', s3ObjectName='youtube/8b37ad65-73b1-43ff-82e5-33f09ef06f28.mp4', mediaName=\"L'incroyable pouvoir de guérison de l'axolotl\") text='Je vais commencer à prendre des photos et je constituerai toute la série comme ça.' title=\"L'incroyable pouvoir de guérison de l'axolotl\" mediaType=<MediaType.VIDEO_TRANSCRIPT: 'video_transcript'> metadata=VideoTranscriptMetadata(start=61.9, end=65.86)\n",
      "INSERT CHUNK -  document=Document(id='1aa5d83e-dd5c-4525-93d3-d7ab55d056f0', publicPath='https://www.youtube.com/watch?v=abQFa-Nu5V4', originalPath='https://www.youtube.com/watch?v=abQFa-Nu5V4', s3ObjectName='youtube/8b37ad65-73b1-43ff-82e5-33f09ef06f28.mp4', mediaName=\"L'incroyable pouvoir de guérison de l'axolotl\") text=\"Vous allez trouver ça incroyable, il faut le voir pour le croire. C'est très représentatif. Si ces animaux n'existaient pas, et que je vous disais, je pense qu'on peut reconstruire des gens, vous me prendriez pour un fou, vous me diriez, comment ça, faire repousser un bras.\" title=\"L'incroyable pouvoir de guérison de l'axolotl\" mediaType=<MediaType.VIDEO_TRANSCRIPT: 'video_transcript'> metadata=VideoTranscriptMetadata(start=68.76000000000002, end=85.5)\n",
      "INSERT CHUNK -  document=Document(id='1aa5d83e-dd5c-4525-93d3-d7ab55d056f0', publicPath='https://www.youtube.com/watch?v=abQFa-Nu5V4', originalPath='https://www.youtube.com/watch?v=abQFa-Nu5V4', s3ObjectName='youtube/8b37ad65-73b1-43ff-82e5-33f09ef06f28.mp4', mediaName=\"L'incroyable pouvoir de guérison de l'axolotl\") text=\"Mais heureusement, on a là une espèce qui en est capable. C'est une réalité, un véritable processus biologique.\" title=\"L'incroyable pouvoir de guérison de l'axolotl\" mediaType=<MediaType.VIDEO_TRANSCRIPT: 'video_transcript'> metadata=VideoTranscriptMetadata(start=86.96, end=94.78)\n",
      "INSERT CHUNK -  document=Document(id='1aa5d83e-dd5c-4525-93d3-d7ab55d056f0', publicPath='https://www.youtube.com/watch?v=abQFa-Nu5V4', originalPath='https://www.youtube.com/watch?v=abQFa-Nu5V4', s3ObjectName='youtube/8b37ad65-73b1-43ff-82e5-33f09ef06f28.mp4', mediaName=\"L'incroyable pouvoir de guérison de l'axolotl\") text=\"Certains animaux y arrivent très bien, nous non, mais on pourrait s'en inspirer pour s'améliorer.\" title=\"L'incroyable pouvoir de guérison de l'axolotl\" mediaType=<MediaType.VIDEO_TRANSCRIPT: 'video_transcript'> metadata=VideoTranscriptMetadata(start=95.96, end=100.68)\n",
      "INSERT CHUNK -  document=Document(id='1aa5d83e-dd5c-4525-93d3-d7ab55d056f0', publicPath='https://www.youtube.com/watch?v=abQFa-Nu5V4', originalPath='https://www.youtube.com/watch?v=abQFa-Nu5V4', s3ObjectName='youtube/8b37ad65-73b1-43ff-82e5-33f09ef06f28.mp4', mediaName=\"L'incroyable pouvoir de guérison de l'axolotl\") text='Voici les photographies du membre en train de repousser.' title=\"L'incroyable pouvoir de guérison de l'axolotl\" mediaType=<MediaType.VIDEO_TRANSCRIPT: 'video_transcript'> metadata=VideoTranscriptMetadata(start=106.12, end=109.5)\n",
      "INSERT CHUNK -  document=Document(id='1aa5d83e-dd5c-4525-93d3-d7ab55d056f0', publicPath='https://www.youtube.com/watch?v=abQFa-Nu5V4', originalPath='https://www.youtube.com/watch?v=abQFa-Nu5V4', s3ObjectName='youtube/8b37ad65-73b1-43ff-82e5-33f09ef06f28.mp4', mediaName=\"L'incroyable pouvoir de guérison de l'axolotl\") text=\"En à peine huit semaines, la salamandre est capable de refabriquer l'antérieure qui lui manquait.\" title=\"L'incroyable pouvoir de guérison de l'axolotl\" mediaType=<MediaType.VIDEO_TRANSCRIPT: 'video_transcript'> metadata=VideoTranscriptMetadata(start=112.16, end=117.94)\n",
      "SAVE DOCUMENT id='1aa5d83e-dd5c-4525-93d3-d7ab55d056f0' publicPath='https://www.youtube.com/watch?v=abQFa-Nu5V4' originalPath='https://www.youtube.com/watch?v=abQFa-Nu5V4' s3ObjectName='youtube/8b37ad65-73b1-43ff-82e5-33f09ef06f28.mp4' mediaName=\"L'incroyable pouvoir de guérison de l'axolotl\" [VideoTranscriptChunk(document=Document(id='1aa5d83e-dd5c-4525-93d3-d7ab55d056f0', publicPath='https://www.youtube.com/watch?v=abQFa-Nu5V4', originalPath='https://www.youtube.com/watch?v=abQFa-Nu5V4', s3ObjectName='youtube/8b37ad65-73b1-43ff-82e5-33f09ef06f28.mp4', mediaName=\"L'incroyable pouvoir de guérison de l'axolotl\"), text='Nous autres, humains, réagissons très différemment lorsque nous sommes blessés. Des pèses cicatrices se forment rapidement pour éviter les hémorragies, mais cela empêche le processus de la régénération.', title=\"L'incroyable pouvoir de guérison de l'axolotl\", mediaType=<MediaType.VIDEO_TRANSCRIPT: 'video_transcript'>, metadata=VideoTranscriptMetadata(start=0.0, end=13.92)), VideoTranscriptChunk(document=Document(id='1aa5d83e-dd5c-4525-93d3-d7ab55d056f0', publicPath='https://www.youtube.com/watch?v=abQFa-Nu5V4', originalPath='https://www.youtube.com/watch?v=abQFa-Nu5V4', s3ObjectName='youtube/8b37ad65-73b1-43ff-82e5-33f09ef06f28.mp4', mediaName=\"L'incroyable pouvoir de guérison de l'axolotl\"), text='Pour comprendre comment cet animal fonctionne, il faut le regarder de plus près.', title=\"L'incroyable pouvoir de guérison de l'axolotl\", mediaType=<MediaType.VIDEO_TRANSCRIPT: 'video_transcript'>, metadata=VideoTranscriptMetadata(start=14.94, end=19.5)), VideoTranscriptChunk(document=Document(id='1aa5d83e-dd5c-4525-93d3-d7ab55d056f0', publicPath='https://www.youtube.com/watch?v=abQFa-Nu5V4', originalPath='https://www.youtube.com/watch?v=abQFa-Nu5V4', s3ObjectName='youtube/8b37ad65-73b1-43ff-82e5-33f09ef06f28.mp4', mediaName=\"L'incroyable pouvoir de guérison de l'axolotl\"), text=\"La pression sanguine de la salamandre est très basse. Alors, lorsqu'elle perd un membre, les cellules de sa peau peuvent parcourir la plaie et celles-ci se referment quelques heures. Pas besoin d'une grosse cicatrice. La fine couche de cellules dermiques bat alors le rappel des cellules musculaires, qui commencent immédiatement à reformer le membre perdu.\", title=\"L'incroyable pouvoir de guérison de l'axolotl\", mediaType=<MediaType.VIDEO_TRANSCRIPT: 'video_transcript'>, metadata=VideoTranscriptMetadata(start=23.38, end=47.2)), VideoTranscriptChunk(document=Document(id='1aa5d83e-dd5c-4525-93d3-d7ab55d056f0', publicPath='https://www.youtube.com/watch?v=abQFa-Nu5V4', originalPath='https://www.youtube.com/watch?v=abQFa-Nu5V4', s3ObjectName='youtube/8b37ad65-73b1-43ff-82e5-33f09ef06f28.mp4', mediaName=\"L'incroyable pouvoir de guérison de l'axolotl\"), text=\"Pour observer la régénération de l'axolotl, David a mis au point un dispositif qui va lui permettre de photographier l'animal pendant les deux prochains mois.\", title=\"L'incroyable pouvoir de guérison de l'axolotl\", mediaType=<MediaType.VIDEO_TRANSCRIPT: 'video_transcript'>, metadata=VideoTranscriptMetadata(start=51.400000000000006, end=60.3)), VideoTranscriptChunk(document=Document(id='1aa5d83e-dd5c-4525-93d3-d7ab55d056f0', publicPath='https://www.youtube.com/watch?v=abQFa-Nu5V4', originalPath='https://www.youtube.com/watch?v=abQFa-Nu5V4', s3ObjectName='youtube/8b37ad65-73b1-43ff-82e5-33f09ef06f28.mp4', mediaName=\"L'incroyable pouvoir de guérison de l'axolotl\"), text='Je vais commencer à prendre des photos et je constituerai toute la série comme ça.', title=\"L'incroyable pouvoir de guérison de l'axolotl\", mediaType=<MediaType.VIDEO_TRANSCRIPT: 'video_transcript'>, metadata=VideoTranscriptMetadata(start=61.9, end=65.86)), VideoTranscriptChunk(document=Document(id='1aa5d83e-dd5c-4525-93d3-d7ab55d056f0', publicPath='https://www.youtube.com/watch?v=abQFa-Nu5V4', originalPath='https://www.youtube.com/watch?v=abQFa-Nu5V4', s3ObjectName='youtube/8b37ad65-73b1-43ff-82e5-33f09ef06f28.mp4', mediaName=\"L'incroyable pouvoir de guérison de l'axolotl\"), text=\"Vous allez trouver ça incroyable, il faut le voir pour le croire. C'est très représentatif. Si ces animaux n'existaient pas, et que je vous disais, je pense qu'on peut reconstruire des gens, vous me prendriez pour un fou, vous me diriez, comment ça, faire repousser un bras.\", title=\"L'incroyable pouvoir de guérison de l'axolotl\", mediaType=<MediaType.VIDEO_TRANSCRIPT: 'video_transcript'>, metadata=VideoTranscriptMetadata(start=68.76000000000002, end=85.5)), VideoTranscriptChunk(document=Document(id='1aa5d83e-dd5c-4525-93d3-d7ab55d056f0', publicPath='https://www.youtube.com/watch?v=abQFa-Nu5V4', originalPath='https://www.youtube.com/watch?v=abQFa-Nu5V4', s3ObjectName='youtube/8b37ad65-73b1-43ff-82e5-33f09ef06f28.mp4', mediaName=\"L'incroyable pouvoir de guérison de l'axolotl\"), text=\"Mais heureusement, on a là une espèce qui en est capable. C'est une réalité, un véritable processus biologique.\", title=\"L'incroyable pouvoir de guérison de l'axolotl\", mediaType=<MediaType.VIDEO_TRANSCRIPT: 'video_transcript'>, metadata=VideoTranscriptMetadata(start=86.96, end=94.78)), VideoTranscriptChunk(document=Document(id='1aa5d83e-dd5c-4525-93d3-d7ab55d056f0', publicPath='https://www.youtube.com/watch?v=abQFa-Nu5V4', originalPath='https://www.youtube.com/watch?v=abQFa-Nu5V4', s3ObjectName='youtube/8b37ad65-73b1-43ff-82e5-33f09ef06f28.mp4', mediaName=\"L'incroyable pouvoir de guérison de l'axolotl\"), text=\"Certains animaux y arrivent très bien, nous non, mais on pourrait s'en inspirer pour s'améliorer.\", title=\"L'incroyable pouvoir de guérison de l'axolotl\", mediaType=<MediaType.VIDEO_TRANSCRIPT: 'video_transcript'>, metadata=VideoTranscriptMetadata(start=95.96, end=100.68)), VideoTranscriptChunk(document=Document(id='1aa5d83e-dd5c-4525-93d3-d7ab55d056f0', publicPath='https://www.youtube.com/watch?v=abQFa-Nu5V4', originalPath='https://www.youtube.com/watch?v=abQFa-Nu5V4', s3ObjectName='youtube/8b37ad65-73b1-43ff-82e5-33f09ef06f28.mp4', mediaName=\"L'incroyable pouvoir de guérison de l'axolotl\"), text='Voici les photographies du membre en train de repousser.', title=\"L'incroyable pouvoir de guérison de l'axolotl\", mediaType=<MediaType.VIDEO_TRANSCRIPT: 'video_transcript'>, metadata=VideoTranscriptMetadata(start=106.12, end=109.5)), VideoTranscriptChunk(document=Document(id='1aa5d83e-dd5c-4525-93d3-d7ab55d056f0', publicPath='https://www.youtube.com/watch?v=abQFa-Nu5V4', originalPath='https://www.youtube.com/watch?v=abQFa-Nu5V4', s3ObjectName='youtube/8b37ad65-73b1-43ff-82e5-33f09ef06f28.mp4', mediaName=\"L'incroyable pouvoir de guérison de l'axolotl\"), text=\"En à peine huit semaines, la salamandre est capable de refabriquer l'antérieure qui lui manquait.\", title=\"L'incroyable pouvoir de guérison de l'axolotl\", mediaType=<MediaType.VIDEO_TRANSCRIPT: 'video_transcript'>, metadata=VideoTranscriptMetadata(start=112.16, end=117.94))]\n"
     ]
    }
   ],
   "source": [
    "from app.S3Storage import S3Storage\n",
    "\n",
    "\n",
    "urls = [\n",
    "    # \"https://www.youtube.com/watch?v=re__12nH2ro\",\n",
    "    # \"https://www.youtube.com/watch?v=FSbEorqTtMU\",\n",
    "    # \"https://www.youtube.com/watch?v=Ull-Rz1L-J0\",\n",
    "    # \"https://www.youtube.com/watch?v=0oB2oBj5Ex4\",\n",
    "    # \"https://www.youtube.com/watch?v=p5JR8fsEzR4\",\n",
    "    # \"https://www.youtube.com/watch?v=tRWVMdkOCoQ\",\n",
    "    \"https://www.youtube.com/watch?v=abQFa-Nu5V4\"\n",
    "]\n",
    "\n",
    "s3 = S3Storage()\n",
    "for url in urls:\n",
    "    YoutubeProcessor(s3=s3, whisper=whisper, youtube_url=url)"
   ]
  },
  {
   "cell_type": "markdown",
   "metadata": {},
   "source": [
    "# tests"
   ]
  },
  {
   "cell_type": "code",
   "execution_count": 5,
   "metadata": {},
   "outputs": [],
   "source": [
    "from pytubefix import YouTube\n",
    "url =     \"https://www.youtube.com/watch?v=Ull-Rz1L-J0\"\n",
    "yt = YouTube(url)\n",
    "video_name = yt.vid_info.get(\"videoDetails\", {}).get(\"title\", \"Untitled Video\")\n",
    "# yt.streams.filter(progressive=True, file_extension='mp4').order_by('resolution').desc().first()#.download(output_path=output_path, filename=filename)\n"
   ]
  },
  {
   "cell_type": "code",
   "execution_count": 6,
   "metadata": {},
   "outputs": [
    {
     "data": {
      "text/plain": [
       "[<Stream: itag=\"18\" mime_type=\"video/mp4\" res=\"360p\" fps=\"25fps\" vcodec=\"avc1.42001E\" acodec=\"mp4a.40.2\" progressive=\"True\" type=\"video\">, <Stream: itag=\"137\" mime_type=\"video/mp4\" res=\"1080p\" fps=\"25fps\" vcodec=\"avc1.640028\" progressive=\"False\" type=\"video\">, <Stream: itag=\"136\" mime_type=\"video/mp4\" res=\"720p\" fps=\"25fps\" vcodec=\"avc1.64001f\" progressive=\"False\" type=\"video\">, <Stream: itag=\"134\" mime_type=\"video/mp4\" res=\"360p\" fps=\"25fps\" vcodec=\"avc1.4d401e\" progressive=\"False\" type=\"video\">, <Stream: itag=\"160\" mime_type=\"video/mp4\" res=\"144p\" fps=\"25fps\" vcodec=\"avc1.4d400c\" progressive=\"False\" type=\"video\">, <Stream: itag=\"139\" mime_type=\"audio/mp4\" abr=\"48kbps\" acodec=\"mp4a.40.5\" progressive=\"False\" type=\"audio\">, <Stream: itag=\"140\" mime_type=\"audio/mp4\" abr=\"128kbps\" acodec=\"mp4a.40.2\" progressive=\"False\" type=\"audio\">, <Stream: itag=\"251\" mime_type=\"audio/webm\" abr=\"160kbps\" acodec=\"opus\" progressive=\"False\" type=\"audio\">]"
      ]
     },
     "execution_count": 6,
     "metadata": {},
     "output_type": "execute_result"
    }
   ],
   "source": [
    "yt.streams"
   ]
  },
  {
   "cell_type": "code",
   "execution_count": 35,
   "metadata": {},
   "outputs": [
    {
     "name": "stdout",
     "output_type": "stream",
     "text": [
      "442\n"
     ]
    }
   ],
   "source": [
    "from googleapiclient.discovery import build\n",
    "\n",
    "# Set up YouTube API client\n",
    "api_key = ''\n",
    "youtube = build('youtube', 'v3', developerKey=api_key)\n",
    "\n",
    "def get_channel_videos(channel_id):\n",
    "    playlist_id = f\"{channel_id[0]}U{channel_id[2:]}\"\n",
    "    videos = []\n",
    "    next_page_token = None\n",
    "    \n",
    "    while True:\n",
    "        res = youtube.playlistItems().list(\n",
    "            part='snippet',\n",
    "            playlistId=playlist_id,\n",
    "            maxResults=50,\n",
    "            pageToken=next_page_token\n",
    "        ).execute()\n",
    "        \n",
    "        for item in res[\"items\"]:\n",
    "            videos.append({\n",
    "                \"title\": item[\"snippet\"][\"title\"],\n",
    "                \"video_id\": item[\"snippet\"][\"resourceId\"][\"videoId\"],\n",
    "                \"publish_time\": item[\"snippet\"][\"publishedAt\"]\n",
    "            })\n",
    "        \n",
    "        next_page_token = res.get('nextPageToken')\n",
    "        \n",
    "        if next_page_token is None:\n",
    "            break\n",
    "            \n",
    "    return videos\n",
    "\n",
    "videos = get_channel_videos(\"UC1udnO-W6gpR9qzleJ5SDKw\")\n",
    "print(len(videos))"
   ]
  },
  {
   "cell_type": "code",
   "execution_count": 1,
   "metadata": {},
   "outputs": [],
   "source": [
    "from pytubefix import YouTube\n",
    "yt = YouTube(\"https://www.youtube.com/watch?v=YWcoQ8M3cnk\")"
   ]
  },
  {
   "cell_type": "code",
   "execution_count": 7,
   "metadata": {},
   "outputs": [
    {
     "data": {
      "text/plain": [
       "'Train à hydrogène en France, entre promesses écologiques et incertitudes technologiques | Reportage'"
      ]
     },
     "execution_count": 7,
     "metadata": {},
     "output_type": "execute_result"
    }
   ],
   "source": [
    "video_name = yt.vid_info.get(\"videoDetails\", {}).get(\"title\", \"Untitled Video\")\n",
    "video_name"
   ]
  },
  {
   "cell_type": "code",
   "execution_count": 3,
   "metadata": {},
   "outputs": [
    {
     "data": {
      "text/plain": [
       "'/home/erwan/Desktop/clients/ScienceInfuse/server/notebooks/blobremove.mp4'"
      ]
     },
     "execution_count": 3,
     "metadata": {},
     "output_type": "execute_result"
    }
   ],
   "source": [
    "yt.streams.filter(progressive=True, file_extension='mp4').order_by('resolution').desc().first().download(output_path='./', filename='blobremove.mp4')\n"
   ]
  }
 ],
 "metadata": {
  "kernelspec": {
   "display_name": "scienceinfuse",
   "language": "python",
   "name": "scienceinfuse"
  },
  "language_info": {
   "codemirror_mode": {
    "name": "ipython",
    "version": 3
   },
   "file_extension": ".py",
   "mimetype": "text/x-python",
   "name": "python",
   "nbconvert_exporter": "python",
   "pygments_lexer": "ipython3",
   "version": "3.9.19"
  }
 },
 "nbformat": 4,
 "nbformat_minor": 2
}

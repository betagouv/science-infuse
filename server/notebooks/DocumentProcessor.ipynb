{
 "cells": [
  {
   "cell_type": "code",
   "execution_count": 1,
   "metadata": {},
   "outputs": [
    {
     "name": "stderr",
     "output_type": "stream",
     "text": [
      "[nltk_data] Downloading package omw-1.4 to /home/erwan/nltk_data...\n",
      "[nltk_data]   Package omw-1.4 is already up-to-date!\n",
      "/home/erwan/anaconda3/envs/scienceinfuse/lib/python3.9/site-packages/google/api_core/exceptions.py:37: ImportWarning: Please install grpcio-status to obtain helpful grpc error messages.\n",
      "  warnings.warn(\n",
      "[nltk_data] Downloading package omw-1.4 to /home/erwan/nltk_data...\n",
      "[nltk_data]   Package omw-1.4 is already up-to-date!\n"
     ]
    }
   ],
   "source": [
    "import sys\n",
    "\n",
    "sys.path.insert(0, '..')\n",
    "\n",
    "from app.processing.stt.SIWhisperModel import SIWhisperModel\n",
    "from app.SIWeaviateClient import SIWeaviateClient\n",
    "from app.processing.YoutubeProcessor import YoutubeProcessor\n",
    "\n",
    "whisper = SIWhisperModel('medium', 'whisper-medium')\n",
    "\n"
   ]
  },
  {
   "cell_type": "code",
   "execution_count": 2,
   "metadata": {},
   "outputs": [
    {
     "ename": "AttributeError",
     "evalue": "'YoutubeProcessor' object has no attribute 'youtube_url'",
     "output_type": "error",
     "traceback": [
      "\u001b[0;31m---------------------------------------------------------------------------\u001b[0m",
      "\u001b[0;31mAttributeError\u001b[0m                            Traceback (most recent call last)",
      "Cell \u001b[0;32mIn[2], line 2\u001b[0m\n\u001b[1;32m      1\u001b[0m \u001b[38;5;28;01mwith\u001b[39;00m SIWeaviateClient() \u001b[38;5;28;01mas\u001b[39;00m client:\n\u001b[0;32m----> 2\u001b[0m     \u001b[43mYoutubeProcessor\u001b[49m\u001b[43m(\u001b[49m\u001b[43mclient\u001b[49m\u001b[38;5;241;43m=\u001b[39;49m\u001b[43mclient\u001b[49m\u001b[43m,\u001b[49m\u001b[43m \u001b[49m\u001b[43mwhisper\u001b[49m\u001b[38;5;241;43m=\u001b[39;49m\u001b[43mwhisper\u001b[49m\u001b[43m,\u001b[49m\u001b[43m \u001b[49m\u001b[43myoutube_url\u001b[49m\u001b[38;5;241;43m=\u001b[39;49m\u001b[38;5;124;43m\"\u001b[39;49m\u001b[38;5;124;43mhttps://www.youtube.com/watch?v=dTDEL7egScs\u001b[39;49m\u001b[38;5;124;43m\"\u001b[39;49m\u001b[43m)\u001b[49m\n",
      "File \u001b[0;32m~/Desktop/clients/ScienceInfuse/server/notebooks/../app/processing/YoutubeProcessor.py:10\u001b[0m, in \u001b[0;36mYoutubeProcessor.__init__\u001b[0;34m(self, client, whisper, youtube_url)\u001b[0m\n\u001b[1;32m      9\u001b[0m \u001b[38;5;28;01mdef\u001b[39;00m \u001b[38;5;21m__init__\u001b[39m(\u001b[38;5;28mself\u001b[39m, client, whisper: SIWhisperModel, youtube_url: \u001b[38;5;28mstr\u001b[39m):\n\u001b[0;32m---> 10\u001b[0m     \u001b[38;5;28;43msuper\u001b[39;49m\u001b[43m(\u001b[49m\u001b[43m)\u001b[49m\u001b[38;5;241;43m.\u001b[39;49m\u001b[38;5;21;43m__init__\u001b[39;49m\u001b[43m(\u001b[49m\u001b[43mclient\u001b[49m\u001b[43m)\u001b[49m\n\u001b[1;32m     11\u001b[0m     \u001b[38;5;28mself\u001b[39m\u001b[38;5;241m.\u001b[39mwhisper \u001b[38;5;241m=\u001b[39m whisper\n\u001b[1;32m     12\u001b[0m     \u001b[38;5;28mself\u001b[39m\u001b[38;5;241m.\u001b[39myoutube_url \u001b[38;5;241m=\u001b[39m youtube_url\n",
      "File \u001b[0;32m~/Desktop/clients/ScienceInfuse/server/notebooks/../app/processing/BaseDocumentProcessor.py:14\u001b[0m, in \u001b[0;36mBaseDocumentProcessor.__init__\u001b[0;34m(self, client)\u001b[0m\n\u001b[1;32m     12\u001b[0m \u001b[38;5;28mself\u001b[39m\u001b[38;5;241m.\u001b[39mbase_download_folder \u001b[38;5;241m=\u001b[39m os\u001b[38;5;241m.\u001b[39mpath\u001b[38;5;241m.\u001b[39mjoin(os\u001b[38;5;241m.\u001b[39mgetcwd(), \u001b[38;5;124m'\u001b[39m\u001b[38;5;124mdocuments\u001b[39m\u001b[38;5;124m'\u001b[39m)\n\u001b[1;32m     13\u001b[0m \u001b[38;5;28mself\u001b[39m\u001b[38;5;241m.\u001b[39mid \u001b[38;5;241m=\u001b[39m \u001b[38;5;28mstr\u001b[39m(uuid\u001b[38;5;241m.\u001b[39muuid4())\n\u001b[0;32m---> 14\u001b[0m \u001b[38;5;28;43mself\u001b[39;49m\u001b[38;5;241;43m.\u001b[39;49m\u001b[43mprocess_document\u001b[49m\u001b[43m(\u001b[49m\u001b[43m)\u001b[49m\n",
      "File \u001b[0;32m~/Desktop/clients/ScienceInfuse/server/notebooks/../app/processing/BaseDocumentProcessor.py:18\u001b[0m, in \u001b[0;36mBaseDocumentProcessor.process_document\u001b[0;34m(self)\u001b[0m\n\u001b[1;32m     17\u001b[0m \u001b[38;5;28;01mdef\u001b[39;00m \u001b[38;5;21mprocess_document\u001b[39m(\u001b[38;5;28mself\u001b[39m):\n\u001b[0;32m---> 18\u001b[0m     \u001b[38;5;28mself\u001b[39m\u001b[38;5;241m.\u001b[39mchunks \u001b[38;5;241m=\u001b[39m \u001b[38;5;28;43mself\u001b[39;49m\u001b[38;5;241;43m.\u001b[39;49m\u001b[43mextract_chunks\u001b[49m\u001b[43m(\u001b[49m\u001b[43m)\u001b[49m\n\u001b[1;32m     19\u001b[0m     \u001b[38;5;28mself\u001b[39m\u001b[38;5;241m.\u001b[39msave_chunks(\u001b[38;5;28mself\u001b[39m\u001b[38;5;241m.\u001b[39mchunks)\n",
      "File \u001b[0;32m~/Desktop/clients/ScienceInfuse/server/notebooks/../app/processing/YoutubeProcessor.py:24\u001b[0m, in \u001b[0;36mYoutubeProcessor.extract_chunks\u001b[0;34m(self)\u001b[0m\n\u001b[1;32m     22\u001b[0m \u001b[38;5;28;01mdef\u001b[39;00m \u001b[38;5;21mextract_chunks\u001b[39m(\u001b[38;5;28mself\u001b[39m):\n\u001b[1;32m     23\u001b[0m     \u001b[38;5;66;03m# Load and process audio file\u001b[39;00m\n\u001b[0;32m---> 24\u001b[0m     video_path \u001b[38;5;241m=\u001b[39m \u001b[38;5;28;43mself\u001b[39;49m\u001b[38;5;241;43m.\u001b[39;49m\u001b[43mdownload_youtube_video\u001b[49m\u001b[43m(\u001b[49m\u001b[43m)\u001b[49m\n\u001b[1;32m     25\u001b[0m     segments \u001b[38;5;241m=\u001b[39m \u001b[38;5;28mself\u001b[39m\u001b[38;5;241m.\u001b[39mwhisper\u001b[38;5;241m.\u001b[39mget_paragraphs_from_audio_path(video_path)\n\u001b[1;32m     26\u001b[0m     chunks \u001b[38;5;241m=\u001b[39m [DocumentChunk(\n\u001b[1;32m     27\u001b[0m         chunk\u001b[38;5;241m=\u001b[39msegment\u001b[38;5;241m.\u001b[39mtext,\n\u001b[1;32m     28\u001b[0m         document_id\u001b[38;5;241m=\u001b[39m\u001b[38;5;28mself\u001b[39m\u001b[38;5;241m.\u001b[39mid, \n\u001b[0;32m   (...)\u001b[0m\n\u001b[1;32m     33\u001b[0m         end_offset\u001b[38;5;241m=\u001b[39msegment\u001b[38;5;241m.\u001b[39mend\n\u001b[1;32m     34\u001b[0m     ) \u001b[38;5;28;01mfor\u001b[39;00m segment \u001b[38;5;129;01min\u001b[39;00m segments]\n",
      "File \u001b[0;32m~/Desktop/clients/ScienceInfuse/server/notebooks/../app/processing/YoutubeProcessor.py:18\u001b[0m, in \u001b[0;36mYoutubeProcessor.download_youtube_video\u001b[0;34m(self)\u001b[0m\n\u001b[1;32m     16\u001b[0m os\u001b[38;5;241m.\u001b[39mmakedirs(output_folder, exist_ok\u001b[38;5;241m=\u001b[39m\u001b[38;5;28;01mTrue\u001b[39;00m)\n\u001b[1;32m     17\u001b[0m output_path \u001b[38;5;241m=\u001b[39m os\u001b[38;5;241m.\u001b[39mpath\u001b[38;5;241m.\u001b[39mjoin(output_folder, \u001b[38;5;124mf\u001b[39m\u001b[38;5;124m\"\u001b[39m\u001b[38;5;132;01m{\u001b[39;00m\u001b[38;5;28mself\u001b[39m\u001b[38;5;241m.\u001b[39mid\u001b[38;5;132;01m}\u001b[39;00m\u001b[38;5;124m.mp4\u001b[39m\u001b[38;5;124m\"\u001b[39m)\n\u001b[0;32m---> 18\u001b[0m yt \u001b[38;5;241m=\u001b[39m YouTube(\u001b[38;5;28;43mself\u001b[39;49m\u001b[38;5;241;43m.\u001b[39;49m\u001b[43myoutube_url\u001b[49m)\n\u001b[1;32m     19\u001b[0m yt\u001b[38;5;241m.\u001b[39mstreams\u001b[38;5;241m.\u001b[39mfilter(progressive\u001b[38;5;241m=\u001b[39m\u001b[38;5;28;01mTrue\u001b[39;00m, file_extension\u001b[38;5;241m=\u001b[39m\u001b[38;5;124m'\u001b[39m\u001b[38;5;124mmp4\u001b[39m\u001b[38;5;124m'\u001b[39m)\u001b[38;5;241m.\u001b[39morder_by(\u001b[38;5;124m'\u001b[39m\u001b[38;5;124mresolution\u001b[39m\u001b[38;5;124m'\u001b[39m)\u001b[38;5;241m.\u001b[39mdesc()\u001b[38;5;241m.\u001b[39mfirst()\u001b[38;5;241m.\u001b[39mdownload(output_path)\n\u001b[1;32m     20\u001b[0m \u001b[38;5;28;01mreturn\u001b[39;00m output_path\n",
      "\u001b[0;31mAttributeError\u001b[0m: 'YoutubeProcessor' object has no attribute 'youtube_url'"
     ]
    }
   ],
   "source": [
    "with SIWeaviateClient() as client:\n",
    "    YoutubeProcessor(client=client, whisper=whisper, youtube_url=\"https://www.youtube.com/watch?v=dTDEL7egScs\")"
   ]
  }
 ],
 "metadata": {
  "kernelspec": {
   "display_name": "Python (scienceinfuse)",
   "language": "python",
   "name": "scienceinfuse"
  },
  "language_info": {
   "codemirror_mode": {
    "name": "ipython",
    "version": 3
   },
   "file_extension": ".py",
   "mimetype": "text/x-python",
   "name": "python",
   "nbconvert_exporter": "python",
   "pygments_lexer": "ipython3",
   "version": "3.9.19"
  }
 },
 "nbformat": 4,
 "nbformat_minor": 2
}

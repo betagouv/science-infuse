{
 "cells": [
  {
   "cell_type": "code",
   "execution_count": 7,
   "metadata": {},
   "outputs": [
    {
     "ename": "Error",
     "evalue": "It looks like you are using Playwright Sync API inside the asyncio loop.\nPlease use the Async API instead.",
     "output_type": "error",
     "traceback": [
      "\u001b[0;31m---------------------------------------------------------------------------\u001b[0m",
      "\u001b[0;31mError\u001b[0m                                     Traceback (most recent call last)",
      "Cell \u001b[0;32mIn[7], line 42\u001b[0m\n\u001b[1;32m     40\u001b[0m         browser \u001b[38;5;241m=\u001b[39m playwright\u001b[38;5;241m.\u001b[39mchromium\u001b[38;5;241m.\u001b[39mlaunch()\n\u001b[1;32m     41\u001b[0m         urls \u001b[38;5;241m=\u001b[39m get_qas_urls(browser)\n\u001b[0;32m---> 42\u001b[0m \u001b[43mmain\u001b[49m\u001b[43m(\u001b[49m\u001b[43m)\u001b[49m\n",
      "Cell \u001b[0;32mIn[7], line 38\u001b[0m, in \u001b[0;36mmain\u001b[0;34m()\u001b[0m\n\u001b[1;32m     36\u001b[0m \u001b[38;5;28;01mdef\u001b[39;00m \u001b[38;5;21mmain\u001b[39m():\n\u001b[1;32m     37\u001b[0m     nest_asyncio\u001b[38;5;241m.\u001b[39mapply()\n\u001b[0;32m---> 38\u001b[0m     \u001b[38;5;28;01mwith\u001b[39;00m sync_playwright() \u001b[38;5;28;01mas\u001b[39;00m playwright:\n\u001b[1;32m     40\u001b[0m         browser \u001b[38;5;241m=\u001b[39m playwright\u001b[38;5;241m.\u001b[39mchromium\u001b[38;5;241m.\u001b[39mlaunch()\n\u001b[1;32m     41\u001b[0m         urls \u001b[38;5;241m=\u001b[39m get_qas_urls(browser)\n",
      "File \u001b[0;32m~/anaconda3/envs/scienceinfuse/lib/python3.9/site-packages/playwright/sync_api/_context_manager.py:47\u001b[0m, in \u001b[0;36mPlaywrightContextManager.__enter__\u001b[0;34m(self)\u001b[0m\n\u001b[1;32m     45\u001b[0m             \u001b[38;5;28mself\u001b[39m\u001b[38;5;241m.\u001b[39m_own_loop \u001b[38;5;241m=\u001b[39m \u001b[38;5;28;01mTrue\u001b[39;00m\n\u001b[1;32m     46\u001b[0m         \u001b[38;5;28;01mif\u001b[39;00m \u001b[38;5;28mself\u001b[39m\u001b[38;5;241m.\u001b[39m_loop\u001b[38;5;241m.\u001b[39mis_running():\n\u001b[0;32m---> 47\u001b[0m             \u001b[38;5;28;01mraise\u001b[39;00m Error(\n\u001b[1;32m     48\u001b[0m \u001b[38;5;250m                \u001b[39m\u001b[38;5;124;03m\"\"\"It looks like you are using Playwright Sync API inside the asyncio loop.\u001b[39;00m\n\u001b[1;32m     49\u001b[0m \u001b[38;5;124;03mPlease use the Async API instead.\"\"\"\u001b[39;00m\n\u001b[1;32m     50\u001b[0m             )\n\u001b[1;32m     52\u001b[0m         \u001b[38;5;66;03m# Create a new fiber for the protocol dispatcher. It will be pumping events\u001b[39;00m\n\u001b[1;32m     53\u001b[0m         \u001b[38;5;66;03m# until the end of times. We will pass control to that fiber every time we\u001b[39;00m\n\u001b[1;32m     54\u001b[0m         \u001b[38;5;66;03m# block while waiting for a response.\u001b[39;00m\n\u001b[1;32m     55\u001b[0m         \u001b[38;5;28;01mdef\u001b[39;00m \u001b[38;5;21mgreenlet_main\u001b[39m() \u001b[38;5;241m-\u001b[39m\u001b[38;5;241m>\u001b[39m \u001b[38;5;28;01mNone\u001b[39;00m:\n",
      "\u001b[0;31mError\u001b[0m: It looks like you are using Playwright Sync API inside the asyncio loop.\nPlease use the Async API instead."
     ]
    }
   ],
   "source": [
    "from playwright.sync_api import sync_playwright, Browser\n",
    "import nest_asyncio\n",
    "\n",
    "\n",
    "def get_qas_urls(browser: Browser):\n",
    "    base_url = \"https://www.cite-sciences.fr/fr/au-programme/lieux-ressources/cite-de-la-sante/une-question-en-sante/questions-sante/toutes-les-questions?tx_questionssante_search%5Bpage%5D=320#results-list\"\n",
    "    from urllib.parse import urljoin\n",
    "    page = browser.new_page()\n",
    "    page.goto(base_url)\n",
    "    qas_urls = []\n",
    "    while True:\n",
    "        page.wait_for_selector(\".card-list\")\n",
    "        questions_elems = page.query_selector_all(\".card-list>li\")\n",
    "        for elem in questions_elems:\n",
    "            relative_url = elem.get_attribute('data-document-url')\n",
    "            if relative_url:\n",
    "                absolute_url = urljoin(base_url, relative_url)\n",
    "                qas_urls.append(absolute_url)\n",
    "        \n",
    "        next_page_button = page.query_selector(\".page-item.page-item-arrow .icon-arrow-right\")\n",
    "        if next_page_button:\n",
    "            next_page = page.query_selector(\".page-item.page-item-arrow:has(.icon-arrow-right) > a\")\n",
    "            next_page_link = next_page.get_attribute('href')\n",
    "            next_page_full_link = urljoin(base_url, next_page_link)\n",
    "            print(\"LEN URL\", len(qas_urls))\n",
    "            print(\"GOING NEXT PAGE\", next_page_full_link)\n",
    "            page.goto(next_page_full_link)\n",
    "            page.wait_for_selector(\".card-list\")\n",
    "        else:\n",
    "            break\n",
    "        \n",
    "    print(\"last LEN URL\", len(qas_urls))\n",
    "    page.close()\n",
    "    return qas_urls\n",
    "\n",
    "def main():\n",
    "    nest_asyncio.apply()\n",
    "    with sync_playwright() as playwright:\n",
    "\n",
    "        browser = playwright.chromium.launch()\n",
    "        urls = get_qas_urls(browser)\n",
    "main()\n"
   ]
  }
 ],
 "metadata": {
  "kernelspec": {
   "display_name": "scienceinfuse",
   "language": "python",
   "name": "python3"
  },
  "language_info": {
   "codemirror_mode": {
    "name": "ipython",
    "version": 3
   },
   "file_extension": ".py",
   "mimetype": "text/x-python",
   "name": "python",
   "nbconvert_exporter": "python",
   "pygments_lexer": "ipython3",
   "version": "3.9.19"
  }
 },
 "nbformat": 4,
 "nbformat_minor": 2
}

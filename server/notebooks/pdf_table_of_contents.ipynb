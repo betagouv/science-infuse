{
 "cells": [
  {
   "cell_type": "code",
   "execution_count": 7,
   "metadata": {},
   "outputs": [],
   "source": [
    "import sys\n",
    "import os\n",
    "import dotenv\n",
    "dotenv.load_dotenv('../../.env')\n",
    "\n",
    "# Add parent directory to Python path\n",
    "sys.path.append(os.path.abspath(os.path.join(os.getcwd(), '..')))\n",
    "sys.path.append(os.path.abspath(os.path.join(os.getcwd(), '..','app')))\n",
    "\n",
    "from app.SIWeaviateClient import SIWeaviateClient\n"
   ]
  },
  {
   "cell_type": "code",
   "execution_count": 35,
   "metadata": {},
   "outputs": [
    {
     "name": "stdout",
     "output_type": "stream",
     "text": [
      "[{'title': 'N° 436 \\\\ TRIMESTRIEL \\\\ JANVIER-MARS 2022 \\\\ 6,90 €', 'subtitles': [{'title': 'Bruno Maquart', 'pages': [3]}]}, {'title': 'N° 436 \\\\ JANVIER-MARS 2022', 'subtitles': [{'title': 'Bruno Maquart', 'pages': [4]}, {'title': 'Cliché du premier cristal de Wigner', 'pages': [6]}]}, {'title': 'Premières images de l’IRM', 'subtitles': [{'title': 'Premières images de l IRM la plus puissante du monde', 'pages': [6]}, {'title': 'Climatologie \\\\ Astrophysique', 'pages': [7]}, {'title': 'Les sommets inhospitaliers verdissent plus vite', 'pages': [7]}, {'title': 'Planète faite du même bois que son étoile', 'pages': [7]}]}, {'title': 'Physiologie-médecine \\\\ Médecine', 'subtitles': [{'title': 'Planète faite du même bois que son étoile', 'pages': [8]}, {'title': 'Nouvel antiparasitaire ?', 'pages': [8]}, {'title': 'Première greffe réussie d’un rein de cochon', 'pages': [8]}, {'title': 'Neurosciences \\\\ Physiologie', 'pages': [9]}, {'title': 'Le système immunitaire est du matin', 'pages': [9]}, {'title': 'Liaison dangereuse dopamine-glutamate', 'pages': [9]}]}, {'title': 'Chimie-technologie \\\\ Sciences de la Terre-environnement', 'subtitles': [{'title': 'Des batteries au soufre plus vertes', 'pages': [10]}]}, {'title': 'D’où vient le mercure', 'subtitles': [{'title': 'de l’océan ?', 'pages': [10]}]}, {'title': 'Paléontologie \\\\ Biologie-science des matériaux', 'subtitles': [{'title': 'SCIENCES ACTUALITÉS', 'pages': [11]}, {'title': 'Les Hommes préhistoriques ne se reproduisaient pas entre cousins', 'pages': [11]}, {'title': 'La super-colle de la moule', 'pages': [11]}]}, {'title': 'Prix Nobel 2021 Physiologie / médecine', 'subtitles': [{'title': 'La super-colle de la moule', 'pages': [12]}, {'title': 'DES RECHERCHES ÉPICÉES', 'pages': [12]}, {'title': 'PRIX NOBEL 2021', 'pages': [13]}, {'title': 'LE TOUCHER DÉVOILÉ', 'pages': [13]}, {'title': 'LA DOULEUR EN LIGNE DE MIRE', 'pages': [13]}]}, {'title': 'Prix Nobel 2021', 'subtitles': [{'title': 'Physique', 'pages': [14]}, {'title': 'PARISI, DES VERRES DE SPIN À LA COVID-19', 'pages': [14]}, {'title': 'PRIX NOBEL 2021', 'pages': [15]}, {'title': 'MANABE ET HASSELMANN, L’ÉVOLUTION DU CLIMAT', 'pages': [15]}]}, {'title': 'Prix Nobel 2021 Chimie', 'subtitles': [{'title': 'MANABE ET HASSELMANN, L’ÉVOLUTION DU CLIMAT', 'pages': [16]}, {'title': 'LA CATALYSE, OU MIEUX CONTRÔLER, TOUJOURS PLUS VITE', 'pages': [16]}, {'title': 'LIST ET LE RETOUR DE LA PROLINE OUBLIÉE', 'pages': [16]}, {'title': 'PRIX NOBEL 2021', 'pages': [17]}, {'title': 'MACMILLAN, LA QUALITÉ DES MÉTAUX... SANS LE MÉTAL', 'pages': [17]}, {'title': 'Phénomènes intéressants 2022', 'pages': [18]}, {'title': 'Janvier-Février-Mars', 'pages': [18]}]}, {'title': 'Janvier-Février-Mars', 'subtitles': [{'title': 'CURIOSITÉS CÉLESTES', 'pages': [19]}, {'title': 'Visibilité des planètes (à l’œil nu)', 'pages': [21]}, {'title': 'Une nouvelle approche', 'pages': [22]}, {'title': 'Apprendre à reconnaître de vieilles montagnes RELIEFS TROMPEURS', 'pages': [24]}, {'title': 'EN QUÊTE DU TÉMOIGNAGE DES ROCHES', 'pages': [25]}, {'title': 'Sutures en stock DES PARENTÉS RÉGIONALES COMPLEXES', 'pages': [27]}, {'title': 'OÙ SONT LES OCÉANS ?', 'pages': [28]}, {'title': 'TERRE & UNIVERS', 'pages': [29]}, {'title': 'Ruban continental et cisaillements multiples UN MASSIF ÉMINEMMENT MAGMATIQUE', 'pages': [29]}, {'title': 'RECOMPOSITION EN MODE OBLIQUE', 'pages': [29]}, {'title': 'Olivier Coulon', 'pages': [30]}, {'title': 'Pour en savoir plus', 'pages': [31]}], 'pages': [26]}, {'title': 'RÉACTIONS OSCILLANTES En mal d’équilibre', 'subtitles': [{'title': 'Pour en savoir plus', 'pages': [32]}, {'title': 'MATIÈRE & ÉNERGIE', 'pages': [33]}, {'title': 'A + B C + D. (1) (2)', 'pages': [33]}, {'title': 'Réactions chimiques, les clés du succès', 'pages': [33]}, {'title': 'Rejet de l’observation de Bray et modèle de Lotka', 'pages': [35]}, {'title': 'Acceptation des réactions oscillantes', 'pages': [37]}, {'title': 'Thermodynamique moderne SYSTÈMES OUVERTS, HORS ÉQUILIBRE', 'pages': [38]}, {'title': 'ÉMERGENCE DE STRUCTURES ORGANISÉES', 'pages': [39]}, {'title': 'LE RÔLE DES NON-LINÉARITÉS', 'pages': [39]}, {'title': 'Kamil Fadel', 'pages': [40]}, {'title': 'Mécanisme des oscillations', 'pages': [40]}]}, {'title': 'L ÉLECTRO ENCÉPHALOGRAPHIE Cent ans d’exploration cérébrale', 'subtitles': [{'title': 'MATIÈRE & ÉNERGIE', 'pages': [42]}, {'title': 'ÉLECTRICITÉ ANIMALE', 'pages': [42]}, {'title': 'VIVANT / SANTÉ & ENVIRONNEMENT', 'pages': [44]}, {'title': 'LE CERVEAU, UNE MACHINE ÉLECTRIQUE', 'pages': [44]}, {'title': 'VERS DES TECHNIQUES MOINS INVASIVES', 'pages': [45]}, {'title': 'ÉVEIL DE L’EEG', 'pages': [47]}, {'title': 'Les phases de sommeil', 'pages': [48]}, {'title': 'L’ÉPILEPSIE PASSÉE AU PEIGNE FIN', 'pages': [48]}, {'title': 'L’EEG À L’HÔPITAL', 'pages': [50]}, {'title': 'AGIR PAR LA PENSÉE', 'pages': [51]}, {'title': 'Billel Khouader', 'pages': [51]}]}, {'title': 'de bien faire des erreurs', 'subtitles': [{'title': 'Billel Khouader', 'pages': [52]}, {'title': 'MODÉLISER, C’EST FAIRE DES ERREURS', 'pages': [52]}, {'title': 'DES ERREURS DE TOUTES SORTES', 'pages': [53]}, {'title': 'BORNER LES ERREURS...', 'pages': [54]}, {'title': '… POUR MIEUX LES RÉDUIRE', 'pages': [55]}, {'title': 'Amélie Fau', 'pages': [56]}, {'title': 'S’ADAPTER À L’ERREUR', 'pages': [56]}, {'title': 'SEUL L’OBJECTIF COMPTE', 'pages': [57]}, {'title': 'Thomas Wick', 'pages': [57]}, {'title': 'SCIENCES DU NUMÉRIQUE', 'pages': [59]}, {'title': 'LA MÉTHODE DE PERLIN', 'pages': [60]}, {'title': 'CONSTRUCTION DU GÉNÉRATEUR', 'pages': [61]}, {'title': 'LA GÉNÉRATION DE VALEURS DE PERLIN', 'pages': [61]}, {'title': 'Échantillonnage de la réalité', 'pages': [62]}, {'title': 'CRÉATION DU PAYSAGE', 'pages': [63]}, {'title': 'Le générateur de Perlin', 'pages': [64]}, {'title': 'AFFINAGE ET TEXTURES', 'pages': [65]}, {'title': 'Émilien Cornillon', 'pages': [65]}], 'pages': [53]}, {'title': 'L’ÉGALITÉ DES GENRES Force motrice d’une croissance', 'subtitles': [{'title': 'durable', 'pages': [66]}, {'title': 'SCIENCE EN SOCIÉTÉ', 'pages': [68]}, {'title': 'Deux outils d’analyse essentiels', 'pages': [68]}, {'title': 'LES FEMMES ET LA SANTÉ', 'pages': [68]}, {'title': 'LES FEMMES ET L’ÉDUCATION', 'pages': [70]}, {'title': 'LES FEMMES DANS L’ENTREPRISE', 'pages': [71]}, {'title': 'LES FEMMES ET LA TECHNOLOGIE', 'pages': [72]}, {'title': 'Augusto Lopez-Claros', 'pages': [74]}, {'title': 'LES FEMMES ET LA GOUVERNANCE', 'pages': [74]}, {'title': 'QUELLES PERSPECTIVES POUR DEMAIN ?', 'pages': [75]}, {'title': 'Nadia Caïd-Holzer', 'pages': [75]}]}, {'title': 'Regard sur… L’Aquarium tropical du palais de la porte Dorée', 'subtitles': [{'title': 'p (Paris, France)', 'pages': [77]}, {'title': 'Tour du monde en 80 aquariums', 'pages': [78]}, {'title': 'REGARD SUR', 'pages': [79]}, {'title': 'Lumière sur quelques pensionnaires', 'pages': [82]}, {'title': 'COLLECTION DE POISSONS', 'pages': [82]}, {'title': 'D’AUTRES ESPÈCES À NE PAS MANQUER', 'pages': [84]}, {'title': 'Des dispositifs variés pour apprendre et comprendre', 'pages': [89]}], 'pages': [91]}, {'title': 'Science et matière Rencontre lumineuse entre curcuma et polystyrène', 'subtitles': [{'title': 'Pour en savoir plus', 'pages': [92]}, {'title': 'LE CURCUMA, UNE MOLÉCULE LUMINEUSE', 'pages': [92]}, {'title': 'LA SCIENCE À PORTÉE DE MAIN', 'pages': [93]}, {'title': 'FABRICATION D’OBJETS EN PLASTIQUE FLUORESCENTS', 'pages': [93]}]}, {'title': 'L’or vert Quand les plantes inspirent l’innovation', 'subtitles': [{'title': 'FABRICATION D’OBJETS EN PLASTIQUE FLUORESCENTS', 'pages': [94]}]}, {'title': 'pée des particules', 'subtitles': [{'title': 'COUPS DE CŒUR', 'pages': [95]}]}, {'title': 'La science en action', 'subtitles': [{'title': 'COUPS DE CŒUR', 'pages': [96]}, {'title': 'Banquet', 'pages': [96]}, {'title': 'Une exposition permanente', 'pages': [96]}, {'title': 'Hydrogène et énergie renouvelable', 'pages': [97]}, {'title': 'La biodiversité de la Seine', 'pages': [97]}]}, {'title': '', 'subtitles': [{'title': 'Bulletin d’abonnement n° 436 à retourner avec votre règlement à : Cité des sciences et de l’industrie,', 'pages': [98]}]}]\n"
     ]
    }
   ],
   "source": [
    "import weaviate.classes as wvc\n",
    "import weaviate\n",
    "from weaviate.classes.query import Filter, GeoCoordinate, MetadataQuery, QueryReference, GroupBy\n",
    "\n",
    "\n",
    "\n",
    "from collections import defaultdict\n",
    "\n",
    "def create_toc(chunks):\n",
    "    toc = defaultdict(lambda: defaultdict(list))\n",
    "    \n",
    "    for chunk in chunks:\n",
    "        title_parts = chunk['title'].split('>')\n",
    "        page = chunk['page']\n",
    "        \n",
    "        if len(title_parts) == 1:\n",
    "            toc[title_parts[0]][''].append(page)\n",
    "        elif len(title_parts) == 2:\n",
    "            toc[title_parts[0]][title_parts[1]].append(page)\n",
    "        else:\n",
    "            print(f\"Warning: Unexpected title format: {chunk['title']}\")\n",
    "    \n",
    "    return toc\n",
    "\n",
    "def toc_to_json(toc):\n",
    "    json_toc = []\n",
    "    for main_title, subtitles in toc.items():\n",
    "        main_entry = {\"title\": main_title, \"subtitles\": []}\n",
    "        for subtitle, pages in subtitles.items():\n",
    "            if subtitle:\n",
    "                main_entry[\"subtitles\"].append({\n",
    "                    \"title\": subtitle,\n",
    "                    \"pages\": pages\n",
    "                })\n",
    "            else:\n",
    "                main_entry[\"pages\"] = pages\n",
    "        json_toc.append(main_entry)\n",
    "    return json_toc\n",
    "\n",
    "\n",
    "\n",
    "client = weaviate.connect_to_local()\n",
    "document_chunk = client.collections.get(\"DocumentChunk\")\n",
    "document = client.collections.get(\"Document\")\n",
    "doc = document.query.fetch_object_by_id(\n",
    "    uuid=\"b6a7357a-cb3c-4329-ab6d-b0d1cff83df8\",\n",
    "    return_references=[QueryReference(\n",
    "        link_on=\"hasChunks\", \n",
    "        return_properties=[\"title\", \"meta_page_number\"]\n",
    "    )]\n",
    ")\n",
    "chunks = doc.references['hasChunks'].objects\n",
    "chunks = [{\"title\": chunk.properties.get('title'), \"page\": chunk.properties.get('meta_page_number')} for chunk in chunks if chunk.properties.get('title')]\n",
    "\n",
    "# Remove duplicates, keeping only the first occurrence (min page)\n",
    "unique_chunks = {}\n",
    "\n",
    "for chunk in chunks:\n",
    "    title = chunk['title']\n",
    "    page = chunk['page']\n",
    "    if title not in unique_chunks or page < unique_chunks[title]['page']:\n",
    "        unique_chunks[title] = chunk\n",
    "\n",
    "chunks = list(unique_chunks.values())\n",
    "\n",
    "\n",
    "toc = create_toc(chunks)\n",
    "json_toc = toc_to_json(toc)\n",
    "print(json_toc)\n",
    "\n",
    "\n",
    "\n",
    "client.close()\n"
   ]
  }
 ],
 "metadata": {
  "kernelspec": {
   "display_name": "scienceinfuse",
   "language": "python",
   "name": "python3"
  },
  "language_info": {
   "codemirror_mode": {
    "name": "ipython",
    "version": 3
   },
   "file_extension": ".py",
   "mimetype": "text/x-python",
   "name": "python",
   "nbconvert_exporter": "python",
   "pygments_lexer": "ipython3",
   "version": "3.9.19"
  }
 },
 "nbformat": 4,
 "nbformat_minor": 2
}

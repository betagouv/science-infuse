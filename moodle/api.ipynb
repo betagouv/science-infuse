{
 "cells": [
  {
   "cell_type": "code",
   "execution_count": 167,
   "metadata": {},
   "outputs": [],
   "source": [
    "#https://github.com/mariovitale1979/sync-plugin.git\n",
    "#https://github.com/corvus-albus/moodle-local_wsmanagesections/\n",
    "\n",
    "import requests\n",
    "import json\n",
    "\n",
    "def rest_api_parameters(in_args, prefix='', out_dict=None):\n",
    "    if out_dict==None:\n",
    "        out_dict = {}\n",
    "    if not type(in_args) in (list,dict):\n",
    "        out_dict[prefix] = in_args\n",
    "        return out_dict\n",
    "    if prefix == '':\n",
    "        prefix = prefix + '{0}'\n",
    "    else:\n",
    "        prefix = prefix + '[{0}]'\n",
    "    if type(in_args)==list:\n",
    "        for idx, item in enumerate(in_args):\n",
    "            rest_api_parameters(item, prefix.format(idx), out_dict)\n",
    "    elif type(in_args)==dict:\n",
    "        for key, item in in_args.items():\n",
    "            rest_api_parameters(item, prefix.format(key), out_dict)\n",
    "    return out_dict\n",
    "\n",
    "class MoodleCourseCreator:\n",
    "    def __init__(self, domain, token):\n",
    "        \"\"\"\n",
    "        Initialize with Moodle domain and Web Services token\n",
    "        \"\"\"\n",
    "        self.domain = domain.rstrip('/')\n",
    "        self.token = token\n",
    "        self.base_url = f\"{self.domain}/webservice/rest/server.php\"\n",
    "\n",
    "    def call_moodle_api(self, wsfunction, params=None):\n",
    "        \"\"\"Make a request to the Moodle API\"\"\"\n",
    "        if params is None:\n",
    "            params = {}\n",
    "            \n",
    "        parameters = rest_api_parameters(params)\n",
    "        parameters.update({\n",
    "            'wstoken': self.token,\n",
    "            'moodlewsrestformat': 'json',\n",
    "            'wsfunction': wsfunction\n",
    "        })\n",
    "        \n",
    "        response = requests.post(self.base_url, data=parameters)\n",
    "\n",
    "        print(f\"API Call URL: {response.url}\")\n",
    "        print(f\"Raw response: {response.text}\")\n",
    "        \n",
    "        if response.status_code != 200:\n",
    "            raise Exception(f\"API call failed with status code: {response.status_code}\")\n",
    "            \n",
    "        try:\n",
    "            result = response.json()\n",
    "            if isinstance(result, dict) and 'exception' in result:\n",
    "                raise Exception(f\"Moodle API error: {result['message']}\\nDebug info: {result.get('debuginfo', '')}\")\n",
    "            return result\n",
    "        except json.JSONDecodeError as e:\n",
    "            print(f\"Raw response: {response.text}\")\n",
    "            raise Exception(f\"Failed to decode JSON response: {str(e)}\")\n",
    "\n",
    "    def create_course(self, full_name, short_name, category_id=1, num_sections=0):\n",
    "        \"\"\"Create a new course with specified number of sections\"\"\"\n",
    "        params = {\n",
    "            'courses': [{\n",
    "                'fullname': full_name,\n",
    "                'shortname': short_name,\n",
    "                'categoryid': category_id,\n",
    "                'format': 'topics',\n",
    "                'numsections': num_sections\n",
    "            }]\n",
    "        }\n",
    "        \n",
    "        result = self.call_moodle_api('core_course_create_courses', params)\n",
    "        if isinstance(result, list) and result:\n",
    "            return result[0].get('id')\n",
    "        return None\n",
    "\n",
    "    def add_section_to_course(self, course_id, title, position=0):\n",
    "        params = {\n",
    "            \"courseid\": course_id,\n",
    "            \"sectionname\": title,\n",
    "            \"sectionnum\": position            \n",
    "        }\n",
    "        return self.call_moodle_api('local_course_add_new_section', params)\n",
    "        \n",
    "\n",
    "    def get_course_sections(self, course_id):\n",
    "        \"\"\"Get the sections of a course\"\"\"\n",
    "        return self.call_moodle_api('local_wsmanagesections_get_sections', {'courseid': course_id})\n",
    "\n",
    "\n",
    "    def add_page_to_section(self, course_id, section_number, title, content):\n",
    "        params = {\n",
    "            \"courseid\": course_id, \n",
    "            \"sectionnum\": section_number,\n",
    "            \"urlname\": title,\n",
    "            \"content\": content, \n",
    "            \"visible\": 1\n",
    "        }\n",
    "        return self.call_moodle_api('local_course_add_new_course_module_page', params)\n",
    "\n",
    "    def update_page_content(self, page_id, content):\n",
    "        params = {\n",
    "            \"cmid\": page_id,\n",
    "            \"content\": content, \n",
    "        }\n",
    "        return self.call_moodle_api('local_course_update_course_module_page', params)\n",
    "\n",
    "\n",
    "# Example usage\n",
    "MOODLE_URL = \"http://localhost:8081/\"\n",
    "TOKEN = \"3e532616b29a4a6e322f7c05ee407c79\"\n",
    "\n",
    "creator = MoodleCourseCreator(MOODLE_URL, TOKEN)\n",
    "course_num = 7"
   ]
  },
  {
   "cell_type": "code",
   "execution_count": 168,
   "metadata": {},
   "outputs": [
    {
     "name": "stdout",
     "output_type": "stream",
     "text": [
      "API Call URL: http://localhost:8081/webservice/rest/server.php\n",
      "Raw response: [{\"id\":23,\"shortname\":\"mycourse-8\"}]\n"
     ]
    }
   ],
   "source": [
    "course_num = course_num+1\n",
    "course_id = creator.create_course(\n",
    "    full_name=f\"mycourse-{course_num}\",\n",
    "    short_name=f\"mycourse-{course_num}\",\n",
    "    category_id=1,\n",
    "    num_sections=0\n",
    ")\n"
   ]
  },
  {
   "cell_type": "code",
   "execution_count": 173,
   "metadata": {},
   "outputs": [
    {
     "name": "stdout",
     "output_type": "stream",
     "text": [
      "API Call URL: http://localhost:8081/webservice/rest/server.php\n",
      "Raw response: {\"message\":\"Successful\"}\n"
     ]
    },
    {
     "data": {
      "text/plain": [
       "{'message': 'Successful'}"
      ]
     },
     "execution_count": 173,
     "metadata": {},
     "output_type": "execute_result"
    }
   ],
   "source": [
    "section_pos = 0\n",
    "section = creator.add_section_to_course(course_id, \"dddd section\", section_pos)\n",
    "section"
   ]
  },
  {
   "cell_type": "code",
   "execution_count": 175,
   "metadata": {},
   "outputs": [
    {
     "name": "stdout",
     "output_type": "stream",
     "text": [
      "API Call URL: http://localhost:8081/webservice/rest/server.php\n",
      "Raw response: {\"message\":\"Successful\",\"id\":\"52\"}\n"
     ]
    },
    {
     "data": {
      "text/plain": [
       "{'message': 'Successful', 'id': '52'}"
      ]
     },
     "execution_count": 175,
     "metadata": {},
     "output_type": "execute_result"
    }
   ],
   "source": [
    "page = creator.add_page_to_section(course_id , 1, \"ma page de cours\", \"<h1>titre du chapitre....</h1>\")\n",
    "page"
   ]
  },
  {
   "cell_type": "code",
   "execution_count": 177,
   "metadata": {},
   "outputs": [
    {
     "name": "stdout",
     "output_type": "stream",
     "text": [
      "API Call URL: http://localhost:8081/webservice/rest/server.php\n",
      "Raw response: {\"message\":\"Successful\",\"id\":\"52\"}\n"
     ]
    }
   ],
   "source": [
    "updatedPage = creator.update_page_content(page.get('id'), \"<h1>chapter title</h1>\")"
   ]
  },
  {
   "cell_type": "code",
   "execution_count": 178,
   "metadata": {},
   "outputs": [
    {
     "name": "stdout",
     "output_type": "stream",
     "text": [
      "API Call URL: http://localhost:8081/webservice/rest/server.php\n",
      "Raw response: [{\"sectionnum\":0,\"id\":57,\"name\":\"General\",\"summary\":\"\",\"summaryformat\":1,\"visible\":1,\"uservisible\":true,\"availability\":null,\"sequence\":\"50,51\",\"courseformat\":\"topics\",\"sectionformatoptions\":[]},{\"sectionnum\":1,\"id\":58,\"name\":\"bbb section\",\"summary\":\"\",\"summaryformat\":1,\"visible\":1,\"uservisible\":true,\"availability\":null,\"sequence\":\"52\",\"courseformat\":\"topics\",\"sectionformatoptions\":[]},{\"sectionnum\":2,\"id\":59,\"name\":\"aaa section\",\"summary\":\"\",\"summaryformat\":1,\"visible\":1,\"uservisible\":true,\"availability\":null,\"sequence\":\"\",\"courseformat\":\"topics\",\"sectionformatoptions\":[]},{\"sectionnum\":3,\"id\":60,\"name\":\"ccc section\",\"summary\":\"\",\"summaryformat\":1,\"visible\":1,\"uservisible\":true,\"availability\":null,\"sequence\":\"\",\"courseformat\":\"topics\",\"sectionformatoptions\":[]},{\"sectionnum\":4,\"id\":61,\"name\":\"dddd section\",\"summary\":\"\",\"summaryformat\":1,\"visible\":1,\"uservisible\":true,\"availability\":null,\"sequence\":\"\",\"courseformat\":\"topics\",\"sectionformatoptions\":[]}]\n"
     ]
    },
    {
     "data": {
      "text/plain": [
       "[{'sectionnum': 0,\n",
       "  'id': 57,\n",
       "  'name': 'General',\n",
       "  'summary': '',\n",
       "  'summaryformat': 1,\n",
       "  'visible': 1,\n",
       "  'uservisible': True,\n",
       "  'availability': None,\n",
       "  'sequence': '50,51',\n",
       "  'courseformat': 'topics',\n",
       "  'sectionformatoptions': []},\n",
       " {'sectionnum': 1,\n",
       "  'id': 58,\n",
       "  'name': 'bbb section',\n",
       "  'summary': '',\n",
       "  'summaryformat': 1,\n",
       "  'visible': 1,\n",
       "  'uservisible': True,\n",
       "  'availability': None,\n",
       "  'sequence': '52',\n",
       "  'courseformat': 'topics',\n",
       "  'sectionformatoptions': []},\n",
       " {'sectionnum': 2,\n",
       "  'id': 59,\n",
       "  'name': 'aaa section',\n",
       "  'summary': '',\n",
       "  'summaryformat': 1,\n",
       "  'visible': 1,\n",
       "  'uservisible': True,\n",
       "  'availability': None,\n",
       "  'sequence': '',\n",
       "  'courseformat': 'topics',\n",
       "  'sectionformatoptions': []},\n",
       " {'sectionnum': 3,\n",
       "  'id': 60,\n",
       "  'name': 'ccc section',\n",
       "  'summary': '',\n",
       "  'summaryformat': 1,\n",
       "  'visible': 1,\n",
       "  'uservisible': True,\n",
       "  'availability': None,\n",
       "  'sequence': '',\n",
       "  'courseformat': 'topics',\n",
       "  'sectionformatoptions': []},\n",
       " {'sectionnum': 4,\n",
       "  'id': 61,\n",
       "  'name': 'dddd section',\n",
       "  'summary': '',\n",
       "  'summaryformat': 1,\n",
       "  'visible': 1,\n",
       "  'uservisible': True,\n",
       "  'availability': None,\n",
       "  'sequence': '',\n",
       "  'courseformat': 'topics',\n",
       "  'sectionformatoptions': []}]"
      ]
     },
     "execution_count": 178,
     "metadata": {},
     "output_type": "execute_result"
    }
   ],
   "source": [
    "final_sections = creator.get_course_sections(course_id)\n",
    "final_sections"
   ]
  }
 ],
 "metadata": {
  "kernelspec": {
   "display_name": "scienceinfuse",
   "language": "python",
   "name": "python3"
  },
  "language_info": {
   "codemirror_mode": {
    "name": "ipython",
    "version": 3
   },
   "file_extension": ".py",
   "mimetype": "text/x-python",
   "name": "python",
   "nbconvert_exporter": "python",
   "pygments_lexer": "ipython3",
   "version": "3.9.19"
  }
 },
 "nbformat": 4,
 "nbformat_minor": 2
}

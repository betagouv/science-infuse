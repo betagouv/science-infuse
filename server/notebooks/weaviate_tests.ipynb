{
 "cells": [
  {
   "cell_type": "code",
   "execution_count": 7,
   "metadata": {},
   "outputs": [],
   "source": [
    "import sys\n",
    "import os\n",
    "import dotenv\n",
    "dotenv.load_dotenv('../../.env')\n",
    "\n",
    "# Add parent directory to Python path\n",
    "sys.path.append(os.path.abspath(os.path.join(os.getcwd(), '..')))\n",
    "sys.path.append(os.path.abspath(os.path.join(os.getcwd(), '..','app')))\n",
    "\n",
    "from app.SIWeaviateClient import SIWeaviateClient\n"
   ]
  },
  {
   "cell_type": "code",
   "execution_count": 29,
   "metadata": {},
   "outputs": [
    {
     "name": "stdout",
     "output_type": "stream",
     "text": [
      "_Property(name='user_approved', description=None, data_type=<DataType.BOOL: 'boolean'>, index_filterable=True, index_searchable=False, nested_properties=None, tokenization=None, vectorizer_config=_PropertyVectorizerConfig(skip=False, vectorize_property_name=False), vectorizer='text2vec-transformers')\n"
     ]
    }
   ],
   "source": [
    "# from weaviate.classes.config import Property, DataType  \n",
    "\n",
    "# def migrate(client: SIWeaviateClient):\n",
    "#     document = client.collections.get(\"Document\")    \n",
    "#     document.config.add_property(  \n",
    "#         Property(  \n",
    "#             name=\"user_approved\",  \n",
    "#             data_type=DataType.BOOL,\n",
    "#         )  \n",
    "#     )  \n",
    "#     documentChunk = client.collections.get(\"DocumentChunk\")    \n",
    "#     documentChunk.config.add_property(  \n",
    "#         Property(  \n",
    "#             name=\"user_approved\",  \n",
    "#             data_type=DataType.BOOL,\n",
    "#         )  \n",
    "#     )  \n",
    "with SIWeaviateClient() as client:\n",
    "    document = client.collections.get(\"Document\")\n",
    "    print(document.config._get_property_by_name('user_approved'))\n",
    "\n",
    "    # migrate(client)\n",
    "\n"
   ]
  }
 ],
 "metadata": {
  "kernelspec": {
   "display_name": "scienceinfuse",
   "language": "python",
   "name": "scienceinfuse"
  },
  "language_info": {
   "codemirror_mode": {
    "name": "ipython",
    "version": 3
   },
   "file_extension": ".py",
   "mimetype": "text/x-python",
   "name": "python",
   "nbconvert_exporter": "python",
   "pygments_lexer": "ipython3",
   "version": "3.9.19"
  }
 },
 "nbformat": 4,
 "nbformat_minor": 2
}

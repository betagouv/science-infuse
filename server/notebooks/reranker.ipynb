{
 "cells": [
  {
   "cell_type": "code",
   "execution_count": null,
   "metadata": {},
   "outputs": [],
   "source": [
    "from transformers import AutoModelForSequenceClassification\n",
    "\n",
    "model = AutoModelForSequenceClassification.from_pretrained(\n",
    "    'jinaai/jina-reranker-v2-base-multilingual',\n",
    "    torch_dtype=\"auto\",\n",
    "    trust_remote_code=True,\n",
    ")\n",
    "\n",
    "model.to('cuda') # or 'cpu' if no GPU is available\n",
    "model.eval()\n"
   ]
  },
  {
   "cell_type": "code",
   "execution_count": null,
   "metadata": {},
   "outputs": [],
   "source": [
    "# Example query and documents\n",
    "query = \"Comment fonctionnent les poumons ?\"\n",
    "documents = [\n",
    "    \"Le sang emporte le gaz carbonique vers les poumons qui le rejettent.\",\n",
    "    \"La combustion de la poudre ne va pas forcément produire une explosion. La poudre simplement répandue à terre va se comporter comme une mèche, elle brûle progressivement sans exploser.\",\n",
    "    \"Comment fonctionnent les feux d'artifice ? La fabrication et l'utilisation des feux d'artifice relèvent de la pyrotechnie qui regroupe essentiellement les techniques qui consistent à créer des explosions à partir d'une combustion.\",\n",
    "    \"On peut aussi rajouter des petites granules d'aluminium pour obtenir une pluie d'étincelles. Enfin, chaque bombe peut contenir d'autres bombes qui vont s'éparpiller dans le ciel, créant ainsi des explosions secondaires avec différents effets.\",\n",
    "    \"C'est primordial de vérifier parce que nous respirons cette air et cette air entre dans nos poumons et nous risquons une irradiation interne.\",\n",
    "    \"Les poumons sont composés de conduits, les bronches, qui comme les branches d'un arbre se ramifient en voies respiratoires plus petites, les bronchioles.\",\n",
    "    \"Les poumons sont composés de conduits, les bronches qui comme les branches d'un arbre se ramifient en voies respiratoires plus petites, les bronchioles.\",\n",
    "    \"Le gaz occupe plus de place que le matériau initial et la température augmente encore son volume, ce qui suffit à provoquer l'explosion. La combustion qui va déclencher l'explosion est une réaction chimique entre un combustible, comme du bois, et un comburant, très souvent l'oxygène de l'air. Et dans le cas d'une explosion, on ne peut pas trop compter sur l'oxygène de l'air, car sa concentration est insuffisante pour produire une combustion suffisamment violente pour produire une explosion.\",\n",
    "    \"L'air pénètre donc dans les poumons jusqu'au fond des alvéoles. C'est là que se produisent les échanges gazeux entre l'air et le sang. C'est-à-dire que le dioxygène quitte l'air pour passer dans le sang et le dioxyde de carbone s'échappe du sang pour être rejeté dans l'air.\",\n",
    "    \"Sous-titrage ST'501\",\n",
    "    \"Ces explosifs peuvent servir à propulser les engins et à les faire exploser.\",\n",
    "    \"Lorsque la poudre explose, les granules sont projetées dans toutes les directions, mais en gardant leur disposition initiale. Et la chaleur de l'explosion initie la réaction de combustion et donc l'émission de lumière.\",\n",
    "    \"Les explosifs utilisés lors des feux d'artifice sont du même type que la poudre à canon.\",\n",
    "    \"Et pour déclencher la combustion, il suffit d'apporter une relativement faible énergie d'activation sous la forme d'une flambe ou d'un courant électrique.\",\n",
    "    \"Pour obtenir l'effet souhaité, il faut d'abord que la bombe atteigne l'altitude visée. Pour cela, deux façons de procéder. La première consiste à prévoir dans la bombe un étage de propulsion, exactement comme pour une fusée.\",\n",
    "    \"Il est obtenu à l'aide de ce que l'on appelle une bombe de feu d'artifice.\",\n",
    "    \"Ces granules sont disposées autour de la poudre en respectant le dessin que l'on veut obtenir au final.\",\n",
    "    \"La solution consiste alors à utiliser un mélange contenant à la fois le combustible et le comburant. C'est ce qu'on appelle un explosif.\",\n",
    "    \"Par exemple, un composé à base de strontium émet de la lumière rouge, un composé à base de cuivre émet de la lumière bleue.\",\n",
    "    \"Prenons l'exemple de l'effet le plus répandu, qu'on appelle la pivoine, et qui dessine une fleur sphérique.\"\n",
    "]\n",
    "# construct sentence pairs\n",
    "sentence_pairs = [[query, doc] for doc in documents]\n",
    "\n",
    "scores = model.compute_score(sentence_pairs, max_length=1024)\n",
    "\n",
    "\n",
    "sorted_scores = sorted(zip(scores, documents), reverse=True)\n",
    "\n",
    "for score, doc in sorted_scores:\n",
    "    print(doc)\n",
    "    print(score)\n",
    "    print(\"============\")\n"
   ]
  },
  {
   "cell_type": "markdown",
   "metadata": {},
   "source": [
    "## Test SIReranker"
   ]
  },
  {
   "cell_type": "code",
   "execution_count": 1,
   "metadata": {},
   "outputs": [
    {
     "name": "stderr",
     "output_type": "stream",
     "text": [
      "/home/erwan/Desktop/clients/ScienceInfuse/server/notebooks/../app/schemas.py:182: GenericBeforeBaseModelWarning: Classes should inherit from `BaseModel` before generic classes (e.g. `typing.Generic[T]`) for pydantic generics to work properly.\n",
      "  class ChunkWithScore(Generic[ChunkType], BaseDocumentChunk):\n"
     ]
    }
   ],
   "source": [
    "import sys\n",
    "sys.path.insert(0, '../app')\n",
    "sys.path.insert(0, '../')\n",
    "from app.processing.text.SIReranker import SIReranker\n",
    "\n",
    "\n",
    "reranker = SIReranker()"
   ]
  },
  {
   "cell_type": "code",
   "execution_count": 2,
   "metadata": {},
   "outputs": [
    {
     "name": "stdout",
     "output_type": "stream",
     "text": [
      "ALL PROPS ['uuid', 'document_id', 'public_path', 'original_path', 's3_object_name', 'user_approved', 'user_disapproved', 'media_name', 'document', 'text', 'title', 'media_type', 'meta_start', 'meta_end', 'meta_s3_object_name', 'meta_page_number', 'meta_bbox', 'meta_s3_object_name', 'meta_page_number', 'meta_bbox', 'meta_question', 'meta_answer', 'meta_url', 'meta_description', 'meta_title', 'meta_type', 'meta_url']\n",
      "QUERY dinosaures\n"
     ]
    },
    {
     "data": {
      "text/plain": [
       "[ChunkWithScore(uuid='db86e058-bfbc-41d9-8b0f-8dfb0e77a8b0', document=Document(uuid='32782090-acb0-44b6-9604-b6239a561aa2', document_id='70cc4c0c-7d44-4ac7-a241-a0fb8820e380', public_path='', original_path='/home/erwan/Desktop/clients/ScienceInfuse/server/ftp-data/2015 - Dinosaures.pdf', s3_object_name='pdf/70cc4c0c-7d44-4ac7-a241-a0fb8820e380.pdf', user_approved=None, user_disapproved=None, media_name='2015 - Dinosaures'), text='Le terme dinosaure est forgé à partir de deux mots du grec ancien : δεινός (deinόs, terrible) et σαῦρος (saûros, lézard). Ce nom est toutefois quelque peu trompeur car les dinosaures ne sont pas des lézards ; ils représentent un clade distinct de reptiles apparus au cours de la période Trias il y a 230 millions d’années. Rappelons qu’un clade est un groupe d’organismes vivants ou ayant vécu comprenant un organisme particulier et la totalité de ses descendants.', title='II.2 Un mot sur les échelles de temps géologiques>II.3 Généralités sur les dinosaures', media_type=<MediaType.PDF_TEXT: 'pdf_text'>, user_approved=None, user_disapproved=None, metadata=PdfTextMetadata(page_number=8, bbox=BoundingBox(x1=81.0, y1=104.0, x2=525.0, y2=185.0)), score=0.4433594048023224),\n",
       " ChunkWithScore(uuid='3ccf843d-9b76-4998-aa17-e2307929fa14', document=Document(uuid='32782090-acb0-44b6-9604-b6239a561aa2', document_id='70cc4c0c-7d44-4ac7-a241-a0fb8820e380', public_path='', original_path='/home/erwan/Desktop/clients/ScienceInfuse/server/ftp-data/2015 - Dinosaures.pdf', s3_object_name='pdf/70cc4c0c-7d44-4ac7-a241-a0fb8820e380.pdf', user_approved=None, user_disapproved=None, media_name='2015 - Dinosaures'), text='Les reptiles marins (plésiosaures, pliosaures, mosasaures, ichthyosaures…), les reptiles volants regroupés dans l’ordre des ptérosaures (dimorphodons, rhamphorhynchus, ptérodactyles, ptéranodons…), les thérapsides (anciennement reptiles mammaliens comme les dimétrodons, les édaphosaures, les cynognathus…) sont souvent perçus comme des dinosaures par le grand public mais en toute rigueur, ils n’en font pas partie.', title='II.2 Un mot sur les échelles de temps géologiques>II.3 Généralités sur les dinosaures', media_type=<MediaType.PDF_TEXT: 'pdf_text'>, user_approved=None, user_disapproved=None, metadata=PdfTextMetadata(page_number=8, bbox=BoundingBox(x1=81.0, y1=437.0, x2=525.0, y2=505.0)), score=0.43206343054771423),\n",
       " ChunkWithScore(uuid='be3ce531-0151-4313-91d8-ecf1c0350164', document=Document(uuid='bd88caa2-7ee2-4ab3-9723-1114ed8c6bbb', document_id='e4c9bfda-501a-40aa-b98f-ae2f298b0b6f', public_path='https://www.youtube.com/watch?v=Ull-Rz1L-J0', original_path='https://www.youtube.com/watch?v=Ull-Rz1L-J0', s3_object_name='youtube/086dacb5-fb1a-4c23-a4b3-381926121753.mp4', user_approved=None, user_disapproved=None, media_name='Les dinosaures en déclin bien avant la météorite | Interview'), text=\"Ces 10 millions d'années, on a une forte augmentation de l'extinction, si bien qu'on a plus d'extinction d'espèces que de formation de l'espèce. Mais il faut quand même garder à l'esprit qu'on a toujours des espèces qui continuent à se former, mais elles se forment moins vite qu'elles disparaissent. Par exemple, le tyrannosaure, lui, il est apparu pendant cette période qu'on considère être le déclin des 10 millions d'années. Le deuxième résultat, c'est que ce déclin est assez homogène à travers les différentes famille qu'on a étudiée, 6 familles, donc 3 carnivores, 3 herbivores, mis à part une famille qui semble montrer une certaine forme de résilience à ce déclin-là, les hydrosaures. Donc on a vraiment un déclin global qui semble toucher une grande partie des groupes, donc à travers la phylogénie, l'arbre du vivant des dinosaures, on semble vraiment toucher un peu tout le monde. En utilisant une méthode sophistiquée de modélisation statistique, Fabien Condamine a tenté d'identifier parmi une dizaine de facteurs possibles, ceux ayant joué un rôle répondérant dans ce déclin ? Etest-ce la fluctuation des températures, l'évolution du niveau des océans, la fragmentation des continents ou encore la transformation de la flore ? Voici ses réponses. On a pointé du doigt deux variables majeures, à savoir le refroidissement global du Crétacé, qui s'est initié dans le Campagnet, donc autour de 80 millions d'années, et qui s'accentue fortement autour de 75, 72 millions d'années et puis qui continue vers la fin du Crétacé, donc jusqu'à 66 millions d'années. Ce refroidissement global de l'ordre de 7°C à l'échelle globale de la Terre a engendré une augmentation de l'extinction des dinosaures. Ça, ça a beaucoup résonné en nous, biologistes, puisque les dinosaures étant des animaux considérés comme mésothermes, donc à mi-chemin entre les ectothermes, que sont les lézards, les crocodiles et les tortues, et puis les endothermes, que sont nous-mêmes les mammifères et les oiseaux, Les dinosaures se situent à mi-chemin et donc ils dépendent en partie de la température de leur environnement pour réaliser des fonctions de base biologiques comme l'activité du métabolisme ou même leur propre reproduction. Ces chutes de température ont probablement nuit à leur activité quotidienne. La deuxième cause qu'on a trouvée , c'est que l'extinction a aussi augmenté avec le déclin des dinosaures herbivores. Donc ça c'est un résultat assez inattendu, mais d'un point de vue écologique a aussi beaucoup de sens. Les espèces herbivores sont des espèces structurantes des écosystèmes. Pour faire une analogie avec les écosystèmes modernes, si je prends une savane africaine, on a les grands herbivores comme tout simplement les éléphants, les girafes. Toutes ces espèces-là sont une communauté hyper structurante pour tout l'écosystème dont dépendent toute une sorte de carnivore ou d'autres animaux, des parasites ou peu importe. Et donc, la disparition de ces espèces herbivores a probablement fait ce qu'on appelle les extinctions en cascade où il suffit d'enlever quelques herbivores du système pour ensuite avoir toute une série d'extinctions d'espèces qui dépendaient de ces herbivores. Et donc probablement ici, dans le cas des dinosaures herbivores, clairement, les dinosaures carnivores ont probablement été impactés par la disparition de leurs proies, puisqu'il y avait un vrai système d'interaction entre carnivores et archivores, notamment pour ces espèces de dinosaures comme les tyrannosaures et puis d'autres types comme les vélociraptores.\", title='Les dinosaures en déclin bien avant la météorite | Interview', media_type=<MediaType.VIDEO_TRANSCRIPT: 'video_transcript'>, user_approved=None, user_disapproved=None, metadata=VideoTranscriptMetadata(start=54.56, end=262.48), score=0.4125301241874695),\n",
       " ChunkWithScore(uuid='2ab86970-c67f-4861-9c2f-4b363f9c9b3e', document=Document(uuid='32782090-acb0-44b6-9604-b6239a561aa2', document_id='70cc4c0c-7d44-4ac7-a241-a0fb8820e380', public_path='', original_path='/home/erwan/Desktop/clients/ScienceInfuse/server/ftp-data/2015 - Dinosaures.pdf', s3_object_name='pdf/70cc4c0c-7d44-4ac7-a241-a0fb8820e380.pdf', user_approved=None, user_disapproved=None, media_name='2015 - Dinosaures'), text='Définir ce qu’est un dinosaure n’est pas chose aisée. Les scientifiques modernes font appel à la génétique et décrivent les dinosaures comme l’ensemble des descendants d’un ancêtre commun, descendants incluant, pour ratisser au plus large, les espèces Triceratops horridus (une espèce de Tricératops, un dinosaure à collerette osseuse exhibant une corne sur le museau et une paire de grandes cornes au-dessus des yeux) et Passer domesticus (le… moineau domestique). Il existe des variantes de cette définition dite phylogénétique.', title='II.2 Un mot sur les échelles de temps géologiques>II.3 Généralités sur les dinosaures', media_type=<MediaType.PDF_TEXT: 'pdf_text'>, user_approved=None, user_disapproved=None, metadata=PdfTextMetadata(page_number=9, bbox=BoundingBox(x1=81.0, y1=69.0, x2=525.0, y2=152.0)), score=0.4030968248844147),\n",
       " ChunkWithScore(uuid='9f3a6759-c97e-4baa-9270-d6cb14ecd0e9', document=Document(uuid='32782090-acb0-44b6-9604-b6239a561aa2', document_id='70cc4c0c-7d44-4ac7-a241-a0fb8820e380', public_path='', original_path='/home/erwan/Desktop/clients/ScienceInfuse/server/ftp-data/2015 - Dinosaures.pdf', s3_object_name='pdf/70cc4c0c-7d44-4ac7-a241-a0fb8820e380.pdf', user_approved=None, user_disapproved=None, media_name='2015 - Dinosaures'), text='-  les ornithopodes, bipèdes ou bipèdes-quadrupèdes. Ce groupe contient, entre autres, les hadrosaures, des dinosaures « à bec de canard » et les iguanodons, aux pouces en éperon ;\\n-  les marginocéphales, qui incluent des dinosaures à collerette – les cératopsiens comme le tricératops et le styracosaure, à et dôme osseux sur le haut de la tête – comme le pachycéphalosaure ;\\n-  les thyréophores, quadrupèdes, qui comprennent des dinosaures au dos et à la queue cuirassés par des plaques osseuses, des piques ou des éperons. Les ankylosaures et les stégosaures en sont de bons exemples.', title='II.2 Un mot sur les échelles de temps géologiques>II.3 Généralités sur les dinosaures', media_type=<MediaType.PDF_TEXT: 'pdf_text'>, user_approved=None, user_disapproved=None, metadata=PdfTextMetadata(page_number=12, bbox=BoundingBox(x1=84.0, y1=96.0, x2=527.0, y2=221.0)), score=0.37022536993026733),\n",
       " ChunkWithScore(uuid='3222e530-6379-40de-8480-4c96501eeb09', document=Document(uuid='32782090-acb0-44b6-9604-b6239a561aa2', document_id='70cc4c0c-7d44-4ac7-a241-a0fb8820e380', public_path='', original_path='/home/erwan/Desktop/clients/ScienceInfuse/server/ftp-data/2015 - Dinosaures.pdf', s3_object_name='pdf/70cc4c0c-7d44-4ac7-a241-a0fb8820e380.pdf', user_approved=None, user_disapproved=None, media_name='2015 - Dinosaures'), text='-  les théropodes, qui contiennent des dinosaures bipèdes, tous les dinosaures carnivores et piscivores ainsi que les dinosaures à plumes et les oiseaux. Les plus célèbres sont l’allosaure, le tyrannosaure, le spinosaure, le vélociraptor et l’archéoptéryx ;\\n-  les sauropodomorphes, qui incluent des mangeurs de plantes bipèdes et quadrupèdes de grande taille munis d’une petite tête, d’un long cou et d’une longue queue. Parmi eux, on compte le platéosaure, l’apatosaure, le diplodocus, le brachiosaure et le camarasaure.', title='II.2 Un mot sur les échelles de temps géologiques>II.3 Généralités sur les dinosaures', media_type=<MediaType.PDF_TEXT: 'pdf_text'>, user_approved=None, user_disapproved=None, metadata=PdfTextMetadata(page_number=14, bbox=BoundingBox(x1=84.0, y1=96.0, x2=526.0, y2=194.0)), score=0.36931508779525757),\n",
       " ChunkWithScore(uuid='2fe97a24-8099-4d11-bb2c-02d9365fb3d9', document=Document(uuid='32782090-acb0-44b6-9604-b6239a561aa2', document_id='70cc4c0c-7d44-4ac7-a241-a0fb8820e380', public_path='', original_path='/home/erwan/Desktop/clients/ScienceInfuse/server/ftp-data/2015 - Dinosaures.pdf', s3_object_name='pdf/70cc4c0c-7d44-4ac7-a241-a0fb8820e380.pdf', user_approved=None, user_disapproved=None, media_name='2015 - Dinosaures'), text='Les dinosaures ont dominé les terres du début du Jurassique, il y a 200 millions d’années, jusqu’à leur extinction presque totale à la fin du Crétacé, il y a 66 millions d’années, lors de l’événement Crétacé-Paléogène. Les fossiles indiquent que les oiseaux, ayant évolué à partir de certains dinosaures du Jurassique, ont survécu à cet événement et ont donné naissance aux oiseaux modernes.', title='II.2 Un mot sur les échelles de temps géologiques>II.3 Généralités sur les dinosaures', media_type=<MediaType.PDF_TEXT: 'pdf_text'>, user_approved=None, user_disapproved=None, metadata=PdfTextMetadata(page_number=8, bbox=BoundingBox(x1=81.0, y1=201.0, x2=525.0, y2=268.0)), score=0.36116471886634827),\n",
       " ChunkWithScore(uuid='0f082c0b-2e7d-43bf-a799-6e39c0ae63f1', document=Document(uuid='32782090-acb0-44b6-9604-b6239a561aa2', document_id='70cc4c0c-7d44-4ac7-a241-a0fb8820e380', public_path='', original_path='/home/erwan/Desktop/clients/ScienceInfuse/server/ftp-data/2015 - Dinosaures.pdf', s3_object_name='pdf/70cc4c0c-7d44-4ac7-a241-a0fb8820e380.pdf', user_approved=None, user_disapproved=None, media_name='2015 - Dinosaures'), text='On regroupe les dinosaures en deux grands ordres selon la morphologie de leur bassin : les ornithischiens (à bassin d’oiseau) et les saurischiens (à bassin de reptile).', title='II.2 Un mot sur les échelles de temps géologiques>II.3 Généralités sur les dinosaures', media_type=<MediaType.PDF_TEXT: 'pdf_text'>, user_approved=None, user_disapproved=None, metadata=PdfTextMetadata(page_number=11, bbox=BoundingBox(x1=81.0, y1=401.0, x2=525.0, y2=428.0)), score=0.3459886312484741),\n",
       " ChunkWithScore(uuid='47784060-59ad-4ff5-9234-c4283a5a58bc', document=Document(uuid='32782090-acb0-44b6-9604-b6239a561aa2', document_id='70cc4c0c-7d44-4ac7-a241-a0fb8820e380', public_path='', original_path='/home/erwan/Desktop/clients/ScienceInfuse/server/ftp-data/2015 - Dinosaures.pdf', s3_object_name='pdf/70cc4c0c-7d44-4ac7-a241-a0fb8820e380.pdf', user_approved=None, user_disapproved=None, media_name='2015 - Dinosaures'), text='Le matin, la visite guidée de la Galerie d’Anatomie comparée et de Paléontologie du Muséum permet de découvrir quelques dinosaures mais aussi des reptiles volants, et des crocodiliens. Elle aborde les caractères de parenté entre les dinosaures et les oiseaux actuels, et la disparition de certains de ces groupes lors d’une crise majeure, il y a plus de 65 millions d’années.', title='III.1  Au Palais de la découverte>III.1.3 Inter-musées', media_type=<MediaType.PDF_TEXT: 'pdf_text'>, user_approved=None, user_disapproved=None, metadata=PdfTextMetadata(page_number=29, bbox=BoundingBox(x1=81.0, y1=143.0, x2=526.0, y2=211.0)), score=0.332852303981781),\n",
       " ChunkWithScore(uuid='3f4c6d9e-74f7-42aa-9b64-1001a66f209c', document=Document(uuid='32782090-acb0-44b6-9604-b6239a561aa2', document_id='70cc4c0c-7d44-4ac7-a241-a0fb8820e380', public_path='', original_path='/home/erwan/Desktop/clients/ScienceInfuse/server/ftp-data/2015 - Dinosaures.pdf', s3_object_name='pdf/70cc4c0c-7d44-4ac7-a241-a0fb8820e380.pdf', user_approved=None, user_disapproved=None, media_name='2015 - Dinosaures'), text='· Éric Buffetaut, Les Dinosaures, coll. Idées reçues, éd. Le Cavalier Bleu, 2006. · Éric Buffetaut, À quoi servent les Dinosaures, coll. Manifeste, éd. Le Pommier, 2013. · Ronan Allain, Histoire des dinosaures, coll. Champs sciences, éd. Flammarion, 2015. · Caroline Lepage, Les dinosaures sont parmi nous, Éditions du Moment, 2015. · David Norman, La Grande Encyclopédie des Dinosaures, coll. Encyclopédie Gallimard Jeunesse, éd. Gallimard, 2001. · Steve Brusatte et Michael Benton, Dinosaures, coll. Beau livre, éd. SW Télémaque, 2008. Il s’agit de la traduction de l’ouvrage Dinosaurs ci-dessous. · Sébastien Steyer et Alain Bénéteau,  La Terre avant les dinosaures, coll. Bibliothèque scientifique, éd. Belin, 2009. · Sébastien Steyer et Marc Boulay, Demain, les animaux du futur, éd. Belin, 2015. · Gilles Cuny et Alain Bénéteau,  Requins. De la préhistoire à nos jours, éd. Belin, 2013.', title='Livres>Ouvrages pour adultes, en français', media_type=<MediaType.PDF_TEXT: 'pdf_text'>, user_approved=None, user_disapproved=None, metadata=PdfTextMetadata(page_number=30, bbox=BoundingBox(x1=81.0, y1=132.0, x2=525.0, y2=296.0)), score=0.3302551507949829),\n",
       " ChunkWithScore(uuid='6a18bbee-43f1-469d-80c9-87de5c223378', document=Document(uuid='32782090-acb0-44b6-9604-b6239a561aa2', document_id='70cc4c0c-7d44-4ac7-a241-a0fb8820e380', public_path='', original_path='/home/erwan/Desktop/clients/ScienceInfuse/server/ftp-data/2015 - Dinosaures.pdf', s3_object_name='pdf/70cc4c0c-7d44-4ac7-a241-a0fb8820e380.pdf', user_approved=None, user_disapproved=None, media_name='2015 - Dinosaures'), text=\"Une illustration de dinosaures est montrée. Il y a une silhouette d'un homme sur le côté gauche de l'image. Il porte un chapeau haut et tient un long bâton. Il y a quatre dinosaures dans l'image qui sont montrés.\", title='', media_type=<MediaType.PDF_IMAGE: 'pdf_image'>, user_approved=None, user_disapproved=None, metadata=PdfImageMetadata(s3_object_name='pdf/70cc4c0c-7d44-4ac7-a241-a0fb8820e380.pdf/images/d017d9ea-5221-4059-a8d2-be15d7c6f9d0.png', page_number=26, bbox=BoundingBox(x1=523.8999633789062, y1=523.8999633789062, x2=523.8999633789062, y2=523.8999633789062)), score=0.32766830921173096),\n",
       " ChunkWithScore(uuid='2512bd3f-819f-4e7f-a514-b1859494e8e4', document=Document(uuid='32782090-acb0-44b6-9604-b6239a561aa2', document_id='70cc4c0c-7d44-4ac7-a241-a0fb8820e380', public_path='', original_path='/home/erwan/Desktop/clients/ScienceInfuse/server/ftp-data/2015 - Dinosaures.pdf', s3_object_name='pdf/70cc4c0c-7d44-4ac7-a241-a0fb8820e380.pdf', user_approved=None, user_disapproved=None, media_name='2015 - Dinosaures'), text='En 1842, au moment où le paléontologue Richard Owen (1804 – 1892) invente le mot dinosaure, la théorie de l’évolution n’était pas encore acceptée. C’est un ensemble de critères anatomiques qui permet alors d’affirmer qu’un animal est ou n’est pas un dinosaure : sa posture est-elle érigée ? Possède-t-il une crête deltapectorale allongée au niveau de l’humérus ? Présente-t-il un acetabulum (cavité osseuse où s’insère et s’articule la tête du fémur) ouvert au niveau du bassin ? Etc.', title='II.2 Un mot sur les échelles de temps géologiques>II.3 Généralités sur les dinosaures', media_type=<MediaType.PDF_TEXT: 'pdf_text'>, user_approved=None, user_disapproved=None, metadata=PdfTextMetadata(page_number=9, bbox=BoundingBox(x1=81.0, y1=166.0, x2=525.0, y2=248.0)), score=0.32766830921173096),\n",
       " ChunkWithScore(uuid='ee822aba-e7a6-410e-a306-219861ae44a0', document=Document(uuid='32782090-acb0-44b6-9604-b6239a561aa2', document_id='70cc4c0c-7d44-4ac7-a241-a0fb8820e380', public_path='', original_path='/home/erwan/Desktop/clients/ScienceInfuse/server/ftp-data/2015 - Dinosaures.pdf', s3_object_name='pdf/70cc4c0c-7d44-4ac7-a241-a0fb8820e380.pdf', user_approved=None, user_disapproved=None, media_name='2015 - Dinosaures'), text='Deux exposés sont proposés dans la salle « Loterie de l’hérédité » (salle X de ce même plan distribué à votre arrivée). Il s’agit de La vie à l’époque des dinosaures et Un dinosaure, comment ça marche ? L’étude des fossiles de dinosaures et la comparaison avec les animaux actuels permettent de dévoiler certains  aspects de leur biologie. Os, cœur, cerveau, reproduction… Ce dernier exposé  sera  l’occasion de passer les dinosaures à la moulinette. Ces exposés sont accessibles à tout public à partir de 7 ans.', title='III.1  Au Palais de la découverte>III.1.2 Ailleurs dans le Palais de la découverte', media_type=<MediaType.PDF_TEXT: 'pdf_text'>, user_approved=None, user_disapproved=None, metadata=PdfTextMetadata(page_number=28, bbox=BoundingBox(x1=81.0, y1=417.0, x2=525.0, y2=500.0)), score=0.29665425419807434),\n",
       " ChunkWithScore(uuid='e9b5fd42-af46-493d-a34b-03647cec6955', document=Document(uuid='32782090-acb0-44b6-9604-b6239a561aa2', document_id='70cc4c0c-7d44-4ac7-a241-a0fb8820e380', public_path='', original_path='/home/erwan/Desktop/clients/ScienceInfuse/server/ftp-data/2015 - Dinosaures.pdf', s3_object_name='pdf/70cc4c0c-7d44-4ac7-a241-a0fb8820e380.pdf', user_approved=None, user_disapproved=None, media_name='2015 - Dinosaures'), text='Il existe bien d’autres critères auxquels doit répondre un fossile pour prétendre au titre de fossile de dinosaure. Tous ne sont ne pas faciles à saisir par un public ne maniant pas les subtilités de l’anatomie comparative. Disons simplement qu’au Mésozoïque, un animal d’origine reptilienne qui se différenciait des autres reptiles par une posture « érigée en contrefort » était bien souvent un dinosaure. Dans le cas des animaux volants, la situation est un peu plus complexe. Certes, nous venons de voir que les ptérosaures n’étaient pas des dinosaures. Sachez cependant qu’il existait des dinosaures bel et bien adaptés au vol battu comme l’archéoptéryx… quoique cette question fasse toujours débat.', title='II.2 Un mot sur les échelles de temps géologiques>II.3 Généralités sur les dinosaures', media_type=<MediaType.PDF_TEXT: 'pdf_text'>, user_approved=None, user_disapproved=None, metadata=PdfTextMetadata(page_number=11, bbox=BoundingBox(x1=81.0, y1=69.0, x2=526.0, y2=180.0)), score=0.2689414322376251),\n",
       " ChunkWithScore(uuid='f9ae6202-bdee-4f4b-9829-a5a12a34cc3a', document=Document(uuid='bd88caa2-7ee2-4ab3-9723-1114ed8c6bbb', document_id='e4c9bfda-501a-40aa-b98f-ae2f298b0b6f', public_path='https://www.youtube.com/watch?v=Ull-Rz1L-J0', original_path='https://www.youtube.com/watch?v=Ull-Rz1L-J0', s3_object_name='youtube/086dacb5-fb1a-4c23-a4b3-381926121753.mp4', user_approved=None, user_disapproved=None, media_name='Les dinosaures en déclin bien avant la météorite | Interview'), text=\"Il y a 66 millions d'années, une météorite de 10 km de diamètre percutait la Terre, provoquant une extinction en masse de nombreux groupes, dont celui des dinosaures.\", title='Les dinosaures en déclin bien avant la météorite | Interview', media_type=<MediaType.VIDEO_TRANSCRIPT: 'video_transcript'>, user_approved=None, user_disapproved=None, metadata=VideoTranscriptMetadata(start=7.299999999999997, end=17.52), score=0.26740819215774536),\n",
       " ChunkWithScore(uuid='9830ad75-1026-4d44-929b-fdb7485301ff', document=Document(uuid='32782090-acb0-44b6-9604-b6239a561aa2', document_id='70cc4c0c-7d44-4ac7-a241-a0fb8820e380', public_path='', original_path='/home/erwan/Desktop/clients/ScienceInfuse/server/ftp-data/2015 - Dinosaures.pdf', s3_object_name='pdf/70cc4c0c-7d44-4ac7-a241-a0fb8820e380.pdf', user_approved=None, user_disapproved=None, media_name='2015 - Dinosaures'), text='Posture semi-érigée chez les crocodiliens, érigée en contrefort chez les dinosaures et les mammifères et érigée en pilier chez les rauisuchiens (ordre fossile de reptiles proches des crocodiles actuels, qui proliféra au Trias).', title='II.2 Un mot sur les échelles de temps géologiques>II.3 Généralités sur les dinosaures', media_type=<MediaType.PDF_TEXT: 'pdf_text'>, user_approved=None, user_disapproved=None, metadata=PdfTextMetadata(page_number=10, bbox=BoundingBox(x1=82.0, y1=662.0, x2=526.0, y2=688.0)), score=0.2613309323787689),\n",
       " ChunkWithScore(uuid='8e2c753c-e3a5-477b-84ae-e3590f6117b6', document=Document(uuid='32782090-acb0-44b6-9604-b6239a561aa2', document_id='70cc4c0c-7d44-4ac7-a241-a0fb8820e380', public_path='', original_path='/home/erwan/Desktop/clients/ScienceInfuse/server/ftp-data/2015 - Dinosaures.pdf', s3_object_name='pdf/70cc4c0c-7d44-4ac7-a241-a0fb8820e380.pdf', user_approved=None, user_disapproved=None, media_name='2015 - Dinosaures'), text='Le gigantisme était certes bien représenté chez les dinosaures, mais il n’était pas la règle, loin de là ! Les petits dinosaures devaient nettement surpasser en nombre les plus gros. Ainsi, la réplique du fossile d’un Compsognathus longipes théropodes aux griffes acérées et aux dents tranchantes, surprend le visiteur par sa taille comparable à celle d’une dinde. Dans sa cavité abdominale, on distingue les restes d’un petit lézard du genre Bavarisaurus.', title='II.2 Un mot sur les échelles de temps géologiques>II.5.2 Animaux et végétaux terrestres du Jurassique', media_type=<MediaType.PDF_TEXT: 'pdf_text'>, user_approved=None, user_disapproved=None, metadata=PdfTextMetadata(page_number=22, bbox=BoundingBox(x1=80.0, y1=485.0, x2=526.0, y2=555.0)), score=0.2583259642124176),\n",
       " ChunkWithScore(uuid='90043242-de4f-47f4-b005-349e404917b5', document=Document(uuid='32782090-acb0-44b6-9604-b6239a561aa2', document_id='70cc4c0c-7d44-4ac7-a241-a0fb8820e380', public_path='', original_path='/home/erwan/Desktop/clients/ScienceInfuse/server/ftp-data/2015 - Dinosaures.pdf', s3_object_name='pdf/70cc4c0c-7d44-4ac7-a241-a0fb8820e380.pdf', user_approved=None, user_disapproved=None, media_name='2015 - Dinosaures'), text='La dernière partie de l’exposition s’intéresse à un problème qui nous renvoie à notre propre disparition en tant qu’individus et en tant qu’espèce, à savoir l’extinction des dinosaures non-aviens. Ptérosaures, ammonites, plésiosaures, tyrannosaures, cératopsiens et bien d’autres groupes de plantes et d’invertébrés ont disparu il y a 66 millions d’années. Comment s’est opérée cette extinction ? Fut-elle soudaine à l’échelle géologique ou s’est- elle étalée sur plusieurs centaines de milliers d’années ? Cette dernière partie fait le point sur les différentes causes possibles : chute d’un astéroïde, augmentation de l’activité volcanique en Inde, baisse du niveau des mers, changements climatiques, etc.', title='II.2 Un mot sur les échelles de temps géologiques>II.5.5 Images des temps lointains', media_type=<MediaType.PDF_TEXT: 'pdf_text'>, user_approved=None, user_disapproved=None, metadata=PdfTextMetadata(page_number=27, bbox=BoundingBox(x1=81.0, y1=258.0, x2=526.0, y2=369.0)), score=0.23091977834701538),\n",
       " ChunkWithScore(uuid='e91ea497-5b66-46f6-8d8f-105f9b0fb537', document=Document(uuid='32782090-acb0-44b6-9604-b6239a561aa2', document_id='70cc4c0c-7d44-4ac7-a241-a0fb8820e380', public_path='', original_path='/home/erwan/Desktop/clients/ScienceInfuse/server/ftp-data/2015 - Dinosaures.pdf', s3_object_name='pdf/70cc4c0c-7d44-4ac7-a241-a0fb8820e380.pdf', user_approved=None, user_disapproved=None, media_name='2015 - Dinosaures'), text='L’espèce humaine est devenue l’espère dominante après seulement 200 000 ans d’existence. Quels groupes de végétaux ou d’animaux règneront sur la Terre dans 66 millions d’années ? C’est sur cette question ouverte, terrifiante mais fascinante, que s’achève l’exposition Autour des dinosaures.', title='II.2 Un mot sur les échelles de temps géologiques>II.5.5 Images des temps lointains', media_type=<MediaType.PDF_TEXT: 'pdf_text'>, user_approved=None, user_disapproved=None, metadata=PdfTextMetadata(page_number=27, bbox=BoundingBox(x1=81.0, y1=451.0, x2=526.0, y2=506.0)), score=0.2120688259601593),\n",
       " ChunkWithScore(uuid='5ee6bccd-8515-456e-8d03-9e21d69e9322', document=Document(uuid='32782090-acb0-44b6-9604-b6239a561aa2', document_id='70cc4c0c-7d44-4ac7-a241-a0fb8820e380', public_path='', original_path='/home/erwan/Desktop/clients/ScienceInfuse/server/ftp-data/2015 - Dinosaures.pdf', s3_object_name='pdf/70cc4c0c-7d44-4ac7-a241-a0fb8820e380.pdf', user_approved=None, user_disapproved=None, media_name='2015 - Dinosaures'), text='Le supercontinent Pangée, formé durant la période Carbonifère (-358,9 à -298,4 millions d’années), s’est morcelé à la fin de la période Trias. Au début de Jurassique, nous retrouvons donc ce supercontinent, à peine entamé par des systèmes de rifts, bordé d’océans et recouvert de forêts luxuriantes. C’est dans les eaux libres de ces océans que se dévoilent des ammonites, des mollusques céphalopodes aujourd’hui éteints et dont l’apparition précéda celle des dinosaures de 150 millions d’années. Les ammonites disparurent en même temps qu’eux. L’intérêt des fossiles d’ammonites est très grand en paléontologie car certaines espèces ont évolué rapidement et ont disparu tout aussi soudainement, fournissant de quoi dater précisément les roches qui contiennent leurs fossiles.', title='II.2 Un mot sur les échelles de temps géologiques>II.5.1 Biodiversité sous-marine au Jurassique', media_type=<MediaType.PDF_TEXT: 'pdf_text'>, user_approved=None, user_disapproved=None, metadata=PdfTextMetadata(page_number=16, bbox=BoundingBox(x1=81.0, y1=543.0, x2=525.0, y2=681.0)), score=0.19436779618263245)]"
      ]
     },
     "execution_count": 2,
     "metadata": {},
     "output_type": "execute_result"
    }
   ],
   "source": [
    "\n",
    "import sys\n",
    "import os\n",
    "sys.path.insert(0, '../')\n",
    "sys.path.insert(0, '../app')\n",
    "\n",
    "\n",
    "from pydantic import BaseModel\n",
    "import weaviate\n",
    "from app.search.search_chunks import search_all_chunks\n",
    "\n",
    "query = \"dinosaures\"\n",
    "client = weaviate.connect_to_local()\n",
    "chunks = search_all_chunks(client=client, query=query).chunks\n",
    "client.close()\n",
    "\n",
    "reranker.sort_docment_chunks(document_chunks=chunks, query=query)"
   ]
  }
 ],
 "metadata": {
  "kernelspec": {
   "display_name": "scienceinfuse",
   "language": "python",
   "name": "python3"
  },
  "language_info": {
   "codemirror_mode": {
    "name": "ipython",
    "version": 3
   },
   "file_extension": ".py",
   "mimetype": "text/x-python",
   "name": "python",
   "nbconvert_exporter": "python",
   "pygments_lexer": "ipython3",
   "version": "3.9.19"
  }
 },
 "nbformat": 4,
 "nbformat_minor": 2
}

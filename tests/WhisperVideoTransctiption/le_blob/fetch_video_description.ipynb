{
 "cells": [
  {
   "cell_type": "code",
   "execution_count": null,
   "metadata": {},
   "outputs": [],
   "source": [
    "from pydantic import BaseModel\n",
    "import json\n",
    "import datetime\n",
    "from typing import Optional\n",
    "\n",
    "class Video(BaseModel):\n",
    "    url: str\n",
    "    title: str\n",
    "    duration: int\n",
    "    date: str\n",
    "    description: Optional[str] = None\n",
    "\n",
    "whisper_model_speedup = 43 # 43x faster than real time\n",
    "\n",
    "with open('./videos_without_description.json') as f:\n",
    "    data = [Video(**item) for item in json.load(f)]\n",
    "    total_videos_duration_seconds = sum(video.duration for video in data)\n",
    "    whisper_time = total_videos_duration_seconds/whisper_model_speedup\n",
    "    total_videos_duration_formatted = str(datetime.timedelta(seconds=int(total_videos_duration_seconds)))\n",
    "    whisper_time_formatted = str(datetime.timedelta(seconds=int(whisper_time)))\n",
    "    print(f\"total video time : {total_videos_duration_formatted}\\nwhisper estimated time : {whisper_time_formatted}\" )\n"
   ]
  },
  {
   "cell_type": "code",
   "execution_count": null,
   "metadata": {},
   "outputs": [],
   "source": [
    "import requests\n",
    "from bs4 import BeautifulSoup\n",
    "import re\n",
    "import html\n",
    "import codecs\n",
    "\n",
    "def get_youtube_video_description(video_url):\n",
    "    response = requests.get(video_url)\n",
    "    if response.status_code == 200:\n",
    "        soup = BeautifulSoup(response.text, 'html.parser')\n",
    "        scripts = soup.find_all('script')\n",
    "        \n",
    "        for script in scripts:\n",
    "            if 'var ytInitialPlayerResponse' in script.text:\n",
    "                script_text = script.string\n",
    "                match = re.search(r'\"shortDescription\":\"(.*?)\",\"isCrawlable\"', script_text, re.DOTALL)\n",
    "                if match:\n",
    "                    description = match.group(1)\n",
    "                    description = codecs.decode(description, 'unicode_escape').encode('latin1').decode('utf-8')\n",
    "                    return description\n",
    "    return \"-no description-\"\n",
    "\n",
    "with open(\"le_blob_videos.json\", 'a', encoding='utf-8') as file:\n",
    "    file.write('[\\n')\n",
    "    index=0\n",
    "    count = len(data)\n",
    "    for video in data:\n",
    "        description = get_youtube_video_description(video.url)\n",
    "        video.description = description\n",
    "        updated_video = video.model_dump()\n",
    "        file.write(json.dumps(updated_video) + ',\\n')\n",
    "        print(f\"{index}/{count} | {video.url} : {description[:35]}...{description[-35:]}\")\n",
    "        index+=1\n",
    "    file.write('\\n]')\n"
   ]
  }
 ],
 "metadata": {
  "kernelspec": {
   "display_name": "scienceinfuse",
   "language": "python",
   "name": "python3"
  },
  "language_info": {
   "codemirror_mode": {
    "name": "ipython",
    "version": 3
   },
   "file_extension": ".py",
   "mimetype": "text/x-python",
   "name": "python",
   "nbconvert_exporter": "python",
   "pygments_lexer": "ipython3",
   "version": "3.9.19"
  }
 },
 "nbformat": 4,
 "nbformat_minor": 2
}

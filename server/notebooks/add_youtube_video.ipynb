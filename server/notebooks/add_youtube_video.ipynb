{
 "cells": [
  {
   "cell_type": "code",
   "execution_count": 1,
   "metadata": {},
   "outputs": [
    {
     "name": "stderr",
     "output_type": "stream",
     "text": [
      "/home/erwan/anaconda3/envs/scienceinfuse/lib/python3.9/site-packages/huggingface_hub/file_download.py:1132: FutureWarning: `resume_download` is deprecated and will be removed in version 1.0.0. Downloads always resume when possible. If you want to force a new download, use `force_download=True`.\n",
      "  warnings.warn(\n",
      "[nltk_data] Downloading package omw-1.4 to /home/erwan/nltk_data...\n",
      "[nltk_data]   Package omw-1.4 is already up-to-date!\n",
      "[nltk_data] Downloading package omw-1.4 to /home/erwan/nltk_data...\n",
      "[nltk_data]   Package omw-1.4 is already up-to-date!\n"
     ]
    }
   ],
   "source": [
    "import sys\n",
    "import dotenv\n",
    "dotenv.load_dotenv('../../.env')\n",
    "\n",
    "sys.path.insert(0, '../')\n",
    "sys.path.insert(0, '../app')\n",
    "\n",
    "from app.processing.audio.SIWhisperModel import SIWhisperModel\n",
    "from app.processing.VideoProcessor import VideoProcessor\n",
    "\n",
    "whisper = SIWhisperModel('medium', 'whisper-medium')\n",
    "\n"
   ]
  },
  {
   "cell_type": "markdown",
   "metadata": {},
   "source": [
    "## process youtube"
   ]
  },
  {
   "cell_type": "code",
   "execution_count": null,
   "metadata": {},
   "outputs": [],
   "source": [
    "from app.S3Storage import S3Storage\n",
    "\n",
    "\n",
    "s3 = S3Storage()\n",
    "VideoProcessor(s3=s3, whisper=whisper, youtube_url=\"https://www.youtube.com/watch?v=abQFa-Nu5V4\")"
   ]
  },
  {
   "cell_type": "markdown",
   "metadata": {},
   "source": [
    "## process s3 object"
   ]
  },
  {
   "cell_type": "code",
   "execution_count": 2,
   "metadata": {},
   "outputs": [
    {
     "name": "stdout",
     "output_type": "stream",
     "text": [
      "File youtube/5df9290c-4ba5-4643-a3c2-17ab040b35d3.mp4 successfully downloaded to /home/erwan/Desktop/clients/ScienceInfuse/server/notebooks/documents/temp_videos/8919cbfe-9943-4f97-9702-4b96335af80b.mp4\n",
      "AUDIO CODEC aac\n"
     ]
    },
    {
     "name": "stderr",
     "output_type": "stream",
     "text": [
      "whisper-medium: 100%|██████████| 172.617/172.617 [00:09<00:00, 17.48s/s]           \n"
     ]
    },
    {
     "name": "stdout",
     "output_type": "stream",
     "text": [
      "time_taken 10.226472616195679\n",
      "segment.word_segments <class 'app.processing.audio.SIWhisperModel.TranscriptSegment'> text=' ...' start=5.620000000000003 end=6.1 duration=0.4799999999999969\n",
      "get_video_duration -> Video path: /home/erwan/Desktop/clients/ScienceInfuse/server/notebooks/documents/temp_videos/8919cbfe-9943-4f97-9702-4b96335af80b.mp4\n"
     ]
    }
   ],
   "source": [
    "from app.S3Storage import S3Storage\n",
    "\n",
    "\n",
    "s3 = S3Storage()\n",
    "video = VideoProcessor(s3=s3, whisper=whisper, s3_object_name=\"youtube/5df9290c-4ba5-4643-a3c2-17ab040b35d3.mp4\")\n",
    "document, chunks = video.extract_document()"
   ]
  },
  {
   "cell_type": "code",
   "execution_count": 7,
   "metadata": {},
   "outputs": [
    {
     "ename": "AttributeError",
     "evalue": "'list' object has no attribute 'dict'",
     "output_type": "error",
     "traceback": [
      "\u001b[0;31m---------------------------------------------------------------------------\u001b[0m",
      "\u001b[0;31mAttributeError\u001b[0m                            Traceback (most recent call last)",
      "Cell \u001b[0;32mIn[7], line 1\u001b[0m\n\u001b[0;32m----> 1\u001b[0m \u001b[43mchunks\u001b[49m\u001b[43m[\u001b[49m\u001b[38;5;241;43m0\u001b[39;49m\u001b[43m]\u001b[49m\u001b[38;5;241;43m.\u001b[39;49m\u001b[43mmetadata\u001b[49m\u001b[38;5;241;43m.\u001b[39;49m\u001b[43mword_segments\u001b[49m\u001b[38;5;241;43m.\u001b[39;49m\u001b[43mdict\u001b[49m\n",
      "\u001b[0;31mAttributeError\u001b[0m: 'list' object has no attribute 'dict'"
     ]
    }
   ],
   "source": [
    "chunks[0].metadata.word_segments"
   ]
  },
  {
   "cell_type": "markdown",
   "metadata": {},
   "source": [
    "# tests"
   ]
  },
  {
   "cell_type": "code",
   "execution_count": null,
   "metadata": {},
   "outputs": [],
   "source": [
    "from pytubefix import YouTube\n",
    "url =     \"https://www.youtube.com/watch?v=Ull-Rz1L-J0\"\n",
    "yt = YouTube(url)\n",
    "video_name = yt.vid_info.get(\"videoDetails\", {}).get(\"title\", \"Untitled Video\")\n",
    "# yt.streams.filter(progressive=True, file_extension='mp4').order_by('resolution').desc().first()#.download(output_path=output_path, filename=filename)\n"
   ]
  },
  {
   "cell_type": "code",
   "execution_count": null,
   "metadata": {},
   "outputs": [],
   "source": [
    "yt.streams"
   ]
  },
  {
   "cell_type": "code",
   "execution_count": null,
   "metadata": {},
   "outputs": [],
   "source": [
    "from googleapiclient.discovery import build\n",
    "\n",
    "# Set up YouTube API client\n",
    "api_key = ''\n",
    "youtube = build('youtube', 'v3', developerKey=api_key)\n",
    "\n",
    "def get_channel_videos(channel_id):\n",
    "    playlist_id = f\"{channel_id[0]}U{channel_id[2:]}\"\n",
    "    videos = []\n",
    "    next_page_token = None\n",
    "    \n",
    "    while True:\n",
    "        res = youtube.playlistItems().list(\n",
    "            part='snippet',\n",
    "            playlistId=playlist_id,\n",
    "            maxResults=50,\n",
    "            pageToken=next_page_token\n",
    "        ).execute()\n",
    "        \n",
    "        for item in res[\"items\"]:\n",
    "            videos.append({\n",
    "                \"title\": item[\"snippet\"][\"title\"],\n",
    "                \"video_id\": item[\"snippet\"][\"resourceId\"][\"videoId\"],\n",
    "                \"publish_time\": item[\"snippet\"][\"publishedAt\"]\n",
    "            })\n",
    "        \n",
    "        next_page_token = res.get('nextPageToken')\n",
    "        \n",
    "        if next_page_token is None:\n",
    "            break\n",
    "            \n",
    "    return videos\n",
    "\n",
    "videos = get_channel_videos(\"UC1udnO-W6gpR9qzleJ5SDKw\")\n",
    "print(len(videos))"
   ]
  },
  {
   "cell_type": "code",
   "execution_count": null,
   "metadata": {},
   "outputs": [],
   "source": [
    "from pytubefix import YouTube\n",
    "YOUTUBE_PROXY = \"socks5://aryakali.freeboxos.fr:33128\"\n",
    "# YOUTUBE_PROXY = \"socks5://vm-dev-tools.citepro.cite-sciences.fr:8080/\"\n",
    "proxies = {\n",
    "    \"http\": YOUTUBE_PROXY,\n",
    "    \"https\": YOUTUBE_PROXY\n",
    "}\n",
    "yt = YouTube(\"https://www.youtube.com/watch?v=YWcoQ8M3cnk\",proxies=proxies)"
   ]
  },
  {
   "cell_type": "code",
   "execution_count": null,
   "metadata": {},
   "outputs": [],
   "source": [
    "video_name = yt.vid_info.get(\"videoDetails\", {}).get(\"title\", \"Untitled Video\")\n",
    "video_name"
   ]
  },
  {
   "cell_type": "code",
   "execution_count": null,
   "metadata": {},
   "outputs": [],
   "source": [
    "yt.streams.filter(progressive=True, file_extension='mp4').order_by('resolution').desc().first().download(output_path='./', filename='blobremove.mp4')\n"
   ]
  }
 ],
 "metadata": {
  "kernelspec": {
   "display_name": "scienceinfuse",
   "language": "python",
   "name": "scienceinfuse"
  },
  "language_info": {
   "codemirror_mode": {
    "name": "ipython",
    "version": 3
   },
   "file_extension": ".py",
   "mimetype": "text/x-python",
   "name": "python",
   "nbconvert_exporter": "python",
   "pygments_lexer": "ipython3",
   "version": "3.9.19"
  }
 },
 "nbformat": 4,
 "nbformat_minor": 2
}

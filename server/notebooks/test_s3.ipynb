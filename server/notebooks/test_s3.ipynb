{
 "cells": [
  {
   "cell_type": "code",
   "execution_count": 2,
   "metadata": {},
   "outputs": [],
   "source": [
    "import boto3\n",
    "from botocore.client import Config\n",
    "import os\n",
    "\n",
    "class S3Storage:\n",
    "    def __init__(self):\n",
    "        self.S3_ACCESS_KEY = os.environ.get(\"S3_ACCESS_KEY\", \"\")\n",
    "        self.S3_SECRET_KEY = os.environ.get(\"S3_SECRET_KEY\", \"\")\n",
    "        self.S3_ENDPOINT = os.environ.get(\"S3_ENDPOINT\", \"\")\n",
    "        self.S3_REGION = os.environ.get(\"S3_REGION\", \"\")\n",
    "        self.bucket_name = os.environ.get(\"S3_BUCKET\", \"\")\n",
    "        self.bucket_name = \"science-infuse-content\"\n",
    "        \n",
    "        self.s3_client = boto3.client(\n",
    "            \"s3\",\n",
    "            aws_access_key_id=self.S3_ACCESS_KEY,\n",
    "            aws_secret_access_key=self.S3_SECRET_KEY,\n",
    "            endpoint_url=self.S3_ENDPOINT,\n",
    "            region_name=self.S3_REGION\n",
    "        )\n",
    "\n",
    "    def list_buckets(self):\n",
    "        response = self.s3_client.list_buckets()\n",
    "        print(\"Buckets existants :\")\n",
    "        for bucket in response['Buckets']:\n",
    "            print(f'  {bucket[\"Name\"]}')\n",
    "\n",
    "    def list_objects(self):\n",
    "        response = self.s3_client.list_objects_v2(Bucket=self.bucket_name)\n",
    "        # print(f\"Objets dans le bucket {self.bucket_name} :\")\n",
    "        return [obj['Key'] for obj in response.get('Contents', [])]\n",
    "        # for obj in response.get('Contents', []):\n",
    "        #     print(f'  {obj[\"Key\"]}')\n",
    "\n",
    "    def upload_file(self, file_path, object_name):\n",
    "        try:\n",
    "            self.s3_client.upload_file(file_path, self.bucket_name, object_name, ExtraArgs={'ACL': 'public-read'})\n",
    "            print(f\"File {file_path} uploaded successfully to bucket {self.bucket_name} as {object_name}.\")\n",
    "            \n",
    "            # Generate the public URL\n",
    "            public_url = f\"{self.S3_ENDPOINT}/{self.bucket_name}/{object_name}\"\n",
    "            print(f\"Public URL: {public_url}\")\n",
    "            return public_url\n",
    "        except Exception as e:\n",
    "            print(f\"Error during file upload: {e}\")\n",
    "            return None\n",
    "\n",
    "    def get_presigned_url(self, object_name, expiration=3600):\n",
    "        return self.s3_client.generate_presigned_url(\n",
    "            ClientMethod='get_object',\n",
    "            Params={'Bucket': self.bucket_name, 'Key': object_name},\n",
    "            ExpiresIn=expiration  # URL expiration time in seconds\n",
    "        )\n",
    "    \n",
    "    def remove_file(self, object_name):\n",
    "        try:\n",
    "            self.s3_client.delete_object(Bucket=self.bucket_name, Key=object_name)\n",
    "            print(f\"File {object_name} successfully removed from bucket {self.bucket_name}.\")\n",
    "            return True\n",
    "        except Exception as e:\n",
    "            print(f\"Error during file removal: {e}\")\n",
    "            return False\n"
   ]
  },
  {
   "cell_type": "code",
   "execution_count": 35,
   "metadata": {},
   "outputs": [
    {
     "name": "stdout",
     "output_type": "stream",
     "text": [
      "True\n",
      "science-infuse-content-dev\n",
      "1000\n"
     ]
    }
   ],
   "source": [
    "import sys\n",
    "import dotenv\n",
    "\n",
    "print(dotenv.load_dotenv('../../.env'))\n",
    "\n",
    "import os\n",
    "print(os.environ.get(\"S3_BUCKET\"))\n",
    "s3 = S3Storage()\n",
    "\n",
    "# s3.list_buckets()\n",
    "# s3.get_presigned_url(\"pdf/40776654-f565-44c5-b0b3-a5b1f1d74636.pdf\", expiration=1000)\n",
    "\n",
    "# for key in s3.list_objects():\n",
    "#     print(key)\n",
    "print(len([obj for obj in s3.list_objects() if \"youtube\" in obj]))\n",
    "# file_path = './documents/youtube/40696c1b-6561-49ca-bb49-d20990d87040.mp4'\n",
    "# object_name = '/documents/youtube/40696c1b-6561-49ca-bb49-d20990d87040.mp4'\n",
    "# public_url = s3.upload_file(file_path, object_name)\n",
    "\n",
    "# if public_url:\n",
    "#     presigned_url = s3.get_presigned_url(object_name)\n",
    "#     print(f\"Presigned URL: {presigned_url}\")\n"
   ]
  },
  {
   "cell_type": "code",
   "execution_count": 3,
   "metadata": {},
   "outputs": [
    {
     "name": "stdout",
     "output_type": "stream",
     "text": [
      "True\n"
     ]
    },
    {
     "data": {
      "text/plain": [
       "{'ResponseMetadata': {'RequestId': 'tx1c19403194df49d5a515b-00669e2f2e',\n",
       "  'HostId': 'tx1c19403194df49d5a515b-00669e2f2e',\n",
       "  'HTTPStatusCode': 200,\n",
       "  'HTTPHeaders': {'content-type': 'text/html; charset=UTF-8',\n",
       "   'x-amz-id-2': 'tx1c19403194df49d5a515b-00669e2f2e',\n",
       "   'x-amz-request-id': 'tx1c19403194df49d5a515b-00669e2f2e',\n",
       "   'content-length': '0',\n",
       "   'date': 'Mon, 22 Jul 2024 10:06:38 GMT'},\n",
       "  'RetryAttempts': 0}}"
      ]
     },
     "execution_count": 3,
     "metadata": {},
     "output_type": "execute_result"
    }
   ],
   "source": [
    "# import boto3\n",
    "# import json\n",
    "\n",
    "# import sys\n",
    "# import dotenv\n",
    "\n",
    "# print(dotenv.load_dotenv('../../.env'))\n",
    "\n",
    "# s3 = S3Storage()\n",
    "\n",
    "\n",
    "# bucket_name = \"science-infuse-content\"\n",
    "# cors_configuration = {\n",
    "#     'CORSRules': [{\n",
    "#         'AllowedHeaders': ['*'],\n",
    "#         'AllowedMethods': ['GET', 'HEAD'],\n",
    "#         'AllowedOrigins': ['http://51.38.223.168', 'https://51.38.223.168'],\n",
    "#         'MaxAgeSeconds': 3000\n",
    "#     }]\n",
    "# }\n",
    "\n",
    "# s3.s3_client.put_bucket_cors(Bucket=s3.bucket_name,\n",
    "#                    CORSConfiguration=cors_configuration)"
   ]
  },
  {
   "cell_type": "code",
   "execution_count": null,
   "metadata": {},
   "outputs": [],
   "source": []
  }
 ],
 "metadata": {
  "kernelspec": {
   "display_name": "scienceinfuse",
   "language": "python",
   "name": "python3"
  },
  "language_info": {
   "codemirror_mode": {
    "name": "ipython",
    "version": 3
   },
   "file_extension": ".py",
   "mimetype": "text/x-python",
   "name": "python",
   "nbconvert_exporter": "python",
   "pygments_lexer": "ipython3",
   "version": "3.9.19"
  }
 },
 "nbformat": 4,
 "nbformat_minor": 2
}

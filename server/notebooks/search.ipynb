{
 "cells": [
  {
   "cell_type": "markdown",
   "metadata": {},
   "source": [
    "# Multi Document Search"
   ]
  },
  {
   "cell_type": "code",
   "execution_count": 1,
   "metadata": {},
   "outputs": [
    {
     "name": "stdout",
     "output_type": "stream",
     "text": [
      "Ile de Paques : la théorie de l’effondrement précolonial à nouveau démentie | Actu de science\n",
      "    -->  1.0 | Une croyance encore bien ancrée dans les esprits laisse penser que jadis, les habitants de l'île de Pâques, de son nom autochtone Rapanoui, auraient surexploité leur environnement naturel, provoquant ainsi eux-mêmes leur disparition. Mais cette hypothèse a été maintes fois démentie et une nouvelle étude enfonce le clou.\n",
      "    -->  0.7116864323616028 | En effet, l'île n'a jamais accueilli assez d'humains pour que cela ait entraîné leur Lorsque Rapa Nui est accosté par les colons européens, en 1722, il découvre d'imposantes statues de pierres érigées par milliers. Pourtant, il n'y a que 3 000 habitants sur place. Une question se pose alors, comment un si petit nombre d'individus a-t-il pu édifier de si nombreuses et si monumentales constructions ? Selon une idée popularisée par le géographe américain Jared Diamond il y a une vingtaine d'années, Rapa Nui était habité par de nombreux autochtones à même de dresser ces gigantesques statues. Mais en pliant les ressources naturelles dès avant l'arrivée des colons, ils auraient causé leur propre effondrement démographique. Or, les données scientifiques actuelles racontent une toute autre histoire. Une étude publiée en 2013 estimait que 4 à 21 km² de Rapa Nui étaient couverts de jardins de pierre utilisés pour cultiver des aliments comme des patates douces. L'île serait alors capable de nourrir jusqu'à 16 000 habitants. Mais ce chiffre est mis à mal par la dernière étude en date, publié le 21 juin dans Science Advances. En alliant imagerie satellite infrarouge à onde courte et intelligence artificielle, elle a pu identifier minutieusement les jardins de pierre en les distinguant des autres paysages rocheux de l'île, chose que l'étude de 2013 ne faisait pas de manière précise. Conclusion, les estimations de la quantité de jardins de pierre, ici en bleu, varient considérablement. À gauche, les estimations de l'étude de 2013, et à droite, celles de la récente étude. D'après cette dernière, les jardins de pierre ne couvraient en fait que 0,76 km² de l'île. Or, qui dit moins de jardins de pierre, dit moins d'aliments terrestres et donc moins d'habitants. L'île n'aurait en fait été capable d'accueillir que près de 4 000 habitants et non pas des dizaines de milliers. Pour l'archéologue Karl Lipo, qui a mené ses travaux, le récit d'un effondrement pré-européen n'a tout simplement aucun fondement. ni dans les archives archéologiques, ni dans la nature géologique du paysage, ni dans les ressources disponibles, ni dans les récits historiques. Si effondrement démographique il y a eu, c'est bien avec l'arrivée des colons européens qu'il s'est produit. Ce qu'on peut retenir de l'histoire des Rapanouis, en revanche, c'est l'ingéniosité avec laquelle ils ont exploité les maigres ressources disponibles sur leur île.\n",
      "Un 3e pouce pour tester la plasticité cérebrale | Actu de science\n",
      "    -->  0.07216962426900864 | Que pourrait-on faire si l'on disposait d'un doigt supplémentaire ? Quels changements cela impliquerait-il dans le cerveau ? Et tout le monde serait-il capable de se l'approprier ? C'est à ces questions que Dani Claude, designer et membre du laboratoire plasticité cérébrale à l'université de Cambridge, tente de répondre avec un dispositif qu'elle a créé est appelé le troisième pouce. Ça c'est mon troisième pouce, un pouce flexible avec deux moteurs dont un sur le poignet. Mon pied gauche déclenche ce mouvement vers le haut et vers le bas et c'est proportionnel donc je peux aller vite ou lentement. Et avec mon orteil droit, je peux ramener le doigt. Fabriqué par une imprimante 3D, ce troisième pouce est donc un dispositif sans fil contrôlé par deux capteurs situés sous les orteils est relié aux bras par une connexion Bluetooth. Dans une première étude, 36 participants se sont prêtés au jeu avec succès. Certains l'ont même testé les yeux bandés, sans difficulté pour le faire fonctionner. Ils ont ensuite été encouragés à l'utiliser à la maison.\n",
      "    -->  0.011302422732114792 | Les IRM du cerveau des participants, passés avant et après l'expérience, ont montré que l'exercice a entraîné des changements légers mais significatif de la représentation de la main dans le cortex sensorimoteur, alors même que celle-ci reste intacte chez des personnes nées avec six doigts fonctionnels ou ayant perdu l'usage de leurs mains ou leurs membres. Dans une seconde étude conduite à l'été 2023, l'équipe a saisi l'opportunité d'une exposition de cinq jours à la Royal Society à Londres pour donner à expérimenter le dispositif à un public large et varié et tester son appropriation. Sur les quelques 600 participants, âgés de 3 à 96 ans, qui se sont prêtés à l'exercice, 98% ont réussi à utiliser le troisième pouce et à manipuler des objets dès la première minute, avec des performances cependant moindres pour les enfants de moins de 11 ans et les personnes âgées. L'ambition des chercheurs est justement dans une prochaine étape de travailler avec des enfants ainsi qu'avec des personnes présentant des déficiences ou des handicaps moteurs. Quant à l'impact de ce dispositif sur le cerveau, seule une étude sur le long terme pourrait approfondir le sujet.\n"
     ]
    }
   ],
   "source": [
    "import sys\n",
    "\n",
    "sys.path.insert(0, '..')\n",
    "\n",
    "import weaviate.classes as wvc\n",
    "import weaviate\n",
    "from collections import defaultdict\n",
    "from app.schemas import ChunkWithScore, DocumentSearchResult\n",
    "from weaviate.classes.query import Filter, GeoCoordinate, MetadataQuery, QueryReference, GroupBy\n",
    "\n",
    "\n",
    "query = \"l'île de Pâques\"\n",
    "client = weaviate.connect_to_local()\n",
    "# print(\"SEARCH_MULTI_DOCUMENTS 0 \", query)\n",
    "document_chunk = client.collections.get(\"DocumentChunk\")\n",
    "response = document_chunk.query.hybrid(\n",
    "    query=query,\n",
    "    return_metadata=wvc.query.MetadataQuery(score=True),\n",
    "    query_properties=[\"text\"],\n",
    "    return_references=[QueryReference(link_on=\"belongsToDocument\", return_properties=[\"document_id\", \"local_path\", \"original_public_path\", \"media_name\", \"max_score\", \"min_score\"])]\n",
    ")\n",
    "# print(\"SEARCH_MULTI_DOCUMENTS 1 \", response)\n",
    "client.close()\n",
    "\n",
    "# Assume response is the result from the above query\n",
    "grouped_results = defaultdict(list)\n",
    "for chunk in response.objects:\n",
    "    doc_ref = chunk.references['belongsToDocument'].objects[0].properties\n",
    "    grouped_results[doc_ref['document_id']].append(chunk)\n",
    "\n",
    "# Now `grouped_results` contains your data grouped by 'document_id'\n",
    "# for document_id, chunks in grouped_results.items():\n",
    "#     print(f\"Media id: {document_id}, || Chunks: {chunks}\")\n",
    "\n",
    "documentsSearchResponse = []\n",
    "\n",
    "for document_id, group in grouped_results.items():  # View by group\n",
    "    # max_score = min(chunk for chunk in group)#group.max_score\n",
    "    # min_score = min(chunk for chunk in group)#group.min_score\n",
    "    currentDocumentChunksWithDistance = []\n",
    "    for _documentChunk in group:\n",
    "        score = _documentChunk.metadata.score\n",
    "        cuurrentChunkWithScore = ChunkWithScore.model_validate({**_documentChunk.properties, \"score\": score})\n",
    "        currentDocumentChunksWithDistance.append(cuurrentChunkWithScore)\n",
    "    \n",
    "    documentProperties = _documentChunk.references['belongsToDocument'].objects[0].properties\n",
    "    \n",
    "    documentSearchResult = DocumentSearchResult(\n",
    "        document_id=documentProperties['document_id'],\n",
    "        local_path=documentProperties['local_path'],\n",
    "        original_public_path=documentProperties['original_public_path'],\n",
    "        media_name=documentProperties['media_name'],\n",
    "        min_score=min(chunk.score for chunk in currentDocumentChunksWithDistance),\n",
    "        max_score=max(chunk.score for chunk in currentDocumentChunksWithDistance),\n",
    "        chunks=currentDocumentChunksWithDistance\n",
    "    )\n",
    "    documentsSearchResponse.append(documentSearchResult)\n",
    "for doc in documentsSearchResponse:\n",
    "    print(doc.media_name)\n",
    "    for chunk in doc.chunks:\n",
    "        print(f\"    -->  {chunk.score} | {chunk.text}\")\n"
   ]
  },
  {
   "cell_type": "markdown",
   "metadata": {},
   "source": [
    "# Single Document Search"
   ]
  },
  {
   "cell_type": "code",
   "execution_count": 8,
   "metadata": {},
   "outputs": [
    {
     "name": "stdout",
     "output_type": "stream",
     "text": [
      "Ile de Paques : la théorie de l’effondrement précolonial à nouveau démentie | Actu de science\n",
      "    -->  1.0 | Une croyance encore bien ancrée dans les esprits laisse penser que jadis, les habitants de l'île de Pâques, de son nom autochtone Rapanoui, auraient surexploité leur environnement naturel, provoquant ainsi eux-mêmes leur disparition. Mais cette hypothèse a été maintes fois démentie et une nouvelle étude enfonce le clou.\n",
      "    -->  0.0 | En effet, l'île n'a jamais accueilli assez d'humains pour que cela ait entraîné leur Lorsque Rapa Nui est accosté par les colons européens, en 1722, il découvre d'imposantes statues de pierres érigées par milliers. Pourtant, il n'y a que 3 000 habitants sur place. Une question se pose alors, comment un si petit nombre d'individus a-t-il pu édifier de si nombreuses et si monumentales constructions ? Selon une idée popularisée par le géographe américain Jared Diamond il y a une vingtaine d'années, Rapa Nui était habité par de nombreux autochtones à même de dresser ces gigantesques statues. Mais en pliant les ressources naturelles dès avant l'arrivée des colons, ils auraient causé leur propre effondrement démographique. Or, les données scientifiques actuelles racontent une toute autre histoire. Une étude publiée en 2013 estimait que 4 à 21 km² de Rapa Nui étaient couverts de jardins de pierre utilisés pour cultiver des aliments comme des patates douces. L'île serait alors capable de nourrir jusqu'à 16 000 habitants. Mais ce chiffre est mis à mal par la dernière étude en date, publié le 21 juin dans Science Advances. En alliant imagerie satellite infrarouge à onde courte et intelligence artificielle, elle a pu identifier minutieusement les jardins de pierre en les distinguant des autres paysages rocheux de l'île, chose que l'étude de 2013 ne faisait pas de manière précise. Conclusion, les estimations de la quantité de jardins de pierre, ici en bleu, varient considérablement. À gauche, les estimations de l'étude de 2013, et à droite, celles de la récente étude. D'après cette dernière, les jardins de pierre ne couvraient en fait que 0,76 km² de l'île. Or, qui dit moins de jardins de pierre, dit moins d'aliments terrestres et donc moins d'habitants. L'île n'aurait en fait été capable d'accueillir que près de 4 000 habitants et non pas des dizaines de milliers. Pour l'archéologue Karl Lipo, qui a mené ses travaux, le récit d'un effondrement pré-européen n'a tout simplement aucun fondement. ni dans les archives archéologiques, ni dans la nature géologique du paysage, ni dans les ressources disponibles, ni dans les récits historiques. Si effondrement démographique il y a eu, c'est bien avec l'arrivée des colons européens qu'il s'est produit. Ce qu'on peut retenir de l'histoire des Rapanouis, en revanche, c'est l'ingéniosité avec laquelle ils ont exploité les maigres ressources disponibles sur leur île.\n"
     ]
    }
   ],
   "source": [
    "import sys\n",
    "\n",
    "sys.path.insert(0, '..')\n",
    "\n",
    "from weaviate.util import get_valid_uuid\n",
    "import weaviate.classes as wvc\n",
    "import weaviate\n",
    "from collections import defaultdict\n",
    "from app.schemas import ChunkWithScore, DocumentSearchResult\n",
    "from weaviate.classes.query import Filter, GeoCoordinate, MetadataQuery, QueryReference, GroupBy\n",
    "\n",
    "\n",
    "query = \"l'île de Paques\"\n",
    "client = weaviate.connect_to_local()\n",
    "# print(\"SEARCH_MULTI_DOCUMENTS 0 \", query)\n",
    "document_chunk = client.collections.get(\"DocumentChunk\")\n",
    "response = document_chunk.query.hybrid(\n",
    "    query=query,\n",
    "    return_metadata=wvc.query.MetadataQuery(score=True),\n",
    "    query_properties=[\"text\"],\n",
    "    filters=Filter.by_ref(link_on=\"belongsToDocument\").by_property(\"document_id\").equal(get_valid_uuid(uuid=\"9e80a4c3-7139-4f66-b450-e94cbbf06e2b\")),\n",
    "    return_references=[QueryReference(link_on=\"belongsToDocument\", return_properties=[\"document_id\", \"local_path\", \"original_public_path\", \"media_name\", \"max_score\", \"min_score\"])]\n",
    ")\n",
    "# print(\"SEARCH_MULTI_DOCUMENTS 1 \", response)\n",
    "client.close()\n",
    "\n",
    "\n",
    "# Assume response is the result from the above query\n",
    "grouped_results = defaultdict(list)\n",
    "for chunk in response.objects:\n",
    "    doc_ref = chunk.references['belongsToDocument'].objects[0].properties\n",
    "    grouped_results[doc_ref['document_id']].append(chunk)\n",
    "\n",
    "# Now `grouped_results` contains your data grouped by 'document_id'\n",
    "# for document_id, chunks in grouped_results.items():\n",
    "#     print(f\"Media id: {document_id}, || Chunks: {chunks}\")\n",
    "\n",
    "documentsSearchResponse = []\n",
    "\n",
    "for document_id, group in grouped_results.items():  # View by group\n",
    "    # max_score = min(chunk for chunk in group)#group.max_score\n",
    "    # min_score = min(chunk for chunk in group)#group.min_score\n",
    "    currentDocumentChunksWithDistance = []\n",
    "    for _documentChunk in group:\n",
    "        score = _documentChunk.metadata.score\n",
    "        cuurrentChunkWithScore = ChunkWithScore.model_validate({**_documentChunk.properties, \"score\": score})\n",
    "        currentDocumentChunksWithDistance.append(cuurrentChunkWithScore)\n",
    "    \n",
    "    documentProperties = _documentChunk.references['belongsToDocument'].objects[0].properties\n",
    "    \n",
    "    documentSearchResult = DocumentSearchResult(\n",
    "        document_id=documentProperties['document_id'],\n",
    "        local_path=documentProperties['local_path'],\n",
    "        original_public_path=documentProperties['original_public_path'],\n",
    "        media_name=documentProperties['media_name'],\n",
    "        min_score=min(chunk.score for chunk in currentDocumentChunksWithDistance),\n",
    "        max_score=max(chunk.score for chunk in currentDocumentChunksWithDistance),\n",
    "        chunks=currentDocumentChunksWithDistance\n",
    "    )\n",
    "    documentsSearchResponse.append(documentSearchResult)\n",
    "for doc in documentsSearchResponse:\n",
    "    print(doc.media_name)\n",
    "    for chunk in doc.chunks:\n",
    "        print(f\"    -->  {chunk.score} | {chunk.text}\")\n"
   ]
  }
 ],
 "metadata": {
  "kernelspec": {
   "display_name": "Python (scienceinfuse)",
   "language": "python",
   "name": "scienceinfuse"
  },
  "language_info": {
   "codemirror_mode": {
    "name": "ipython",
    "version": 3
   },
   "file_extension": ".py",
   "mimetype": "text/x-python",
   "name": "python",
   "nbconvert_exporter": "python",
   "pygments_lexer": "ipython3",
   "version": "3.9.19"
  }
 },
 "nbformat": 4,
 "nbformat_minor": 2
}

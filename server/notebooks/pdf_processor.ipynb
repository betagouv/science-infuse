{
 "cells": [
  {
   "cell_type": "code",
   "execution_count": 1,
   "metadata": {},
   "outputs": [
    {
     "name": "stderr",
     "output_type": "stream",
     "text": [
      "/home/erwan/anaconda3/envs/scienceinfuse/lib/python3.9/site-packages/timm/models/layers/__init__.py:48: DeprecationWarning: Importing from timm.models.layers is deprecated, please import via timm.layers\n",
      "  warnings.warn(f\"Importing from {__name__} is deprecated, please import via timm.layers\", DeprecationWarning)\n"
     ]
    }
   ],
   "source": [
    "import sys\n",
    "sys.path.insert(0, '..')\n",
    "from app.SIWeaviateClient import SIWeaviateClient\n",
    "from app.processing.image.SIImageDescription import SIImageDescription\n",
    "from app.processing.text.SIITranslator import SITranslator\n",
    "\n",
    "image_descriptor = SIImageDescription()\n",
    "translator = SITranslator()\n",
    "\n"
   ]
  },
  {
   "cell_type": "code",
   "execution_count": null,
   "metadata": {},
   "outputs": [],
   "source": [
    "from app.processing.PDFProcessor import PDFProcessor\n",
    "import os\n",
    "import glob\n",
    "\n",
    "def get_all_pdfs():\n",
    "    pdf_files = []\n",
    "    for root, dirs, files in os.walk(\"./data\"):\n",
    "        for file in files:\n",
    "            if file.endswith(\".pdf\"):\n",
    "                pdf_files.append(os.path.join(root, file))\n",
    "    return pdf_files\n",
    "\n",
    "\n",
    "with SIWeaviateClient() as client:\n",
    "    pdf_paths = get_all_pdfs()\n",
    "    for pdf_path in pdf_paths[:1]:\n",
    "        print(\"==========================================\")\n",
    "        print(pdf_path)\n",
    "        pdf = PDFProcessor(client, image_descriptor, translator, pdf_path)\n",
    "\n"
   ]
  }
 ],
 "metadata": {
  "kernelspec": {
   "display_name": "Python (scienceinfuse)",
   "language": "python",
   "name": "scienceinfuse"
  },
  "language_info": {
   "codemirror_mode": {
    "name": "ipython",
    "version": 3
   },
   "file_extension": ".py",
   "mimetype": "text/x-python",
   "name": "python",
   "nbconvert_exporter": "python",
   "pygments_lexer": "ipython3",
   "version": "3.9.19"
  }
 },
 "nbformat": 4,
 "nbformat_minor": 2
}

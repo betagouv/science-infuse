{
 "cells": [
  {
   "cell_type": "code",
   "execution_count": 1,
   "metadata": {},
   "outputs": [
    {
     "name": "stderr",
     "output_type": "stream",
     "text": [
      "/home/erwan/anaconda3/envs/scienceinfuse/lib/python3.9/site-packages/pydantic/_internal/_config.py:284: PydanticDeprecatedSince20: Support for class-based `config` is deprecated, use ConfigDict instead. Deprecated in Pydantic V2.0 to be removed in V3.0. See Pydantic V2 Migration Guide at https://errors.pydantic.dev/2.7/migration/\n",
      "  warnings.warn(DEPRECATION_MESSAGE, DeprecationWarning)\n",
      "A new version of the following files was downloaded from https://huggingface.co/microsoft/Florence-2-large-ft:\n",
      "- configuration_florence2.py\n",
      ". Make sure to double-check they do not contain any added malicious code. To avoid downloading new versions of the code file, you can pin a revision.\n",
      "A new version of the following files was downloaded from https://huggingface.co/microsoft/Florence-2-large-ft:\n",
      "- modeling_florence2.py\n",
      ". Make sure to double-check they do not contain any added malicious code. To avoid downloading new versions of the code file, you can pin a revision.\n",
      "/home/erwan/anaconda3/envs/scienceinfuse/lib/python3.9/site-packages/timm/models/layers/__init__.py:48: DeprecationWarning: Importing from timm.models.layers is deprecated, please import via timm.layers\n",
      "  warnings.warn(f\"Importing from {__name__} is deprecated, please import via timm.layers\", DeprecationWarning)\n"
     ]
    },
    {
     "data": {
      "application/vnd.jupyter.widget-view+json": {
       "model_id": "4428ea8c443b4fadbb3a49dbfb6669fb",
       "version_major": 2,
       "version_minor": 0
      },
      "text/plain": [
       "processing_florence2.py:   0%|          | 0.00/46.4k [00:00<?, ?B/s]"
      ]
     },
     "metadata": {},
     "output_type": "display_data"
    },
    {
     "name": "stderr",
     "output_type": "stream",
     "text": [
      "A new version of the following files was downloaded from https://huggingface.co/microsoft/Florence-2-large-ft:\n",
      "- processing_florence2.py\n",
      ". Make sure to double-check they do not contain any added malicious code. To avoid downloading new versions of the code file, you can pin a revision.\n",
      "/home/erwan/.cache/huggingface/modules/transformers_modules/microsoft/Florence-2-large-ft/13c0e867180f750673977a332de7015f28851d91/processing_florence2.py:499: DeprecationWarning: invalid escape sequence \\d\n",
      "  \"\"\"\n",
      "/home/erwan/anaconda3/envs/scienceinfuse/lib/python3.9/site-packages/huggingface_hub/file_download.py:1132: FutureWarning: `resume_download` is deprecated and will be removed in version 1.0.0. Downloads always resume when possible. If you want to force a new download, use `force_download=True`.\n",
      "  warnings.warn(\n"
     ]
    },
    {
     "name": "stdout",
     "output_type": "stream",
     "text": [
      "Loaded detection model vikp/surya_det2 on device cuda with dtype torch.float16\n",
      "Loaded detection model vikp/surya_layout2 on device cuda with dtype torch.float16\n",
      "Loaded reading order model vikp/surya_order on device cuda with dtype torch.float16\n"
     ]
    }
   ],
   "source": [
    "\n",
    "from dotenv import load_dotenv\n",
    "\n",
    "load_dotenv('../../.env')\n",
    "import sys\n",
    "sys.path.insert(0, '../app')\n",
    "from SIWeaviateClient import SIWeaviateClient\n",
    "from processing.image.SIImageDescription import SIImageDescription\n",
    "from processing.text.SIITranslator import SITranslator\n",
    "from processing.text.SISurya import SISurya\n",
    "from S3Storage import S3Storage\n",
    "\n",
    "s3 = S3Storage()\n",
    "image_descriptor = SIImageDescription()\n",
    "translator = SITranslator()\n",
    "surya = SISurya()\n",
    "\n"
   ]
  },
  {
   "cell_type": "markdown",
   "metadata": {},
   "source": [
    "## process all pdfs"
   ]
  },
  {
   "cell_type": "code",
   "execution_count": 8,
   "metadata": {},
   "outputs": [
    {
     "name": "stdout",
     "output_type": "stream",
     "text": [
      "CLIENT <weaviate.client.WeaviateClient object at 0x72e5bbe5ba60>\n"
     ]
    }
   ],
   "source": [
    "from weaviate import WeaviateClient\n",
    "from processing.PDFProcessor import PDFProcessor\n",
    "import os\n",
    "from weaviate.classes.query import Filter, GeoCoordinate, MetadataQuery, QueryReference\n",
    "# from app.SIWeaviateClient import SIWeaviateClient\n",
    "\n",
    "def get_all_pdfs():\n",
    "    pdf_files = []\n",
    "    for root, dirs, files in os.walk(\"./data\"):\n",
    "        for file in files:\n",
    "            if file.endswith(\".pdf\"):\n",
    "                pdf_files.append(os.path.join(root, file))\n",
    "                # pdf_files.append(os.path.abspath(os.path.join(root, file)))\n",
    "    return pdf_files\n",
    "\n",
    "def is_document_already_indexed(pdf_path, client: WeaviateClient):\n",
    "    document = client.collections.get(\"Document\")\n",
    "    response = document.query.fetch_objects(\n",
    "        filters=(\n",
    "            Filter.by_property(\"original_path\").equal(pdf_path)\n",
    "        ),\n",
    "        limit=1,\n",
    "        return_properties=[]\n",
    "    )\n",
    "    return len(response.objects) > 0\n",
    "\n",
    "with SIWeaviateClient() as client:\n",
    "    print(\"CLIENT\", client)\n",
    "    pdf_paths = get_all_pdfs()\n",
    "    for pdf_path in pdf_paths:\n",
    "        # print(\"==========================================\")\n",
    "        # print(pdf_path)\n",
    "        if (is_document_already_indexed(pdf_path, client)):\n",
    "            print(f\"Already in DB, SKIP INDEXING {pdf_path}\")\n",
    "            continue\n",
    "        # pdf = PDFProcessor(client, image_descriptor, translator, pdf_path)\n",
    "\n"
   ]
  },
  {
   "cell_type": "markdown",
   "metadata": {},
   "source": [
    "## process single pdf"
   ]
  },
  {
   "cell_type": "code",
   "execution_count": null,
   "metadata": {},
   "outputs": [],
   "source": [
    "from processing.PDFProcessor import PDFProcessor\n",
    "import os\n",
    "import glob\n",
    "\n",
    "\n",
    "with SIWeaviateClient() as client:\n",
    "    pdf_path = \"./data/UniversScience/dossiers-pédagogiques/astro/2015/2015 - Dinosaures.pdf\"\n",
    "    pdf = PDFProcessor(client, image_descriptor, translator, surya, s3, pdf_path)\n",
    "\n"
   ]
  },
  {
   "cell_type": "markdown",
   "metadata": {},
   "source": [
    "# test bugs"
   ]
  },
  {
   "cell_type": "code",
   "execution_count": null,
   "metadata": {},
   "outputs": [],
   "source": [
    "import sys\n",
    "sys.path.insert(0, '../app')\n",
    "from processing.image.SIImageDescription import SIImageDescription\n",
    "image_descriptor = SIImageDescription()"
   ]
  },
  {
   "cell_type": "code",
   "execution_count": null,
   "metadata": {},
   "outputs": [],
   "source": [
    "from IPython.display import Image \n",
    "from dotenv import load_dotenv\n",
    "load_dotenv('../../.env')\n",
    "import sys\n",
    "sys.path.insert(0, '../app')\n",
    "\n",
    "import io\n",
    "import fitz\n",
    "from PIL import Image\n",
    "from pymupdf import Document as PdfDocument\n",
    "\n",
    "def get_pdf_images(doc: type[PdfDocument]):\n",
    "    temp_images = []\n",
    "\n",
    "    for page_num in range(len(doc)):\n",
    "        page = doc[page_num]\n",
    "\n",
    "        for item in doc.get_page_images(page_num):\n",
    "            pix = fitz.Pixmap(doc, item[0])  # pixmap from the image xref\n",
    "            pix0 = fitz.Pixmap(fitz.csRGB, pix)  # force into RGB\n",
    "            pil_image = Image.frombytes(\"RGB\", [pix0.width, pix0.height], pix0.samples)\n",
    "            x0, y0, x1, y1 = page.get_image_bbox(item[7])\n",
    "            width = x1 - x0\n",
    "            height = y1 - y0\n",
    "            # print(f\"Width: {width}, Height: {height}\")\n",
    "            # print(f\"Image bounding box: x0={x0}, y0={y0}, x1={x1}, y1={y1}\")\n",
    "            # display(pil_image)\n",
    "            temp_images.append({\"image\": pil_image, \"page_number\": page_num+1, 'bbox': {\"x0\": x0, \"y0\": y0, \"x1\": x1, \"y1\": y1, }})\n",
    "\n",
    "    return temp_images\n",
    "\n",
    "# image_descriptor = SIImageDescription()\n",
    "pdf_path = \"/home/erwan/Desktop/clients/ScienceInfuse/server/notebooks/data/UniversScience/revue-decouverte/decouverte_436.pdf\"\n",
    "# pdf_path = \"/home/erwan/Desktop/clients/ScienceInfuse/server/notebooks/data/UniversScience/dossiers-pédagogiques/astro/2015/2015 - Dinosaures.pdf\"\n",
    "with fitz.open(pdf_path) as fitz_doc:\n",
    "    images = get_pdf_images(fitz_doc)\n",
    "    print(images[0])\n",
    "    images_chunks = [{**image, \"description_en\": image_descriptor.get_description(image['image'])} for image in images]\n",
    "\n",
    "    # for image in images:\n",
    "    #     display(image)\n",
    "    # images_chunks = [{**image, \"description_en\": image_descriptor.get_description(image['image'])} for image in images]\n"
   ]
  },
  {
   "cell_type": "code",
   "execution_count": null,
   "metadata": {},
   "outputs": [],
   "source": [
    "images_chunks"
   ]
  },
  {
   "cell_type": "code",
   "execution_count": null,
   "metadata": {},
   "outputs": [],
   "source": []
  }
 ],
 "metadata": {
  "kernelspec": {
   "display_name": "scienceinfuse",
   "language": "python",
   "name": "scienceinfuse"
  },
  "language_info": {
   "codemirror_mode": {
    "name": "ipython",
    "version": 3
   },
   "file_extension": ".py",
   "mimetype": "text/x-python",
   "name": "python",
   "nbconvert_exporter": "python",
   "pygments_lexer": "ipython3",
   "version": "3.9.19"
  }
 },
 "nbformat": 4,
 "nbformat_minor": 2
}

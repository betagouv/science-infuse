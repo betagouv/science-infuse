{
 "cells": [
  {
   "cell_type": "code",
   "execution_count": null,
   "metadata": {},
   "outputs": [],
   "source": [
    "from googleapiclient.discovery import build\n",
    "\n",
    "# Replace with your own API key\n",
    "api_key = \"xxx\"\n",
    "\n",
    "# Create a YouTube API client\n",
    "youtube = build(\"youtube\", \"v3\", developerKey=api_key)\n",
    "\n",
    "# Replace with the channel ID you want to fetch videos from\n",
    "# LE BLOB\n",
    "\n",
    "videos = []\n",
    "next_page_token = None\n",
    "channel_id = \"UC3E2DhYIqnoc6H3WXwTVnlA\"\n",
    "\n",
    "request = youtube.search().list(\n",
    "    part=\"snippet\",\n",
    "    channelId=channel_id,\n",
    "    maxResults=50,\n",
    "    type=\"video\",\n",
    "    pageToken=next_page_token\n",
    ")\n",
    "response = request.execute()\n",
    "\n",
    "for item in response[\"items\"]:\n",
    "    videos.append({\n",
    "        \"title\": item[\"snippet\"][\"title\"],\n",
    "        \"video_id\": item[\"id\"][\"videoId\"],\n",
    "        \"publish_time\": item[\"snippet\"][\"publishTime\"]\n",
    "    })\n",
    "\n",
    "\n",
    "# Print the results\n",
    "for video in videos:\n",
    "    print(f\"Title: {video['title']}\")\n",
    "    print(f\"Video ID: {video['video_id']}\")\n",
    "    print(f\"Publish Time: {video['publish_time']}\")\n",
    "    print(\"---\")"
   ]
  },
  {
   "cell_type": "code",
   "execution_count": null,
   "metadata": {},
   "outputs": [],
   "source": [
    "response[\"items\"][-1]"
   ]
  }
 ],
 "metadata": {
  "kernelspec": {
   "display_name": "scienceinfuse",
   "language": "python",
   "name": "scienceinfuse"
  },
  "language_info": {
   "codemirror_mode": {
    "name": "ipython",
    "version": 3
   },
   "file_extension": ".py",
   "mimetype": "text/x-python",
   "name": "python",
   "nbconvert_exporter": "python",
   "pygments_lexer": "ipython3",
   "version": "3.9.19"
  }
 },
 "nbformat": 4,
 "nbformat_minor": 2
}

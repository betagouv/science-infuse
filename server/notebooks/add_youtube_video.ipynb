{
 "cells": [
  {
   "cell_type": "code",
   "execution_count": 1,
   "metadata": {},
   "outputs": [
    {
     "name": "stderr",
     "output_type": "stream",
     "text": [
      "/home/erwan/Desktop/clients/ScienceInfuse/server/notebooks/../app/schemas.py:121: GenericBeforeBaseModelWarning: Classes should inherit from `BaseModel` before generic classes (e.g. `typing.Generic[T]`) for pydantic generics to work properly.\n",
      "  class ChunkWithScore(Generic[ChunkType], BaseDocumentChunk):\n",
      "[nltk_data] Downloading package omw-1.4 to /home/erwan/nltk_data...\n",
      "[nltk_data]   Package omw-1.4 is already up-to-date!\n",
      "[nltk_data] Downloading package omw-1.4 to /home/erwan/nltk_data...\n",
      "[nltk_data]   Package omw-1.4 is already up-to-date!\n"
     ]
    }
   ],
   "source": [
    "import sys\n",
    "import dotenv\n",
    "dotenv.load_dotenv('../../.env')\n",
    "\n",
    "sys.path.insert(0, '../')\n",
    "sys.path.insert(0, '../app')\n",
    "\n",
    "from app.processing.audio.SIWhisperModel import SIWhisperModel\n",
    "from app.SIWeaviateClient import SIWeaviateClient\n",
    "from app.processing.YoutubeProcessor import YoutubeProcessor\n",
    "\n",
    "whisper = SIWhisperModel('medium', 'whisper-medium')\n",
    "\n"
   ]
  },
  {
   "cell_type": "code",
   "execution_count": 2,
   "metadata": {},
   "outputs": [
    {
     "name": "stdout",
     "output_type": "stream",
     "text": [
      "EXTRACT DOCUMNET YOUTUBE video_s3_object_name 1 youtube/3186fed9-7800-4e0d-8b26-132bbedc01e5.mp4\n",
      "AUDIO CODEC aac\n"
     ]
    },
    {
     "name": "stderr",
     "output_type": "stream",
     "text": [
      "whisper-medium: 100%|██████████| 189.846/189.846 [00:13<00:00, 14.51s/s]           \n"
     ]
    },
    {
     "name": "stdout",
     "output_type": "stream",
     "text": [
      "time_taken 13.60537338256836\n",
      "File /home/erwan/Desktop/clients/ScienceInfuse/server/notebooks/documents/youtube/0b64f65b-101e-4567-9169-c2ea0dc53900.mp4 uploaded successfully to bucket science-infuse-content-dev as youtube/3186fed9-7800-4e0d-8b26-132bbedc01e5.mp4.\n",
      "Public URL: https://s3.gra.io.cloud.ovh.net//science-infuse-content-dev/youtube/3186fed9-7800-4e0d-8b26-132bbedc01e5.mp4\n",
      "EXTRACT DOCUMNET YOUTUBE video_s3_object_name 2 youtube/3186fed9-7800-4e0d-8b26-132bbedc01e5.mp4\n"
     ]
    }
   ],
   "source": [
    "from app.S3Storage import S3Storage\n",
    "\n",
    "\n",
    "urls = [\n",
    "    # \"https://www.youtube.com/watch?v=re__12nH2ro\",\n",
    "    # \"https://www.youtube.com/watch?v=FSbEorqTtMU\",\n",
    "    \"https://www.youtube.com/watch?v=lds6ExALbjk\",\n",
    "    # \"https://www.youtube.com/watch?v=0oB2oBj5Ex4\",\n",
    "    # \"https://www.youtube.com/watch?v=p5JR8fsEzR4\",\n",
    "]\n",
    "\n",
    "s3 = S3Storage()\n",
    "with SIWeaviateClient() as client:\n",
    "    for url in urls:\n",
    "        YoutubeProcessor(s3=s3,client=client, whisper=whisper, youtube_url=url)"
   ]
  },
  {
   "cell_type": "markdown",
   "metadata": {},
   "source": [
    "# tests"
   ]
  },
  {
   "cell_type": "code",
   "execution_count": 5,
   "metadata": {},
   "outputs": [
    {
     "ename": "NameError",
     "evalue": "name 'output_path' is not defined",
     "output_type": "error",
     "traceback": [
      "\u001b[0;31m---------------------------------------------------------------------------\u001b[0m",
      "\u001b[0;31mNameError\u001b[0m                                 Traceback (most recent call last)",
      "Cell \u001b[0;32mIn[5], line 4\u001b[0m\n\u001b[1;32m      2\u001b[0m yt \u001b[38;5;241m=\u001b[39m YouTube(\u001b[38;5;124m\"\u001b[39m\u001b[38;5;124mhttps://www.youtube.com/watch?v=MP7tdlNM3pw\u001b[39m\u001b[38;5;124m\"\u001b[39m)\n\u001b[1;32m      3\u001b[0m video_name \u001b[38;5;241m=\u001b[39m yt\u001b[38;5;241m.\u001b[39mvid_info\u001b[38;5;241m.\u001b[39mget(\u001b[38;5;124m\"\u001b[39m\u001b[38;5;124mvideoDetails\u001b[39m\u001b[38;5;124m\"\u001b[39m, {})\u001b[38;5;241m.\u001b[39mget(\u001b[38;5;124m\"\u001b[39m\u001b[38;5;124mtitle\u001b[39m\u001b[38;5;124m\"\u001b[39m, \u001b[38;5;124m\"\u001b[39m\u001b[38;5;124mUntitled Video\u001b[39m\u001b[38;5;124m\"\u001b[39m)\n\u001b[0;32m----> 4\u001b[0m yt\u001b[38;5;241m.\u001b[39mstreams\u001b[38;5;241m.\u001b[39mfilter(progressive\u001b[38;5;241m=\u001b[39m\u001b[38;5;28;01mTrue\u001b[39;00m, file_extension\u001b[38;5;241m=\u001b[39m\u001b[38;5;124m'\u001b[39m\u001b[38;5;124mmp4\u001b[39m\u001b[38;5;124m'\u001b[39m)\u001b[38;5;241m.\u001b[39morder_by(\u001b[38;5;124m'\u001b[39m\u001b[38;5;124mresolution\u001b[39m\u001b[38;5;124m'\u001b[39m)\u001b[38;5;241m.\u001b[39mdesc()\u001b[38;5;241m.\u001b[39mfirst()\u001b[38;5;241m.\u001b[39mdownload(output_path\u001b[38;5;241m=\u001b[39m\u001b[43moutput_path\u001b[49m, filename\u001b[38;5;241m=\u001b[39mfilename)\n",
      "\u001b[0;31mNameError\u001b[0m: name 'output_path' is not defined"
     ]
    }
   ],
   "source": [
    "from pytube import YouTube\n",
    "yt = YouTube(\"https://www.youtube.com/watch?v=MP7tdlNM3pw\")\n",
    "video_name = yt.vid_info.get(\"videoDetails\", {}).get(\"title\", \"Untitled Video\")\n",
    "yt.streams.filter(progressive=True, file_extension='mp4').order_by('resolution').desc().first().download(output_path=output_path, filename=filename)"
   ]
  },
  {
   "cell_type": "code",
   "execution_count": 13,
   "metadata": {},
   "outputs": [],
   "source": [
    "from googleapiclient.discovery import build\n",
    "\n",
    "# Set up YouTube API client\n",
    "api_key = ''\n",
    "youtube = build('youtube', 'v3', developerKey=api_key)\n",
    "\n",
    "def get_playlist_videos(playlist_id):\n",
    "    videos = []\n",
    "    next_page_token = None\n",
    "    \n",
    "    while True:\n",
    "        res = youtube.playlistItems().list(\n",
    "            part='snippet',\n",
    "            playlistId=playlist_id,\n",
    "            maxResults=50,\n",
    "            pageToken=next_page_token\n",
    "        ).execute()\n",
    "        \n",
    "        videos += res['items']\n",
    "        \n",
    "        next_page_token = res.get('nextPageToken')\n",
    "        \n",
    "        if next_page_token is None:\n",
    "            break\n",
    "            \n",
    "    return videos\n",
    "\n",
    "videos = get_playlist_videos(\"UU3E2DhYIqnoc6H3WXwTVnlA\")"
   ]
  },
  {
   "cell_type": "code",
   "execution_count": 15,
   "metadata": {},
   "outputs": [
    {
     "data": {
      "text/plain": [
       "{'kind': 'youtube#playlistItem',\n",
       " 'etag': 'AqC2QE_wfmRlzEH7gMgPir2g00Y',\n",
       " 'id': 'VVUzRTJEaFlJcW5vYzZIM1dYd1RWbmxBLjAyWTRBWGxST3dj',\n",
       " 'snippet': {'publishedAt': '2024-07-12T13:05:35Z',\n",
       "  'channelId': 'UC3E2DhYIqnoc6H3WXwTVnlA',\n",
       "  'title': 'Le génome du mammouth laineux enfin reconstitué dans son intégralité en 3D | Actu de science',\n",
       "  'description': 'Le génome du mammouth laineux a été reconstitué dans son intégralité. Il provient d’un spécimen découvert en 2018 sur l’Île de Wrangel, dans l’est de la Sibérie. Grâce à une technique d’analyse baptisée Hi-C, les scientifiques sont parvenus à rassembler les différents morceaux d’ADN afin de reconstituer, comme un puzzle, le génome complet, de 28 chromosomes de cet animal disparu.\\n\\nLa source de l’étude : https://www.sciencedirect.com/science/article/pii/S0092867424006421?via%3Dihub\\n\\n⚠️ Pour ne rater aucune vidéo du Blob, abonnez-vous à notre chaîne Youtube et à activer les notifications au dessus ↑ en cliquant sur la cloche 🔔   : \\nhttp://www.youtube.com/subscription_center?add_user=universciencetv\\nou retrouvez-nous sur https://LeBlob.fr\\n\\n#mammouth #adn #genome',\n",
       "  'thumbnails': {'default': {'url': 'https://i.ytimg.com/vi/02Y4AXlROwc/default.jpg',\n",
       "    'width': 120,\n",
       "    'height': 90},\n",
       "   'medium': {'url': 'https://i.ytimg.com/vi/02Y4AXlROwc/mqdefault.jpg',\n",
       "    'width': 320,\n",
       "    'height': 180},\n",
       "   'high': {'url': 'https://i.ytimg.com/vi/02Y4AXlROwc/hqdefault.jpg',\n",
       "    'width': 480,\n",
       "    'height': 360},\n",
       "   'standard': {'url': 'https://i.ytimg.com/vi/02Y4AXlROwc/sddefault.jpg',\n",
       "    'width': 640,\n",
       "    'height': 480},\n",
       "   'maxres': {'url': 'https://i.ytimg.com/vi/02Y4AXlROwc/maxresdefault.jpg',\n",
       "    'width': 1280,\n",
       "    'height': 720}},\n",
       "  'channelTitle': 'Le Blob',\n",
       "  'playlistId': 'UU3E2DhYIqnoc6H3WXwTVnlA',\n",
       "  'position': 0,\n",
       "  'resourceId': {'kind': 'youtube#video', 'videoId': '02Y4AXlROwc'},\n",
       "  'videoOwnerChannelTitle': 'Le Blob',\n",
       "  'videoOwnerChannelId': 'UC3E2DhYIqnoc6H3WXwTVnlA'}}"
      ]
     },
     "execution_count": 15,
     "metadata": {},
     "output_type": "execute_result"
    }
   ],
   "source": [
    "videos[0]"
   ]
  }
 ],
 "metadata": {
  "kernelspec": {
   "display_name": "scienceinfuse",
   "language": "python",
   "name": "python3"
  },
  "language_info": {
   "codemirror_mode": {
    "name": "ipython",
    "version": 3
   },
   "file_extension": ".py",
   "mimetype": "text/x-python",
   "name": "python",
   "nbconvert_exporter": "python",
   "pygments_lexer": "ipython3",
   "version": "3.9.19"
  }
 },
 "nbformat": 4,
 "nbformat_minor": 2
}

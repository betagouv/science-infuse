{
 "cells": [
  {
   "cell_type": "markdown",
   "metadata": {},
   "source": [
    "# layout detection"
   ]
  },
  {
   "cell_type": "code",
   "execution_count": 1,
   "metadata": {},
   "outputs": [
    {
     "name": "stderr",
     "output_type": "stream",
     "text": [
      "/home/erwan/anaconda3/envs/scienceinfuse/lib/python3.9/site-packages/huggingface_hub/file_download.py:1132: FutureWarning: `resume_download` is deprecated and will be removed in version 1.0.0. Downloads always resume when possible. If you want to force a new download, use `force_download=True`.\n",
      "  warnings.warn(\n"
     ]
    },
    {
     "name": "stdout",
     "output_type": "stream",
     "text": [
      "Loaded detection model vikp/surya_det2 on device cuda with dtype torch.float16\n",
      "Loaded detection model vikp/surya_layout2 on device cuda with dtype torch.float16\n",
      "Loaded reading order model vikp/surya_order on device cuda with dtype torch.float16\n"
     ]
    }
   ],
   "source": [
    "from surya.detection import batch_text_detection\n",
    "from surya.layout import batch_layout_detection\n",
    "from surya.model.detection.segformer import load_model, load_processor\n",
    "from surya.model.ordering.processor import load_processor as load_order_processor\n",
    "from surya.model.ordering.model import load_model as load_order_model\n",
    "from PIL import Image\n",
    "from surya.settings import settings\n",
    "\n",
    "\n",
    "def load_det_cached():\n",
    "    checkpoint = settings.DETECTOR_MODEL_CHECKPOINT\n",
    "    return load_model(checkpoint=checkpoint), load_processor(checkpoint=checkpoint)\n",
    "\n",
    "\n",
    "# def load_rec_cached():\n",
    "#     return load_rec_model(), load_rec_processor()\n",
    "\n",
    "\n",
    "def load_layout_cached():\n",
    "    return load_model(checkpoint=settings.LAYOUT_MODEL_CHECKPOINT), load_processor(checkpoint=settings.LAYOUT_MODEL_CHECKPOINT)\n",
    "\n",
    "def load_order_cached():\n",
    "    return load_order_model(), load_order_processor()\n",
    "\n",
    "\n",
    "det_model, det_processor = load_det_cached()\n",
    "# rec_model, rec_processor = load_rec_cached()\n",
    "layout_model, layout_processor = load_layout_cached()\n",
    "order_model, order_processor = load_order_cached()\n"
   ]
  },
  {
   "cell_type": "code",
   "execution_count": 2,
   "metadata": {},
   "outputs": [],
   "source": [
    "import pymupdf as fitz\n",
    "from pymupdf import Document\n",
    "def get_image_from_page(doc, page):\n",
    "    page = doc[page]\n",
    "    dpi = 72\n",
    "    zoom = dpi / 72  # 72 is the default DPI\n",
    "    mat = fitz.Matrix(zoom, zoom)\n",
    "    pix = page.get_pixmap(matrix=mat)\n",
    "    img = Image.frombytes(\"RGB\", [pix.width, pix.height], pix.samples)\n",
    "    return img"
   ]
  },
  {
   "cell_type": "code",
   "execution_count": 4,
   "metadata": {},
   "outputs": [
    {
     "name": "stderr",
     "output_type": "stream",
     "text": [
      "Detecting bboxes: 100%|██████████| 13/13 [00:16<00:00,  1.23s/it]\n",
      "Detecting bboxes: 100%|██████████| 13/13 [00:12<00:00,  1.01it/s]\n",
      "Finding reading order: 100%|██████████| 13/13 [00:09<00:00,  1.36it/s]\n"
     ]
    }
   ],
   "source": [
    "from typing import List, Tuple\n",
    "from surya.postprocessing.heatmap import draw_polys_on_image\n",
    "from surya.schema import OCRResult, TextDetectionResult, LayoutResult, OrderResult\n",
    "from PIL import Image\n",
    "from surya.ordering import batch_ordering\n",
    "\n",
    "\n",
    "def texts_detection(images: List[Image.Image], batch_size=10) -> List[TextDetectionResult]:\n",
    "    preds = batch_text_detection(images, det_model, det_processor, batch_size=batch_size)\n",
    "    return preds\n",
    "\n",
    "def layout_detection(images: List[Image.Image], batch_size=10) -> List[LayoutResult]:\n",
    "    _det_preds = texts_detection(images, batch_size=batch_size)\n",
    "    preds = batch_layout_detection(images, layout_model, layout_processor, _det_preds, batch_size=batch_size)\n",
    "    return preds\n",
    "\n",
    "def order_detection(images: List[Image.Image], batch_size=10) -> List[Tuple[Image.Image, OrderResult]]:\n",
    "    layout_preds = layout_detection(images, batch_size=batch_size)\n",
    "    all_bboxes = []\n",
    "    all_labels = []\n",
    "    for layout_pred in layout_preds:\n",
    "        bboxes = [l.bbox for l in layout_pred.bboxes]\n",
    "        labels = [l.label for l in layout_pred.bboxes]\n",
    "        all_labels.append(labels)\n",
    "        all_bboxes.append(bboxes)\n",
    "    preds = batch_ordering(images, all_bboxes, order_model, order_processor, batch_size=batch_size)\n",
    "    all_polys = []\n",
    "    all_positions = []\n",
    "    for pred in preds:\n",
    "        polys = [l.polygon for l in pred.bboxes]\n",
    "        all_polys.append(polys)\n",
    "        positions = [str(l.position) for l in pred.bboxes]\n",
    "        all_positions.append(positions)\n",
    "\n",
    "    order_imgs = []\n",
    "    for idx, img in enumerate(images):\n",
    "        order_img = draw_polys_on_image(all_polys[idx], img.copy(), labels=all_positions[idx], label_font_size=20)\n",
    "        order_imgs.append(order_img)\n",
    "    return order_imgs, preds, all_labels\n",
    "\n",
    "def process_pdf_texts(doc: type[Document], batch_size=2):\n",
    "    # images = [get_image_from_page(doc, page_number) for page_number in range(20)]\n",
    "    images = [get_image_from_page(doc, page_number) for page_number in range(len(doc))]\n",
    "    # print(images)\n",
    "    order_imgs, preds, labels = order_detection(images, batch_size=batch_size)\n",
    "    return order_imgs, preds, labels\n",
    "\n",
    "\n",
    "pdf_path = \"./data/UniversScience/revue-decouverte/decouverte_436.pdf\"\n",
    "doc = fitz.open(pdf_path)\n",
    "result_imgs, result_preds, result_labels = process_pdf_texts(doc, batch_size=8)\n",
    "# max 8 on my laptop, increse on server\n"
   ]
  },
  {
   "cell_type": "code",
   "execution_count": 5,
   "metadata": {},
   "outputs": [],
   "source": [
    "from PIL import Image, ImageDraw\n",
    "import matplotlib.pyplot as plt\n",
    "import io\n",
    "import pymupdf as fitz\n",
    "\n",
    "for page_index in range(len(doc)):\n",
    "    page = doc[page_index]\n",
    "    preds = result_preds[page_index]\n",
    "    labels = result_labels[page_index]\n",
    "    img = result_imgs[page_index]\n",
    "\n",
    "\n",
    "    # display(img)\n",
    "    # Sort bounding boxes by position\n",
    "    sorted_indices = sorted(range(len(preds.bboxes)), key=lambda i: preds.bboxes[i].position)\n",
    "    # Zip and iterate over sorted bounding boxes, labels, and indices\n",
    "    for i in sorted_indices:\n",
    "        box = preds.bboxes[i]\n",
    "        label = labels[i]\n",
    "        \n",
    "        left, top, right, bottom = box.bbox\n",
    "        # clean text\n",
    "        text = page.get_text(\"text\", clip=box.bbox)\n",
    "        text = text.replace('\\n', ' ')\n",
    "        text = text.strip()\n",
    "\n",
    "        width = img.width\n",
    "        page_rect = page.rect\n",
    "        page_width = page_rect.width\n",
    "        page_height = page_rect.height\n",
    "        # if (len(text) > 2):\n",
    "        #     print(\"pos  :\", box.position)\n",
    "        #     print(\"label:\", label)\n",
    "        #     print(\"text :\", text)\n",
    "        #     print(\"\\n===================\\n\")"
   ]
  }
 ],
 "metadata": {
  "kernelspec": {
   "display_name": "scienceinfuse",
   "language": "python",
   "name": "python3"
  },
  "language_info": {
   "codemirror_mode": {
    "name": "ipython",
    "version": 3
   },
   "file_extension": ".py",
   "mimetype": "text/x-python",
   "name": "python",
   "nbconvert_exporter": "python",
   "pygments_lexer": "ipython3",
   "version": "3.9.19"
  }
 },
 "nbformat": 4,
 "nbformat_minor": 2
}

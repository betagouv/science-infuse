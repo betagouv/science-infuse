{
 "cells": [
  {
   "cell_type": "code",
   "execution_count": null,
   "metadata": {},
   "outputs": [],
   "source": [
    "\n",
    "from dotenv import load_dotenv\n",
    "load_dotenv('../../.env')\n",
    "import sys\n",
    "sys.path.insert(0, '../app')\n",
    "from SIWeaviateClient import SIWeaviateClient\n",
    "from processing.image.SIImageDescription import SIImageDescription\n",
    "from processing.text.SIITranslator import SITranslator\n",
    "from processing.text.SISurya import SISurya\n",
    "\n",
    "image_descriptor = SIImageDescription()\n",
    "translator = SITranslator()\n",
    "surya = SISurya()\n",
    "\n"
   ]
  },
  {
   "cell_type": "markdown",
   "metadata": {},
   "source": [
    "## process single pdf"
   ]
  },
  {
   "cell_type": "code",
   "execution_count": null,
   "metadata": {},
   "outputs": [],
   "source": [
    "from processing.PDFProcessor import PDFProcessor\n",
    "import os\n",
    "import glob\n",
    "\n",
    "def get_all_pdfs():\n",
    "    pdf_files = []\n",
    "    for root, dirs, files in os.walk(\"./data\"):\n",
    "        for file in files:\n",
    "            if file.endswith(\".pdf\"):\n",
    "                pdf_files.append(os.path.join(root, file))\n",
    "    return pdf_files\n",
    "\n",
    "\n",
    "with SIWeaviateClient() as client:\n",
    "    pdf_path = \"./data/UniversScience/dossiers-pédagogiques/astro/2015/2015 - Dinosaures.pdf\"\n",
    "    pdf = PDFProcessor(client, image_descriptor, translator, surya, pdf_path)\n",
    "\n"
   ]
  },
  {
   "cell_type": "markdown",
   "metadata": {},
   "source": [
    "## process all pdfs"
   ]
  },
  {
   "cell_type": "code",
   "execution_count": null,
   "metadata": {},
   "outputs": [],
   "source": [
    "from processing.PDFProcessor import PDFProcessor\n",
    "import os\n",
    "import glob\n",
    "\n",
    "def get_all_pdfs():\n",
    "    pdf_files = []\n",
    "    for root, dirs, files in os.walk(\"./data\"):\n",
    "        for file in files:\n",
    "            if file.endswith(\".pdf\"):\n",
    "                pdf_files.append(os.path.join(root, file))\n",
    "    return pdf_files\n",
    "\n",
    "\n",
    "with SIWeaviateClient() as client:\n",
    "    print(\"CLIENT\", client)\n",
    "    pdf_paths = get_all_pdfs()\n",
    "    for pdf_path in pdf_paths[:1]:\n",
    "        print(\"==========================================\")\n",
    "        print(pdf_path)\n",
    "        pdf = PDFProcessor(client, image_descriptor, translator, pdf_path)\n",
    "\n"
   ]
  }
 ],
 "metadata": {
  "kernelspec": {
   "display_name": "scienceinfuse",
   "language": "python",
   "name": "scienceinfuse"
  },
  "language_info": {
   "codemirror_mode": {
    "name": "ipython",
    "version": 3
   },
   "file_extension": ".py",
   "mimetype": "text/x-python",
   "name": "python",
   "nbconvert_exporter": "python",
   "pygments_lexer": "ipython3",
   "version": "3.9.19"
  }
 },
 "nbformat": 4,
 "nbformat_minor": 2
}

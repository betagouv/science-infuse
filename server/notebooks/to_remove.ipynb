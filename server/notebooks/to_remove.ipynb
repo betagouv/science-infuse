{
 "cells": [
  {
   "cell_type": "code",
   "execution_count": 1,
   "metadata": {},
   "outputs": [
    {
     "name": "stderr",
     "output_type": "stream",
     "text": [
      "/home/erwan/Desktop/clients/ScienceInfuse/server/notebooks/../app/schemas.py:96: GenericBeforeBaseModelWarning: Classes should inherit from `BaseModel` before generic classes (e.g. `typing.Generic[T]`) for pydantic generics to work properly.\n",
      "  class ChunkWithScore(Generic[ChunkType], BaseDocumentChunk):\n"
     ]
    }
   ],
   "source": [
    "import sys\n",
    "\n",
    "sys.path.insert(0, '..')\n",
    "\n",
    "from app.schemas import WebsiteQAChunk, WebsiteQAMetadata, Document\n",
    "\n",
    "document = Document(\n",
    "    document_id=\"random id\",\n",
    "    public_path=\"url\",\n",
    "    original_path=\"url\",\n",
    "    media_name=\"title\",\n",
    ")\n",
    "\n",
    "chunk = WebsiteQAChunk(\n",
    "    chunk_id=\"randomid\",\n",
    "    document=document,\n",
    "    title=\"title\",\n",
    "    text=f\"Titre\\nQuestion\\nAnswer\",\n",
    "    metadata=WebsiteQAMetadata(\n",
    "        question=\"question\",\n",
    "        answer=\"answer\",\n",
    "        url=\"url\",\n",
    "    )\n",
    ")"
   ]
  },
  {
   "cell_type": "code",
   "execution_count": 8,
   "metadata": {},
   "outputs": [
    {
     "data": {
      "text/plain": [
       "{'document': {'document_id': 'random id',\n",
       "  'public_path': 'url',\n",
       "  'original_path': 'url',\n",
       "  'media_name': 'title'},\n",
       " 'text': 'Titre\\nQuestion\\nAnswer',\n",
       " 'title': 'title',\n",
       " 'media_type': 'website_qa',\n",
       " 'meta_question': 'question',\n",
       " 'meta_answer': 'answer',\n",
       " 'meta_url': 'url'}"
      ]
     },
     "execution_count": 8,
     "metadata": {},
     "output_type": "execute_result"
    }
   ],
   "source": [
    "def temp_fix_metadata_not_filterable(chunk):\n",
    "    data = chunk.model_dump()\n",
    "    for key in data['metadata']:\n",
    "        data[f\"meta_{key}\"] = data['metadata'][key]\n",
    "    del data['metadata']\n",
    "    return data\n",
    "temp_fix_metadata_not_filterable(chunk)"
   ]
  }
 ],
 "metadata": {
  "kernelspec": {
   "display_name": "scienceinfuse",
   "language": "python",
   "name": "python3"
  },
  "language_info": {
   "codemirror_mode": {
    "name": "ipython",
    "version": 3
   },
   "file_extension": ".py",
   "mimetype": "text/x-python",
   "name": "python",
   "nbconvert_exporter": "python",
   "pygments_lexer": "ipython3",
   "version": "3.9.19"
  }
 },
 "nbformat": 4,
 "nbformat_minor": 2
}

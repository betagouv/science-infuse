{
 "cells": [
  {
   "cell_type": "code",
   "execution_count": 1,
   "metadata": {},
   "outputs": [
    {
     "name": "stderr",
     "output_type": "stream",
     "text": [
      "/home/erwan/Desktop/clients/ScienceInfuse/server/notebooks/../app/schemas.py:182: GenericBeforeBaseModelWarning: Classes should inherit from `BaseModel` before generic classes (e.g. `typing.Generic[T]`) for pydantic generics to work properly.\n",
      "  class ChunkWithScore(Generic[ChunkType], BaseDocumentChunk):\n",
      "[nltk_data] Downloading package omw-1.4 to /home/erwan/nltk_data...\n",
      "[nltk_data]   Package omw-1.4 is already up-to-date!\n",
      "[nltk_data] Downloading package omw-1.4 to /home/erwan/nltk_data...\n",
      "[nltk_data]   Package omw-1.4 is already up-to-date!\n"
     ]
    }
   ],
   "source": [
    "import sys\n",
    "import dotenv\n",
    "dotenv.load_dotenv('../../.env')\n",
    "\n",
    "sys.path.insert(0, '../')\n",
    "sys.path.insert(0, '../app')\n",
    "\n",
    "from app.processing.audio.SIWhisperModel import SIWhisperModel\n",
    "\n",
    "whisper = SIWhisperModel('medium', 'whisper-medium')\n",
    "\n"
   ]
  },
  {
   "cell_type": "code",
   "execution_count": 12,
   "metadata": {},
   "outputs": [
    {
     "name": "stdout",
     "output_type": "stream",
     "text": [
      "AUDIO CODEC mp3\n"
     ]
    },
    {
     "name": "stderr",
     "output_type": "stream",
     "text": [
      "whisper-medium: 100%|██████████| 224.522/224.522 [00:12<00:00, 17.91s/s]"
     ]
    },
    {
     "name": "stdout",
     "output_type": "stream",
     "text": [
      "time_taken 12.98844575881958\n"
     ]
    },
    {
     "name": "stderr",
     "output_type": "stream",
     "text": [
      "\n"
     ]
    }
   ],
   "source": [
    "sentences = whisper.get_paragraphs_from_audio_path(audio_path='./data/Canicule marine  la Méditerranée en surchauffe, sa biodiversité menacée  Explication.mp3')"
   ]
  },
  {
   "cell_type": "code",
   "execution_count": 18,
   "metadata": {},
   "outputs": [
    {
     "name": "stdout",
     "output_type": "stream",
     "text": [
      "28 degrés dans les eaux d'Alger, 29 dans celles de Corse et jusqu'à 31 degrés au large de Palerne. Depuis le début de l'été, le thermomètre de la mer méditerranée s'emballe. Il atteint des températures records, avec en moyenne 4 degrés de plus que la normale saisonnière. Ces épisodes de chaleur, appelés canicules marines, sont liés au réchauffement climatique. Ils peuvent durer de plusieurs jours à plusieurs mois, mais concrètement, qu'est-ce que c'est ? Souvent, c'est lié à une canicule terrestre, et donc on va avoir comme ça une augmentation finalement de la température de l'air qui va se transmettre à l'eau, et comme il n'y a pas de vent, comme il n'y a pas de brassage, les eaux plus profondes ne remontent pas en surface, elles ne se mélangent pas avec celles de la surface, et on arrive comme ça à une stratification de la couche d'eau qui monte en température et cette stratification descend progressivement vers le fond, jusqu'à toucher des zones où normalement la température de l'eau va être de l'ordre de 13-14°C Et là, on va pouvoir atteindre des fois des valeurs supérieures largement à 22°C. Si le changement climatique provoque une montée graduelle des températures, les canicules marines, quant à elles, se traduisent par des pics de chaleur abruptes. Ces canicules sont aussi appelées incendies sous-marins car elles peuvent entraîner une véritable décatombe de la biodiversité marine. En particulier des espèces dites fixées comme les éponges de mer, les gorgognes ou encore les courots. Ces espèces-là, qui ne peuvent pas se déplacer, qui ne sont pas du tout habituées à ces vagues de chaleur très importantes, Elles peuvent supporter quelques variations de température, des variations légères, mais pas des variations aussi fortes de plusieurs degrés. Et on va avoir donc, dans un premier temps, des perturbations de la croissance, de la reproduction, puis apparition de ce qu'on appelle des nécroses, c'est-à-dire des caramans, des tissus de ces animaux qui vont commencer à mourir jusqu'à arriver à la mort complète de l'animal. C'est le troisième été consécutif où la Méditerranée subit des canicules marines, des canicules qui bouleversent les écosystèmes marrons. Par exemple, vers Perpignan, on observe de plus en plus de gyrèles pans. À l'origine, ce petit poisson vit dans les régions sud de la Méditerranée, mais avec les fortes chaleurs, il remonte vers le nord. Puis, lorsque l'hiver est doux comme cette année, les populations de gyrèles pans se reproduisent et donc s'installent dans ces nouvelles zones. Et enfin, si les canicules marines perdurent, elles peuvent ouvrir les portes à des espèces dites exotiques et envahissantes.\n",
      "---\n",
      "En 2019, le GIEC a classé la mer Méditerranée parmi les hotspots du réchauffement climatique. En effet, elle se réchauffe environ 20% plus vite que le reste du globe, et c'est dû à sa configuration.\n",
      "---\n",
      "Car la mer Méditerranée est fermée et échange peu avec l'extérieur.\n",
      "---\n",
      "En effet, elle ne possède que deux ouvertures, l'une vers l'océan Atlantique au niveau du détroit de Gibraltar, et l'autre vers la mer Rouge à travers le canal de Suez. Mais qu'est-ce qu'on peut faire pour limiter ces canicules marines ? Il faudrait réduire la production des gaz à effet de serre qui s'accumulent dans l'atmosphère et qui la réchauffent. car les mers et les océans absorbent jusqu'à 90% de cet excédent de chaleur. Néanmoins, la création d'air marine protégé peut constituer un espoir. Parce qu'une air marine protégée, ce qu'il faut retenir, ce n'est pas qu'elle est là pour mettre sous cloche une zone, c'est qu'elle est là pour en fait protéger une zone, diminuer les pressions à l'intérieur de manière à ce que dans cette zone protégée, il y ait une reproduction qui soit optimale et qu'au travers de la dispersion des larves de ces animaux qui se reproduisent, on puisse recoloniser les zones adjacentes. Dans ces zones, la pêche et le tourisme sont régulés. Les organismes marins subissent donc moins de pression et sont donc plus aptes à résister aux canicules marines. Mais la faune n'est pas la seule impactée par le réchauffement de la Méditerranée, celui-ci influence aussi la météo. L'évaporation accrue de l'eau-mer augmente l'humidité dans l'atmosphère, cet air chaud va monter en altitude puis va ensuite refroidir ce qui peut conduire à des précipitations brutales comme des orages ou des violentes tempêtes.\n",
      "---\n"
     ]
    }
   ],
   "source": [
    "for sent in sentences:\n",
    "    print(sent.text, end='\\n---\\n')"
   ]
  }
 ],
 "metadata": {
  "kernelspec": {
   "display_name": "scienceinfuse",
   "language": "python",
   "name": "python3"
  },
  "language_info": {
   "codemirror_mode": {
    "name": "ipython",
    "version": 3
   },
   "file_extension": ".py",
   "mimetype": "text/x-python",
   "name": "python",
   "nbconvert_exporter": "python",
   "pygments_lexer": "ipython3",
   "version": "3.9.19"
  }
 },
 "nbformat": 4,
 "nbformat_minor": 2
}

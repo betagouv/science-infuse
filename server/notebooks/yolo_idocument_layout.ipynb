{
 "cells": [
  {
   "cell_type": "code",
   "execution_count": null,
   "metadata": {},
   "outputs": [],
   "source": [
    "# pdf_path = \"./data/UniversScience/dossiers-pédagogiques/marc/Flop chef.pdf\"\n",
    "# pdf_path = \"./data/UniversScience/revue-decouverte/decouverte_436.pdf\"\n",
    "pdf_path = './data/UniversScience/revue-decouverte/decouverte_436.pdf'\n"
   ]
  },
  {
   "cell_type": "code",
   "execution_count": null,
   "metadata": {},
   "outputs": [],
   "source": [
    "from pdf2image import convert_from_path\n",
    "pages = convert_from_path(pdf_path)"
   ]
  },
  {
   "cell_type": "code",
   "execution_count": null,
   "metadata": {},
   "outputs": [],
   "source": [
    "from ultralytics import YOLO\n",
    "#https://huggingface.co/omoured/YOLOv10-Document-Layout-Analysis\n",
    "\n",
    "model = YOLO('./models/yolov10x_best.pt').to('cuda:0')\n",
    "# image = cv2.imread('input_sample.png')\n",
    "\n"
   ]
  },
  {
   "cell_type": "code",
   "execution_count": null,
   "metadata": {},
   "outputs": [],
   "source": [
    "from PIL import Image\n",
    "# Function to draw the bounding box and label on the image\n",
    "def draw_bbox(image, x1, y1, x2, y2, label):\n",
    "    import cv2\n",
    "    import numpy as np\n",
    "    \n",
    "    # Convert the image to OpenCV format\n",
    "    image_cv = cv2.cvtColor(np.array(image), cv2.COLOR_RGB2BGR)\n",
    "    \n",
    "    # Draw the bounding box and label\n",
    "    cv2.rectangle(image_cv, (int(x1), int(y1)), (int(x2), int(y2)), (0, 255, 0), 2)\n",
    "    cv2.putText(image_cv, label, (int(x1), int(y1) - 10), cv2.FONT_HERSHEY_SIMPLEX, 0.5, (36, 255, 12), 2)\n",
    "    \n",
    "    # Convert the image back to PIL format\n",
    "    image_pil = Image.fromarray(cv2.cvtColor(image_cv, cv2.COLOR_BGR2RGB))\n",
    "    \n",
    "    return image_pil\n",
    "\n",
    "for image in pages:\n",
    "    result = model(image, conf=0.2, iou=0.8)[0]\n",
    "    # Iterate through each detection\n",
    "    for i, detection in enumerate(result.boxes):\n",
    "        # Get the bounding box coordinates\n",
    "        x1, y1, x2, y2 = detection.xyxy[0].cpu().numpy()\n",
    "        \n",
    "        # Get the confidence score\n",
    "        confidence = detection.conf.item()\n",
    "        \n",
    "        # Get the class ID and name\n",
    "        class_id = int(detection.cls)\n",
    "        class_name = result.names[class_id]\n",
    "        \n",
    "        # Draw the bounding box and label on the image\n",
    "        image = draw_bbox(image, x1, y1, x2, y2, class_name)\n",
    "\n",
    "        # # Print the information\n",
    "        # print(f\"Detection {i+1}:\")\n",
    "        # print(f\"  Class: {class_name}\")\n",
    "        # print(f\"  Confidence: {confidence:.2f}\")\n",
    "        # print(f\"  Bounding Box: ({x1:.2f}, {y1:.2f}) to ({x2:.2f}, {y2:.2f})\")\n",
    "\n",
    "        # Display the image with bounding box and label\n",
    "\n",
    "    display(image)\n"
   ]
  }
 ],
 "metadata": {
  "kernelspec": {
   "display_name": "Python (scienceinfuse)",
   "language": "python",
   "name": "scienceinfuse"
  },
  "language_info": {
   "codemirror_mode": {
    "name": "ipython",
    "version": 3
   },
   "file_extension": ".py",
   "mimetype": "text/x-python",
   "name": "python",
   "nbconvert_exporter": "python",
   "pygments_lexer": "ipython3",
   "version": "3.9.19"
  }
 },
 "nbformat": 4,
 "nbformat_minor": 2
}

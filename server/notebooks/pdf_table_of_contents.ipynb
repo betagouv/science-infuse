{
 "cells": [
  {
   "cell_type": "code",
   "execution_count": 11,
   "metadata": {},
   "outputs": [],
   "source": [
    "import sys\n",
    "import os\n",
    "import dotenv\n",
    "dotenv.load_dotenv('../../.env')\n",
    "\n",
    "# Add parent directory to Python path\n",
    "sys.path.append(os.path.abspath(os.path.join(os.getcwd(), '..')))\n",
    "sys.path.append(os.path.abspath(os.path.join(os.getcwd(), '..','app')))\n",
    "\n",
    "from app.SIWeaviateClient import SIWeaviateClient\n"
   ]
  },
  {
   "cell_type": "code",
   "execution_count": 3,
   "metadata": {},
   "outputs": [
    {
     "name": "stdout",
     "output_type": "stream",
     "text": [
      "{'title': 'PREAMBULE', 'page': 4}\n",
      "{'title': 'Scénario :', 'page': 4}\n",
      "{'title': 'Dans la régie :', 'page': 5}\n",
      "{'title': 'Préparation', 'page': 5}\n",
      "{'title': '2. FICHE', 'page': 6}\n",
      "{'title': 'DEROULEMENT', 'page': 7}\n",
      "{'title': 'A faire par les élèves ou le public pendant l’animation :', 'page': 7}\n",
      "{'title': 'Matériel', 'page': 8}\n",
      "{'title': 'NIVEAU   ORGANITE', 'page': 23}\n",
      "{'title': 'Organe :', 'page': 23}\n",
      "{'title': 'Tissu :', 'page': 23}\n",
      "{'title': 'Membrane', 'page': 24}\n",
      "{'title': 'Cytoplasme', 'page': 26}\n",
      "{'title': 'Organite', 'page': 26}\n",
      "{'title': 'Mitochondrie', 'page': 26}\n",
      "{'title': 'Noyau', 'page': 26}\n",
      "{'title': 'Récepteur', 'page': 26}\n",
      "{'title': 'Virus', 'page': 27}\n",
      "{'title': 'Bactérie', 'page': 27}\n",
      "{'title': 'Molécule', 'page': 28}\n",
      "{'title': 'Macromolécule', 'page': 28}\n",
      "{'title': 'ADN', 'page': 30}\n",
      "{'title': 'RESSOURCES', 'page': 34}\n",
      "{'title': 'Extraction de l’ADN', 'page': 35}\n",
      "{'title': '2.  A quoi sert le sel ?', 'page': 36}\n",
      "{'title': '7. Peux-t-on purifier l’ADN recueilli ?', 'page': 37}\n",
      "{'title': 'En anglais', 'page': 39}\n",
      "{'title': 'Conception :', 'page': 40}\n",
      "{'title': 'Exploitation :', 'page': 40}\n"
     ]
    }
   ],
   "source": [
    "import weaviate.classes as wvc\n",
    "import weaviate\n",
    "from weaviate.classes.query import Filter, GeoCoordinate, MetadataQuery, QueryReference, GroupBy\n",
    "\n",
    "\n",
    "client = weaviate.connect_to_local()\n",
    "document_chunk = client.collections.get(\"DocumentChunk\")\n",
    "document = client.collections.get(\"Document\")\n",
    "doc = document.query.fetch_object_by_id(\n",
    "    uuid=\"cbee23ef-8963-4110-9155-232eb66dd870\",\n",
    "    return_references=[QueryReference(\n",
    "        link_on=\"hasChunks\", \n",
    "        return_properties=[\"title\", \"meta_page_number\"]\n",
    "    )]\n",
    ")\n",
    "chunks = doc.references['hasChunks'].objects\n",
    "chunks = [{\"title\": chunk.properties.get('title'), \"page\": chunk.properties.get('meta_page_number')} for chunk in chunks if chunk.properties.get('title')]\n",
    "\n",
    "# Remove duplicates, keeping only the first occurrence (min page)\n",
    "unique_chunks = {}\n",
    "\n",
    "for chunk in chunks:\n",
    "\n",
    "    title = chunk['title'].strip().lstrip('>').strip()\n",
    "    page = chunk['page']\n",
    "    if title not in unique_chunks or page < unique_chunks[title]['page']:\n",
    "        unique_chunks[title] = {'title': title, 'page': page}\n",
    "\n",
    "chunks = list(unique_chunks.values())\n",
    "\n",
    "for chunk in chunks:\n",
    "    print(chunk)\n",
    "\n",
    "\n",
    "client.close()\n"
   ]
  }
 ],
 "metadata": {
  "kernelspec": {
   "display_name": "scienceinfuse",
   "language": "python",
   "name": "python3"
  },
  "language_info": {
   "codemirror_mode": {
    "name": "ipython",
    "version": 3
   },
   "file_extension": ".py",
   "mimetype": "text/x-python",
   "name": "python",
   "nbconvert_exporter": "python",
   "pygments_lexer": "ipython3",
   "version": "3.9.19"
  }
 },
 "nbformat": 4,
 "nbformat_minor": 2
}

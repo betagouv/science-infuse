{
 "cells": [
  {
   "cell_type": "code",
   "execution_count": 1,
   "metadata": {},
   "outputs": [
    {
     "name": "stderr",
     "output_type": "stream",
     "text": [
      "/home/erwan/anaconda3/envs/scienceinfuse/lib/python3.9/site-packages/huggingface_hub/file_download.py:1132: FutureWarning: `resume_download` is deprecated and will be removed in version 1.0.0. Downloads always resume when possible. If you want to force a new download, use `force_download=True`.\n",
      "  warnings.warn(\n"
     ]
    },
    {
     "name": "stdout",
     "output_type": "stream",
     "text": [
      "Loaded detection model vikp/surya_det2 on device cuda with dtype torch.float16\n",
      "Loaded detection model vikp/surya_layout2 on device cuda with dtype torch.float16\n",
      "Loaded reading order model vikp/surya_order on device cuda with dtype torch.float16\n"
     ]
    }
   ],
   "source": [
    "\n",
    "from dotenv import load_dotenv\n",
    "\n",
    "load_dotenv('../../.env')\n",
    "import sys\n",
    "sys.path.insert(0, '../app')\n",
    "from SIWeaviateClient import SIWeaviateClient\n",
    "from processing.image.SIImageDescription import SIImageDescription\n",
    "from processing.text.SIITranslator import SITranslator\n",
    "from processing.text.SISurya import SISurya\n",
    "from S3Storage import S3Storage\n",
    "\n",
    "s3 = S3Storage()\n",
    "image_descriptor = SIImageDescription()\n",
    "translator = SITranslator()\n",
    "surya = SISurya()\n",
    "\n"
   ]
  },
  {
   "cell_type": "markdown",
   "metadata": {},
   "source": [
    "## process single pdf"
   ]
  },
  {
   "cell_type": "code",
   "execution_count": 2,
   "metadata": {},
   "outputs": [
    {
     "name": "stdout",
     "output_type": "stream",
     "text": [
      "PDFProcessor pdf_path ./data/exported_document.pdf\n",
      "PDFProcessor extract_document self.pdf_path ./data/exported_document.pdf\n",
      "File ./data/exported_document.pdf uploaded successfully to bucket science-infuse-content as pdf/f91f3fae-14b5-4fa0-a3fe-473b32da86ba.pdf.\n",
      "PDFProcessor extract_document images 0\n"
     ]
    },
    {
     "name": "stderr",
     "output_type": "stream",
     "text": [
      "Detecting bboxes: 100%|██████████| 1/1 [00:03<00:00,  3.07s/it]\n",
      "Detecting bboxes: 100%|██████████| 1/1 [00:00<00:00,  6.99it/s]\n",
      "Finding reading order: 100%|██████████| 1/1 [00:00<00:00,  7.71it/s]"
     ]
    },
    {
     "name": "stdout",
     "output_type": "stream",
     "text": [
      "PDFProcessor extract_document texts 1\n",
      "RETURNING id='f91f3fae-14b5-4fa0-a3fe-473b32da86ba' publicPath='' originalPath='./data/exported_document.pdf' s3ObjectName='pdf/f91f3fae-14b5-4fa0-a3fe-473b32da86ba.pdf' mediaName='exported_document' [PdfTextChunk(document=Document(id='f91f3fae-14b5-4fa0-a3fe-473b32da86ba', publicPath='', originalPath='./data/exported_document.pdf', s3ObjectName='pdf/f91f3fae-14b5-4fa0-a3fe-473b32da86ba.pdf', mediaName='exported_document'), text=\"Mathilde l'Emperesse est une princesse de la maison de Normandie née vers le 7 février 1102, probablement à Sutton Courtenay dans l'Oxfordshire, et morte le 10 septembre 1167 à Rouen, en Normandie. Impératrice du Saint-Empire romain germanique, elle revendique le trône du royaume d'Angleterre contre Étienne de Blois. Leur lutte, une longue guerre civile surnommée « l'Anarchie », dure de 1135 à 1153.\", title='', mediaType=<MediaType.PDF_TEXT: 'pdf_text'>, metadata=PdfTextMetadata(pageNumber=1, bbox=BoundingBox(x1=1.0, y1=3.0, x2=570.0, y2=59.0)))]\n",
      "INSERT DOCUMENT 9497094d-3782-431a-be51-3da5144abdd3 id='f91f3fae-14b5-4fa0-a3fe-473b32da86ba' publicPath='' originalPath='./data/exported_document.pdf' s3ObjectName='pdf/f91f3fae-14b5-4fa0-a3fe-473b32da86ba.pdf' mediaName='exported_document'\n",
      "INSERT CHUNKS [PdfTextChunk(document=Document(id='f91f3fae-14b5-4fa0-a3fe-473b32da86ba', publicPath='', originalPath='./data/exported_document.pdf', s3ObjectName='pdf/f91f3fae-14b5-4fa0-a3fe-473b32da86ba.pdf', mediaName='exported_document'), text=\"Mathilde l'Emperesse est une princesse de la maison de Normandie née vers le 7 février 1102, probablement à Sutton Courtenay dans l'Oxfordshire, et morte le 10 septembre 1167 à Rouen, en Normandie. Impératrice du Saint-Empire romain germanique, elle revendique le trône du royaume d'Angleterre contre Étienne de Blois. Leur lutte, une longue guerre civile surnommée « l'Anarchie », dure de 1135 à 1153.\", title='', mediaType=<MediaType.PDF_TEXT: 'pdf_text'>, metadata=PdfTextMetadata(pageNumber=1, bbox=BoundingBox(x1=1.0, y1=3.0, x2=570.0, y2=59.0)))]\n",
      "INSERT CHUNK -  document=Document(id='f91f3fae-14b5-4fa0-a3fe-473b32da86ba', publicPath='', originalPath='./data/exported_document.pdf', s3ObjectName='pdf/f91f3fae-14b5-4fa0-a3fe-473b32da86ba.pdf', mediaName='exported_document') text=\"Mathilde l'Emperesse est une princesse de la maison de Normandie née vers le 7 février 1102, probablement à Sutton Courtenay dans l'Oxfordshire, et morte le 10 septembre 1167 à Rouen, en Normandie. Impératrice du Saint-Empire romain germanique, elle revendique le trône du royaume d'Angleterre contre Étienne de Blois. Leur lutte, une longue guerre civile surnommée « l'Anarchie », dure de 1135 à 1153.\" title='' mediaType=<MediaType.PDF_TEXT: 'pdf_text'> metadata=PdfTextMetadata(pageNumber=1, bbox=BoundingBox(x1=1.0, y1=3.0, x2=570.0, y2=59.0))\n",
      "SAVE DOCUMENT id='f91f3fae-14b5-4fa0-a3fe-473b32da86ba' publicPath='' originalPath='./data/exported_document.pdf' s3ObjectName='pdf/f91f3fae-14b5-4fa0-a3fe-473b32da86ba.pdf' mediaName='exported_document' [PdfTextChunk(document=Document(id='f91f3fae-14b5-4fa0-a3fe-473b32da86ba', publicPath='', originalPath='./data/exported_document.pdf', s3ObjectName='pdf/f91f3fae-14b5-4fa0-a3fe-473b32da86ba.pdf', mediaName='exported_document'), text=\"Mathilde l'Emperesse est une princesse de la maison de Normandie née vers le 7 février 1102, probablement à Sutton Courtenay dans l'Oxfordshire, et morte le 10 septembre 1167 à Rouen, en Normandie. Impératrice du Saint-Empire romain germanique, elle revendique le trône du royaume d'Angleterre contre Étienne de Blois. Leur lutte, une longue guerre civile surnommée « l'Anarchie », dure de 1135 à 1153.\", title='', mediaType=<MediaType.PDF_TEXT: 'pdf_text'>, metadata=PdfTextMetadata(pageNumber=1, bbox=BoundingBox(x1=1.0, y1=3.0, x2=570.0, y2=59.0)))]\n"
     ]
    },
    {
     "name": "stderr",
     "output_type": "stream",
     "text": [
      "\n"
     ]
    }
   ],
   "source": [
    "from processing.PDFProcessor import PDFProcessor\n",
    "import os\n",
    "import glob\n",
    "\n",
    "\n",
    "pdf_path = \"./data/exported_document.pdf\"\n",
    "with SIWeaviateClient() as client:\n",
    "    try:\n",
    "        pdf = PDFProcessor(image_descriptor, translator, surya, s3, pdf_path)\n",
    "    except Exception as e:\n",
    "        import traceback\n",
    "        print(\"ERROR\", e)\n",
    "        traceback.print_exc()"
   ]
  },
  {
   "cell_type": "markdown",
   "metadata": {},
   "source": [
    "## process all pdfs"
   ]
  },
  {
   "cell_type": "code",
   "execution_count": null,
   "metadata": {},
   "outputs": [],
   "source": [
    "from processing.PDFProcessor import PDFProcessor\n",
    "import os\n",
    "from weaviate.classes.query import Filter, GeoCoordinate, MetadataQuery, QueryReference\n",
    "# from app.SIWeaviateClient import SIWeaviateClient\n",
    "\n",
    "def get_all_pdfs():\n",
    "    pdf_files = []\n",
    "    for root, dirs, files in os.walk(\"./data\"):\n",
    "        for file in files:\n",
    "            if file.endswith(\".pdf\"):\n",
    "                pdf_files.append(os.path.join(root, file))\n",
    "                # pdf_files.append(os.path.abspath(os.path.join(root, file)))\n",
    "    return pdf_files\n",
    "\n",
    "def is_document_already_indexed(pdf_path, client: WeaviateClient):\n",
    "    document = client.collections.get(\"Document\")\n",
    "    response = document.query.fetch_objects(\n",
    "        filters=(\n",
    "            Filter.by_property(\"originalPath\").equal(pdf_path)\n",
    "        ),\n",
    "        limit=1,\n",
    "        return_properties=[]\n",
    "    )\n",
    "    return len(response.objects) > 0\n",
    "\n",
    "with SIWeaviateClient() as client:\n",
    "    print(\"CLIENT\", client)\n",
    "    pdf_paths = get_all_pdfs()\n",
    "    for pdf_path in pdf_paths:\n",
    "        # print(\"==========================================\")\n",
    "        # print(pdf_path)\n",
    "        if (is_document_already_indexed(pdf_path, client)):\n",
    "            print(f\"Already in DB, SKIP INDEXING {pdf_path}\")\n",
    "            continue\n",
    "        pdf = PDFProcessor(client, image_descriptor, translator, pdf_path)\n",
    "\n"
   ]
  },
  {
   "cell_type": "markdown",
   "metadata": {},
   "source": [
    "# test bugs"
   ]
  },
  {
   "cell_type": "code",
   "execution_count": null,
   "metadata": {},
   "outputs": [],
   "source": [
    "import sys\n",
    "sys.path.insert(0, '../app')\n",
    "from processing.image.SIImageDescription import SIImageDescription\n",
    "image_descriptor = SIImageDescription()"
   ]
  },
  {
   "cell_type": "code",
   "execution_count": null,
   "metadata": {},
   "outputs": [],
   "source": [
    "from IPython.display import Image \n",
    "from dotenv import load_dotenv\n",
    "load_dotenv('../../.env')\n",
    "import sys\n",
    "sys.path.insert(0, '../app')\n",
    "\n",
    "import io\n",
    "import fitz\n",
    "from PIL import Image\n",
    "from pymupdf import Document as PdfDocument\n",
    "\n",
    "def get_pdf_images(doc: type[PdfDocument]):\n",
    "    temp_images = []\n",
    "\n",
    "    for page_num in range(len(doc)):\n",
    "        page = doc[page_num]\n",
    "\n",
    "        for item in doc.get_page_images(page_num):\n",
    "            pix = fitz.Pixmap(doc, item[0])  # pixmap from the image xref\n",
    "            pix0 = fitz.Pixmap(fitz.csRGB, pix)  # force into RGB\n",
    "            pil_image = Image.frombytes(\"RGB\", [pix0.width, pix0.height], pix0.samples)\n",
    "            x0, y0, x1, y1 = page.get_image_bbox(item[7])\n",
    "            width = x1 - x0\n",
    "            height = y1 - y0\n",
    "            # print(f\"Width: {width}, Height: {height}\")\n",
    "            # print(f\"Image bounding box: x0={x0}, y0={y0}, x1={x1}, y1={y1}\")\n",
    "            # display(pil_image)\n",
    "            temp_images.append({\"image\": pil_image, \"pageNumber\": page_num+1, 'bbox': {\"x0\": x0, \"y0\": y0, \"x1\": x1, \"y1\": y1, }})\n",
    "\n",
    "    return temp_images\n",
    "\n",
    "# image_descriptor = SIImageDescription()\n",
    "pdf_path = \"/home/erwan/Desktop/clients/ScienceInfuse/server/notebooks/data/UniversScience/revue-decouverte/decouverte_436.pdf\"\n",
    "# pdf_path = \"/home/erwan/Desktop/clients/ScienceInfuse/server/notebooks/data/UniversScience/dossiers-pédagogiques/astro/2015/2015 - Dinosaures.pdf\"\n",
    "with fitz.open(pdf_path) as fitz_doc:\n",
    "    images = get_pdf_images(fitz_doc)\n",
    "    print(images[0])\n",
    "    images_chunks = [{**image, \"description_en\": image_descriptor.get_description(image['image'])} for image in images]\n",
    "\n",
    "    # for image in images:\n",
    "    #     display(image)\n",
    "    # images_chunks = [{**image, \"description_en\": image_descriptor.get_description(image['image'])} for image in images]\n"
   ]
  },
  {
   "cell_type": "code",
   "execution_count": null,
   "metadata": {},
   "outputs": [],
   "source": [
    "images_chunks"
   ]
  },
  {
   "cell_type": "code",
   "execution_count": null,
   "metadata": {},
   "outputs": [],
   "source": []
  }
 ],
 "metadata": {
  "kernelspec": {
   "display_name": "scienceinfuse",
   "language": "python",
   "name": "scienceinfuse"
  },
  "language_info": {
   "codemirror_mode": {
    "name": "ipython",
    "version": 3
   },
   "file_extension": ".py",
   "mimetype": "text/x-python",
   "name": "python",
   "nbconvert_exporter": "python",
   "pygments_lexer": "ipython3",
   "version": "3.9.19"
  }
 },
 "nbformat": 4,
 "nbformat_minor": 2
}

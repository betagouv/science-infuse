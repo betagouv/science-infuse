{
 "cells": [
  {
   "cell_type": "code",
   "execution_count": null,
   "metadata": {},
   "outputs": [],
   "source": [
    "import requests\n",
    "import torch\n",
    "from transformers import pipeline\n",
    "from transformers import AutoProcessor, AutoModelForCausalLM \n",
    "# optimize with fp16 loading\n",
    "model = AutoModelForCausalLM.from_pretrained(\"microsoft/Florence-2-large-ft\", trust_remote_code=True, torch_dtype=torch.float16).to(torch.cuda.current_device())\n",
    "processor = AutoProcessor.from_pretrained(\"microsoft/Florence-2-large-ft\", trust_remote_code=True)\n"
   ]
  },
  {
   "cell_type": "code",
   "execution_count": null,
   "metadata": {},
   "outputs": [],
   "source": [
    "# import requests\n",
    "# import torch\n",
    "# from transformers import pipeline\n",
    "# from transformers import AutoProcessor, AutoModelForCausalLM \n",
    "\n",
    "# import torch\n",
    "# from transformers import AutoModelForCausalLM, AutoProcessor, BitsAndBytesConfig\n",
    "\n",
    "# # optimize with fp16 loading\n",
    "# bitsandbytes_config = BitsAndBytesConfig(\n",
    "# load_in_4bit=True,\n",
    "# bnb_4bit_use_double_quant=True,\n",
    "# bnb_4bit_quant_type=\"nf4\",\n",
    "# bnb_4bit_compute_dtype=torch.bfloat16\n",
    "# )\n",
    "# model = AutoModelForCausalLM.from_pretrained(\"microsoft/Florence-2-large-ft\", trust_remote_code=True, torch_dtype=torch.float16, quantization_config=bitsandbytes_config)#.to(torch.cuda.current_device())\n",
    "# processor = AutoProcessor.from_pretrained(\"microsoft/Florence-2-large-ft\", trust_remote_code=True)\n"
   ]
  },
  {
   "cell_type": "code",
   "execution_count": null,
   "metadata": {},
   "outputs": [],
   "source": [
    "from PIL import Image\n",
    "import time\n",
    "\n",
    "def run_florence_2(image, task_prompt, text_input=None):\n",
    "    if text_input is None:\n",
    "        prompt = task_prompt\n",
    "    else:\n",
    "        prompt = task_prompt + text_input\n",
    "    inputs = processor(text=prompt, images=image, return_tensors=\"pt\").to(torch.cuda.current_device(), dtype=torch.float16)\n",
    "    generated_ids = model.generate(\n",
    "      input_ids=inputs[\"input_ids\"],\n",
    "      pixel_values=inputs[\"pixel_values\"],\n",
    "      max_new_tokens=1024,\n",
    "      num_beams=1\n",
    "    )\n",
    "    generated_text = processor.batch_decode(generated_ids, skip_special_tokens=False)[0]\n",
    "\n",
    "    parsed_answer = processor.post_process_generation(generated_text, task=task_prompt, image_size=(image.width, image.height))\n",
    "    return parsed_answer\n",
    "\n",
    "image = Image.open(\"./data/image.png\")\n",
    "start_time = time.time()\n",
    "\n",
    "for i in range(10):\n",
    "    caption = run_florence_2(image, \"<MORE_DETAILED_CAPTION>\", text_input=\"\")\n",
    "end_time = time.time()\n",
    "print(f\"Time taken: {end_time - start_time} seconds\")\n",
    "print(caption)"
   ]
  },
  {
   "cell_type": "code",
   "execution_count": null,
   "metadata": {},
   "outputs": [],
   "source": []
  }
 ],
 "metadata": {
  "kernelspec": {
   "display_name": "Python (scienceinfuse)",
   "language": "python",
   "name": "scienceinfuse"
  },
  "language_info": {
   "codemirror_mode": {
    "name": "ipython",
    "version": 3
   },
   "file_extension": ".py",
   "mimetype": "text/x-python",
   "name": "python",
   "nbconvert_exporter": "python",
   "pygments_lexer": "ipython3",
   "version": "3.9.19"
  }
 },
 "nbformat": 4,
 "nbformat_minor": 2
}

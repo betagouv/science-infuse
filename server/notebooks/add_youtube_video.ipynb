{
 "cells": [
  {
   "cell_type": "code",
   "execution_count": 1,
   "metadata": {},
   "outputs": [
    {
     "name": "stderr",
     "output_type": "stream",
     "text": [
      "[nltk_data] Downloading package omw-1.4 to /home/erwan/nltk_data...\n",
      "[nltk_data]   Package omw-1.4 is already up-to-date!\n",
      "/home/erwan/anaconda3/envs/scienceinfuse/lib/python3.9/site-packages/google/api_core/exceptions.py:37: ImportWarning: Please install grpcio-status to obtain helpful grpc error messages.\n",
      "  warnings.warn(\n",
      "[nltk_data] Downloading package omw-1.4 to /home/erwan/nltk_data...\n",
      "[nltk_data]   Package omw-1.4 is already up-to-date!\n"
     ]
    }
   ],
   "source": [
    "import sys\n",
    "\n",
    "sys.path.insert(0, '..')\n",
    "\n",
    "from app.processing.stt.SIWhisperModel import SIWhisperModel\n",
    "from app.SIWeaviateClient import SIWeaviateClient\n",
    "from app.processing.YoutubeProcessor import YoutubeProcessor\n",
    "\n",
    "whisper = SIWhisperModel('medium', 'whisper-medium')\n",
    "\n"
   ]
  },
  {
   "cell_type": "code",
   "execution_count": 3,
   "metadata": {},
   "outputs": [
    {
     "name": "stdout",
     "output_type": "stream",
     "text": [
      "AUDIO CODEC aac\n"
     ]
    },
    {
     "name": "stderr",
     "output_type": "stream",
     "text": [
      "whisper-medium: 100%|██████████| 167.346/167.346 [00:10<00:00, 16.38s/s]\n"
     ]
    },
    {
     "name": "stdout",
     "output_type": "stream",
     "text": [
      "time_taken 10.6313955783844\n"
     ]
    }
   ],
   "source": [
    "with SIWeaviateClient() as client:\n",
    "    YoutubeProcessor(client=client, whisper=whisper, youtube_url=\"https://www.youtube.com/watch?v=QMJmmJqDL1w\")"
   ]
  }
 ],
 "metadata": {
  "kernelspec": {
   "display_name": "Python (scienceinfuse)",
   "language": "python",
   "name": "scienceinfuse"
  },
  "language_info": {
   "codemirror_mode": {
    "name": "ipython",
    "version": 3
   },
   "file_extension": ".py",
   "mimetype": "text/x-python",
   "name": "python",
   "nbconvert_exporter": "python",
   "pygments_lexer": "ipython3",
   "version": "3.9.19"
  }
 },
 "nbformat": 4,
 "nbformat_minor": 2
}

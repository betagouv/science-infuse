{
 "cells": [
  {
   "cell_type": "markdown",
   "metadata": {},
   "source": [
    "# Multi Document Search"
   ]
  },
  {
   "cell_type": "code",
   "execution_count": 3,
   "metadata": {},
   "outputs": [
    {
     "data": {
      "text/plain": [
       "QueryReturn(objects=[Object(uuid=_WeaviateUUIDInt('4a0d74fa-3ebf-4cb6-b150-e6c973cdbcdb'), metadata=MetadataReturn(creation_time=None, last_update_time=None, distance=None, certainty=None, score=0.8472616076469421, explain_score=None, is_consistent=None, rerank_score=None), properties={'text': \"Une capture d'écran d'un écran d'ordinateur montrant une simulation. Il y a quatre graphes sur l'écran. Le premier montre une île verte avec un arbre de Palmier au-dessus de celle -ci et une personne debout sur l'île. À côté de l'île verte se trouve une image d'un globe avec une ligne rouge représentant la température et la température de la Terre.\", 'metadata': {'height': 945, 'public_path': '/pdf/images/3b525860-775f-4dc2-b083-69fe8f6459b3.png', 'width': 1912, 'page_number': 16}, 'media_type': 'image'}, references={'belongsToDocument': <weaviate.collections.classes.internal._CrossReference object at 0x78698edfdaf0>}, vector={}, collection='DocumentChunk'), Object(uuid=_WeaviateUUIDInt('a2ca9dc3-fce3-445e-90fb-5b70b08f0297'), metadata=MetadataReturn(creation_time=None, last_update_time=None, distance=None, certainty=None, score=0.699999988079071, explain_score=None, is_consistent=None, rerank_score=None), properties={'text': \"Ceci est une maison de poupée. La maison de poupée est en forme d'arbre. Le tronc d'arbre est brun et a des fleurs blanches dessus. Il y a des rideaux bleus accrochés au plafond. Il y a un lit au milieu de la maison de poupée avec un voile blanc au-dessus.\", 'media_type': 'image', 'metadata': {'page_number': 13, 'height': 1085, 'width': 607, 'public_path': '/pdf/images/aa35f111-d59d-47a0-b4bf-4b9d7188e52e.png'}}, references={'belongsToDocument': <weaviate.collections.classes.internal._CrossReference object at 0x78698edfdc10>}, vector={}, collection='DocumentChunk'), Object(uuid=_WeaviateUUIDInt('0e94b174-5065-40ff-a194-aaf0e166d749'), metadata=MetadataReturn(creation_time=None, last_update_time=None, distance=None, certainty=None, score=0.5450234413146973, explain_score=None, is_consistent=None, rerank_score=None), properties={'metadata': {'height': 838, 'page_number': 35, 'public_path': '/pdf/images/12ff5053-e4d9-48ee-805a-c81aaec7fa37.png', 'width': 1258}, 'media_type': 'image', 'text': \"Une table en bois a des pieds violets dessus. Il y a une image sur le mur derrière la table. Il y a des pommes rouges sur la table à côté d'un cercle noir.\"}, references={'belongsToDocument': <weaviate.collections.classes.internal._CrossReference object at 0x78698edfd820>}, vector={}, collection='DocumentChunk'), Object(uuid=_WeaviateUUIDInt('3e97624d-eece-4830-ac8e-2164fb2d06a2'), metadata=MetadataReturn(creation_time=None, last_update_time=None, distance=None, certainty=None, score=0.46197980642318726, explain_score=None, is_consistent=None, rerank_score=None), properties={'metadata': {'height': 634, 'width': 779, 'page_number': 14, 'public_path': '/pdf/images/1877bc2f-eb3f-40af-a31a-0fbbee3ba854.png'}, 'media_type': 'image', 'text': \"Il y a un cupcake sur le dessus d'une table. Il y a un chiffon de table à carreaux rouge et blanc sur la table. À côté du cupcake se trouve une spatule et une paire de pinces.\"}, references={'belongsToDocument': <weaviate.collections.classes.internal._CrossReference object at 0x78698edfda30>}, vector={}, collection='DocumentChunk'), Object(uuid=_WeaviateUUIDInt('af3aef92-77c0-47b8-aa2e-be4f15b13a00'), metadata=MetadataReturn(creation_time=None, last_update_time=None, distance=None, certainty=None, score=0.46197980642318726, explain_score=None, is_consistent=None, rerank_score=None), properties={'media_type': 'image', 'text': \"Il y a un cupcake sur le dessus d'une table. Il y a un chiffon de table à carreaux rouge et blanc sur la table. À côté du cupcake se trouve une spatule et une paire de pinces.\", 'metadata': {'height': 635, 'page_number': 17, 'public_path': '/pdf/images/dba3eca2-4bc0-491b-bce8-55a097c77d35.png', 'width': 779}}, references={'belongsToDocument': <weaviate.collections.classes.internal._CrossReference object at 0x78698edfe2b0>}, vector={}, collection='DocumentChunk'), Object(uuid=_WeaviateUUIDInt('437a7e2c-97ca-41ae-be5d-db2f3b543595'), metadata=MetadataReturn(creation_time=None, last_update_time=None, distance=None, certainty=None, score=0.3840073347091675, explain_score=None, is_consistent=None, rerank_score=None), properties={'media_type': 'image', 'metadata': {'width': 319, 'public_path': '/pdf/images/21fd8c73-500f-4f49-ba4b-3d945530044f.png', 'height': 473, 'page_number': 30}, 'text': 'Un croissant de Lune est accroché aux cordes. Il y a un papillon jaune au-dessus du croissant. Il y a de petites étoiles blanches sur le fond bleu.'}, references={'belongsToDocument': <weaviate.collections.classes.internal._CrossReference object at 0x78698edfe7c0>}, vector={}, collection='DocumentChunk'), Object(uuid=_WeaviateUUIDInt('1e62831e-214c-43ab-a0f4-ad08358e6211'), metadata=MetadataReturn(creation_time=None, last_update_time=None, distance=None, certainty=None, score=0.38397231698036194, explain_score=None, is_consistent=None, rerank_score=None), properties={'text': \"Un groupe de personnes se tient autour d'une table. Elles portent toutes des masques. Il y a des bols et des bacs sur le dessus de la table. Il y a un signe accroché au plafond.\", 'media_type': 'image', 'metadata': {'page_number': 8, 'width': 1200, 'public_path': '/pdf/images/365cf68f-05a9-49c9-ab41-533436283fc6.png', 'height': 801}}, references={'belongsToDocument': <weaviate.collections.classes.internal._CrossReference object at 0x78698edfe490>}, vector={}, collection='DocumentChunk'), Object(uuid=_WeaviateUUIDInt('90d6eff4-66fc-4687-b55f-41403f0513e5'), metadata=MetadataReturn(creation_time=None, last_update_time=None, distance=None, certainty=None, score=0.31283101439476013, explain_score=None, is_consistent=None, rerank_score=None), properties={'metadata': {'width': 600, 'public_path': '/pdf/images/5c7dfec9-aaa8-4b42-ad1b-97b3ef783974.png', 'page_number': 18, 'height': 400}, 'media_type': 'image', 'text': \"Il y a deux petits galettes sur le dessus d'une table blanche. Il y a des rideaux blancs derrière les galettes. Il y a un papier blanc sur la table devant le galette.\"}, references={'belongsToDocument': <weaviate.collections.classes.internal._CrossReference object at 0x78698edfcb20>}, vector={}, collection='DocumentChunk'), Object(uuid=_WeaviateUUIDInt('e2ba998b-c38f-44b9-8735-8da8be919d86'), metadata=MetadataReturn(creation_time=None, last_update_time=None, distance=None, certainty=None, score=0.3031715154647827, explain_score=None, is_consistent=None, rerank_score=None), properties={'media_type': 'image', 'metadata': {'height': 622, 'width': 901, 'page_number': 36, 'public_path': '/pdf/images/da142731-40fa-4e79-865a-826439318bca.png'}, 'text': \"Un tableau d'un groupe de personnes couchées dans une pile de terre. Il y a des étoiles jaunes au-dessus d'elles. Il y a un fond noir derrière elles.\"}, references={'belongsToDocument': <weaviate.collections.classes.internal._CrossReference object at 0x78698edfcdf0>}, vector={}, collection='DocumentChunk'), Object(uuid=_WeaviateUUIDInt('7572df57-a5b8-4da4-b07a-ca27eccd0ad1'), metadata=MetadataReturn(creation_time=None, last_update_time=None, distance=None, certainty=None, score=0.2992461621761322, explain_score=None, is_consistent=None, rerank_score=None), properties={'metadata': {'text_end_offset': 1, 'text_start_offset': 0}, 'media_type': 'text', 'text': 'i\\nt\\ns\\ns son le pon\\nt\\nd des œuf\\ns\\nc\\ns le m\\ni\\nl\\nt\\né\\nr\\n.\\né\\nroge pas\\nègle. Chez cet\\np\\nè\\n'}, references={'belongsToDocument': <weaviate.collections.classes.internal._CrossReference object at 0x78698462cf40>}, vector={}, collection='DocumentChunk'), Object(uuid=_WeaviateUUIDInt('359c81fa-7a41-4689-8366-b2eb595f086b'), metadata=MetadataReturn(creation_time=None, last_update_time=None, distance=None, certainty=None, score=0.2954295575618744, explain_score=None, is_consistent=None, rerank_score=None), properties={'metadata': {'width': 1888, 'page_number': 24, 'height': 1063, 'public_path': '/pdf/images/4a5aac12-f181-4dff-b579-267d6afdda44.png'}, 'media_type': 'image', 'text': 'Une pièce avec un tas de rideaux accrochés au plafond. Il y a une table devant les rideaux avec un objet rouge au-dessus.'}, references={'belongsToDocument': <weaviate.collections.classes.internal._CrossReference object at 0x78698eded310>}, vector={}, collection='DocumentChunk'), Object(uuid=_WeaviateUUIDInt('5b4ce474-4368-45a4-9452-de2052d5c2d8'), metadata=MetadataReturn(creation_time=None, last_update_time=None, distance=None, certainty=None, score=0.2936997711658478, explain_score=None, is_consistent=None, rerank_score=None), properties={'metadata': {'page_number': 29, 'height': 658, 'public_path': '/pdf/images/a0313a3b-50e7-49ff-abd4-16684b0504b3.png', 'width': 509}, 'media_type': 'image', 'text': \"C'est une image caricaturale d'un cupcake. Le cupcake est brun et a un jaune givrant sur le dessus. Il y a six cerises sur le dessus du cupcake et quatre gaufres sur les côtés. Il y a une porte au milieu du cake et quatre fenêtres sur le devant du bâtiment. Le bâtiment est sur une plaque violette avec de petits cailloux dessus.\"}, references={'belongsToDocument': <weaviate.collections.classes.internal._CrossReference object at 0x7869845a7c10>}, vector={}, collection='DocumentChunk'), Object(uuid=_WeaviateUUIDInt('4fa80f43-2a79-40f7-9e5d-0ca7539de035'), metadata=MetadataReturn(creation_time=None, last_update_time=None, distance=None, certainty=None, score=0.2928476333618164, explain_score=None, is_consistent=None, rerank_score=None), properties={'text': 'Un diagramme de la Terre est affiché dans un cercle. Autour du cercle sont étiquetés les noms des différentes parties de la Terre.', 'media_type': 'image', 'metadata': {'height': 722, 'width': 902, 'public_path': '/pdf/images/0650eb46-576b-4735-8f29-2cf4bdd28ea5.png', 'page_number': 11}}, references={'belongsToDocument': <weaviate.collections.classes.internal._CrossReference object at 0x78698f7a0190>}, vector={}, collection='DocumentChunk'), Object(uuid=_WeaviateUUIDInt('fea846f2-a963-44c1-9003-21a19d2b8818'), metadata=MetadataReturn(creation_time=None, last_update_time=None, distance=None, certainty=None, score=0.2928476333618164, explain_score=None, is_consistent=None, rerank_score=None), properties={'metadata': {'height': 722, 'width': 902, 'public_path': '/pdf/images/966bb09e-36e8-41d2-afec-dcfc389a6640.png', 'page_number': 27}, 'text': 'Un diagramme de la Terre est affiché dans un cercle. Autour du cercle sont étiquetés les noms des différentes parties de la Terre.', 'media_type': 'image'}, references={'belongsToDocument': <weaviate.collections.classes.internal._CrossReference object at 0x7869845a9100>}, vector={}, collection='DocumentChunk'), Object(uuid=_WeaviateUUIDInt('ea6fdea5-2005-43fa-a0a5-ec2a3c04267d'), metadata=MetadataReturn(creation_time=None, last_update_time=None, distance=None, certainty=None, score=0.2721705436706543, explain_score=None, is_consistent=None, rerank_score=None), properties={'metadata': {'width': 908, 'public_path': '/pdf/images/aecd2aa7-d809-46fd-96ce-73611be5bfac.png', 'height': 446, 'page_number': 11}, 'text': \"Une main tient une figure de jouet qui se tient au-dessus d'un globe. Le globe a une poignée marron et une base marron. Il y a un mur de briques derrière le globe.\", 'media_type': 'image'}, references={'belongsToDocument': <weaviate.collections.classes.internal._CrossReference object at 0x7869845a9250>}, vector={}, collection='DocumentChunk'), Object(uuid=_WeaviateUUIDInt('6d1888da-5602-40e4-8aff-469d609448d4'), metadata=MetadataReturn(creation_time=None, last_update_time=None, distance=None, certainty=None, score=0.2642427384853363, explain_score=None, is_consistent=None, rerank_score=None), properties={'text': 'i\\nque oc\\ncup\\né\\n,\\nt vous pour\\nt-\\nt dan s cet aquar t sur la mer » es s aux for nes s humai\\nê\\ni\\n', 'metadata': {'text_end_offset': 1, 'text_start_offset': 0}, 'media_type': 'text'}, references={'belongsToDocument': <weaviate.collections.classes.internal._CrossReference object at 0x7869845a90d0>}, vector={}, collection='DocumentChunk'), Object(uuid=_WeaviateUUIDInt('051718d5-2bd5-4a8b-9b07-fae657dfd56f'), metadata=MetadataReturn(creation_time=None, last_update_time=None, distance=None, certainty=None, score=0.25970593094825745, explain_score=None, is_consistent=None, rerank_score=None), properties={'media_type': 'text', 'metadata': {'text_end_offset': 1, 'text_start_offset': 0}, 'text': 'les pôles\\nLes océans et les pôles\\n(https://eduscol.education.fr/2252/ocean-et-poles)\\nLa biodiversité\\n'}, references={'belongsToDocument': <weaviate.collections.classes.internal._CrossReference object at 0x7869845a9f70>}, vector={}, collection='DocumentChunk'), Object(uuid=_WeaviateUUIDInt('fc63c0b1-cef8-45de-8af2-eba24932c7ee'), metadata=MetadataReturn(creation_time=None, last_update_time=None, distance=None, certainty=None, score=0.24191293120384216, explain_score=None, is_consistent=None, rerank_score=None), properties={'text': 'Une table est intitulée «  Objet  » et «  Population locale  » en français et en anglais. Chaque table est divisée en deux colonnes. La première colonne est intitulée «  Mercure, Venus la Terre et Mars  » et la seconde colonne est intitulée «  Cérées  ». Au-dessous de la première colonne, il y a une liste des noms des planètes en français.', 'media_type': 'image', 'metadata': {'width': 1164, 'height': 618, 'public_path': '/pdf/images/93d107c8-642e-4aac-ac66-abd2390e9d07.png', 'page_number': 22}}, references={'belongsToDocument': <weaviate.collections.classes.internal._CrossReference object at 0x7869845a9610>}, vector={}, collection='DocumentChunk'), Object(uuid=_WeaviateUUIDInt('9c8f5e35-f504-411f-be3c-0348b8634ccc'), metadata=MetadataReturn(creation_time=None, last_update_time=None, distance=None, certainty=None, score=0.23184439539909363, explain_score=None, is_consistent=None, rerank_score=None), properties={'text': \"Il y a un grand papillon bleu sur le dessus d'une table blanche. Il y a une brochure blanche à côté du papillon. Il y a de petits cercles noirs sur la table sous le papillon bleu.\", 'metadata': {'height': 498, 'public_path': '/pdf/images/803f7b3c-c039-40b8-a3d3-5289ac5e1f04.png', 'page_number': 15, 'width': 883}, 'media_type': 'image'}, references={'belongsToDocument': <weaviate.collections.classes.internal._CrossReference object at 0x7869845a99d0>}, vector={}, collection='DocumentChunk'), Object(uuid=_WeaviateUUIDInt('7d880ed1-d624-4f1a-a0df-d27ab12cd69b'), metadata=MetadataReturn(creation_time=None, last_update_time=None, distance=None, certainty=None, score=0.22698131203651428, explain_score=None, is_consistent=None, rerank_score=None), properties={'media_type': 'text', 'metadata': {'text_end_offset': 1, 'text_start_offset': 0}, 'text': 'ier\\ns\\ni\\nques\\n. Voler © A\\ny / Palai\\ns de la por\\nte Dor\\née.\\nPour en savoir plus\\nhttps://www.aquarium-tropical.fr/\\n'}, references={'belongsToDocument': <weaviate.collections.classes.internal._CrossReference object at 0x78698453f370>}, vector={}, collection='DocumentChunk')])"
      ]
     },
     "execution_count": 3,
     "metadata": {},
     "output_type": "execute_result"
    }
   ],
   "source": [
    "import sys\n",
    "\n",
    "sys.path.insert(0, '..')\n",
    "\n",
    "import weaviate.classes as wvc\n",
    "import weaviate\n",
    "from collections import defaultdict\n",
    "from schemas import ChunkWithScore, DocumentSearchResult\n",
    "from weaviate.classes.query import Filter, GeoCoordinate, MetadataQuery, QueryReference, GroupBy\n",
    "\n",
    "\n",
    "query = \"l'île de Pâques\"\n",
    "client = weaviate.connect_to_local()\n",
    "# print(\"SEARCH_MULTI_DOCUMENTS 0 \", query)\n",
    "document_chunk = client.collections.get(\"DocumentChunk\")\n",
    "response = document_chunk.query.hybrid(\n",
    "    query=query,\n",
    "    return_metadata=wvc.query.MetadataQuery(score=True),\n",
    "    query_properties=[\"text\"],\n",
    "    return_references=[QueryReference(link_on=\"belongsToDocument\", return_properties=[\"document_id\", \"public_path\", \"original_path\", \"media_name\", \"max_score\", \"min_score\"])]\n",
    ")\n",
    "# print(\"SEARCH_MULTI_DOCUMENTS 1 \", response)\n",
    "client.close()\n",
    "\n",
    "# Assume response is the result from the above query\n",
    "grouped_results = defaultdict(list)\n",
    "for chunk in response.objects:\n",
    "    doc_ref = chunk.references['belongsToDocument'].objects[0].properties\n",
    "    grouped_results[doc_ref['document_id']].append(chunk)\n",
    "\n",
    "# Now `grouped_results` contains your data grouped by 'document_id'\n",
    "# for document_id, chunks in grouped_results.items():\n",
    "#     print(f\"Media id: {document_id}, || Chunks: {chunks}\")\n",
    "\n",
    "documentsSearchResponse = []\n",
    "\n",
    "for document_id, group in grouped_results.items():  # View by group\n",
    "    # max_score = min(chunk for chunk in group)#group.max_score\n",
    "    # min_score = min(chunk for chunk in group)#group.min_score\n",
    "    currentDocumentChunksWithDistance = []\n",
    "    for _documentChunk in group:\n",
    "        score = _documentChunk.metadata.score\n",
    "        cuurrentChunkWithScore = ChunkWithScore.model_validate({**_documentChunk.properties, \"score\": score})\n",
    "        currentDocumentChunksWithDistance.append(cuurrentChunkWithScore)\n",
    "    \n",
    "    documentProperties = _documentChunk.references['belongsToDocument'].objects[0].properties\n",
    "    \n",
    "    documentSearchResult = DocumentSearchResult(\n",
    "        document_id=documentProperties['document_id'],\n",
    "        public_path=documentProperties['public_path'],\n",
    "        original_path=documentProperties['original_path'],\n",
    "        media_name=documentProperties['media_name'],\n",
    "        min_score=min(chunk.score for chunk in currentDocumentChunksWithDistance),\n",
    "        max_score=max(chunk.score for chunk in currentDocumentChunksWithDistance),\n",
    "        chunks=currentDocumentChunksWithDistance\n",
    "    )\n",
    "    documentsSearchResponse.append(documentSearchResult)\n",
    "for doc in documentsSearchResponse:\n",
    "    print(doc.media_name)\n",
    "    for chunk in doc.chunks:\n",
    "        print(f\"    -->  {chunk.score} | {chunk.text}\")\n"
   ]
  },
  {
   "cell_type": "markdown",
   "metadata": {},
   "source": [
    "# Single Document Search"
   ]
  },
  {
   "cell_type": "code",
   "execution_count": 1,
   "metadata": {},
   "outputs": [
    {
     "name": "stderr",
     "output_type": "stream",
     "text": [
      "/home/erwan/Desktop/clients/ScienceInfuse/server/notebooks/../app/schemas.py:45: GenericBeforeBaseModelWarning: Classes should inherit from `BaseModel` before generic classes (e.g. `typing.Generic[T]`) for pydantic generics to work properly.\n",
      "  class ChunkWithScore(Generic[ChunkType], BaseDocumentChunk):\n"
     ]
    }
   ],
   "source": [
    "import sys\n",
    "\n",
    "sys.path.insert(0, '..')\n",
    "\n",
    "from weaviate.util import get_valid_uuid\n",
    "import weaviate.classes as wvc\n",
    "import weaviate\n",
    "from collections import defaultdict\n",
    "from schemas import ChunkWithScore, DocumentSearchResult\n",
    "from weaviate.classes.query import Filter, GeoCoordinate, MetadataQuery, QueryReference, GroupBy\n",
    "\n",
    "\n",
    "query = \"l'île de Paques\"\n",
    "client = weaviate.connect_to_local()\n",
    "# print(\"SEARCH_MULTI_DOCUMENTS 0 \", query)\n",
    "document_chunk = client.collections.get(\"DocumentChunk\")\n",
    "response = document_chunk.query.hybrid(\n",
    "    query=query,\n",
    "    return_metadata=wvc.query.MetadataQuery(score=True),\n",
    "    query_properties=[\"text\"],\n",
    "    filters=Filter.by_ref(link_on=\"belongsToDocument\").by_property(\"document_id\").equal(get_valid_uuid(uuid=\"9e80a4c3-7139-4f66-b450-e94cbbf06e2b\")),\n",
    "    return_references=[QueryReference(link_on=\"belongsToDocument\", return_properties=[\"document_id\", \"public_path\", \"original_path\", \"media_name\", \"max_score\", \"min_score\"])]\n",
    ")\n",
    "# print(\"SEARCH_MULTI_DOCUMENTS 1 \", response)\n",
    "client.close()\n",
    "\n",
    "\n",
    "# Assume response is the result from the above query\n",
    "grouped_results = defaultdict(list)\n",
    "for chunk in response.objects:\n",
    "    doc_ref = chunk.references['belongsToDocument'].objects[0].properties\n",
    "    grouped_results[doc_ref['document_id']].append(chunk)\n",
    "\n",
    "# Now `grouped_results` contains your data grouped by 'document_id'\n",
    "# for document_id, chunks in grouped_results.items():\n",
    "#     print(f\"Media id: {document_id}, || Chunks: {chunks}\")\n",
    "\n",
    "documentsSearchResponse = []\n",
    "\n",
    "for document_id, group in grouped_results.items():  # View by group\n",
    "    # max_score = min(chunk for chunk in group)#group.max_score\n",
    "    # min_score = min(chunk for chunk in group)#group.min_score\n",
    "    currentDocumentChunksWithDistance = []\n",
    "    for _documentChunk in group:\n",
    "        score = _documentChunk.metadata.score\n",
    "        cuurrentChunkWithScore = ChunkWithScore.model_validate({**_documentChunk.properties, \"score\": score})\n",
    "        currentDocumentChunksWithDistance.append(cuurrentChunkWithScore)\n",
    "    \n",
    "    documentProperties = _documentChunk.references['belongsToDocument'].objects[0].properties\n",
    "    \n",
    "    documentSearchResult = DocumentSearchResult(\n",
    "        document_id=documentProperties['document_id'],\n",
    "        public_path=documentProperties['public_path'],\n",
    "        original_path=documentProperties['original_path'],\n",
    "        media_name=documentProperties['media_name'],\n",
    "        min_score=min(chunk.score for chunk in currentDocumentChunksWithDistance),\n",
    "        max_score=max(chunk.score for chunk in currentDocumentChunksWithDistance),\n",
    "        chunks=currentDocumentChunksWithDistance\n",
    "    )\n",
    "    documentsSearchResponse.append(documentSearchResult)\n",
    "for doc in documentsSearchResponse:\n",
    "    print(doc.media_name)\n",
    "    for chunk in doc.chunks:\n",
    "        print(f\"    -->  {chunk.score} | {chunk.text}\")\n"
   ]
  },
  {
   "cell_type": "code",
   "execution_count": 13,
   "metadata": {},
   "outputs": [],
   "source": []
  },
  {
   "cell_type": "markdown",
   "metadata": {},
   "source": [
    "# Search Chunks"
   ]
  },
  {
   "cell_type": "code",
   "execution_count": 4,
   "metadata": {},
   "outputs": [
    {
     "name": "stdout",
     "output_type": "stream",
     "text": [
      "bf306afb-c870-4d9f-9dc5-e9c387f3f87e\n",
      "pdf_text {'title': 'Janvier-Février-Mars>TERRE & UNIVERS', 'meta_end': None, 'meta_type': None, 'meta_bbox': {'x2': 212.0, 'y2': 406.0, 'x1': 39.0, 'y1': 65.0}, 'meta_url': None, 'meta_s3_object_name': None, 'user_approved': None, 'meta_question': None, 'text': 'du Massif armoricain à sa partie sud et au Massif central. Plus à l’est, la zone de Teplá dans l’Erzgebirge serait entrée également en collision avec la Bohême. Pour autant, les données paléontologiques et paléomagné\\xad tiques ne révèlent aucune différence notable entre espèces planctoniques et paléolati\\xad tudes de part et d’autre des sutures, ce qui suppose une forte proximité géographique entre les différents blocs. Des données qui infirment donc l’existence d’un tel océan, ou du moins lui imposeraient une taille extrê\\xad mement réduite… En outre, le bloc saxo- thuringien situé au-dessus du massif Vosges-Forêt-Noire (équivalent oriental du Massif central) n’est pas apparenté au Massif nord-armoricain. Au nord-ouest, ce dernier n’a également aucun équivalent puisque l’Estrémadure et la Galice espagnoles pré- sentent des similitudes géologiques avec l’île de Groix, le Limousin et le Massif central (nord ou sud, la question reste ouverte). La continuité des sutures est rompue une fois de plus et les remaniements advenus pendant les trois cents millions d’années qui ont suivi l’orogenèse n’en sont pas les seuls responsables. La clef du problème réside plutôt dans l’analyse des perturbations qui se sont produites au moment même de l’édification des massifs hercyniens.', 'meta_answer': None, 'media_type': 'pdf_text', 'meta_page_number': 29, 'meta_start': None, 'document': {'public_path': '', 'original_path': '/home/erwan/Desktop/clients/ScienceInfuse/server/ftp-data/decouverte_436.pdf', 's3_object_name': 'pdf/836cf2d3-bc4e-4c96-9229-cb7d2591019e.pdf', 'media_name': 'decouverte_436', 'document_id': UUID('836cf2d3-bc4e-4c96-9229-cb7d2591019e')}}\n"
     ]
    }
   ],
   "source": [
    "import sys\n",
    "\n",
    "sys.path.insert(0, '..')\n",
    "\n",
    "import weaviate.classes as wvc\n",
    "import weaviate\n",
    "from collections import defaultdict\n",
    "from app.schemas import ChunkWithScore, DocumentSearchResult\n",
    "from weaviate.classes.query import Filter, GeoCoordinate, MetadataQuery, QueryReference, GroupBy\n",
    "\n",
    "\n",
    "query = \"intestin\"\n",
    "client = weaviate.connect_to_local()\n",
    "# print(\"SEARCH_MULTI_DOCUMENTS 0 \", query)\n",
    "document_chunk = client.collections.get(\"DocumentChunk\")\n",
    "response = document_chunk.query.hybrid(\n",
    "    query=query,\n",
    "    limit=1,\n",
    "    # filters=(Filter.by_property(\"media_type\").contains_any(['website_qa']) & Filter.by_property(\"media_type\").contains_any(['website_qa'])),\n",
    "    return_metadata=wvc.query.MetadataQuery(score=True),\n",
    "    query_properties=[\"text\"],\n",
    "    return_references=[QueryReference(link_on=\"belongsToDocument\", return_properties=[\"document_id\", \"public_path\", \"original_path\", \"media_name\", \"max_score\", \"min_score\"])]\n",
    ")\n",
    "# print(\"SEARCH_MULTI_DOCUMENTS 1 \", response)\n",
    "client.close()\n",
    "\n",
    "for obj in response.objects:\n",
    "    print(obj.uuid)\n",
    "    print(obj.properties.get(\"media_type\"), obj.properties)\n"
   ]
  },
  {
   "cell_type": "code",
   "execution_count": 73,
   "metadata": {},
   "outputs": [
    {
     "name": "stdout",
     "output_type": "stream",
     "text": [
      "None\n"
     ]
    }
   ],
   "source": [
    "from functools import reduce\n",
    "from operator import and_\n",
    "\n",
    "def add_filter(condition, filter_func):\n",
    "    return filter_func() if condition else None\n",
    "\n",
    "filter_conditions = [\n",
    "    (False, lambda: Filter.by_property(\"media_type\").contains_any(['website_qa'])),\n",
    "    (False, lambda: Filter.by_property(\"some_property\").equal(\"some_value\")),\n",
    "    (False, lambda: Filter.by_property(\"another_property\").contains_all(\"another_value\")),\n",
    "    (False, lambda: Filter.by_property(\"yet_another\").greater_than(5)),\n",
    "    (False, lambda: Filter.by_property(\"final_property\").less_than(10))\n",
    "]\n",
    "\n",
    "# Apply filters and remove None values\n",
    "valid_filters = [f() for condition, f in filter_conditions if condition]\n",
    "\n",
    "# Combine filters with & in a flat structure\n",
    "filters = reduce(and_, valid_filters) if valid_filters else None\n",
    "\n",
    "print(filters)"
   ]
  }
 ],
 "metadata": {
  "kernelspec": {
   "display_name": "scienceinfuse",
   "language": "python",
   "name": "python3"
  },
  "language_info": {
   "codemirror_mode": {
    "name": "ipython",
    "version": 3
   },
   "file_extension": ".py",
   "mimetype": "text/x-python",
   "name": "python",
   "nbconvert_exporter": "python",
   "pygments_lexer": "ipython3",
   "version": "3.9.19"
  }
 },
 "nbformat": 4,
 "nbformat_minor": 2
}

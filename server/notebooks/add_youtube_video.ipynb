{
 "cells": [
  {
   "cell_type": "code",
   "execution_count": 1,
   "metadata": {},
   "outputs": [
    {
     "name": "stderr",
     "output_type": "stream",
     "text": [
      "[nltk_data] Downloading package omw-1.4 to /home/erwan/nltk_data...\n",
      "[nltk_data]   Package omw-1.4 is already up-to-date!\n",
      "[nltk_data] Downloading package omw-1.4 to /home/erwan/nltk_data...\n",
      "[nltk_data]   Package omw-1.4 is already up-to-date!\n"
     ]
    }
   ],
   "source": [
    "import sys\n",
    "import dotenv\n",
    "dotenv.load_dotenv('../../.env')\n",
    "\n",
    "sys.path.insert(0, '../')\n",
    "sys.path.insert(0, '../app')\n",
    "\n",
    "from app.processing.audio.SIWhisperModel import SIWhisperModel\n",
    "from app.processing.YoutubeProcessor import YoutubeProcessor\n",
    "\n",
    "whisper = SIWhisperModel('medium', 'whisper-medium')\n",
    "\n"
   ]
  },
  {
   "cell_type": "code",
   "execution_count": 3,
   "metadata": {},
   "outputs": [
    {
     "name": "stdout",
     "output_type": "stream",
     "text": [
      "AUDIO CODEC aac\n"
     ]
    },
    {
     "name": "stderr",
     "output_type": "stream",
     "text": [
      "whisper-medium: 100%|██████████| 122.926/122.926 [00:09<00:00, 12.44s/s]\n"
     ]
    },
    {
     "name": "stdout",
     "output_type": "stream",
     "text": [
      "time_taken 10.383424043655396\n",
      "File /home/erwan/Desktop/clients/ScienceInfuse/server/notebooks/documents/youtube/1aa5d83e-dd5c-4525-93d3-d7ab55d056f0.mp4 uploaded successfully to bucket science-infuse-content as youtube/8b37ad65-73b1-43ff-82e5-33f09ef06f28.mp4.\n",
      "INSERT DOCUMENT 4ef66422-8472-408e-9793-2985c8373102 id='1aa5d83e-dd5c-4525-93d3-d7ab55d056f0' publicPath='https://www.youtube.com/watch?v=abQFa-Nu5V4' originalPath='https://www.youtube.com/watch?v=abQFa-Nu5V4' s3ObjectName='youtube/8b37ad65-73b1-43ff-82e5-33f09ef06f28.mp4' mediaName=\"L'incroyable pouvoir de guérison de l'axolotl\"\n",
      "INSERT CHUNKS [VideoTranscriptChunk(document=Document(id='1aa5d83e-dd5c-4525-93d3-d7ab55d056f0', publicPath='https://www.youtube.com/watch?v=abQFa-Nu5V4', originalPath='https://www.youtube.com/watch?v=abQFa-Nu5V4', s3ObjectName='youtube/8b37ad65-73b1-43ff-82e5-33f09ef06f28.mp4', mediaName=\"L'incroyable pouvoir de guérison de l'axolotl\"), text='Nous autres, humains, réagissons très différemment lorsque nous sommes blessés. Des pèses cicatrices se forment rapidement pour éviter les hémorragies, mais cela empêche le processus de la régénération.', title=\"L'incroyable pouvoir de guérison de l'axolotl\", mediaType=<MediaType.VIDEO_TRANSCRIPT: 'video_transcript'>, metadata=VideoTranscriptMetadata(start=0.0, end=13.92)), VideoTranscriptChunk(document=Document(id='1aa5d83e-dd5c-4525-93d3-d7ab55d056f0', publicPath='https://www.youtube.com/watch?v=abQFa-Nu5V4', originalPath='https://www.youtube.com/watch?v=abQFa-Nu5V4', s3ObjectName='youtube/8b37ad65-73b1-43ff-82e5-33f09ef06f28.mp4', mediaName=\"L'incroyable pouvoir de guérison de l'axolotl\"), text='Pour comprendre comment cet animal fonctionne, il faut le regarder de plus près.', title=\"L'incroyable pouvoir de guérison de l'axolotl\", mediaType=<MediaType.VIDEO_TRANSCRIPT: 'video_transcript'>, metadata=VideoTranscriptMetadata(start=14.94, end=19.5)), VideoTranscriptChunk(document=Document(id='1aa5d83e-dd5c-4525-93d3-d7ab55d056f0', publicPath='https://www.youtube.com/watch?v=abQFa-Nu5V4', originalPath='https://www.youtube.com/watch?v=abQFa-Nu5V4', s3ObjectName='youtube/8b37ad65-73b1-43ff-82e5-33f09ef06f28.mp4', mediaName=\"L'incroyable pouvoir de guérison de l'axolotl\"), text=\"La pression sanguine de la salamandre est très basse. Alors, lorsqu'elle perd un membre, les cellules de sa peau peuvent parcourir la plaie et celles-ci se referment quelques heures. Pas besoin d'une grosse cicatrice. La fine couche de cellules dermiques bat alors le rappel des cellules musculaires, qui commencent immédiatement à reformer le membre perdu.\", title=\"L'incroyable pouvoir de guérison de l'axolotl\", mediaType=<MediaType.VIDEO_TRANSCRIPT: 'video_transcript'>, metadata=VideoTranscriptMetadata(start=23.38, end=47.2)), VideoTranscriptChunk(document=Document(id='1aa5d83e-dd5c-4525-93d3-d7ab55d056f0', publicPath='https://www.youtube.com/watch?v=abQFa-Nu5V4', originalPath='https://www.youtube.com/watch?v=abQFa-Nu5V4', s3ObjectName='youtube/8b37ad65-73b1-43ff-82e5-33f09ef06f28.mp4', mediaName=\"L'incroyable pouvoir de guérison de l'axolotl\"), text=\"Pour observer la régénération de l'axolotl, David a mis au point un dispositif qui va lui permettre de photographier l'animal pendant les deux prochains mois.\", title=\"L'incroyable pouvoir de guérison de l'axolotl\", mediaType=<MediaType.VIDEO_TRANSCRIPT: 'video_transcript'>, metadata=VideoTranscriptMetadata(start=51.400000000000006, end=60.3)), VideoTranscriptChunk(document=Document(id='1aa5d83e-dd5c-4525-93d3-d7ab55d056f0', publicPath='https://www.youtube.com/watch?v=abQFa-Nu5V4', originalPath='https://www.youtube.com/watch?v=abQFa-Nu5V4', s3ObjectName='youtube/8b37ad65-73b1-43ff-82e5-33f09ef06f28.mp4', mediaName=\"L'incroyable pouvoir de guérison de l'axolotl\"), text='Je vais commencer à prendre des photos et je constituerai toute la série comme ça.', title=\"L'incroyable pouvoir de guérison de l'axolotl\", mediaType=<MediaType.VIDEO_TRANSCRIPT: 'video_transcript'>, metadata=VideoTranscriptMetadata(start=61.9, end=65.86)), VideoTranscriptChunk(document=Document(id='1aa5d83e-dd5c-4525-93d3-d7ab55d056f0', publicPath='https://www.youtube.com/watch?v=abQFa-Nu5V4', originalPath='https://www.youtube.com/watch?v=abQFa-Nu5V4', s3ObjectName='youtube/8b37ad65-73b1-43ff-82e5-33f09ef06f28.mp4', mediaName=\"L'incroyable pouvoir de guérison de l'axolotl\"), text=\"Vous allez trouver ça incroyable, il faut le voir pour le croire. C'est très représentatif. Si ces animaux n'existaient pas, et que je vous disais, je pense qu'on peut reconstruire des gens, vous me prendriez pour un fou, vous me diriez, comment ça, faire repousser un bras.\", title=\"L'incroyable pouvoir de guérison de l'axolotl\", mediaType=<MediaType.VIDEO_TRANSCRIPT: 'video_transcript'>, metadata=VideoTranscriptMetadata(start=68.76000000000002, end=85.5)), VideoTranscriptChunk(document=Document(id='1aa5d83e-dd5c-4525-93d3-d7ab55d056f0', publicPath='https://www.youtube.com/watch?v=abQFa-Nu5V4', originalPath='https://www.youtube.com/watch?v=abQFa-Nu5V4', s3ObjectName='youtube/8b37ad65-73b1-43ff-82e5-33f09ef06f28.mp4', mediaName=\"L'incroyable pouvoir de guérison de l'axolotl\"), text=\"Mais heureusement, on a là une espèce qui en est capable. C'est une réalité, un véritable processus biologique.\", title=\"L'incroyable pouvoir de guérison de l'axolotl\", mediaType=<MediaType.VIDEO_TRANSCRIPT: 'video_transcript'>, metadata=VideoTranscriptMetadata(start=86.96, end=94.78)), VideoTranscriptChunk(document=Document(id='1aa5d83e-dd5c-4525-93d3-d7ab55d056f0', publicPath='https://www.youtube.com/watch?v=abQFa-Nu5V4', originalPath='https://www.youtube.com/watch?v=abQFa-Nu5V4', s3ObjectName='youtube/8b37ad65-73b1-43ff-82e5-33f09ef06f28.mp4', mediaName=\"L'incroyable pouvoir de guérison de l'axolotl\"), text=\"Certains animaux y arrivent très bien, nous non, mais on pourrait s'en inspirer pour s'améliorer.\", title=\"L'incroyable pouvoir de guérison de l'axolotl\", mediaType=<MediaType.VIDEO_TRANSCRIPT: 'video_transcript'>, metadata=VideoTranscriptMetadata(start=95.96, end=100.68)), VideoTranscriptChunk(document=Document(id='1aa5d83e-dd5c-4525-93d3-d7ab55d056f0', publicPath='https://www.youtube.com/watch?v=abQFa-Nu5V4', originalPath='https://www.youtube.com/watch?v=abQFa-Nu5V4', s3ObjectName='youtube/8b37ad65-73b1-43ff-82e5-33f09ef06f28.mp4', mediaName=\"L'incroyable pouvoir de guérison de l'axolotl\"), text='Voici les photographies du membre en train de repousser.', title=\"L'incroyable pouvoir de guérison de l'axolotl\", mediaType=<MediaType.VIDEO_TRANSCRIPT: 'video_transcript'>, metadata=VideoTranscriptMetadata(start=106.12, end=109.5)), VideoTranscriptChunk(document=Document(id='1aa5d83e-dd5c-4525-93d3-d7ab55d056f0', publicPath='https://www.youtube.com/watch?v=abQFa-Nu5V4', originalPath='https://www.youtube.com/watch?v=abQFa-Nu5V4', s3ObjectName='youtube/8b37ad65-73b1-43ff-82e5-33f09ef06f28.mp4', mediaName=\"L'incroyable pouvoir de guérison de l'axolotl\"), text=\"En à peine huit semaines, la salamandre est capable de refabriquer l'antérieure qui lui manquait.\", title=\"L'incroyable pouvoir de guérison de l'axolotl\", mediaType=<MediaType.VIDEO_TRANSCRIPT: 'video_transcript'>, metadata=VideoTranscriptMetadata(start=112.16, end=117.94))]\n",
      "INSERT CHUNK -  document=Document(id='1aa5d83e-dd5c-4525-93d3-d7ab55d056f0', publicPath='https://www.youtube.com/watch?v=abQFa-Nu5V4', originalPath='https://www.youtube.com/watch?v=abQFa-Nu5V4', s3ObjectName='youtube/8b37ad65-73b1-43ff-82e5-33f09ef06f28.mp4', mediaName=\"L'incroyable pouvoir de guérison de l'axolotl\") text='Nous autres, humains, réagissons très différemment lorsque nous sommes blessés. Des pèses cicatrices se forment rapidement pour éviter les hémorragies, mais cela empêche le processus de la régénération.' title=\"L'incroyable pouvoir de guérison de l'axolotl\" mediaType=<MediaType.VIDEO_TRANSCRIPT: 'video_transcript'> metadata=VideoTranscriptMetadata(start=0.0, end=13.92)\n",
      "INSERT CHUNK -  document=Document(id='1aa5d83e-dd5c-4525-93d3-d7ab55d056f0', publicPath='https://www.youtube.com/watch?v=abQFa-Nu5V4', originalPath='https://www.youtube.com/watch?v=abQFa-Nu5V4', s3ObjectName='youtube/8b37ad65-73b1-43ff-82e5-33f09ef06f28.mp4', mediaName=\"L'incroyable pouvoir de guérison de l'axolotl\") text='Pour comprendre comment cet animal fonctionne, il faut le regarder de plus près.' title=\"L'incroyable pouvoir de guérison de l'axolotl\" mediaType=<MediaType.VIDEO_TRANSCRIPT: 'video_transcript'> metadata=VideoTranscriptMetadata(start=14.94, end=19.5)\n",
      "INSERT CHUNK -  document=Document(id='1aa5d83e-dd5c-4525-93d3-d7ab55d056f0', publicPath='https://www.youtube.com/watch?v=abQFa-Nu5V4', originalPath='https://www.youtube.com/watch?v=abQFa-Nu5V4', s3ObjectName='youtube/8b37ad65-73b1-43ff-82e5-33f09ef06f28.mp4', mediaName=\"L'incroyable pouvoir de guérison de l'axolotl\") text=\"La pression sanguine de la salamandre est très basse. Alors, lorsqu'elle perd un membre, les cellules de sa peau peuvent parcourir la plaie et celles-ci se referment quelques heures. Pas besoin d'une grosse cicatrice. La fine couche de cellules dermiques bat alors le rappel des cellules musculaires, qui commencent immédiatement à reformer le membre perdu.\" title=\"L'incroyable pouvoir de guérison de l'axolotl\" mediaType=<MediaType.VIDEO_TRANSCRIPT: 'video_transcript'> metadata=VideoTranscriptMetadata(start=23.38, end=47.2)\n",
      "INSERT CHUNK -  document=Document(id='1aa5d83e-dd5c-4525-93d3-d7ab55d056f0', publicPath='https://www.youtube.com/watch?v=abQFa-Nu5V4', originalPath='https://www.youtube.com/watch?v=abQFa-Nu5V4', s3ObjectName='youtube/8b37ad65-73b1-43ff-82e5-33f09ef06f28.mp4', mediaName=\"L'incroyable pouvoir de guérison de l'axolotl\") text=\"Pour observer la régénération de l'axolotl, David a mis au point un dispositif qui va lui permettre de photographier l'animal pendant les deux prochains mois.\" title=\"L'incroyable pouvoir de guérison de l'axolotl\" mediaType=<MediaType.VIDEO_TRANSCRIPT: 'video_transcript'> metadata=VideoTranscriptMetadata(start=51.400000000000006, end=60.3)\n",
      "INSERT CHUNK -  document=Document(id='1aa5d83e-dd5c-4525-93d3-d7ab55d056f0', publicPath='https://www.youtube.com/watch?v=abQFa-Nu5V4', originalPath='https://www.youtube.com/watch?v=abQFa-Nu5V4', s3ObjectName='youtube/8b37ad65-73b1-43ff-82e5-33f09ef06f28.mp4', mediaName=\"L'incroyable pouvoir de guérison de l'axolotl\") text='Je vais commencer à prendre des photos et je constituerai toute la série comme ça.' title=\"L'incroyable pouvoir de guérison de l'axolotl\" mediaType=<MediaType.VIDEO_TRANSCRIPT: 'video_transcript'> metadata=VideoTranscriptMetadata(start=61.9, end=65.86)\n",
      "INSERT CHUNK -  document=Document(id='1aa5d83e-dd5c-4525-93d3-d7ab55d056f0', publicPath='https://www.youtube.com/watch?v=abQFa-Nu5V4', originalPath='https://www.youtube.com/watch?v=abQFa-Nu5V4', s3ObjectName='youtube/8b37ad65-73b1-43ff-82e5-33f09ef06f28.mp4', mediaName=\"L'incroyable pouvoir de guérison de l'axolotl\") text=\"Vous allez trouver ça incroyable, il faut le voir pour le croire. C'est très représentatif. Si ces animaux n'existaient pas, et que je vous disais, je pense qu'on peut reconstruire des gens, vous me prendriez pour un fou, vous me diriez, comment ça, faire repousser un bras.\" title=\"L'incroyable pouvoir de guérison de l'axolotl\" mediaType=<MediaType.VIDEO_TRANSCRIPT: 'video_transcript'> metadata=VideoTranscriptMetadata(start=68.76000000000002, end=85.5)\n",
      "INSERT CHUNK -  document=Document(id='1aa5d83e-dd5c-4525-93d3-d7ab55d056f0', publicPath='https://www.youtube.com/watch?v=abQFa-Nu5V4', originalPath='https://www.youtube.com/watch?v=abQFa-Nu5V4', s3ObjectName='youtube/8b37ad65-73b1-43ff-82e5-33f09ef06f28.mp4', mediaName=\"L'incroyable pouvoir de guérison de l'axolotl\") text=\"Mais heureusement, on a là une espèce qui en est capable. C'est une réalité, un véritable processus biologique.\" title=\"L'incroyable pouvoir de guérison de l'axolotl\" mediaType=<MediaType.VIDEO_TRANSCRIPT: 'video_transcript'> metadata=VideoTranscriptMetadata(start=86.96, end=94.78)\n",
      "INSERT CHUNK -  document=Document(id='1aa5d83e-dd5c-4525-93d3-d7ab55d056f0', publicPath='https://www.youtube.com/watch?v=abQFa-Nu5V4', originalPath='https://www.youtube.com/watch?v=abQFa-Nu5V4', s3ObjectName='youtube/8b37ad65-73b1-43ff-82e5-33f09ef06f28.mp4', mediaName=\"L'incroyable pouvoir de guérison de l'axolotl\") text=\"Certains animaux y arrivent très bien, nous non, mais on pourrait s'en inspirer pour s'améliorer.\" title=\"L'incroyable pouvoir de guérison de l'axolotl\" mediaType=<MediaType.VIDEO_TRANSCRIPT: 'video_transcript'> metadata=VideoTranscriptMetadata(start=95.96, end=100.68)\n",
      "INSERT CHUNK -  document=Document(id='1aa5d83e-dd5c-4525-93d3-d7ab55d056f0', publicPath='https://www.youtube.com/watch?v=abQFa-Nu5V4', originalPath='https://www.youtube.com/watch?v=abQFa-Nu5V4', s3ObjectName='youtube/8b37ad65-73b1-43ff-82e5-33f09ef06f28.mp4', mediaName=\"L'incroyable pouvoir de guérison de l'axolotl\") text='Voici les photographies du membre en train de repousser.' title=\"L'incroyable pouvoir de guérison de l'axolotl\" mediaType=<MediaType.VIDEO_TRANSCRIPT: 'video_transcript'> metadata=VideoTranscriptMetadata(start=106.12, end=109.5)\n",
      "INSERT CHUNK -  document=Document(id='1aa5d83e-dd5c-4525-93d3-d7ab55d056f0', publicPath='https://www.youtube.com/watch?v=abQFa-Nu5V4', originalPath='https://www.youtube.com/watch?v=abQFa-Nu5V4', s3ObjectName='youtube/8b37ad65-73b1-43ff-82e5-33f09ef06f28.mp4', mediaName=\"L'incroyable pouvoir de guérison de l'axolotl\") text=\"En à peine huit semaines, la salamandre est capable de refabriquer l'antérieure qui lui manquait.\" title=\"L'incroyable pouvoir de guérison de l'axolotl\" mediaType=<MediaType.VIDEO_TRANSCRIPT: 'video_transcript'> metadata=VideoTranscriptMetadata(start=112.16, end=117.94)\n",
      "SAVE DOCUMENT id='1aa5d83e-dd5c-4525-93d3-d7ab55d056f0' publicPath='https://www.youtube.com/watch?v=abQFa-Nu5V4' originalPath='https://www.youtube.com/watch?v=abQFa-Nu5V4' s3ObjectName='youtube/8b37ad65-73b1-43ff-82e5-33f09ef06f28.mp4' mediaName=\"L'incroyable pouvoir de guérison de l'axolotl\" [VideoTranscriptChunk(document=Document(id='1aa5d83e-dd5c-4525-93d3-d7ab55d056f0', publicPath='https://www.youtube.com/watch?v=abQFa-Nu5V4', originalPath='https://www.youtube.com/watch?v=abQFa-Nu5V4', s3ObjectName='youtube/8b37ad65-73b1-43ff-82e5-33f09ef06f28.mp4', mediaName=\"L'incroyable pouvoir de guérison de l'axolotl\"), text='Nous autres, humains, réagissons très différemment lorsque nous sommes blessés. Des pèses cicatrices se forment rapidement pour éviter les hémorragies, mais cela empêche le processus de la régénération.', title=\"L'incroyable pouvoir de guérison de l'axolotl\", mediaType=<MediaType.VIDEO_TRANSCRIPT: 'video_transcript'>, metadata=VideoTranscriptMetadata(start=0.0, end=13.92)), VideoTranscriptChunk(document=Document(id='1aa5d83e-dd5c-4525-93d3-d7ab55d056f0', publicPath='https://www.youtube.com/watch?v=abQFa-Nu5V4', originalPath='https://www.youtube.com/watch?v=abQFa-Nu5V4', s3ObjectName='youtube/8b37ad65-73b1-43ff-82e5-33f09ef06f28.mp4', mediaName=\"L'incroyable pouvoir de guérison de l'axolotl\"), text='Pour comprendre comment cet animal fonctionne, il faut le regarder de plus près.', title=\"L'incroyable pouvoir de guérison de l'axolotl\", mediaType=<MediaType.VIDEO_TRANSCRIPT: 'video_transcript'>, metadata=VideoTranscriptMetadata(start=14.94, end=19.5)), VideoTranscriptChunk(document=Document(id='1aa5d83e-dd5c-4525-93d3-d7ab55d056f0', publicPath='https://www.youtube.com/watch?v=abQFa-Nu5V4', originalPath='https://www.youtube.com/watch?v=abQFa-Nu5V4', s3ObjectName='youtube/8b37ad65-73b1-43ff-82e5-33f09ef06f28.mp4', mediaName=\"L'incroyable pouvoir de guérison de l'axolotl\"), text=\"La pression sanguine de la salamandre est très basse. Alors, lorsqu'elle perd un membre, les cellules de sa peau peuvent parcourir la plaie et celles-ci se referment quelques heures. Pas besoin d'une grosse cicatrice. La fine couche de cellules dermiques bat alors le rappel des cellules musculaires, qui commencent immédiatement à reformer le membre perdu.\", title=\"L'incroyable pouvoir de guérison de l'axolotl\", mediaType=<MediaType.VIDEO_TRANSCRIPT: 'video_transcript'>, metadata=VideoTranscriptMetadata(start=23.38, end=47.2)), VideoTranscriptChunk(document=Document(id='1aa5d83e-dd5c-4525-93d3-d7ab55d056f0', publicPath='https://www.youtube.com/watch?v=abQFa-Nu5V4', originalPath='https://www.youtube.com/watch?v=abQFa-Nu5V4', s3ObjectName='youtube/8b37ad65-73b1-43ff-82e5-33f09ef06f28.mp4', mediaName=\"L'incroyable pouvoir de guérison de l'axolotl\"), text=\"Pour observer la régénération de l'axolotl, David a mis au point un dispositif qui va lui permettre de photographier l'animal pendant les deux prochains mois.\", title=\"L'incroyable pouvoir de guérison de l'axolotl\", mediaType=<MediaType.VIDEO_TRANSCRIPT: 'video_transcript'>, metadata=VideoTranscriptMetadata(start=51.400000000000006, end=60.3)), VideoTranscriptChunk(document=Document(id='1aa5d83e-dd5c-4525-93d3-d7ab55d056f0', publicPath='https://www.youtube.com/watch?v=abQFa-Nu5V4', originalPath='https://www.youtube.com/watch?v=abQFa-Nu5V4', s3ObjectName='youtube/8b37ad65-73b1-43ff-82e5-33f09ef06f28.mp4', mediaName=\"L'incroyable pouvoir de guérison de l'axolotl\"), text='Je vais commencer à prendre des photos et je constituerai toute la série comme ça.', title=\"L'incroyable pouvoir de guérison de l'axolotl\", mediaType=<MediaType.VIDEO_TRANSCRIPT: 'video_transcript'>, metadata=VideoTranscriptMetadata(start=61.9, end=65.86)), VideoTranscriptChunk(document=Document(id='1aa5d83e-dd5c-4525-93d3-d7ab55d056f0', publicPath='https://www.youtube.com/watch?v=abQFa-Nu5V4', originalPath='https://www.youtube.com/watch?v=abQFa-Nu5V4', s3ObjectName='youtube/8b37ad65-73b1-43ff-82e5-33f09ef06f28.mp4', mediaName=\"L'incroyable pouvoir de guérison de l'axolotl\"), text=\"Vous allez trouver ça incroyable, il faut le voir pour le croire. C'est très représentatif. Si ces animaux n'existaient pas, et que je vous disais, je pense qu'on peut reconstruire des gens, vous me prendriez pour un fou, vous me diriez, comment ça, faire repousser un bras.\", title=\"L'incroyable pouvoir de guérison de l'axolotl\", mediaType=<MediaType.VIDEO_TRANSCRIPT: 'video_transcript'>, metadata=VideoTranscriptMetadata(start=68.76000000000002, end=85.5)), VideoTranscriptChunk(document=Document(id='1aa5d83e-dd5c-4525-93d3-d7ab55d056f0', publicPath='https://www.youtube.com/watch?v=abQFa-Nu5V4', originalPath='https://www.youtube.com/watch?v=abQFa-Nu5V4', s3ObjectName='youtube/8b37ad65-73b1-43ff-82e5-33f09ef06f28.mp4', mediaName=\"L'incroyable pouvoir de guérison de l'axolotl\"), text=\"Mais heureusement, on a là une espèce qui en est capable. C'est une réalité, un véritable processus biologique.\", title=\"L'incroyable pouvoir de guérison de l'axolotl\", mediaType=<MediaType.VIDEO_TRANSCRIPT: 'video_transcript'>, metadata=VideoTranscriptMetadata(start=86.96, end=94.78)), VideoTranscriptChunk(document=Document(id='1aa5d83e-dd5c-4525-93d3-d7ab55d056f0', publicPath='https://www.youtube.com/watch?v=abQFa-Nu5V4', originalPath='https://www.youtube.com/watch?v=abQFa-Nu5V4', s3ObjectName='youtube/8b37ad65-73b1-43ff-82e5-33f09ef06f28.mp4', mediaName=\"L'incroyable pouvoir de guérison de l'axolotl\"), text=\"Certains animaux y arrivent très bien, nous non, mais on pourrait s'en inspirer pour s'améliorer.\", title=\"L'incroyable pouvoir de guérison de l'axolotl\", mediaType=<MediaType.VIDEO_TRANSCRIPT: 'video_transcript'>, metadata=VideoTranscriptMetadata(start=95.96, end=100.68)), VideoTranscriptChunk(document=Document(id='1aa5d83e-dd5c-4525-93d3-d7ab55d056f0', publicPath='https://www.youtube.com/watch?v=abQFa-Nu5V4', originalPath='https://www.youtube.com/watch?v=abQFa-Nu5V4', s3ObjectName='youtube/8b37ad65-73b1-43ff-82e5-33f09ef06f28.mp4', mediaName=\"L'incroyable pouvoir de guérison de l'axolotl\"), text='Voici les photographies du membre en train de repousser.', title=\"L'incroyable pouvoir de guérison de l'axolotl\", mediaType=<MediaType.VIDEO_TRANSCRIPT: 'video_transcript'>, metadata=VideoTranscriptMetadata(start=106.12, end=109.5)), VideoTranscriptChunk(document=Document(id='1aa5d83e-dd5c-4525-93d3-d7ab55d056f0', publicPath='https://www.youtube.com/watch?v=abQFa-Nu5V4', originalPath='https://www.youtube.com/watch?v=abQFa-Nu5V4', s3ObjectName='youtube/8b37ad65-73b1-43ff-82e5-33f09ef06f28.mp4', mediaName=\"L'incroyable pouvoir de guérison de l'axolotl\"), text=\"En à peine huit semaines, la salamandre est capable de refabriquer l'antérieure qui lui manquait.\", title=\"L'incroyable pouvoir de guérison de l'axolotl\", mediaType=<MediaType.VIDEO_TRANSCRIPT: 'video_transcript'>, metadata=VideoTranscriptMetadata(start=112.16, end=117.94))]\n"
     ]
    }
   ],
   "source": [
    "from app.S3Storage import S3Storage\n",
    "\n",
    "\n",
    "urls = [\n",
    "    # \"https://www.youtube.com/watch?v=re__12nH2ro\",\n",
    "    # \"https://www.youtube.com/watch?v=FSbEorqTtMU\",\n",
    "    # \"https://www.youtube.com/watch?v=Ull-Rz1L-J0\",\n",
    "    # \"https://www.youtube.com/watch?v=0oB2oBj5Ex4\",\n",
    "    # \"https://www.youtube.com/watch?v=p5JR8fsEzR4\",\n",
    "    # \"https://www.youtube.com/watch?v=tRWVMdkOCoQ\",\n",
    "    \"https://www.youtube.com/watch?v=abQFa-Nu5V4\"\n",
    "]\n",
    "\n",
    "s3 = S3Storage()\n",
    "for url in urls:\n",
    "    YoutubeProcessor(s3=s3, whisper=whisper, youtube_url=url)"
   ]
  },
  {
   "cell_type": "markdown",
   "metadata": {},
   "source": [
    "# tests"
   ]
  },
  {
   "cell_type": "code",
   "execution_count": 5,
   "metadata": {},
   "outputs": [],
   "source": [
    "from pytubefix import YouTube\n",
    "url =     \"https://www.youtube.com/watch?v=Ull-Rz1L-J0\"\n",
    "yt = YouTube(url)\n",
    "video_name = yt.vid_info.get(\"videoDetails\", {}).get(\"title\", \"Untitled Video\")\n",
    "# yt.streams.filter(progressive=True, file_extension='mp4').order_by('resolution').desc().first()#.download(output_path=output_path, filename=filename)\n"
   ]
  },
  {
   "cell_type": "code",
   "execution_count": 6,
   "metadata": {},
   "outputs": [
    {
     "data": {
      "text/plain": [
       "[<Stream: itag=\"18\" mime_type=\"video/mp4\" res=\"360p\" fps=\"25fps\" vcodec=\"avc1.42001E\" acodec=\"mp4a.40.2\" progressive=\"True\" type=\"video\">, <Stream: itag=\"137\" mime_type=\"video/mp4\" res=\"1080p\" fps=\"25fps\" vcodec=\"avc1.640028\" progressive=\"False\" type=\"video\">, <Stream: itag=\"136\" mime_type=\"video/mp4\" res=\"720p\" fps=\"25fps\" vcodec=\"avc1.64001f\" progressive=\"False\" type=\"video\">, <Stream: itag=\"134\" mime_type=\"video/mp4\" res=\"360p\" fps=\"25fps\" vcodec=\"avc1.4d401e\" progressive=\"False\" type=\"video\">, <Stream: itag=\"160\" mime_type=\"video/mp4\" res=\"144p\" fps=\"25fps\" vcodec=\"avc1.4d400c\" progressive=\"False\" type=\"video\">, <Stream: itag=\"139\" mime_type=\"audio/mp4\" abr=\"48kbps\" acodec=\"mp4a.40.5\" progressive=\"False\" type=\"audio\">, <Stream: itag=\"140\" mime_type=\"audio/mp4\" abr=\"128kbps\" acodec=\"mp4a.40.2\" progressive=\"False\" type=\"audio\">, <Stream: itag=\"251\" mime_type=\"audio/webm\" abr=\"160kbps\" acodec=\"opus\" progressive=\"False\" type=\"audio\">]"
      ]
     },
     "execution_count": 6,
     "metadata": {},
     "output_type": "execute_result"
    }
   ],
   "source": [
    "yt.streams"
   ]
  },
  {
   "cell_type": "code",
   "execution_count": 35,
   "metadata": {},
   "outputs": [
    {
     "name": "stdout",
     "output_type": "stream",
     "text": [
      "442\n"
     ]
    }
   ],
   "source": [
    "from googleapiclient.discovery import build\n",
    "\n",
    "# Set up YouTube API client\n",
    "api_key = ''\n",
    "youtube = build('youtube', 'v3', developerKey=api_key)\n",
    "\n",
    "def get_channel_videos(channel_id):\n",
    "    playlist_id = f\"{channel_id[0]}U{channel_id[2:]}\"\n",
    "    videos = []\n",
    "    next_page_token = None\n",
    "    \n",
    "    while True:\n",
    "        res = youtube.playlistItems().list(\n",
    "            part='snippet',\n",
    "            playlistId=playlist_id,\n",
    "            maxResults=50,\n",
    "            pageToken=next_page_token\n",
    "        ).execute()\n",
    "        \n",
    "        for item in res[\"items\"]:\n",
    "            videos.append({\n",
    "                \"title\": item[\"snippet\"][\"title\"],\n",
    "                \"video_id\": item[\"snippet\"][\"resourceId\"][\"videoId\"],\n",
    "                \"publish_time\": item[\"snippet\"][\"publishedAt\"]\n",
    "            })\n",
    "        \n",
    "        next_page_token = res.get('nextPageToken')\n",
    "        \n",
    "        if next_page_token is None:\n",
    "            break\n",
    "            \n",
    "    return videos\n",
    "\n",
    "videos = get_channel_videos(\"UC1udnO-W6gpR9qzleJ5SDKw\")\n",
    "print(len(videos))"
   ]
  },
  {
   "cell_type": "code",
   "execution_count": 3,
   "metadata": {},
   "outputs": [],
   "source": [
    "from pytubefix import YouTube\n",
    "YOUTUBE_PROXY = \"socks5://aryakali.freeboxos.fr:33128\"\n",
    "# YOUTUBE_PROXY = \"socks5://vm-dev-tools.citepro.cite-sciences.fr:8080/\"\n",
    "proxies = {\n",
    "    \"http\": YOUTUBE_PROXY,\n",
    "    \"https\": YOUTUBE_PROXY\n",
    "}\n",
    "yt = YouTube(\"https://www.youtube.com/watch?v=YWcoQ8M3cnk\",proxies=proxies)"
   ]
  },
  {
   "cell_type": "code",
   "execution_count": 4,
   "metadata": {},
   "outputs": [
    {
     "ename": "URLError",
     "evalue": "<urlopen error [Errno -2] Name or service not known>",
     "output_type": "error",
     "traceback": [
      "\u001b[0;31m---------------------------------------------------------------------------\u001b[0m",
      "\u001b[0;31mgaierror\u001b[0m                                  Traceback (most recent call last)",
      "File \u001b[0;32m~/anaconda3/envs/scienceinfuse/lib/python3.9/urllib/request.py:1346\u001b[0m, in \u001b[0;36mAbstractHTTPHandler.do_open\u001b[0;34m(self, http_class, req, **http_conn_args)\u001b[0m\n\u001b[1;32m   1345\u001b[0m \u001b[38;5;28;01mtry\u001b[39;00m:\n\u001b[0;32m-> 1346\u001b[0m     \u001b[43mh\u001b[49m\u001b[38;5;241;43m.\u001b[39;49m\u001b[43mrequest\u001b[49m\u001b[43m(\u001b[49m\u001b[43mreq\u001b[49m\u001b[38;5;241;43m.\u001b[39;49m\u001b[43mget_method\u001b[49m\u001b[43m(\u001b[49m\u001b[43m)\u001b[49m\u001b[43m,\u001b[49m\u001b[43m \u001b[49m\u001b[43mreq\u001b[49m\u001b[38;5;241;43m.\u001b[39;49m\u001b[43mselector\u001b[49m\u001b[43m,\u001b[49m\u001b[43m \u001b[49m\u001b[43mreq\u001b[49m\u001b[38;5;241;43m.\u001b[39;49m\u001b[43mdata\u001b[49m\u001b[43m,\u001b[49m\u001b[43m \u001b[49m\u001b[43mheaders\u001b[49m\u001b[43m,\u001b[49m\n\u001b[1;32m   1347\u001b[0m \u001b[43m              \u001b[49m\u001b[43mencode_chunked\u001b[49m\u001b[38;5;241;43m=\u001b[39;49m\u001b[43mreq\u001b[49m\u001b[38;5;241;43m.\u001b[39;49m\u001b[43mhas_header\u001b[49m\u001b[43m(\u001b[49m\u001b[38;5;124;43m'\u001b[39;49m\u001b[38;5;124;43mTransfer-encoding\u001b[39;49m\u001b[38;5;124;43m'\u001b[39;49m\u001b[43m)\u001b[49m\u001b[43m)\u001b[49m\n\u001b[1;32m   1348\u001b[0m \u001b[38;5;28;01mexcept\u001b[39;00m \u001b[38;5;167;01mOSError\u001b[39;00m \u001b[38;5;28;01mas\u001b[39;00m err: \u001b[38;5;66;03m# timeout error\u001b[39;00m\n",
      "File \u001b[0;32m~/anaconda3/envs/scienceinfuse/lib/python3.9/http/client.py:1285\u001b[0m, in \u001b[0;36mHTTPConnection.request\u001b[0;34m(self, method, url, body, headers, encode_chunked)\u001b[0m\n\u001b[1;32m   1284\u001b[0m \u001b[38;5;250m\u001b[39m\u001b[38;5;124;03m\"\"\"Send a complete request to the server.\"\"\"\u001b[39;00m\n\u001b[0;32m-> 1285\u001b[0m \u001b[38;5;28;43mself\u001b[39;49m\u001b[38;5;241;43m.\u001b[39;49m\u001b[43m_send_request\u001b[49m\u001b[43m(\u001b[49m\u001b[43mmethod\u001b[49m\u001b[43m,\u001b[49m\u001b[43m \u001b[49m\u001b[43murl\u001b[49m\u001b[43m,\u001b[49m\u001b[43m \u001b[49m\u001b[43mbody\u001b[49m\u001b[43m,\u001b[49m\u001b[43m \u001b[49m\u001b[43mheaders\u001b[49m\u001b[43m,\u001b[49m\u001b[43m \u001b[49m\u001b[43mencode_chunked\u001b[49m\u001b[43m)\u001b[49m\n",
      "File \u001b[0;32m~/anaconda3/envs/scienceinfuse/lib/python3.9/http/client.py:1331\u001b[0m, in \u001b[0;36mHTTPConnection._send_request\u001b[0;34m(self, method, url, body, headers, encode_chunked)\u001b[0m\n\u001b[1;32m   1330\u001b[0m     body \u001b[38;5;241m=\u001b[39m _encode(body, \u001b[38;5;124m'\u001b[39m\u001b[38;5;124mbody\u001b[39m\u001b[38;5;124m'\u001b[39m)\n\u001b[0;32m-> 1331\u001b[0m \u001b[38;5;28;43mself\u001b[39;49m\u001b[38;5;241;43m.\u001b[39;49m\u001b[43mendheaders\u001b[49m\u001b[43m(\u001b[49m\u001b[43mbody\u001b[49m\u001b[43m,\u001b[49m\u001b[43m \u001b[49m\u001b[43mencode_chunked\u001b[49m\u001b[38;5;241;43m=\u001b[39;49m\u001b[43mencode_chunked\u001b[49m\u001b[43m)\u001b[49m\n",
      "File \u001b[0;32m~/anaconda3/envs/scienceinfuse/lib/python3.9/http/client.py:1280\u001b[0m, in \u001b[0;36mHTTPConnection.endheaders\u001b[0;34m(self, message_body, encode_chunked)\u001b[0m\n\u001b[1;32m   1279\u001b[0m     \u001b[38;5;28;01mraise\u001b[39;00m CannotSendHeader()\n\u001b[0;32m-> 1280\u001b[0m \u001b[38;5;28;43mself\u001b[39;49m\u001b[38;5;241;43m.\u001b[39;49m\u001b[43m_send_output\u001b[49m\u001b[43m(\u001b[49m\u001b[43mmessage_body\u001b[49m\u001b[43m,\u001b[49m\u001b[43m \u001b[49m\u001b[43mencode_chunked\u001b[49m\u001b[38;5;241;43m=\u001b[39;49m\u001b[43mencode_chunked\u001b[49m\u001b[43m)\u001b[49m\n",
      "File \u001b[0;32m~/anaconda3/envs/scienceinfuse/lib/python3.9/http/client.py:1040\u001b[0m, in \u001b[0;36mHTTPConnection._send_output\u001b[0;34m(self, message_body, encode_chunked)\u001b[0m\n\u001b[1;32m   1039\u001b[0m \u001b[38;5;28;01mdel\u001b[39;00m \u001b[38;5;28mself\u001b[39m\u001b[38;5;241m.\u001b[39m_buffer[:]\n\u001b[0;32m-> 1040\u001b[0m \u001b[38;5;28;43mself\u001b[39;49m\u001b[38;5;241;43m.\u001b[39;49m\u001b[43msend\u001b[49m\u001b[43m(\u001b[49m\u001b[43mmsg\u001b[49m\u001b[43m)\u001b[49m\n\u001b[1;32m   1042\u001b[0m \u001b[38;5;28;01mif\u001b[39;00m message_body \u001b[38;5;129;01mis\u001b[39;00m \u001b[38;5;129;01mnot\u001b[39;00m \u001b[38;5;28;01mNone\u001b[39;00m:\n\u001b[1;32m   1043\u001b[0m \n\u001b[1;32m   1044\u001b[0m     \u001b[38;5;66;03m# create a consistent interface to message_body\u001b[39;00m\n",
      "File \u001b[0;32m~/anaconda3/envs/scienceinfuse/lib/python3.9/http/client.py:980\u001b[0m, in \u001b[0;36mHTTPConnection.send\u001b[0;34m(self, data)\u001b[0m\n\u001b[1;32m    979\u001b[0m \u001b[38;5;28;01mif\u001b[39;00m \u001b[38;5;28mself\u001b[39m\u001b[38;5;241m.\u001b[39mauto_open:\n\u001b[0;32m--> 980\u001b[0m     \u001b[38;5;28;43mself\u001b[39;49m\u001b[38;5;241;43m.\u001b[39;49m\u001b[43mconnect\u001b[49m\u001b[43m(\u001b[49m\u001b[43m)\u001b[49m\n\u001b[1;32m    981\u001b[0m \u001b[38;5;28;01melse\u001b[39;00m:\n",
      "File \u001b[0;32m~/anaconda3/envs/scienceinfuse/lib/python3.9/http/client.py:1447\u001b[0m, in \u001b[0;36mHTTPSConnection.connect\u001b[0;34m(self)\u001b[0m\n\u001b[1;32m   1445\u001b[0m \u001b[38;5;124m\"\u001b[39m\u001b[38;5;124mConnect to a host on a given (SSL) port.\u001b[39m\u001b[38;5;124m\"\u001b[39m\n\u001b[0;32m-> 1447\u001b[0m \u001b[38;5;28;43msuper\u001b[39;49m\u001b[43m(\u001b[49m\u001b[43m)\u001b[49m\u001b[38;5;241;43m.\u001b[39;49m\u001b[43mconnect\u001b[49m\u001b[43m(\u001b[49m\u001b[43m)\u001b[49m\n\u001b[1;32m   1449\u001b[0m \u001b[38;5;28;01mif\u001b[39;00m \u001b[38;5;28mself\u001b[39m\u001b[38;5;241m.\u001b[39m_tunnel_host:\n",
      "File \u001b[0;32m~/anaconda3/envs/scienceinfuse/lib/python3.9/http/client.py:946\u001b[0m, in \u001b[0;36mHTTPConnection.connect\u001b[0;34m(self)\u001b[0m\n\u001b[1;32m    945\u001b[0m \u001b[38;5;250m\u001b[39m\u001b[38;5;124;03m\"\"\"Connect to the host and port specified in __init__.\"\"\"\u001b[39;00m\n\u001b[0;32m--> 946\u001b[0m \u001b[38;5;28mself\u001b[39m\u001b[38;5;241m.\u001b[39msock \u001b[38;5;241m=\u001b[39m \u001b[38;5;28;43mself\u001b[39;49m\u001b[38;5;241;43m.\u001b[39;49m\u001b[43m_create_connection\u001b[49m\u001b[43m(\u001b[49m\n\u001b[1;32m    947\u001b[0m \u001b[43m    \u001b[49m\u001b[43m(\u001b[49m\u001b[38;5;28;43mself\u001b[39;49m\u001b[38;5;241;43m.\u001b[39;49m\u001b[43mhost\u001b[49m\u001b[43m,\u001b[49m\u001b[38;5;28;43mself\u001b[39;49m\u001b[38;5;241;43m.\u001b[39;49m\u001b[43mport\u001b[49m\u001b[43m)\u001b[49m\u001b[43m,\u001b[49m\u001b[43m \u001b[49m\u001b[38;5;28;43mself\u001b[39;49m\u001b[38;5;241;43m.\u001b[39;49m\u001b[43mtimeout\u001b[49m\u001b[43m,\u001b[49m\u001b[43m \u001b[49m\u001b[38;5;28;43mself\u001b[39;49m\u001b[38;5;241;43m.\u001b[39;49m\u001b[43msource_address\u001b[49m\u001b[43m)\u001b[49m\n\u001b[1;32m    948\u001b[0m \u001b[38;5;66;03m# Might fail in OSs that don't implement TCP_NODELAY\u001b[39;00m\n",
      "File \u001b[0;32m~/anaconda3/envs/scienceinfuse/lib/python3.9/socket.py:823\u001b[0m, in \u001b[0;36mcreate_connection\u001b[0;34m(address, timeout, source_address)\u001b[0m\n\u001b[1;32m    822\u001b[0m err \u001b[38;5;241m=\u001b[39m \u001b[38;5;28;01mNone\u001b[39;00m\n\u001b[0;32m--> 823\u001b[0m \u001b[38;5;28;01mfor\u001b[39;00m res \u001b[38;5;129;01min\u001b[39;00m \u001b[43mgetaddrinfo\u001b[49m\u001b[43m(\u001b[49m\u001b[43mhost\u001b[49m\u001b[43m,\u001b[49m\u001b[43m \u001b[49m\u001b[43mport\u001b[49m\u001b[43m,\u001b[49m\u001b[43m \u001b[49m\u001b[38;5;241;43m0\u001b[39;49m\u001b[43m,\u001b[49m\u001b[43m \u001b[49m\u001b[43mSOCK_STREAM\u001b[49m\u001b[43m)\u001b[49m:\n\u001b[1;32m    824\u001b[0m     af, socktype, proto, canonname, sa \u001b[38;5;241m=\u001b[39m res\n",
      "File \u001b[0;32m~/anaconda3/envs/scienceinfuse/lib/python3.9/socket.py:954\u001b[0m, in \u001b[0;36mgetaddrinfo\u001b[0;34m(host, port, family, type, proto, flags)\u001b[0m\n\u001b[1;32m    953\u001b[0m addrlist \u001b[38;5;241m=\u001b[39m []\n\u001b[0;32m--> 954\u001b[0m \u001b[38;5;28;01mfor\u001b[39;00m res \u001b[38;5;129;01min\u001b[39;00m \u001b[43m_socket\u001b[49m\u001b[38;5;241;43m.\u001b[39;49m\u001b[43mgetaddrinfo\u001b[49m\u001b[43m(\u001b[49m\u001b[43mhost\u001b[49m\u001b[43m,\u001b[49m\u001b[43m \u001b[49m\u001b[43mport\u001b[49m\u001b[43m,\u001b[49m\u001b[43m \u001b[49m\u001b[43mfamily\u001b[49m\u001b[43m,\u001b[49m\u001b[43m \u001b[49m\u001b[38;5;28;43mtype\u001b[39;49m\u001b[43m,\u001b[49m\u001b[43m \u001b[49m\u001b[43mproto\u001b[49m\u001b[43m,\u001b[49m\u001b[43m \u001b[49m\u001b[43mflags\u001b[49m\u001b[43m)\u001b[49m:\n\u001b[1;32m    955\u001b[0m     af, socktype, proto, canonname, sa \u001b[38;5;241m=\u001b[39m res\n",
      "\u001b[0;31mgaierror\u001b[0m: [Errno -2] Name or service not known",
      "\nDuring handling of the above exception, another exception occurred:\n",
      "\u001b[0;31mURLError\u001b[0m                                  Traceback (most recent call last)",
      "Cell \u001b[0;32mIn[4], line 1\u001b[0m\n\u001b[0;32m----> 1\u001b[0m video_name \u001b[38;5;241m=\u001b[39m \u001b[43myt\u001b[49m\u001b[38;5;241;43m.\u001b[39;49m\u001b[43mvid_info\u001b[49m\u001b[38;5;241m.\u001b[39mget(\u001b[38;5;124m\"\u001b[39m\u001b[38;5;124mvideoDetails\u001b[39m\u001b[38;5;124m\"\u001b[39m, {})\u001b[38;5;241m.\u001b[39mget(\u001b[38;5;124m\"\u001b[39m\u001b[38;5;124mtitle\u001b[39m\u001b[38;5;124m\"\u001b[39m, \u001b[38;5;124m\"\u001b[39m\u001b[38;5;124mUntitled Video\u001b[39m\u001b[38;5;124m\"\u001b[39m)\n\u001b[1;32m      2\u001b[0m video_name\n",
      "File \u001b[0;32m~/anaconda3/envs/scienceinfuse/lib/python3.9/site-packages/pytubefix/__main__.py:418\u001b[0m, in \u001b[0;36mYouTube.vid_info\u001b[0;34m(self)\u001b[0m\n\u001b[1;32m    415\u001b[0m \u001b[38;5;28;01mif\u001b[39;00m innertube\u001b[38;5;241m.\u001b[39mrequire_js_player:\n\u001b[1;32m    416\u001b[0m     innertube\u001b[38;5;241m.\u001b[39minnertube_context\u001b[38;5;241m.\u001b[39mupdate(\u001b[38;5;28mself\u001b[39m\u001b[38;5;241m.\u001b[39msignature_timestamp)\n\u001b[0;32m--> 418\u001b[0m innertube_response \u001b[38;5;241m=\u001b[39m \u001b[43minnertube\u001b[49m\u001b[38;5;241;43m.\u001b[39;49m\u001b[43mplayer\u001b[49m\u001b[43m(\u001b[49m\u001b[38;5;28;43mself\u001b[39;49m\u001b[38;5;241;43m.\u001b[39;49m\u001b[43mvideo_id\u001b[49m\u001b[43m)\u001b[49m\n\u001b[1;32m    419\u001b[0m \u001b[38;5;28;01mif\u001b[39;00m \u001b[38;5;28mself\u001b[39m\u001b[38;5;241m.\u001b[39muse_po_token:\n\u001b[1;32m    420\u001b[0m     \u001b[38;5;28mself\u001b[39m\u001b[38;5;241m.\u001b[39mpo_token \u001b[38;5;241m=\u001b[39m innertube\u001b[38;5;241m.\u001b[39maccess_po_token\n",
      "File \u001b[0;32m~/anaconda3/envs/scienceinfuse/lib/python3.9/site-packages/pytubefix/innertube.py:786\u001b[0m, in \u001b[0;36mInnerTube.player\u001b[0;34m(self, video_id)\u001b[0m\n\u001b[1;32m    783\u001b[0m query \u001b[38;5;241m=\u001b[39m \u001b[38;5;28mself\u001b[39m\u001b[38;5;241m.\u001b[39mbase_params\n\u001b[1;32m    785\u001b[0m \u001b[38;5;28mself\u001b[39m\u001b[38;5;241m.\u001b[39mbase_data\u001b[38;5;241m.\u001b[39mupdate({\u001b[38;5;124m'\u001b[39m\u001b[38;5;124mvideoId\u001b[39m\u001b[38;5;124m'\u001b[39m: video_id, \u001b[38;5;124m'\u001b[39m\u001b[38;5;124mcontentCheckOk\u001b[39m\u001b[38;5;124m'\u001b[39m: \u001b[38;5;124m\"\u001b[39m\u001b[38;5;124mtrue\u001b[39m\u001b[38;5;124m\"\u001b[39m})\n\u001b[0;32m--> 786\u001b[0m \u001b[38;5;28;01mreturn\u001b[39;00m \u001b[38;5;28;43mself\u001b[39;49m\u001b[38;5;241;43m.\u001b[39;49m\u001b[43m_call_api\u001b[49m\u001b[43m(\u001b[49m\u001b[43mendpoint\u001b[49m\u001b[43m,\u001b[49m\u001b[43m \u001b[49m\u001b[43mquery\u001b[49m\u001b[43m,\u001b[49m\u001b[43m \u001b[49m\u001b[38;5;28;43mself\u001b[39;49m\u001b[38;5;241;43m.\u001b[39;49m\u001b[43mbase_data\u001b[49m\u001b[43m)\u001b[49m\n",
      "File \u001b[0;32m~/anaconda3/envs/scienceinfuse/lib/python3.9/site-packages/pytubefix/innertube.py:693\u001b[0m, in \u001b[0;36mInnerTube._call_api\u001b[0;34m(self, endpoint, query, data)\u001b[0m\n\u001b[1;32m    689\u001b[0m         \u001b[38;5;28mself\u001b[39m\u001b[38;5;241m.\u001b[39mfetch_po_token()\n\u001b[1;32m    691\u001b[0m headers\u001b[38;5;241m.\u001b[39mupdate(\u001b[38;5;28mself\u001b[39m\u001b[38;5;241m.\u001b[39mheader)\n\u001b[0;32m--> 693\u001b[0m response \u001b[38;5;241m=\u001b[39m \u001b[43mrequest\u001b[49m\u001b[38;5;241;43m.\u001b[39;49m\u001b[43m_execute_request\u001b[49m\u001b[43m(\u001b[49m\n\u001b[1;32m    694\u001b[0m \u001b[43m    \u001b[49m\u001b[43mendpoint_url\u001b[49m\u001b[43m,\u001b[49m\n\u001b[1;32m    695\u001b[0m \u001b[43m    \u001b[49m\u001b[38;5;124;43m'\u001b[39;49m\u001b[38;5;124;43mPOST\u001b[39;49m\u001b[38;5;124;43m'\u001b[39;49m\u001b[43m,\u001b[49m\n\u001b[1;32m    696\u001b[0m \u001b[43m    \u001b[49m\u001b[43mheaders\u001b[49m\u001b[38;5;241;43m=\u001b[39;49m\u001b[43mheaders\u001b[49m\u001b[43m,\u001b[49m\n\u001b[1;32m    697\u001b[0m \u001b[43m    \u001b[49m\u001b[43mdata\u001b[49m\u001b[38;5;241;43m=\u001b[39;49m\u001b[43mdata\u001b[49m\n\u001b[1;32m    698\u001b[0m \u001b[43m\u001b[49m\u001b[43m)\u001b[49m\n\u001b[1;32m    699\u001b[0m \u001b[38;5;28;01mreturn\u001b[39;00m json\u001b[38;5;241m.\u001b[39mloads(response\u001b[38;5;241m.\u001b[39mread())\n",
      "File \u001b[0;32m~/anaconda3/envs/scienceinfuse/lib/python3.9/site-packages/pytubefix/request.py:35\u001b[0m, in \u001b[0;36m_execute_request\u001b[0;34m(url, method, headers, data, timeout)\u001b[0m\n\u001b[1;32m     33\u001b[0m \u001b[38;5;28;01melse\u001b[39;00m:\n\u001b[1;32m     34\u001b[0m     \u001b[38;5;28;01mraise\u001b[39;00m \u001b[38;5;167;01mValueError\u001b[39;00m(\u001b[38;5;124m\"\u001b[39m\u001b[38;5;124mInvalid URL\u001b[39m\u001b[38;5;124m\"\u001b[39m)\n\u001b[0;32m---> 35\u001b[0m \u001b[38;5;28;01mreturn\u001b[39;00m \u001b[43murlopen\u001b[49m\u001b[43m(\u001b[49m\u001b[43mrequest\u001b[49m\u001b[43m,\u001b[49m\u001b[43m \u001b[49m\u001b[43mtimeout\u001b[49m\u001b[38;5;241;43m=\u001b[39;49m\u001b[43mtimeout\u001b[49m\u001b[43m)\u001b[49m\n",
      "File \u001b[0;32m~/anaconda3/envs/scienceinfuse/lib/python3.9/urllib/request.py:214\u001b[0m, in \u001b[0;36murlopen\u001b[0;34m(url, data, timeout, cafile, capath, cadefault, context)\u001b[0m\n\u001b[1;32m    212\u001b[0m \u001b[38;5;28;01melse\u001b[39;00m:\n\u001b[1;32m    213\u001b[0m     opener \u001b[38;5;241m=\u001b[39m _opener\n\u001b[0;32m--> 214\u001b[0m \u001b[38;5;28;01mreturn\u001b[39;00m \u001b[43mopener\u001b[49m\u001b[38;5;241;43m.\u001b[39;49m\u001b[43mopen\u001b[49m\u001b[43m(\u001b[49m\u001b[43murl\u001b[49m\u001b[43m,\u001b[49m\u001b[43m \u001b[49m\u001b[43mdata\u001b[49m\u001b[43m,\u001b[49m\u001b[43m \u001b[49m\u001b[43mtimeout\u001b[49m\u001b[43m)\u001b[49m\n",
      "File \u001b[0;32m~/anaconda3/envs/scienceinfuse/lib/python3.9/urllib/request.py:517\u001b[0m, in \u001b[0;36mOpenerDirector.open\u001b[0;34m(self, fullurl, data, timeout)\u001b[0m\n\u001b[1;32m    514\u001b[0m     req \u001b[38;5;241m=\u001b[39m meth(req)\n\u001b[1;32m    516\u001b[0m sys\u001b[38;5;241m.\u001b[39maudit(\u001b[38;5;124m'\u001b[39m\u001b[38;5;124murllib.Request\u001b[39m\u001b[38;5;124m'\u001b[39m, req\u001b[38;5;241m.\u001b[39mfull_url, req\u001b[38;5;241m.\u001b[39mdata, req\u001b[38;5;241m.\u001b[39mheaders, req\u001b[38;5;241m.\u001b[39mget_method())\n\u001b[0;32m--> 517\u001b[0m response \u001b[38;5;241m=\u001b[39m \u001b[38;5;28;43mself\u001b[39;49m\u001b[38;5;241;43m.\u001b[39;49m\u001b[43m_open\u001b[49m\u001b[43m(\u001b[49m\u001b[43mreq\u001b[49m\u001b[43m,\u001b[49m\u001b[43m \u001b[49m\u001b[43mdata\u001b[49m\u001b[43m)\u001b[49m\n\u001b[1;32m    519\u001b[0m \u001b[38;5;66;03m# post-process response\u001b[39;00m\n\u001b[1;32m    520\u001b[0m meth_name \u001b[38;5;241m=\u001b[39m protocol\u001b[38;5;241m+\u001b[39m\u001b[38;5;124m\"\u001b[39m\u001b[38;5;124m_response\u001b[39m\u001b[38;5;124m\"\u001b[39m\n",
      "File \u001b[0;32m~/anaconda3/envs/scienceinfuse/lib/python3.9/urllib/request.py:534\u001b[0m, in \u001b[0;36mOpenerDirector._open\u001b[0;34m(self, req, data)\u001b[0m\n\u001b[1;32m    531\u001b[0m     \u001b[38;5;28;01mreturn\u001b[39;00m result\n\u001b[1;32m    533\u001b[0m protocol \u001b[38;5;241m=\u001b[39m req\u001b[38;5;241m.\u001b[39mtype\n\u001b[0;32m--> 534\u001b[0m result \u001b[38;5;241m=\u001b[39m \u001b[38;5;28;43mself\u001b[39;49m\u001b[38;5;241;43m.\u001b[39;49m\u001b[43m_call_chain\u001b[49m\u001b[43m(\u001b[49m\u001b[38;5;28;43mself\u001b[39;49m\u001b[38;5;241;43m.\u001b[39;49m\u001b[43mhandle_open\u001b[49m\u001b[43m,\u001b[49m\u001b[43m \u001b[49m\u001b[43mprotocol\u001b[49m\u001b[43m,\u001b[49m\u001b[43m \u001b[49m\u001b[43mprotocol\u001b[49m\u001b[43m \u001b[49m\u001b[38;5;241;43m+\u001b[39;49m\n\u001b[1;32m    535\u001b[0m \u001b[43m                          \u001b[49m\u001b[38;5;124;43m'\u001b[39;49m\u001b[38;5;124;43m_open\u001b[39;49m\u001b[38;5;124;43m'\u001b[39;49m\u001b[43m,\u001b[49m\u001b[43m \u001b[49m\u001b[43mreq\u001b[49m\u001b[43m)\u001b[49m\n\u001b[1;32m    536\u001b[0m \u001b[38;5;28;01mif\u001b[39;00m result:\n\u001b[1;32m    537\u001b[0m     \u001b[38;5;28;01mreturn\u001b[39;00m result\n",
      "File \u001b[0;32m~/anaconda3/envs/scienceinfuse/lib/python3.9/urllib/request.py:494\u001b[0m, in \u001b[0;36mOpenerDirector._call_chain\u001b[0;34m(self, chain, kind, meth_name, *args)\u001b[0m\n\u001b[1;32m    492\u001b[0m \u001b[38;5;28;01mfor\u001b[39;00m handler \u001b[38;5;129;01min\u001b[39;00m handlers:\n\u001b[1;32m    493\u001b[0m     func \u001b[38;5;241m=\u001b[39m \u001b[38;5;28mgetattr\u001b[39m(handler, meth_name)\n\u001b[0;32m--> 494\u001b[0m     result \u001b[38;5;241m=\u001b[39m \u001b[43mfunc\u001b[49m\u001b[43m(\u001b[49m\u001b[38;5;241;43m*\u001b[39;49m\u001b[43margs\u001b[49m\u001b[43m)\u001b[49m\n\u001b[1;32m    495\u001b[0m     \u001b[38;5;28;01mif\u001b[39;00m result \u001b[38;5;129;01mis\u001b[39;00m \u001b[38;5;129;01mnot\u001b[39;00m \u001b[38;5;28;01mNone\u001b[39;00m:\n\u001b[1;32m    496\u001b[0m         \u001b[38;5;28;01mreturn\u001b[39;00m result\n",
      "File \u001b[0;32m~/anaconda3/envs/scienceinfuse/lib/python3.9/urllib/request.py:1389\u001b[0m, in \u001b[0;36mHTTPSHandler.https_open\u001b[0;34m(self, req)\u001b[0m\n\u001b[1;32m   1388\u001b[0m \u001b[38;5;28;01mdef\u001b[39;00m \u001b[38;5;21mhttps_open\u001b[39m(\u001b[38;5;28mself\u001b[39m, req):\n\u001b[0;32m-> 1389\u001b[0m     \u001b[38;5;28;01mreturn\u001b[39;00m \u001b[38;5;28;43mself\u001b[39;49m\u001b[38;5;241;43m.\u001b[39;49m\u001b[43mdo_open\u001b[49m\u001b[43m(\u001b[49m\u001b[43mhttp\u001b[49m\u001b[38;5;241;43m.\u001b[39;49m\u001b[43mclient\u001b[49m\u001b[38;5;241;43m.\u001b[39;49m\u001b[43mHTTPSConnection\u001b[49m\u001b[43m,\u001b[49m\u001b[43m \u001b[49m\u001b[43mreq\u001b[49m\u001b[43m,\u001b[49m\n\u001b[1;32m   1390\u001b[0m \u001b[43m        \u001b[49m\u001b[43mcontext\u001b[49m\u001b[38;5;241;43m=\u001b[39;49m\u001b[38;5;28;43mself\u001b[39;49m\u001b[38;5;241;43m.\u001b[39;49m\u001b[43m_context\u001b[49m\u001b[43m,\u001b[49m\u001b[43m \u001b[49m\u001b[43mcheck_hostname\u001b[49m\u001b[38;5;241;43m=\u001b[39;49m\u001b[38;5;28;43mself\u001b[39;49m\u001b[38;5;241;43m.\u001b[39;49m\u001b[43m_check_hostname\u001b[49m\u001b[43m)\u001b[49m\n",
      "File \u001b[0;32m~/anaconda3/envs/scienceinfuse/lib/python3.9/urllib/request.py:1349\u001b[0m, in \u001b[0;36mAbstractHTTPHandler.do_open\u001b[0;34m(self, http_class, req, **http_conn_args)\u001b[0m\n\u001b[1;32m   1346\u001b[0m         h\u001b[38;5;241m.\u001b[39mrequest(req\u001b[38;5;241m.\u001b[39mget_method(), req\u001b[38;5;241m.\u001b[39mselector, req\u001b[38;5;241m.\u001b[39mdata, headers,\n\u001b[1;32m   1347\u001b[0m                   encode_chunked\u001b[38;5;241m=\u001b[39mreq\u001b[38;5;241m.\u001b[39mhas_header(\u001b[38;5;124m'\u001b[39m\u001b[38;5;124mTransfer-encoding\u001b[39m\u001b[38;5;124m'\u001b[39m))\n\u001b[1;32m   1348\u001b[0m     \u001b[38;5;28;01mexcept\u001b[39;00m \u001b[38;5;167;01mOSError\u001b[39;00m \u001b[38;5;28;01mas\u001b[39;00m err: \u001b[38;5;66;03m# timeout error\u001b[39;00m\n\u001b[0;32m-> 1349\u001b[0m         \u001b[38;5;28;01mraise\u001b[39;00m URLError(err)\n\u001b[1;32m   1350\u001b[0m     r \u001b[38;5;241m=\u001b[39m h\u001b[38;5;241m.\u001b[39mgetresponse()\n\u001b[1;32m   1351\u001b[0m \u001b[38;5;28;01mexcept\u001b[39;00m:\n",
      "\u001b[0;31mURLError\u001b[0m: <urlopen error [Errno -2] Name or service not known>"
     ]
    }
   ],
   "source": [
    "video_name = yt.vid_info.get(\"videoDetails\", {}).get(\"title\", \"Untitled Video\")\n",
    "video_name"
   ]
  },
  {
   "cell_type": "code",
   "execution_count": 3,
   "metadata": {},
   "outputs": [
    {
     "data": {
      "text/plain": [
       "'/home/erwan/Desktop/clients/ScienceInfuse/server/notebooks/blobremove.mp4'"
      ]
     },
     "execution_count": 3,
     "metadata": {},
     "output_type": "execute_result"
    }
   ],
   "source": [
    "yt.streams.filter(progressive=True, file_extension='mp4').order_by('resolution').desc().first().download(output_path='./', filename='blobremove.mp4')\n"
   ]
  }
 ],
 "metadata": {
  "kernelspec": {
   "display_name": "scienceinfuse",
   "language": "python",
   "name": "scienceinfuse"
  },
  "language_info": {
   "codemirror_mode": {
    "name": "ipython",
    "version": 3
   },
   "file_extension": ".py",
   "mimetype": "text/x-python",
   "name": "python",
   "nbconvert_exporter": "python",
   "pygments_lexer": "ipython3",
   "version": "3.9.19"
  }
 },
 "nbformat": 4,
 "nbformat_minor": 2
}

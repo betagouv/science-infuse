{
 "cells": [
  {
   "cell_type": "code",
   "execution_count": 1,
   "metadata": {},
   "outputs": [],
   "source": [
    "from transformers import pipeline\n",
    "import torch\n",
    "pipe = pipeline(\"translation\", model=\"Areeb123/En-Fr_Translation_Model\", device=0 if torch.cuda.is_available() else -1, torch_dtype=torch.float16)\n"
   ]
  },
  {
   "cell_type": "code",
   "execution_count": 2,
   "metadata": {},
   "outputs": [
    {
     "name": "stdout",
     "output_type": "stream",
     "text": [
      "Un diagramme montre la direction de la lumière dans un cercle. Le cercle est divisé en trois sections. Sur le côté gauche, il y a une section verte qui dit «  Rayons lumineux  » et sur le coté droit, elle dit «  Cornée  » et «  Cristalline  ». Au centre du cercle se trouve une section bleue, et les trois autres sections sont jaunes et vertes.\n"
     ]
    }
   ],
   "source": [
    "import re\n",
    "\n",
    "def clean(text:str):\n",
    "    return text.replace('& #160;', '')\n",
    "\n",
    "translations = pipe(['A diagram is showing the direction of light in a circle. The circle is divided into three sections. On the left side, there is a green section that says \"Rayons lumineux\" and on the right side, it says \"Cornée\" and \"Cristallin\". In the center of the circle is a blue section, and the other three sections are yellow and green. ']*1, batch_size=10)\n",
    "\n",
    "for translation in translations:\n",
    "    print(clean(translation[\"translation_text\"]))\n"
   ]
  }
 ],
 "metadata": {
  "kernelspec": {
   "display_name": "Python (scienceinfuse)",
   "language": "python",
   "name": "scienceinfuse"
  },
  "language_info": {
   "codemirror_mode": {
    "name": "ipython",
    "version": 3
   },
   "file_extension": ".py",
   "mimetype": "text/x-python",
   "name": "python",
   "nbconvert_exporter": "python",
   "pygments_lexer": "ipython3",
   "version": "3.9.19"
  }
 },
 "nbformat": 4,
 "nbformat_minor": 2
}
